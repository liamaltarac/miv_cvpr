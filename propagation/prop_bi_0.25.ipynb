{
 "cells": [
  {
   "cell_type": "code",
   "execution_count": 1,
   "metadata": {},
   "outputs": [
    {
     "name": "stderr",
     "output_type": "stream",
     "text": [
      "/tmp/ipykernel_66097/2127772965.py:5: UserWarning: A NumPy version >=1.23.5 and <2.5.0 is required for this version of SciPy (detected version 1.23.0)\n",
      "  from scipy import ndimage\n",
      "2025-07-29 02:58:04.678472: I tensorflow/core/util/port.cc:113] oneDNN custom operations are on. You may see slightly different numerical results due to floating-point round-off errors from different computation orders. To turn them off, set the environment variable `TF_ENABLE_ONEDNN_OPTS=0`.\n",
      "2025-07-29 02:58:04.701390: E external/local_xla/xla/stream_executor/cuda/cuda_dnn.cc:9261] Unable to register cuDNN factory: Attempting to register factory for plugin cuDNN when one has already been registered\n",
      "2025-07-29 02:58:04.701401: E external/local_xla/xla/stream_executor/cuda/cuda_fft.cc:607] Unable to register cuFFT factory: Attempting to register factory for plugin cuFFT when one has already been registered\n",
      "2025-07-29 02:58:04.702169: E external/local_xla/xla/stream_executor/cuda/cuda_blas.cc:1515] Unable to register cuBLAS factory: Attempting to register factory for plugin cuBLAS when one has already been registered\n",
      "2025-07-29 02:58:04.706126: I tensorflow/core/platform/cpu_feature_guard.cc:182] This TensorFlow binary is optimized to use available CPU instructions in performance-critical operations.\n",
      "To enable the following instructions: AVX2 AVX512F AVX512_VNNI AVX512_BF16 FMA, in other operations, rebuild TensorFlow with the appropriate compiler flags.\n",
      "2025-07-29 02:58:05.065911: W tensorflow/compiler/tf2tensorrt/utils/py_utils.cc:38] TF-TRT Warning: Could not find TensorRT\n"
     ]
    }
   ],
   "source": [
    "import sys\n",
    "sys.path.append('../')\n",
    "\n",
    "import numpy as np\n",
    "from scipy import ndimage\n",
    "\n",
    "from skimage.filters import sobel_h\n",
    "from skimage.filters import sobel_v\n",
    "from scipy import stats\n",
    "\n",
    "\n",
    "import os\n",
    "import matplotlib\n",
    "import matplotlib.pyplot as plt\n",
    "from mpl_toolkits.mplot3d import Axes3D\n",
    "from mpl_toolkits.mplot3d.proj3d import proj_transform\n",
    "from matplotlib.patches import FancyArrowPatch\n",
    "from mpl_toolkits.mplot3d import proj3d\n",
    "\n",
    "\n",
    "import scienceplots\n",
    "from tensorflow.python.client import device_lib\n",
    "\n",
    "#plt.rcParams['figure.figsize'] = [10,10]\n",
    "\n",
    "import tensorflow as tf\n",
    "from tensorflow.keras.preprocessing import image\n",
    "from tensorflow.keras.applications.vgg16 import decode_predictions\n",
    "from tensorflow.keras.applications import VGG16\n",
    "\n",
    "from tensorflow.nn import depthwise_conv2d\n",
    "from tensorflow.math import multiply, reduce_sum, reduce_mean,reduce_euclidean_norm, sin, cos, abs\n",
    "from tensorflow import stack, concat, expand_dims\n",
    "\n",
    "import tensorflow_probability as tfp\n",
    "\n",
    "from utils.utils import *\n",
    "import cv2\n",
    "\n",
    "from scipy import ndimage, fft\n",
    "\n",
    "plt.style.use(['science', 'ieee'])\n",
    "plt.rcParams.update({'figure.dpi': '100'})"
   ]
  },
  {
   "cell_type": "markdown",
   "metadata": {},
   "source": [
    "#### Experiment #1 : HandCrafted AntiSymmetric Bipolar Convolution\n"
   ]
  },
  {
   "cell_type": "code",
   "execution_count": 2,
   "metadata": {},
   "outputs": [],
   "source": [
    "k = 20 # Top 10% highest l2-magnitude filters"
   ]
  },
  {
   "cell_type": "code",
   "execution_count": 3,
   "metadata": {},
   "outputs": [
    {
     "name": "stdout",
     "output_type": "stream",
     "text": [
      "(3, 3, 1, 1)\n",
      "(1, 3, 3, 1) (1, 3, 3, 1) (1, 3, 3, 1)\n"
     ]
    },
    {
     "name": "stderr",
     "output_type": "stream",
     "text": [
      "2025-07-29 02:58:05.581693: I external/local_xla/xla/stream_executor/cuda/cuda_executor.cc:901] successful NUMA node read from SysFS had negative value (-1), but there must be at least one NUMA node, so returning NUMA node zero. See more at https://github.com/torvalds/linux/blob/v6.0/Documentation/ABI/testing/sysfs-bus-pci#L344-L355\n",
      "2025-07-29 02:58:05.620017: I external/local_xla/xla/stream_executor/cuda/cuda_executor.cc:901] successful NUMA node read from SysFS had negative value (-1), but there must be at least one NUMA node, so returning NUMA node zero. See more at https://github.com/torvalds/linux/blob/v6.0/Documentation/ABI/testing/sysfs-bus-pci#L344-L355\n",
      "2025-07-29 02:58:05.621429: I external/local_xla/xla/stream_executor/cuda/cuda_executor.cc:901] successful NUMA node read from SysFS had negative value (-1), but there must be at least one NUMA node, so returning NUMA node zero. See more at https://github.com/torvalds/linux/blob/v6.0/Documentation/ABI/testing/sysfs-bus-pci#L344-L355\n",
      "2025-07-29 02:58:05.622530: W tensorflow/core/common_runtime/gpu/gpu_device.cc:2348] TensorFlow was not built with CUDA kernel binaries compatible with compute capability 12.0. CUDA kernels will be jit-compiled from PTX, which could take 30 minutes or longer.\n",
      "2025-07-29 02:58:05.623255: I external/local_xla/xla/stream_executor/cuda/cuda_executor.cc:901] successful NUMA node read from SysFS had negative value (-1), but there must be at least one NUMA node, so returning NUMA node zero. See more at https://github.com/torvalds/linux/blob/v6.0/Documentation/ABI/testing/sysfs-bus-pci#L344-L355\n",
      "2025-07-29 02:58:05.624430: I external/local_xla/xla/stream_executor/cuda/cuda_executor.cc:901] successful NUMA node read from SysFS had negative value (-1), but there must be at least one NUMA node, so returning NUMA node zero. See more at https://github.com/torvalds/linux/blob/v6.0/Documentation/ABI/testing/sysfs-bus-pci#L344-L355\n",
      "2025-07-29 02:58:05.625560: I external/local_xla/xla/stream_executor/cuda/cuda_executor.cc:901] successful NUMA node read from SysFS had negative value (-1), but there must be at least one NUMA node, so returning NUMA node zero. See more at https://github.com/torvalds/linux/blob/v6.0/Documentation/ABI/testing/sysfs-bus-pci#L344-L355\n",
      "2025-07-29 02:58:05.627856: W tensorflow/core/common_runtime/gpu/gpu_device.cc:2348] TensorFlow was not built with CUDA kernel binaries compatible with compute capability 12.0. CUDA kernels will be jit-compiled from PTX, which could take 30 minutes or longer.\n",
      "2025-07-29 02:58:05.712294: I external/local_xla/xla/stream_executor/cuda/cuda_executor.cc:901] successful NUMA node read from SysFS had negative value (-1), but there must be at least one NUMA node, so returning NUMA node zero. See more at https://github.com/torvalds/linux/blob/v6.0/Documentation/ABI/testing/sysfs-bus-pci#L344-L355\n",
      "2025-07-29 02:58:05.713192: I external/local_xla/xla/stream_executor/cuda/cuda_executor.cc:901] successful NUMA node read from SysFS had negative value (-1), but there must be at least one NUMA node, so returning NUMA node zero. See more at https://github.com/torvalds/linux/blob/v6.0/Documentation/ABI/testing/sysfs-bus-pci#L344-L355\n",
      "2025-07-29 02:58:05.714046: I external/local_xla/xla/stream_executor/cuda/cuda_executor.cc:901] successful NUMA node read from SysFS had negative value (-1), but there must be at least one NUMA node, so returning NUMA node zero. See more at https://github.com/torvalds/linux/blob/v6.0/Documentation/ABI/testing/sysfs-bus-pci#L344-L355\n",
      "2025-07-29 02:58:05.714694: I tensorflow/core/common_runtime/gpu/gpu_device.cc:1929] Created device /job:localhost/replica:0/task:0/device:GPU:0 with 1394 MB memory:  -> device: 0, name: NVIDIA GeForce RTX 5070, pci bus id: 0000:01:00.0, compute capability: 12.0\n"
     ]
    }
   ],
   "source": [
    "F = 0\n",
    "\n",
    "filters = np.zeros((3,3,1,1))\n",
    "\n",
    "t = np.zeros((3,3))\n",
    "t[1, 0] = np.sqrt(0.25)\n",
    "t[0, 0] = np.sqrt(0.75)\n",
    "filters = np.reshape(fft.idctn(t, norm='ortho'), (3,3,1,1)) \n",
    "filters /= np.sum(np.abs(filters))\n",
    "\n",
    "#filters[:,:,0,0] =  (1/9)*np.array([[1,1,1], [1,1,1], [1,1,1]]) + (1/6)*np.array([[1,1,1], [0,0,0], [-1,-1,-1]]) \n",
    "\n",
    "\n",
    "theta = getSobelTF(filters)\n",
    "print(filters.shape)\n",
    "s, a = getSymAntiSymTF(filters)\n",
    "\n",
    "a_mag = reduce_euclidean_norm(a, axis=[0,1])\n",
    "s_mag = reduce_euclidean_norm(s, axis=[0,1])\n",
    "mag = reduce_euclidean_norm(filters, axis=[0,1])\n",
    "\n",
    "\n",
    "x =(a_mag[:,F]*np.cos((theta[:,F]))).numpy()\n",
    "y =( a_mag[:,F]*np.sin((theta[:,F]))).numpy()\n",
    "z =(s_mag[:,F]*np.sign(np.mean(s, axis=(0,1)))[:,F]).numpy()\n",
    "plt.rcParams.update({'figure.dpi': '100'})\n",
    "\n",
    "\n"
   ]
  },
  {
   "cell_type": "code",
   "execution_count": 4,
   "metadata": {},
   "outputs": [
    {
     "data": {
      "text/plain": [
       "1"
      ]
     },
     "execution_count": 4,
     "metadata": {},
     "output_type": "execute_result"
    }
   ],
   "source": [
    "3//2"
   ]
  },
  {
   "cell_type": "code",
   "execution_count": 5,
   "metadata": {},
   "outputs": [
    {
     "name": "stdout",
     "output_type": "stream",
     "text": [
      "(115, 115)\n"
     ]
    }
   ],
   "source": [
    "#var = 2/(128*9)\n",
    "\n",
    "img = np.zeros((115,115)) # cv2.imread('input4.png', 0)/255. \n",
    "mid = img.shape[0]//2\n",
    "img[mid, mid] = 1.\n",
    "#img = (img-np.mean(img))/np.std(img)\n",
    "#img = tf.repeat(tf.expand_dims([img], axis=-1) , repeats = 512, axis=-1)  #get_double_slit(shape) , axis=0)\n",
    "print(img.shape)"
   ]
  },
  {
   "cell_type": "code",
   "execution_count": 6,
   "metadata": {},
   "outputs": [
    {
     "data": {
      "text/plain": [
       "(7.560864919722271e-05, 0.0008680555555555555)"
      ]
     },
     "execution_count": 6,
     "metadata": {},
     "output_type": "execute_result"
    }
   ],
   "source": [
    "np.var(img), 1/(128*9)\n"
   ]
  },
  {
   "cell_type": "code",
   "execution_count": 7,
   "metadata": {},
   "outputs": [
    {
     "data": {
      "text/plain": [
       "array([-1.,  0.,  1.])"
      ]
     },
     "execution_count": 7,
     "metadata": {},
     "output_type": "execute_result"
    }
   ],
   "source": [
    "np.linspace(-round(0.1)-1, round(0.1)+1, int(0.5*(0.1)+3))"
   ]
  },
  {
   "cell_type": "code",
   "execution_count": 8,
   "metadata": {},
   "outputs": [
    {
     "name": "stdout",
     "output_type": "stream",
     "text": [
      "(324, 324)\n",
      "(324, 324)\n"
     ]
    },
    {
     "data": {
      "text/plain": [
       "<matplotlib.image.AxesImage at 0x7fe9ba542470>"
      ]
     },
     "execution_count": 8,
     "metadata": {},
     "output_type": "execute_result"
    },
    {
     "data": {
      "image/png": "[encoded data removed]",
      "text/plain": [
       "<Figure size 330x250 with 1 Axes>"
      ]
     },
     "metadata": {},
     "output_type": "display_data"
    }
   ],
   "source": [
    "img =  cv2.imread('input4.png', 0)/255. \n",
    "#img = (img-np.mean(img))/np.std(img)\n",
    "#img = tf.repeat(tf.expand_dims([img], axis=-1) , repeats = 512, axis=-1)  #get_double_slit(shape) , axis=0)\n",
    "\n",
    "\n",
    "img = cv2.copyMakeBorder(img, \n",
    "                                top=50, bottom=50, \n",
    "                                left=50, right=50, \n",
    "                                borderType=cv2.BORDER_CONSTANT, \n",
    "                                value=0)\n",
    "\n",
    "\n",
    "print(img.shape)\n",
    "\n",
    "mid = img.shape[0]//2\n",
    "\n",
    "\n",
    "\n",
    "#img = (img-np.mean(img))/np.std(img)\n",
    "#img = tf.repeat(tf.expand_dims([img], axis=-1) , repeats = 512, axis=-1)  #get_double_slit(shape) , axis=0)\n",
    "print(img.shape)\n",
    "\n",
    "plt.imshow(img, cmap='gray')"
   ]
  },
  {
   "cell_type": "code",
   "execution_count": 9,
   "metadata": {},
   "outputs": [
    {
     "name": "stdout",
     "output_type": "stream",
     "text": [
      "(3, 3, 1, 1)\n",
      "0\n",
      "(1, 324, 324, 1)\n",
      "VALS 1.0\n",
      "tf.Tensor(-4.7683716e-07, shape=(), dtype=float32) 10.999806\n",
      "(1, 324, 324, 1)\n",
      "100 [-75 -50 -25] [  0  25  50  75 100 125]\n"
     ]
    },
    {
     "name": "stderr",
     "output_type": "stream",
     "text": [
      "2025-07-29 02:58:06.004555: E external/local_xla/xla/stream_executor/gpu/asm_compiler.cc:115] *** WARNING *** You are using ptxas 10.1.243, which is older than 11.1. ptxas before 11.1 is known to miscompile XLA code, leading to incorrect results or invalid-address errors.\n",
      "\n",
      "2025-07-29 02:58:06.004574: E external/local_xla/xla/stream_executor/gpu/asm_compiler.cc:115] *** WARNING *** You are using ptxas 10.1.243, which is older than 11.1. ptxas before 11.1 is known to miscompile XLA code, leading to incorrect results or invalid-address errors.\n",
      "\n",
      "2025-07-29 02:58:06.004586: E external/local_xla/xla/stream_executor/gpu/asm_compiler.cc:115] *** WARNING *** You are using ptxas 10.1.243, which is older than 11.1. ptxas before 11.1 is known to miscompile XLA code, leading to incorrect results or invalid-address errors.\n",
      "\n",
      "2025-07-29 02:58:06.004598: E external/local_xla/xla/stream_executor/gpu/asm_compiler.cc:115] *** WARNING *** You are using ptxas 10.1.243, which is older than 11.1. ptxas before 11.1 is known to miscompile XLA code, leading to incorrect results or invalid-address errors.\n",
      "\n",
      "2025-07-29 02:58:06.004613: E external/local_xla/xla/stream_executor/gpu/asm_compiler.cc:115] *** WARNING *** You are using ptxas 10.1.243, which is older than 11.1. ptxas before 11.1 is known to miscompile XLA code, leading to incorrect results or invalid-address errors.\n",
      "\n",
      "2025-07-29 02:58:06.004625: E external/local_xla/xla/stream_executor/gpu/asm_compiler.cc:115] *** WARNING *** You are using ptxas 10.1.243, which is older than 11.1. ptxas before 11.1 is known to miscompile XLA code, leading to incorrect results or invalid-address errors.\n",
      "\n",
      "2025-07-29 02:58:06.004635: E external/local_xla/xla/stream_executor/gpu/asm_compiler.cc:115] *** WARNING *** You are using ptxas 10.1.243, which is older than 11.1. ptxas before 11.1 is known to miscompile XLA code, leading to incorrect results or invalid-address errors.\n",
      "\n",
      "2025-07-29 02:58:06.005974: W external/local_xla/xla/stream_executor/gpu/asm_compiler.cc:225] Falling back to the CUDA driver for PTX compilation; ptxas does not support CC 12.0\n",
      "2025-07-29 02:58:06.005983: W external/local_xla/xla/stream_executor/gpu/asm_compiler.cc:228] Used ptxas at ptxas\n",
      "2025-07-29 02:58:06.006023: W tensorflow/compiler/mlir/tools/kernel_gen/transforms/gpu_kernel_to_blob_pass.cc:191] Failed to compile generated PTX with ptxas. Falling back to compilation by driver.\n",
      "2025-07-29 02:58:06.006032: W tensorflow/compiler/mlir/tools/kernel_gen/transforms/gpu_kernel_to_blob_pass.cc:191] Failed to compile generated PTX with ptxas. Falling back to compilation by driver.\n",
      "2025-07-29 02:58:06.006042: W tensorflow/compiler/mlir/tools/kernel_gen/transforms/gpu_kernel_to_blob_pass.cc:191] Failed to compile generated PTX with ptxas. Falling back to compilation by driver.\n",
      "2025-07-29 02:58:06.006054: W tensorflow/compiler/mlir/tools/kernel_gen/transforms/gpu_kernel_to_blob_pass.cc:191] Failed to compile generated PTX with ptxas. Falling back to compilation by driver.\n",
      "2025-07-29 02:58:06.006062: W tensorflow/compiler/mlir/tools/kernel_gen/transforms/gpu_kernel_to_blob_pass.cc:191] Failed to compile generated PTX with ptxas. Falling back to compilation by driver.\n",
      "2025-07-29 02:58:06.006073: W tensorflow/compiler/mlir/tools/kernel_gen/transforms/gpu_kernel_to_blob_pass.cc:191] Failed to compile generated PTX with ptxas. Falling back to compilation by driver.\n",
      "2025-07-29 02:58:06.006080: W tensorflow/compiler/mlir/tools/kernel_gen/transforms/gpu_kernel_to_blob_pass.cc:191] Failed to compile generated PTX with ptxas. Falling back to compilation by driver.\n",
      "2025-07-29 02:58:06.011296: E external/local_xla/xla/stream_executor/gpu/asm_compiler.cc:115] *** WARNING *** You are using ptxas 10.1.243, which is older than 11.1. ptxas before 11.1 is known to miscompile XLA code, leading to incorrect results or invalid-address errors.\n",
      "\n",
      "2025-07-29 02:58:06.012196: W tensorflow/compiler/mlir/tools/kernel_gen/transforms/gpu_kernel_to_blob_pass.cc:191] Failed to compile generated PTX with ptxas. Falling back to compilation by driver.\n",
      "2025-07-29 02:58:06.309889: I external/local_xla/xla/stream_executor/cuda/cuda_dnn.cc:454] Loaded cuDNN version 8907\n",
      "2025-07-29 02:58:06.354347: E external/local_xla/xla/stream_executor/gpu/asm_compiler.cc:115] *** WARNING *** You are using ptxas 10.1.243, which is older than 11.1. ptxas before 11.1 is known to miscompile XLA code, leading to incorrect results or invalid-address errors.\n",
      "\n",
      "2025-07-29 02:58:06.356056: W external/local_xla/xla/stream_executor/gpu/redzone_allocator.cc:322] UNIMPLEMENTED: ptxas ptxas too old. Falling back to the driver to compile.\n",
      "Relying on driver to perform ptx compilation. \n",
      "Modify $PATH to customize ptxas location.\n",
      "This message will be only logged once.\n",
      "2025-07-29 02:58:06.466461: E external/local_xla/xla/stream_executor/gpu/asm_compiler.cc:115] *** WARNING *** You are using ptxas 10.1.243, which is older than 11.1. ptxas before 11.1 is known to miscompile XLA code, leading to incorrect results or invalid-address errors.\n",
      "\n",
      "2025-07-29 02:58:06.468168: W tensorflow/compiler/mlir/tools/kernel_gen/transforms/gpu_kernel_to_blob_pass.cc:191] Failed to compile generated PTX with ptxas. Falling back to compilation by driver.\n"
     ]
    },
    {
     "name": "stdout",
     "output_type": "stream",
     "text": [
      "1\n",
      "(1, 324, 324, 1)\n",
      "VALS 1.0\n",
      "tf.Tensor(0.47286415, shape=(), dtype=float32) 11.020115\n",
      "(1, 324, 324, 1)\n",
      "100 [-75 -50 -25] [  0  25  50  75 100 125]\n",
      "2\n",
      "3\n",
      "4\n",
      "5\n",
      "6\n",
      "7\n",
      "8\n",
      "9\n",
      "10\n",
      "11\n",
      "12\n",
      "13\n",
      "14\n",
      "15\n",
      "16\n",
      "17\n",
      "18\n",
      "19\n",
      "20\n",
      "21\n",
      "22\n",
      "23\n",
      "24\n",
      "25\n",
      "(1, 324, 324, 1)\n",
      "VALS 1.0\n",
      "tf.Tensor(0.47286406, shape=(), dtype=float32) 11.403699\n",
      "(1, 324, 324, 1)\n",
      "100 [-75 -50 -25] [  0  25  50  75 100 125]\n",
      "26\n",
      "27\n",
      "28\n",
      "29\n",
      "30\n",
      "31\n",
      "32\n",
      "33\n",
      "34\n",
      "35\n",
      "36\n",
      "37\n",
      "38\n",
      "39\n",
      "40\n",
      "41\n",
      "42\n",
      "43\n",
      "44\n",
      "45\n",
      "46\n",
      "47\n",
      "48\n",
      "49\n",
      "50\n",
      "(1, 324, 324, 1)\n",
      "VALS 1.0\n",
      "tf.Tensor(5.811453e-07, shape=(), dtype=float32) 11.721393\n",
      "(1, 324, 324, 1)\n",
      "100 [-75 -50 -25] [  0  25  50  75 100 125]\n",
      "51\n",
      "52\n",
      "53\n",
      "54\n",
      "55\n",
      "56\n",
      "57\n",
      "58\n",
      "59\n",
      "60\n",
      "61\n",
      "62\n",
      "63\n",
      "64\n",
      "65\n",
      "66\n",
      "67\n",
      "68\n",
      "69\n",
      "70\n",
      "71\n",
      "72\n",
      "73\n",
      "74\n",
      "75\n",
      "(1, 324, 324, 1)\n",
      "VALS 1.0\n",
      "tf.Tensor(0.47286335, shape=(), dtype=float32) 12.053273\n",
      "(1, 324, 324, 1)\n",
      "100 [-75 -50 -25] [  0  25  50  75 100 125]\n",
      "76\n",
      "77\n",
      "78\n",
      "79\n",
      "80\n",
      "81\n",
      "82\n",
      "83\n",
      "84\n",
      "85\n",
      "86\n",
      "87\n",
      "88\n",
      "89\n",
      "90\n",
      "91\n",
      "92\n",
      "93\n",
      "94\n",
      "95\n",
      "96\n",
      "97\n",
      "98\n",
      "99\n",
      "100\n",
      "(1, 324, 324, 1)\n",
      "VALS 1.0\n",
      "tf.Tensor(7.490474e-09, shape=(), dtype=float32) 12.406227\n",
      "(1, 324, 324, 1)\n",
      "100 [-75 -50 -25] [  0  25  50  75 100 125]\n"
     ]
    },
    {
     "data": {
      "image/png": "[encoded data removed]",
      "text/plain": [
       "<Figure size 330x250 with 1 Axes>"
      ]
     },
     "metadata": {},
     "output_type": "display_data"
    },
    {
     "data": {
      "image/png": "[encoded data removed]",
      "text/plain": [
       "<Figure size 330x250 with 1 Axes>"
      ]
     },
     "metadata": {},
     "output_type": "display_data"
    },
    {
     "data": {
      "image/png": "[encoded data removed]",
      "text/plain": [
       "<Figure size 330x250 with 1 Axes>"
      ]
     },
     "metadata": {},
     "output_type": "display_data"
    },
    {
     "data": {
      "image/png": "[encoded data removed]",
      "text/plain": [
       "<Figure size 330x250 with 1 Axes>"
      ]
     },
     "metadata": {},
     "output_type": "display_data"
    },
    {
     "data": {
      "image/png": "[encoded data removed]",
      "text/plain": [
       "<Figure size 330x250 with 1 Axes>"
      ]
     },
     "metadata": {},
     "output_type": "display_data"
    },
    {
     "data": {
      "image/png": "[encoded data removed]",
      "text/plain": [
       "<Figure size 330x250 with 1 Axes>"
      ]
     },
     "metadata": {},
     "output_type": "display_data"
    }
   ],
   "source": [
    "import matplotlib.patches as mpatches\n",
    "\n",
    "w =tf.cast(filters, dtype=tf.float32)# tf.expand_dims(filters, -1), dtype=tf.float32)\n",
    "w = tf.transpose(w, perm=(1,0,2,3))\n",
    "print(w.shape)\n",
    "\n",
    "x = img\n",
    "\n",
    "w = np.rot90(w, k=2, axes=(0,1))\n",
    "\n",
    "directory = f\"figures/prop_bipolar_0.25\"\n",
    "if not os.path.exists(directory):\n",
    "\tos.makedirs(directory)\n",
    "x = tf.cast(tf.repeat(tf.expand_dims([img], axis=-1) , repeats = filters.shape[-2], axis=-1), dtype=tf.float32) \n",
    "for i in range(101):\n",
    "\tprint(i)\n",
    "\tif i in [0, 1, 25, 50, 75, 100]:\n",
    "\t\tfig, ax = plt.subplots()\n",
    "\t\tprint(x.shape)\n",
    "\t\tx = x/np.std(x)\n",
    "\t\tvals = x[0, x.shape[1]//2, :, :]\n",
    "\t\tvals = vals/np.sum(vals)\n",
    "\n",
    "\t\tprint(\"VALS\", np.sum(vals))\n",
    "\t\tpos = np.expand_dims(np.linspace(-x.shape[1]//2, x.shape[1]//2, x.shape[1]),-1)\n",
    "\t\tmean = tf.reduce_sum(pos*vals)\n",
    "\t\tvar = tf.reduce_sum(((pos-mean)**2) * vals)\n",
    "\t\tstd = np.sqrt(var)\n",
    "\t\tprint(mean, np.sqrt(var))\n",
    "\t\t\n",
    "\t\t#x = tf.repeat(x , repeats = filters.shape[-2], axis=-1)\n",
    "\t\tprint(x.shape)\n",
    "\n",
    "\t\tim = ax.imshow(np.sum(x[0,:,:,:], axis=-1))\n",
    "\t\tax.plot(mid, mid, marker = '+', color='red')\n",
    "\n",
    "\t\t#ax.plot(112+mean, 112, marker = \".\", color='black')\n",
    "\t\tarr =  mpatches.FancyArrowPatch((mid+mean, mid), (mid+mean+std, mid),\n",
    "\t\t\t\t\t\t\t\tmutation_scale=4, shrinkA=0, shrinkB=0,zorder=10, color=\"red\")\n",
    "\t\tax.add_patch(arr)\n",
    "\t\t\n",
    "\t\tax.annotate(r'$\\sigma=$'+f\"{std:.2f}\", (.5, 15), xycoords=arr, ha='center', va='bottom',color='white')\n",
    "\t\t#ax.arrow(, 112, dx=, dy= 0, color='black')\n",
    "\n",
    "\t\txlim = (mid - 53, mid + 131)\n",
    "\t\tylim = (mid - 65, mid + 65)\n",
    "\t\tax.set_xlim(xlim)\n",
    "\t\tax.set_ylim(ylim)\n",
    "\n",
    "\t\t# Define spacing\n",
    "\t\tstep = 25\n",
    "\n",
    "\t\t# Compute ticks centered around `mid`, spaced by `step`, covering full view\n",
    "\t\txticks_neg =   np.arange(-53//step * step, 0, step)\n",
    "\t\txticks_pos = np.arange(0, 130 , step)\n",
    "\t\txticks = np.concatenate((xticks_neg, xticks_pos)) + mid\n",
    "\n",
    "\t\tyticks_neg = np.arange(-65//step * step, 0, step)\n",
    "\t\tyticks_pos = np.arange(0, 65//step * step , step)\n",
    "\t\tyticks =  np.array([-50, -25, 0, 25, 50]) + mid  #np.concatenate((yticks_neg, yticks_pos)) + mid\n",
    "\n",
    "\n",
    "\t\tprint(xlim[0] // step * step, xticks_neg, xticks_pos)\n",
    "\n",
    "\n",
    "\t\t# Ensure mid (origin) is present\n",
    "\n",
    "\t\t# Apply ticks and relabel with 0-centered view\n",
    "\t\t#xticks = np.arange(xlim[0]+1, xlim[1]+1 , step)\n",
    "\t\t#yticks = np.arange(ylim[0]+1, ylim[1]+1, step)\n",
    "\n",
    "\t\t# Set tick positions and labels (centered around mid)\n",
    "\t\tax.set_xticks(xticks)\n",
    "\t\tax.set_yticks(yticks)\n",
    "\t\tax.set_xticklabels([x - mid for x in xticks])\n",
    "\t\tax.set_yticklabels([y - mid for y in yticks])\n",
    "\n",
    "\n",
    "\t\t#ax.set_xticks(np.linspace(-round(std)-1, round(std)+1, int(0.5*(std)+3)))\n",
    "\t\t#fig.colorbar(im, orientation='vertical')\n",
    "\t\tfig.savefig(directory + f'/{i}.pdf', dpi=150,  transparent=True, bbox_inches='tight')\n",
    "\t\t\n",
    "\tw = np.rot90(w, k=2, axes=(0,1))\n",
    "\tx = tf.nn.relu( tf.nn.conv2d(x, w , strides=(1,1), \n",
    "\t\t\t\t\t\t\tpadding='SAME') )"
   ]
  },
  {
   "cell_type": "code",
   "execution_count": 10,
   "metadata": {},
   "outputs": [
    {
     "data": {
      "text/plain": [
       "(0.0, 224.0)"
      ]
     },
     "execution_count": 10,
     "metadata": {},
     "output_type": "execute_result"
    },
    {
     "data": {
      "image/png": "[encoded data removed]",
      "text/plain": [
       "<Figure size 330x250 with 1 Axes>"
      ]
     },
     "metadata": {},
     "output_type": "display_data"
    }
   ],
   "source": [
    "x = tf.nn.relu( tf.nn.conv2d(x, w , strides=(1,1), \n",
    "\t\t\t\t\t\tpadding='SAME') )\n",
    "\t\n",
    "im = plt.imshow(np.sum(x[0,:,:,:], axis=-1))\n",
    "plt.plot(112, 112, marker = '+', color='red')\n",
    "plt.xlim([0, 224])#, ylim=(0, 224))\n",
    "plt.ylim([0, 224])#, ylim=(0, 224))\n",
    "\n",
    "#, ylim=(0, 224))"
   ]
  },
  {
   "cell_type": "code",
   "execution_count": 11,
   "metadata": {},
   "outputs": [
    {
     "ename": "IndexError",
     "evalue": "too many indices for array: array is 2-dimensional, but 4 were indexed",
     "output_type": "error",
     "traceback": [
      "\u001b[0;31m---------------------------------------------------------------------------\u001b[0m",
      "\u001b[0;31mIndexError\u001b[0m                                Traceback (most recent call last)",
      "Cell \u001b[0;32mIn[11], line 1\u001b[0m\n\u001b[0;32m----> 1\u001b[0m \u001b[43mpos\u001b[49m\u001b[43m[\u001b[49m\u001b[43m:\u001b[49m\u001b[43m,\u001b[49m\u001b[43m \u001b[49m\u001b[43mx\u001b[49m\u001b[38;5;241;43m.\u001b[39;49m\u001b[43mshape\u001b[49m\u001b[43m[\u001b[49m\u001b[38;5;241;43m1\u001b[39;49m\u001b[43m]\u001b[49m\u001b[38;5;241;43m/\u001b[39;49m\u001b[38;5;241;43m/\u001b[39;49m\u001b[38;5;241;43m2\u001b[39;49m\u001b[43m,\u001b[49m\u001b[43m \u001b[49m\u001b[43m:\u001b[49m\u001b[43m \u001b[49m\u001b[43m,\u001b[49m\u001b[43m \u001b[49m\u001b[43m:\u001b[49m\u001b[43m]\u001b[49m\n",
      "\u001b[0;31mIndexError\u001b[0m: too many indices for array: array is 2-dimensional, but 4 were indexed"
     ]
    }
   ],
   "source": [
    "pos[:, x.shape[1]//2, : , :]"
   ]
  },
  {
   "cell_type": "code",
   "execution_count": null,
   "metadata": {},
   "outputs": [],
   "source": [
    "pos"
   ]
  },
  {
   "cell_type": "code",
   "execution_count": null,
   "metadata": {},
   "outputs": [],
   "source": [
    "pos[x.shape[1]//2]"
   ]
  }
 ],
 "metadata": {
  "kernelspec": {
   "display_name": "lam",
   "language": "python",
   "name": "python3"
  },
  "language_info": {
   "codemirror_mode": {
    "name": "ipython",
    "version": 3
   },
   "file_extension": ".py",
   "mimetype": "text/x-python",
   "name": "python",
   "nbconvert_exporter": "python",
   "pygments_lexer": "ipython3",
   "version": "3.10.16"
  }
 },
 "nbformat": 4,
 "nbformat_minor": 2
}
