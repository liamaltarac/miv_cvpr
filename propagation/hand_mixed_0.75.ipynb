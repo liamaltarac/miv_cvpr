{
 "cells": [
  {
   "cell_type": "code",
   "execution_count": 1,
   "metadata": {},
   "outputs": [
    {
     "name": "stderr",
     "output_type": "stream",
     "text": [
      "c:\\Users\\AN46710\\Anaconda3\\envs\\masters\\lib\\site-packages\\numpy\\_distributor_init.py:32: UserWarning: loaded more than 1 DLL from .libs:\n",
      "c:\\Users\\AN46710\\Anaconda3\\envs\\masters\\lib\\site-packages\\numpy\\.libs\\libopenblas.GK7GX5KEQ4F6UYO3P26ULGBQYHGQO7J4.gfortran-win_amd64.dll\n",
      "c:\\Users\\AN46710\\Anaconda3\\envs\\masters\\lib\\site-packages\\numpy\\.libs\\libopenblas.XWYDX2IKJW2NMTWSFYNGFUWKQU3LYTCZ.gfortran-win_amd64.dll\n",
      "  stacklevel=1)\n"
     ]
    }
   ],
   "source": [
    "import sys\n",
    "sys.path.append('../')\n",
    "\n",
    "import numpy as np\n",
    "from scipy import ndimage\n",
    "\n",
    "from skimage.filters import sobel_h\n",
    "from skimage.filters import sobel_v\n",
    "from scipy import stats\n",
    "\n",
    "\n",
    "import os\n",
    "import matplotlib\n",
    "import matplotlib.pyplot as plt\n",
    "from mpl_toolkits.mplot3d import Axes3D\n",
    "from mpl_toolkits.mplot3d.proj3d import proj_transform\n",
    "from matplotlib.patches import FancyArrowPatch\n",
    "from mpl_toolkits.mplot3d import proj3d\n",
    "\n",
    "\n",
    "import scienceplots\n",
    "from tensorflow.python.client import device_lib\n",
    "\n",
    "#plt.rcParams['figure.figsize'] = [10,10]\n",
    "\n",
    "import tensorflow as tf\n",
    "from tensorflow.keras.preprocessing import image\n",
    "from tensorflow.keras.applications.vgg16 import decode_predictions\n",
    "from tensorflow.keras.applications import VGG16\n",
    "\n",
    "from tensorflow.nn import depthwise_conv2d\n",
    "from tensorflow.math import multiply, reduce_sum, reduce_mean,reduce_euclidean_norm, sin, cos, abs\n",
    "from tensorflow import stack, concat, expand_dims\n",
    "\n",
    "import tensorflow_probability as tfp\n",
    "\n",
    "from utils.utils import *\n",
    "import cv2\n",
    "\n",
    "from scipy import ndimage, fft\n",
    "\n",
    "plt.style.use(['science', 'ieee'])\n",
    "plt.rcParams.update({'figure.dpi': '100'})"
   ]
  },
  {
   "cell_type": "markdown",
   "metadata": {},
   "source": [
    "#### Experiment #1 : HandCrafted AntiSymmetric Bipolar Convolution\n"
   ]
  },
  {
   "cell_type": "code",
   "execution_count": 2,
   "metadata": {},
   "outputs": [],
   "source": [
    "k = 20 # Top 10% highest l2-magnitude filters"
   ]
  },
  {
   "cell_type": "code",
   "execution_count": 3,
   "metadata": {},
   "outputs": [
    {
     "name": "stdout",
     "output_type": "stream",
     "text": [
      "(3, 3, 1, 1)\n",
      "(1, 3, 3, 1) (1, 3, 3, 1) (1, 3, 3, 1)\n"
     ]
    }
   ],
   "source": [
    "F = 0\n",
    "\n",
    "filters = np.zeros((3,3,1,1))\n",
    "\n",
    "t = np.zeros((3,3))\n",
    "t[1, 0] = 0.75\n",
    "t[0, 0] = 0.25\n",
    "filters = np.reshape(fft.idctn(t, norm='ortho'), (3,3,1,1)) \n",
    "filters /= np.sum(np.abs(filters))\n",
    "\n",
    "#filters[:,:,0,0] =  (1/9)*np.array([[1,1,1], [1,1,1], [1,1,1]]) + (1/6)*np.array([[1,1,1], [0,0,0], [-1,-1,-1]]) \n",
    "\n",
    "\n",
    "theta = getSobelTF(filters)\n",
    "print(filters.shape)\n",
    "s, a = getSymAntiSymTF(filters)\n",
    "\n",
    "a_mag = reduce_euclidean_norm(a, axis=[0,1])\n",
    "s_mag = reduce_euclidean_norm(s, axis=[0,1])\n",
    "mag = reduce_euclidean_norm(filters, axis=[0,1])\n",
    "\n",
    "\n",
    "x =(a_mag[:,F]*np.cos((theta[:,F]))).numpy()\n",
    "y =( a_mag[:,F]*np.sin((theta[:,F]))).numpy()\n",
    "z =(s_mag[:,F]*np.sign(np.mean(s, axis=(0,1)))[:,F]).numpy()\n",
    "plt.rcParams.update({'figure.dpi': '100'})\n",
    "\n",
    "\n"
   ]
  },
  {
   "cell_type": "code",
   "execution_count": 4,
   "metadata": {},
   "outputs": [
    {
     "name": "stdout",
     "output_type": "stream",
     "text": [
      "(224, 224)\n"
     ]
    }
   ],
   "source": [
    "#var = 2/(128*9)\n",
    "\n",
    "img =  cv2.imread('input4.png', 0)/255. \n",
    "#img = (img-np.mean(img))/np.std(img)\n",
    "#img = tf.repeat(tf.expand_dims([img], axis=-1) , repeats = 512, axis=-1)  #get_double_slit(shape) , axis=0)\n",
    "print(img.shape)"
   ]
  },
  {
   "cell_type": "code",
   "execution_count": 5,
   "metadata": {},
   "outputs": [
    {
     "data": {
      "text/plain": [
       "(0.023040123255935026, 0.0008680555555555555)"
      ]
     },
     "execution_count": 5,
     "metadata": {},
     "output_type": "execute_result"
    }
   ],
   "source": [
    "np.var(img), 1/(128*9)\n"
   ]
  },
  {
   "cell_type": "code",
   "execution_count": 6,
   "metadata": {},
   "outputs": [
    {
     "name": "stdout",
     "output_type": "stream",
     "text": [
      "(3, 3, 1, 1)\n",
      "0\n",
      "(1, 224, 224, 1)\n",
      "VALS 1.0\n",
      "tf.Tensor(0.0, shape=(), dtype=float32) 11.015031\n",
      "(1, 224, 224, 1)\n",
      "1\n",
      "2\n",
      "3\n",
      "4\n",
      "5\n",
      "6\n",
      "7\n",
      "8\n",
      "9\n",
      "10\n",
      "11\n",
      "12\n",
      "13\n",
      "14\n",
      "15\n",
      "16\n",
      "17\n",
      "18\n",
      "19\n",
      "(1, 224, 224, 1)\n",
      "VALS 1.0\n",
      "tf.Tensor(34.55743, shape=(), dtype=float32) 3.5050979\n",
      "(1, 224, 224, 1)\n",
      "20\n",
      "21\n",
      "22\n",
      "23\n",
      "24\n",
      "25\n",
      "26\n",
      "27\n",
      "28\n",
      "29\n",
      "30\n",
      "31\n",
      "32\n",
      "33\n",
      "34\n",
      "35\n",
      "36\n",
      "37\n",
      "38\n",
      "39\n",
      "(1, 224, 224, 1)\n",
      "VALS 0.99999994\n",
      "tf.Tensor(53.761803, shape=(), dtype=float32) 3.9043381\n",
      "(1, 224, 224, 1)\n",
      "40\n",
      "41\n",
      "42\n",
      "43\n",
      "44\n",
      "45\n",
      "46\n",
      "47\n",
      "48\n",
      "49\n",
      "50\n",
      "51\n",
      "52\n",
      "53\n",
      "54\n",
      "55\n",
      "56\n",
      "57\n",
      "58\n",
      "59\n",
      "(1, 224, 224, 1)\n",
      "VALS 1.0\n",
      "tf.Tensor(72.902214, shape=(), dtype=float32) 4.383465\n",
      "(1, 224, 224, 1)\n",
      "60\n",
      "61\n",
      "62\n",
      "63\n",
      "64\n",
      "65\n",
      "66\n",
      "67\n",
      "68\n",
      "69\n",
      "70\n",
      "71\n",
      "72\n",
      "73\n",
      "74\n",
      "75\n",
      "76\n",
      "77\n",
      "78\n",
      "79\n",
      "(1, 224, 224, 1)\n",
      "VALS 1.0\n",
      "tf.Tensor(91.7615, shape=(), dtype=float32) 5.394968\n",
      "(1, 224, 224, 1)\n",
      "80\n",
      "81\n",
      "82\n",
      "83\n",
      "84\n",
      "85\n",
      "86\n",
      "87\n",
      "88\n",
      "89\n",
      "90\n",
      "91\n",
      "92\n",
      "93\n",
      "94\n",
      "95\n",
      "96\n",
      "97\n",
      "98\n",
      "99\n"
     ]
    },
    {
     "data": {
      "image/png": "[encoded data removed]",
      "text/plain": [
       "<Figure size 330x250 with 2 Axes>"
      ]
     },
     "metadata": {},
     "output_type": "display_data"
    },
    {
     "data": {
      "image/png": "[encoded data removed]",
      "text/plain": [
       "<Figure size 330x250 with 2 Axes>"
      ]
     },
     "metadata": {},
     "output_type": "display_data"
    },
    {
     "data": {
      "image/png": "[encoded data removed]",
      "text/plain": [
       "<Figure size 330x250 with 2 Axes>"
      ]
     },
     "metadata": {},
     "output_type": "display_data"
    },
    {
     "data": {
      "image/png": "[encoded data removed]",
      "text/plain": [
       "<Figure size 330x250 with 2 Axes>"
      ]
     },
     "metadata": {},
     "output_type": "display_data"
    },
    {
     "data": {
      "image/png": "[encoded data removed]",
      "text/plain": [
       "<Figure size 330x250 with 2 Axes>"
      ]
     },
     "metadata": {},
     "output_type": "display_data"
    }
   ],
   "source": [
    "import matplotlib.patches as mpatches\n",
    "\n",
    "w =tf.cast(filters, dtype=tf.float32)# tf.expand_dims(filters, -1), dtype=tf.float32)\n",
    "w = tf.transpose(w, perm=(1,0,2,3))\n",
    "print(w.shape)\n",
    "\n",
    "x = img\n",
    "\n",
    "\n",
    "directory = f\"figures/hand_DC_grad_mix_unipolar_0.75\"\n",
    "if not os.path.exists(directory):\n",
    "\tos.makedirs(directory)\n",
    "x = tf.cast(tf.repeat(tf.expand_dims([img], axis=-1) , repeats = filters.shape[-2], axis=-1), dtype=tf.float32) \n",
    "for i in range(100):\n",
    "\tprint(i)\n",
    "\tif i in [0, 19, 39, 59, 79]:\n",
    "\t\tfig, ax = plt.subplots()\n",
    "\t\tprint(x.shape)\n",
    "\t\tx = x/np.std(x)\n",
    "\t\tvals = x[0, x.shape[1]//2, :, :]\n",
    "\t\tvals = vals/np.sum(vals)\n",
    "\n",
    "\t\tprint(\"VALS\", np.sum(vals))\n",
    "\t\tpos = np.expand_dims(np.linspace(-x.shape[1]//2, x.shape[1]//2, x.shape[1]),-1)\n",
    "\t\tmean = tf.reduce_sum(pos*vals)\n",
    "\t\tvar = tf.reduce_sum(((pos-mean)**2) * vals)\n",
    "\t\tstd = np.sqrt(var)\n",
    "\t\tprint(mean, np.sqrt(var))\n",
    "\t\t\n",
    "\t\t#x = tf.repeat(x , repeats = filters.shape[-2], axis=-1)\n",
    "\t\tprint(x.shape)\n",
    "\n",
    "\t\tim = ax.imshow(np.sum(x[0,:,:,:], axis=-1))\n",
    "\t\tax.plot(112, 112, marker = '+', color='red')\n",
    "\n",
    "\t\t#ax.plot(112+mean, 112, marker = \".\", color='black')\n",
    "\t\tarr =  mpatches.FancyArrowPatch((112.+mean, 112.), (112+mean+std, 112),\n",
    "\t\t\t\t\t\t\t\tmutation_scale=4, shrinkA=0, shrinkB=0,zorder=10, color=\"red\")\n",
    "\t\tax.add_patch(arr)\n",
    "\t\t\n",
    "\t\tax.annotate(r'$\\sigma=$'+f\"{std:.2f}\", (.5, 6), xycoords=arr, ha='center', va='bottom',color='white')\n",
    "\t\t#ax.arrow(, 112, dx=, dy= 0, color='black')\n",
    "\n",
    "\t\tax.set(xlim=(0, 224), ylim=(0, 224))\n",
    "\n",
    "\t\tfig.colorbar(im, orientation='vertical')\n",
    "\t\tfig.savefig(directory + f'/{i}.pdf', dpi=600,  transparent=True, bbox_inches='tight')\n",
    "\n",
    "\tx = tf.nn.relu( tf.nn.conv2d(x, w , strides=(1,1), \n",
    "\t\t\t\t\t\t\tpadding='SAME') )"
   ]
  },
  {
   "cell_type": "code",
   "execution_count": 7,
   "metadata": {},
   "outputs": [
    {
     "data": {
      "text/plain": [
       "(0.0, 224.0)"
      ]
     },
     "execution_count": 7,
     "metadata": {},
     "output_type": "execute_result"
    },
    {
     "data": {
      "image/png": "[encoded data removed]",
      "text/plain": [
       "<Figure size 330x250 with 1 Axes>"
      ]
     },
     "metadata": {},
     "output_type": "display_data"
    }
   ],
   "source": [
    "x = tf.nn.relu( tf.nn.conv2d(x, w , strides=(1,1), \n",
    "\t\t\t\t\t\tpadding='SAME') )\n",
    "\t\n",
    "im = plt.imshow(np.sum(x[0,:,:,:], axis=-1))\n",
    "plt.plot(112, 112, marker = '+', color='red')\n",
    "plt.xlim([0, 224])#, ylim=(0, 224))\n",
    "plt.ylim([0, 224])#, ylim=(0, 224))\n",
    "\n",
    "#, ylim=(0, 224))"
   ]
  },
  {
   "cell_type": "code",
   "execution_count": null,
   "metadata": {},
   "outputs": [
    {
     "ename": "IndexError",
     "evalue": "too many indices for array: array is 2-dimensional, but 4 were indexed",
     "output_type": "error",
     "traceback": [
      "\u001b[1;31m---------------------------------------------------------------------------\u001b[0m",
      "\u001b[1;31mIndexError\u001b[0m                                Traceback (most recent call last)",
      "\u001b[1;32m~\\AppData\\Local\\Temp\\ipykernel_22372\\320287066.py\u001b[0m in \u001b[0;36m<module>\u001b[1;34m\u001b[0m\n\u001b[1;32m----> 1\u001b[1;33m \u001b[0mpos\u001b[0m\u001b[1;33m[\u001b[0m\u001b[1;33m:\u001b[0m\u001b[1;33m,\u001b[0m \u001b[0mx\u001b[0m\u001b[1;33m.\u001b[0m\u001b[0mshape\u001b[0m\u001b[1;33m[\u001b[0m\u001b[1;36m1\u001b[0m\u001b[1;33m]\u001b[0m\u001b[1;33m//\u001b[0m\u001b[1;36m2\u001b[0m\u001b[1;33m,\u001b[0m \u001b[1;33m:\u001b[0m \u001b[1;33m,\u001b[0m \u001b[1;33m:\u001b[0m\u001b[1;33m]\u001b[0m\u001b[1;33m\u001b[0m\u001b[1;33m\u001b[0m\u001b[0m\n\u001b[0m",
      "\u001b[1;31mIndexError\u001b[0m: too many indices for array: array is 2-dimensional, but 4 were indexed"
     ]
    },
    {
     "ename": "",
     "evalue": "",
     "output_type": "error",
     "traceback": [
      "\u001b[1;31mThe Kernel crashed while executing code in the current cell or a previous cell. \n",
      "\u001b[1;31mPlease review the code in the cell(s) to identify a possible cause of the failure. \n",
      "\u001b[1;31mClick <a href='https://aka.ms/vscodeJupyterKernelCrash'>here</a> for more info. \n",
      "\u001b[1;31mView Jupyter <a href='command:jupyter.viewOutput'>log</a> for further details."
     ]
    }
   ],
   "source": [
    "pos[:, x.shape[1]//2, : , :]"
   ]
  },
  {
   "cell_type": "code",
   "execution_count": null,
   "metadata": {},
   "outputs": [
    {
     "data": {
      "text/plain": [
       "array([-112.        , -110.9955157 , -109.99103139, -108.98654709,\n",
       "       -107.98206278, -106.97757848, -105.97309417, -104.96860987,\n",
       "       -103.96412556, -102.95964126, -101.95515695, -100.95067265,\n",
       "        -99.94618834,  -98.94170404,  -97.93721973,  -96.93273543,\n",
       "        -95.92825112,  -94.92376682,  -93.91928251,  -92.91479821,\n",
       "        -91.9103139 ,  -90.9058296 ,  -89.90134529,  -88.89686099,\n",
       "        -87.89237668,  -86.88789238,  -85.88340807,  -84.87892377,\n",
       "        -83.87443946,  -82.86995516,  -81.86547085,  -80.86098655,\n",
       "        -79.85650224,  -78.85201794,  -77.84753363,  -76.84304933,\n",
       "        -75.83856502,  -74.83408072,  -73.82959641,  -72.82511211,\n",
       "        -71.8206278 ,  -70.8161435 ,  -69.81165919,  -68.80717489,\n",
       "        -67.80269058,  -66.79820628,  -65.79372197,  -64.78923767,\n",
       "        -63.78475336,  -62.78026906,  -61.77578475,  -60.77130045,\n",
       "        -59.76681614,  -58.76233184,  -57.75784753,  -56.75336323,\n",
       "        -55.74887892,  -54.74439462,  -53.73991031,  -52.73542601,\n",
       "        -51.7309417 ,  -50.7264574 ,  -49.72197309,  -48.71748879,\n",
       "        -47.71300448,  -46.70852018,  -45.70403587,  -44.69955157,\n",
       "        -43.69506726,  -42.69058296,  -41.68609865,  -40.68161435,\n",
       "        -39.67713004,  -38.67264574,  -37.66816143,  -36.66367713,\n",
       "        -35.65919283,  -34.65470852,  -33.65022422,  -32.64573991,\n",
       "        -31.64125561,  -30.6367713 ,  -29.632287  ,  -28.62780269,\n",
       "        -27.62331839,  -26.61883408,  -25.61434978,  -24.60986547,\n",
       "        -23.60538117,  -22.60089686,  -21.59641256,  -20.59192825,\n",
       "        -19.58744395,  -18.58295964,  -17.57847534,  -16.57399103,\n",
       "        -15.56950673,  -14.56502242,  -13.56053812,  -12.55605381,\n",
       "        -11.55156951,  -10.5470852 ,   -9.5426009 ,   -8.53811659,\n",
       "         -7.53363229,   -6.52914798,   -5.52466368,   -4.52017937,\n",
       "         -3.51569507,   -2.51121076,   -1.50672646,   -0.50224215,\n",
       "          0.50224215,    1.50672646,    2.51121076,    3.51569507,\n",
       "          4.52017937,    5.52466368,    6.52914798,    7.53363229,\n",
       "          8.53811659,    9.5426009 ,   10.5470852 ,   11.55156951,\n",
       "         12.55605381,   13.56053812,   14.56502242,   15.56950673,\n",
       "         16.57399103,   17.57847534,   18.58295964,   19.58744395,\n",
       "         20.59192825,   21.59641256,   22.60089686,   23.60538117,\n",
       "         24.60986547,   25.61434978,   26.61883408,   27.62331839,\n",
       "         28.62780269,   29.632287  ,   30.6367713 ,   31.64125561,\n",
       "         32.64573991,   33.65022422,   34.65470852,   35.65919283,\n",
       "         36.66367713,   37.66816143,   38.67264574,   39.67713004,\n",
       "         40.68161435,   41.68609865,   42.69058296,   43.69506726,\n",
       "         44.69955157,   45.70403587,   46.70852018,   47.71300448,\n",
       "         48.71748879,   49.72197309,   50.7264574 ,   51.7309417 ,\n",
       "         52.73542601,   53.73991031,   54.74439462,   55.74887892,\n",
       "         56.75336323,   57.75784753,   58.76233184,   59.76681614,\n",
       "         60.77130045,   61.77578475,   62.78026906,   63.78475336,\n",
       "         64.78923767,   65.79372197,   66.79820628,   67.80269058,\n",
       "         68.80717489,   69.81165919,   70.8161435 ,   71.8206278 ,\n",
       "         72.82511211,   73.82959641,   74.83408072,   75.83856502,\n",
       "         76.84304933,   77.84753363,   78.85201794,   79.85650224,\n",
       "         80.86098655,   81.86547085,   82.86995516,   83.87443946,\n",
       "         84.87892377,   85.88340807,   86.88789238,   87.89237668,\n",
       "         88.89686099,   89.90134529,   90.9058296 ,   91.9103139 ,\n",
       "         92.91479821,   93.91928251,   94.92376682,   95.92825112,\n",
       "         96.93273543,   97.93721973,   98.94170404,   99.94618834,\n",
       "        100.95067265,  101.95515695,  102.95964126,  103.96412556,\n",
       "        104.96860987,  105.97309417,  106.97757848,  107.98206278,\n",
       "        108.98654709,  109.99103139,  110.9955157 ,  112.        ])"
      ]
     },
     "execution_count": 65,
     "metadata": {},
     "output_type": "execute_result"
    }
   ],
   "source": [
    "pos"
   ]
  },
  {
   "cell_type": "code",
   "execution_count": null,
   "metadata": {},
   "outputs": [
    {
     "data": {
      "text/plain": [
       "0.5022421524663656"
      ]
     },
     "execution_count": 64,
     "metadata": {},
     "output_type": "execute_result"
    }
   ],
   "source": [
    "pos[x.shape[1]//2]"
   ]
  }
 ],
 "metadata": {
  "kernelspec": {
   "display_name": "Python 3",
   "language": "python",
   "name": "python3"
  },
  "language_info": {
   "codemirror_mode": {
    "name": "ipython",
    "version": 3
   },
   "file_extension": ".py",
   "mimetype": "text/x-python",
   "name": "python",
   "nbconvert_exporter": "python",
   "pygments_lexer": "ipython3",
   "version": "3.7.16"
  }
 },
 "nbformat": 4,
 "nbformat_minor": 2
}
