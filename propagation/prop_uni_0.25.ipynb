{
 "cells": [
  {
   "cell_type": "code",
   "execution_count": 15,
   "metadata": {},
   "outputs": [],
   "source": [
    "import sys\n",
    "sys.path.append('../')\n",
    "\n",
    "import numpy as np\n",
    "from scipy import ndimage\n",
    "\n",
    "from skimage.filters import sobel_h\n",
    "from skimage.filters import sobel_v\n",
    "from scipy import stats\n",
    "\n",
    "\n",
    "import os\n",
    "import matplotlib\n",
    "import matplotlib.pyplot as plt\n",
    "from mpl_toolkits.mplot3d import Axes3D\n",
    "from mpl_toolkits.mplot3d.proj3d import proj_transform\n",
    "from matplotlib.patches import FancyArrowPatch\n",
    "from mpl_toolkits.mplot3d import proj3d\n",
    "\n",
    "from matplotlib.ticker import MaxNLocator\n",
    "import scienceplots\n",
    "from tensorflow.python.client import device_lib\n",
    "\n",
    "#plt.rcParams['figure.figsize'] = [10,10]\n",
    "\n",
    "import tensorflow as tf\n",
    "from tensorflow.keras.preprocessing import image\n",
    "from tensorflow.keras.applications.vgg16 import decode_predictions\n",
    "from tensorflow.keras.applications import VGG16\n",
    "\n",
    "from tensorflow.nn import depthwise_conv2d\n",
    "from tensorflow.math import multiply, reduce_sum, reduce_mean,reduce_euclidean_norm, sin, cos, abs\n",
    "from tensorflow import stack, concat, expand_dims\n",
    "\n",
    "import tensorflow_probability as tfp\n",
    "\n",
    "from utils.utils import *\n",
    "import cv2\n",
    "\n",
    "from scipy import ndimage, fft\n",
    "\n",
    "plt.style.use(['science', 'ieee'])\n",
    "plt.rcParams.update({'figure.dpi': '100'})"
   ]
  },
  {
   "cell_type": "markdown",
   "metadata": {},
   "source": [
    "#### Experiment #1 : HandCrafted AntiSymmetric Bipolar Convolution\n"
   ]
  },
  {
   "cell_type": "code",
   "execution_count": 16,
   "metadata": {},
   "outputs": [],
   "source": [
    "k = 20 # Top 10% highest l2-magnitude filters"
   ]
  },
  {
   "cell_type": "code",
   "execution_count": 17,
   "metadata": {},
   "outputs": [
    {
     "data": {
      "text/plain": [
       "\"theta = getSobelTF(filters)\\nprint(filters.shape)\\ns, a = getSymAntiSymTF(filters)\\n\\na_mag = reduce_euclidean_norm(a, axis=[0,1])\\ns_mag = reduce_euclidean_norm(s, axis=[0,1])\\nmag = reduce_euclidean_norm(filters, axis=[0,1])\\n\\n\\nprint(a_mag**2 / mag**2)\\n\\nx =(a_mag[:,F]*np.cos((theta[:,F]))).numpy()\\ny =( a_mag[:,F]*np.sin((theta[:,F]))).numpy()\\nz =(s_mag[:,F]*np.sign(np.mean(s, axis=(0,1)))[:,F]).numpy()\\nplt.rcParams.update({'figure.dpi': '100'}) \""
      ]
     },
     "execution_count": 17,
     "metadata": {},
     "output_type": "execute_result"
    }
   ],
   "source": [
    "k=5\n",
    "\n",
    "F = 0\n",
    "\n",
    "filters = np.zeros((k,k,1,1))\n",
    "\n",
    "t = np.zeros((k,k))\n",
    "t[1, 0] = np.sqrt(0.5)\n",
    "t[0, 0] = np.sqrt(0.5)\n",
    "filters = np.reshape(fft.idctn(t, norm='ortho'), (k,k,1,1)) \n",
    "filters /= np.sum((filters)**2)\n",
    "\n",
    "filters[:,0,0,0] = 0.\n",
    "filters[:,-1,0,0] = 0.\n",
    "\n",
    "#filters[:,:,0,0] =  (1/9)*np.array([[1,1,1], [1,1,1], [1,1,1]]) + (1/6)*np.array([[1,1,1], [0,0,0], [-1,-1,-1]]) \n",
    "\n",
    "\n",
    "'''theta = getSobelTF(filters)\n",
    "print(filters.shape)\n",
    "s, a = getSymAntiSymTF(filters)\n",
    "\n",
    "a_mag = reduce_euclidean_norm(a, axis=[0,1])\n",
    "s_mag = reduce_euclidean_norm(s, axis=[0,1])\n",
    "mag = reduce_euclidean_norm(filters, axis=[0,1])\n",
    "\n",
    "\n",
    "print(a_mag**2 / mag**2)\n",
    "\n",
    "x =(a_mag[:,F]*np.cos((theta[:,F]))).numpy()\n",
    "y =( a_mag[:,F]*np.sin((theta[:,F]))).numpy()\n",
    "z =(s_mag[:,F]*np.sign(np.mean(s, axis=(0,1)))[:,F]).numpy()\n",
    "plt.rcParams.update({'figure.dpi': '100'}) '''\n",
    "\n",
    "\n"
   ]
  },
  {
   "cell_type": "code",
   "execution_count": 18,
   "metadata": {},
   "outputs": [
    {
     "data": {
      "text/plain": [
       "array([[ 0.        ,  0.33163266,  0.33163266,  0.33163266,  0.        ],\n",
       "       [ 0.        ,  0.25897841,  0.25897841,  0.25897841,  0.        ],\n",
       "       [ 0.        ,  0.14142136,  0.14142136,  0.14142136,  0.        ],\n",
       "       [ 0.        ,  0.02386431,  0.02386431,  0.02386431,  0.        ],\n",
       "       [ 0.        , -0.04878995, -0.04878995, -0.04878995,  0.        ]])"
      ]
     },
     "execution_count": 18,
     "metadata": {},
     "output_type": "execute_result"
    }
   ],
   "source": [
    "filters[:,:,0,0]"
   ]
  },
  {
   "cell_type": "code",
   "execution_count": 19,
   "metadata": {},
   "outputs": [
    {
     "data": {
      "text/plain": [
       "1"
      ]
     },
     "execution_count": 19,
     "metadata": {},
     "output_type": "execute_result"
    }
   ],
   "source": [
    "3//2"
   ]
  },
  {
   "cell_type": "code",
   "execution_count": 20,
   "metadata": {},
   "outputs": [
    {
     "name": "stdout",
     "output_type": "stream",
     "text": [
      "(115, 115)\n"
     ]
    }
   ],
   "source": [
    "#var = 2/(128*9)\n",
    "\n",
    "img = np.zeros((115,115)) # cv2.imread('input4.png', 0)/255. \n",
    "mid = img.shape[0]//2\n",
    "img[mid, mid] = 1.\n",
    "#img = (img-np.mean(img))/np.std(img)\n",
    "#img = tf.repeat(tf.expand_dims([img], axis=-1) , repeats = 512, axis=-1)  #get_double_slit(shape) , axis=0)\n",
    "print(img.shape)"
   ]
  },
  {
   "cell_type": "code",
   "execution_count": 21,
   "metadata": {},
   "outputs": [
    {
     "name": "stdout",
     "output_type": "stream",
     "text": [
      "(324, 324)\n",
      "(324, 324)\n"
     ]
    },
    {
     "data": {
      "text/plain": [
       "<matplotlib.image.AxesImage at 0x71aa785d78e0>"
      ]
     },
     "execution_count": 21,
     "metadata": {},
     "output_type": "execute_result"
    },
    {
     "data": {
      "image/png": "[encoded data removed]",
      "text/plain": [
       "<Figure size 330x250 with 1 Axes>"
      ]
     },
     "metadata": {},
     "output_type": "display_data"
    }
   ],
   "source": [
    "img =  cv2.imread('input4.png', 0)/255. \n",
    "#img = (img-np.mean(img))/np.std(img)\n",
    "#img = tf.repeat(tf.expand_dims([img], axis=-1) , repeats = 512, axis=-1)  #get_double_slit(shape) , axis=0)\n",
    "\n",
    "\n",
    "img = cv2.copyMakeBorder(img, \n",
    "                                top=50, bottom=50, \n",
    "                                left=50, right=50, \n",
    "                                borderType=cv2.BORDER_CONSTANT, \n",
    "                                value=0)\n",
    "\n",
    "\n",
    "print(img.shape)\n",
    "\n",
    "mid = img.shape[0]//2\n",
    "\n",
    "\n",
    "\n",
    "#img = (img-np.mean(img))/np.std(img)\n",
    "#img = tf.repeat(tf.expand_dims([img], axis=-1) , repeats = 512, axis=-1)  #get_double_slit(shape) , axis=0)\n",
    "print(img.shape)\n",
    "\n",
    "plt.imshow(img, cmap='gray')"
   ]
  },
  {
   "cell_type": "code",
   "execution_count": 22,
   "metadata": {},
   "outputs": [
    {
     "data": {
      "text/plain": [
       "(np.float64(0.011151557861979779), 0.0008680555555555555)"
      ]
     },
     "execution_count": 22,
     "metadata": {},
     "output_type": "execute_result"
    }
   ],
   "source": [
    "np.var(img), 1/(128*9)\n"
   ]
  },
  {
   "cell_type": "code",
   "execution_count": 23,
   "metadata": {},
   "outputs": [
    {
     "data": {
      "text/plain": [
       "array([-1.,  0.,  1.])"
      ]
     },
     "execution_count": 23,
     "metadata": {},
     "output_type": "execute_result"
    }
   ],
   "source": [
    "np.linspace(-round(0.1)-1, round(0.1)+1, int(0.5*(0.1)+3))"
   ]
  },
  {
   "cell_type": "code",
   "execution_count": 24,
   "metadata": {},
   "outputs": [
    {
     "name": "stdout",
     "output_type": "stream",
     "text": [
      "(5, 5, 1, 1)\n",
      "0\n",
      "(1, 324, 324, 1)\n",
      "VALS 1.0\n",
      "tf.Tensor(0.0, shape=(), dtype=float32) 10.999806\n",
      "(1, 324, 324, 1)\n",
      "100 [-75 -50 -25] [  0  25  50  75 100 125]\n",
      "1\n",
      "(1, 324, 324, 1)\n",
      "VALS 1.0000001\n",
      "tf.Tensor(1.3536627, shape=(), dtype=float32) 11.043499\n",
      "(1, 324, 324, 1)\n",
      "100 [-75 -50 -25] [  0  25  50  75 100 125]\n",
      "2\n",
      "3\n",
      "4\n",
      "5\n",
      "6\n",
      "7\n",
      "8\n",
      "9\n",
      "10\n",
      "(1, 324, 324, 1)\n",
      "VALS 0.99999994\n",
      "tf.Tensor(13.875771, shape=(), dtype=float32) 11.194164\n",
      "(1, 324, 324, 1)\n",
      "100 [-75 -50 -25] [  0  25  50  75 100 125]\n",
      "11\n",
      "12\n",
      "13\n",
      "14\n",
      "15\n",
      "16\n",
      "17\n",
      "18\n",
      "19\n",
      "20\n",
      "(1, 324, 324, 1)\n",
      "VALS 1.0\n",
      "tf.Tensor(27.889675, shape=(), dtype=float32) 11.248956\n",
      "(1, 324, 324, 1)\n",
      "100 [-75 -50 -25] [  0  25  50  75 100 125]\n",
      "21\n",
      "22\n",
      "23\n",
      "24\n",
      "25\n",
      "26\n",
      "27\n",
      "28\n",
      "29\n",
      "30\n",
      "31\n",
      "32\n",
      "33\n",
      "34\n",
      "35\n",
      "36\n",
      "37\n",
      "38\n",
      "39\n",
      "40\n",
      "(1, 324, 324, 1)\n",
      "VALS 1.0\n",
      "tf.Tensor(55.99672, shape=(), dtype=float32) 11.26648\n",
      "(1, 324, 324, 1)\n",
      "100 [-75 -50 -25] [  0  25  50  75 100 125]\n",
      "41\n",
      "42\n",
      "43\n",
      "44\n",
      "45\n",
      "46\n",
      "47\n",
      "48\n",
      "49\n",
      "50\n",
      "51\n",
      "52\n",
      "53\n",
      "54\n",
      "55\n",
      "56\n",
      "57\n",
      "58\n",
      "59\n",
      "60\n",
      "(1, 324, 324, 1)\n",
      "VALS 1.0\n",
      "tf.Tensor(84.15001, shape=(), dtype=float32) 11.253523\n",
      "(1, 324, 324, 1)\n",
      "100 [-75 -50 -25] [  0  25  50  75 100 125]\n",
      "61\n",
      "62\n",
      "63\n",
      "64\n",
      "65\n",
      "66\n",
      "67\n",
      "68\n",
      "69\n",
      "70\n",
      "71\n",
      "72\n",
      "73\n",
      "74\n",
      "75\n",
      "76\n",
      "77\n",
      "78\n",
      "79\n",
      "80\n",
      "81\n",
      "82\n",
      "83\n",
      "84\n",
      "85\n",
      "86\n",
      "87\n",
      "88\n",
      "89\n",
      "90\n",
      "91\n",
      "92\n",
      "93\n",
      "94\n",
      "95\n",
      "96\n",
      "97\n",
      "98\n",
      "99\n",
      "100\n",
      "(1, 324, 324, 1)\n",
      "VALS 1.0000001\n",
      "tf.Tensor(140.21132, shape=(), dtype=float32) 10.975746\n",
      "(1, 324, 324, 1)\n",
      "100 [-75 -50 -25] [  0  25  50  75 100 125]\n"
     ]
    },
    {
     "data": {
      "image/png": "[encoded data removed]",
      "text/plain": [
       "<Figure size 330x250 with 1 Axes>"
      ]
     },
     "metadata": {},
     "output_type": "display_data"
    },
    {
     "data": {
      "image/png": "[encoded data removed]",
      "text/plain": [
       "<Figure size 330x250 with 1 Axes>"
      ]
     },
     "metadata": {},
     "output_type": "display_data"
    },
    {
     "data": {
      "image/png": "[encoded data removed]",
      "text/plain": [
       "<Figure size 330x250 with 1 Axes>"
      ]
     },
     "metadata": {},
     "output_type": "display_data"
    },
    {
     "data": {
      "image/png": "[encoded data removed]",
      "text/plain": [
       "<Figure size 330x250 with 1 Axes>"
      ]
     },
     "metadata": {},
     "output_type": "display_data"
    },
    {
     "data": {
      "image/png": "[encoded data removed]",
      "text/plain": [
       "<Figure size 330x250 with 1 Axes>"
      ]
     },
     "metadata": {},
     "output_type": "display_data"
    },
    {
     "data": {
      "image/png": "[encoded data removed]",
      "text/plain": [
       "<Figure size 330x250 with 1 Axes>"
      ]
     },
     "metadata": {},
     "output_type": "display_data"
    },
    {
     "data": {
      "image/png": "[encoded data removed]",
      "text/plain": [
       "<Figure size 330x250 with 1 Axes>"
      ]
     },
     "metadata": {},
     "output_type": "display_data"
    }
   ],
   "source": [
    "import matplotlib.patches as mpatches\n",
    "\n",
    "w =tf.cast(filters, dtype=tf.float32)# tf.expand_dims(filters, -1), dtype=tf.float32)\n",
    "w = tf.transpose(w, perm=(1,0,2,3))\n",
    "print(w.shape)\n",
    "\n",
    "x = img\n",
    "\n",
    "\n",
    "directory = f\"figures/prop_unipolar_0.25\"\n",
    "if not os.path.exists(directory):\n",
    "\tos.makedirs(directory)\n",
    "x = tf.cast(tf.repeat(tf.expand_dims([img], axis=-1) , repeats = filters.shape[-2], axis=-1), dtype=tf.float32) \n",
    "for i in range(101):\n",
    "\tprint(i)\n",
    "\tif i in [0, 1,10, 20, 40, 60, 100]:\n",
    "\t\tfig, ax = plt.subplots()\n",
    "\t\tprint(x.shape)\n",
    "\t\tx = x/np.std(x)\n",
    "\t\tvals = x[0, x.shape[1]//2, :, :]\n",
    "\t\tvals = vals/np.sum(vals)\n",
    "\n",
    "\t\tprint(\"VALS\", np.sum(vals))\n",
    "\t\tpos = np.expand_dims(np.linspace(-(x.shape[1]//2), x.shape[1]//2, x.shape[1]),-1)\n",
    "\t\tmean = tf.reduce_sum(pos*vals)\n",
    "\t\tvar = tf.reduce_sum(((pos-mean)**2) * vals)\n",
    "\t\tstd = np.sqrt(var)\n",
    "\t\tprint(mean, np.sqrt(var))\n",
    "\t\t\n",
    "\t\t#x = tf.repeat(x , repeats = filters.shape[-2], axis=-1)\n",
    "\t\tprint(x.shape)\n",
    "\n",
    "\t\tim = ax.imshow(np.sum(x[0,:,:,:], axis=-1))\n",
    "\t\tax.plot(mid, mid, marker = '+', color='red')\n",
    "\n",
    "\t\t#ax.plot(112+mean, 112, marker = \".\", color='black')\n",
    "\t\tarr =  mpatches.FancyArrowPatch((mid+mean, mid), (mid+mean+std, mid),\n",
    "\t\t\t\t\t\t\t\tmutation_scale=4, shrinkA=0, shrinkB=0,zorder=10, color=\"red\")\n",
    "\t\tax.add_patch(arr)\n",
    "\t\t\n",
    "\t\tax.annotate(r'$\\sigma=$'+f\"{std:.2f}\", (.5, 15), xycoords=arr, ha='center', va='bottom',color='white')\n",
    "\t\tax.annotate(r'$\\mu=$'+f\"{mean:.2f}\", (.5, 10), xycoords=arr, ha='center', va='bottom',color='white')\n",
    "\t\tax.annotate(r'$argmax=$'+f\"{np.argmax(vals)-mid:.2f}\", (.5, 20), xycoords=arr, ha='center', va='bottom',color='white')\n",
    "\n",
    "\t\t#ax.arrow(, 112, dx=, dy= 0, color='black')\n",
    "\n",
    "\t\txlim = (mid - 53, mid + 131)\n",
    "\t\tylim = (mid - 65, mid + 65)\n",
    "\t\tax.set_xlim(xlim)\n",
    "\t\tax.set_ylim(ylim)\n",
    "\n",
    "\t\t# Define spacing\n",
    "\t\tstep = 25\n",
    "\n",
    "\t\t# Compute ticks centered around `mid`, spaced by `step`, covering full view\n",
    "\t\txticks_neg =   np.arange(-53//step * step, 0, step)\n",
    "\t\txticks_pos = np.arange(0, 130 , step)\n",
    "\t\txticks = np.concatenate((xticks_neg, xticks_pos)) + mid\n",
    "\n",
    "\t\tyticks_neg = np.arange(-65//step * step, 0, step)\n",
    "\t\tyticks_pos = np.arange(0, 65//step * step , step)\n",
    "\t\tyticks =  np.array([-50, -25, 0, 25, 50]) + mid  #np.concatenate((yticks_neg, yticks_pos)) + mid\n",
    "\n",
    "\n",
    "\t\tprint(xlim[0] // step * step, xticks_neg, xticks_pos)\n",
    "\n",
    "\n",
    "\t\t# Ensure mid (origin) is present\n",
    "\n",
    "\t\t# Apply ticks and relabel with 0-centered view\n",
    "\t\t#xticks = np.arange(xlim[0]+1, xlim[1]+1 , step)\n",
    "\t\t#yticks = np.arange(ylim[0]+1, ylim[1]+1, step)\n",
    "\n",
    "\t\t# Set tick positions and labels (centered around mid)\n",
    "\t\tax.set_xticks(xticks)\n",
    "\t\tax.set_yticks(yticks)\n",
    "\t\tax.set_xticklabels([x - mid for x in xticks])\n",
    "\t\tax.set_yticklabels([y - mid for y in yticks])\n",
    "\n",
    "\n",
    "\t\t#ax.set_xticks(np.linspace(-round(std)-1, round(std)+1, int(0.5*(std)+3)))\n",
    "\t\t#fig.colorbar(im, orientation='vertical')\n",
    "\t\tfig.savefig(directory + f'/{i}.pdf', dpi=150,  transparent=True, bbox_inches='tight')\n",
    "\n",
    "\tx = tf.nn.relu( tf.nn.conv2d(x, w , strides=(1,1), \n",
    "\t\t\t\t\t\t\tpadding='SAME') )"
   ]
  },
  {
   "cell_type": "code",
   "execution_count": 25,
   "metadata": {},
   "outputs": [
    {
     "data": {
      "text/plain": [
       "50"
      ]
     },
     "execution_count": 25,
     "metadata": {},
     "output_type": "execute_result"
    }
   ],
   "source": [
    "65//step * step"
   ]
  },
  {
   "cell_type": "code",
   "execution_count": 26,
   "metadata": {},
   "outputs": [
    {
     "data": {
      "text/plain": [
       "(0.0, 224.0)"
      ]
     },
     "execution_count": 26,
     "metadata": {},
     "output_type": "execute_result"
    },
    {
     "data": {
      "image/png": "[encoded data removed]",
      "text/plain": [
       "<Figure size 330x250 with 1 Axes>"
      ]
     },
     "metadata": {},
     "output_type": "display_data"
    }
   ],
   "source": [
    "x = tf.nn.relu( tf.nn.conv2d(x, w , strides=(1,1), \n",
    "\t\t\t\t\t\tpadding='SAME') )\n",
    "\t\n",
    "im = plt.imshow(np.sum(x[0,:,:,:], axis=-1))\n",
    "plt.plot(112, 112, marker = '+', color='red')\n",
    "plt.xlim([0, 224])#, ylim=(0, 224))\n",
    "plt.ylim([0, 224])#, ylim=(0, 224))\n",
    "\n",
    "#, ylim=(0, 224))"
   ]
  },
  {
   "cell_type": "code",
   "execution_count": 27,
   "metadata": {},
   "outputs": [
    {
     "data": {
      "text/plain": [
       "<tf.Tensor: shape=(), dtype=float32, numpy=140.21131896972656>"
      ]
     },
     "execution_count": 27,
     "metadata": {},
     "output_type": "execute_result"
    }
   ],
   "source": [
    "mean"
   ]
  },
  {
   "cell_type": "code",
   "execution_count": 28,
   "metadata": {},
   "outputs": [
    {
     "data": {
      "text/plain": [
       "array([0.50154799])"
      ]
     },
     "execution_count": 28,
     "metadata": {},
     "output_type": "execute_result"
    }
   ],
   "source": [
    "pos[x.shape[1]//2]"
   ]
  }
 ],
 "metadata": {
  "kernelspec": {
   "display_name": "lam",
   "language": "python",
   "name": "python3"
  },
  "language_info": {
   "codemirror_mode": {
    "name": "ipython",
    "version": 3
   },
   "file_extension": ".py",
   "mimetype": "text/x-python",
   "name": "python",
   "nbconvert_exporter": "python",
   "pygments_lexer": "ipython3",
   "version": "3.10.16"
  }
 },
 "nbformat": 4,
 "nbformat_minor": 2
}
