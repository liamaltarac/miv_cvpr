{
 "cells": [
  {
   "cell_type": "code",
   "execution_count": 52,
   "metadata": {},
   "outputs": [],
   "source": [
    "import sys\n",
    "sys.path.append('../')\n",
    "\n",
    "import numpy as np\n",
    "from scipy import ndimage\n",
    "\n",
    "from skimage.filters import sobel_h\n",
    "from skimage.filters import sobel_v\n",
    "from scipy import stats\n",
    "\n",
    "\n",
    "import os\n",
    "import matplotlib\n",
    "import matplotlib.pyplot as plt\n",
    "import matplotlib.gridspec as gridspec\n",
    "\n",
    "\n",
    "import scienceplots\n",
    "from tensorflow.python.client import device_lib\n",
    "\n",
    "#plt.rcParams['figure.figsize'] = [10,10]\n",
    "\n",
    "import tensorflow as tf\n",
    "from tensorflow.keras.preprocessing import image\n",
    "from tensorflow.keras.applications.vgg16 import decode_predictions\n",
    "from tensorflow.keras.applications.resnet import ResNet50\n",
    "\n",
    "from tensorflow.nn import depthwise_conv2d\n",
    "from tensorflow.math import multiply, reduce_sum, reduce_mean,reduce_euclidean_norm, sin, cos, abs\n",
    "from tensorflow import stack, concat, expand_dims\n",
    "\n",
    "import tensorflow_probability as tfp\n",
    "\n",
    "from utils.utils import *\n",
    "\n",
    "plt.style.use(['science', 'ieee'])\n",
    "plt.rcParams.update({'figure.dpi': '300'})"
   ]
  },
  {
   "cell_type": "markdown",
   "metadata": {},
   "source": [
    "#### Experiment #1 : RGB layer"
   ]
  },
  {
   "cell_type": "code",
   "execution_count": 53,
   "metadata": {},
   "outputs": [],
   "source": [
    "model = ResNet50(weights='imagenet',\n",
    "                  include_top=False,\n",
    "                  input_shape=(224, 224, 3))"
   ]
  },
  {
   "cell_type": "code",
   "execution_count": 54,
   "metadata": {},
   "outputs": [
    {
     "data": {
      "text/plain": [
       "(7, 7)"
      ]
     },
     "execution_count": 54,
     "metadata": {},
     "output_type": "execute_result"
    }
   ],
   "source": [
    "model.layers[2].kernel_size"
   ]
  },
  {
   "cell_type": "code",
   "execution_count": 55,
   "metadata": {},
   "outputs": [],
   "source": [
    "f = model.layers[2].get_weights()"
   ]
  },
  {
   "cell_type": "code",
   "execution_count": 56,
   "metadata": {},
   "outputs": [
    {
     "data": {
      "text/plain": [
       "(7, 7, 3, 64)"
      ]
     },
     "execution_count": 56,
     "metadata": {},
     "output_type": "execute_result"
    }
   ],
   "source": [
    "f[0].shape"
   ]
  },
  {
   "cell_type": "code",
   "execution_count": 57,
   "metadata": {},
   "outputs": [
    {
     "name": "stdout",
     "output_type": "stream",
     "text": [
      "(7, 7, 3, 10)\n",
      "(10, 7, 7, 3) (10, 7, 7, 3) (10, 7, 7, 3)\n"
     ]
    },
    {
     "data": {
      "image/png": "[encoded data removed]",
      "text/plain": [
       "<Figure size 1000x200 with 5 Axes>"
      ]
     },
     "metadata": {},
     "output_type": "display_data"
    }
   ],
   "source": [
    "\n",
    "n_filters = 5\n",
    "\n",
    "filters, _ = model.layers[2].get_weights()\n",
    "plt.rcParams.update({'figure.dpi': '200'})\n",
    "\n",
    "plt.rcParams[\"axes.facecolor\"] = \"E5E5E5\"\n",
    "plt.rcParams[\"axes.edgecolor\"] = \"white\"\n",
    "fig= plt.figure(figsize = (n_filters, 1))\n",
    "fig.clf()\n",
    "\n",
    "\n",
    "#fig.tight_layout()\n",
    "gs1 = gridspec.GridSpec(1, n_filters)\n",
    "gs1.update(wspace=0.025, hspace=0.025) # set the spacing between axes. \n",
    "ax = [fig.add_subplot(ss) for ss in gs1]\n",
    "ax = np.reshape(ax, (1, n_filters))\n",
    "#fig, ax = plt.subplots(gs1 , sharex=False, sharey=False)\n",
    "\n",
    "\n",
    "top10F=topKfilters(model, 0, k=100, sev=True)[:10]\n",
    "filters = get_filter(model, 0, sev=True)[:,:,:, top10F]\n",
    "theta = getSobelTF(filters)\n",
    "print(filters.shape)\n",
    "_, a = getSymAntiSymTF(filters)\n",
    "a_mag = reduce_euclidean_norm(a, axis=[0,1])\n",
    "\n",
    "#dvec, dtheta = getDominantAngle(filters)\n",
    "\n",
    "for i in range(n_filters):\n",
    "\tf = filters[:,:,:, i]\n",
    "\tf_norm  =  (f - f.min())/(f.max() - f.min()) \n",
    "\t\n",
    "\tax[0,i].imshow(f_norm)\n",
    "\n",
    "\tax[0, i].set_xticks([])\n",
    "\tax[0, i].set_yticks([])\n",
    "\tax[0, i].set_aspect('equal')\n",
    "ax[0,0].set_ylabel(f\"RGB\", fontsize=7) \n",
    "\n",
    "#fig.subplots_adjust(left=None, bottom=None, right=0.005, top=0.005)\n",
    "\n",
    "plt.show()\n"
   ]
  },
  {
   "cell_type": "code",
   "execution_count": 58,
   "metadata": {},
   "outputs": [
    {
     "name": "stderr",
     "output_type": "stream",
     "text": [
      "c:\\Users\\AN46710\\Anaconda3\\envs\\masters\\lib\\site-packages\\ipykernel_launcher.py:1: MatplotlibDeprecationWarning: savefig() got unexpected keyword argument \"rasterized\" which is no longer supported as of 3.3 and will become an error in 3.6\n",
      "  \"\"\"Entry point for launching an IPython kernel.\n"
     ]
    }
   ],
   "source": [
    "fig.savefig('figures/resnet_rgb_5.pdf', dpi=600, rasterized=True)\n",
    "plt.show()"
   ]
  }
 ],
 "metadata": {
  "kernelspec": {
   "display_name": "masters",
   "language": "python",
   "name": "python3"
  },
  "language_info": {
   "codemirror_mode": {
    "name": "ipython",
    "version": 3
   },
   "file_extension": ".py",
   "mimetype": "text/x-python",
   "name": "python",
   "nbconvert_exporter": "python",
   "pygments_lexer": "ipython3",
   "version": "3.7.16"
  }
 },
 "nbformat": 4,
 "nbformat_minor": 2
}
