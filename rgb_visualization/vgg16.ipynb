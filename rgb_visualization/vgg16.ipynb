{
 "cells": [
  {
   "cell_type": "code",
   "execution_count": 38,
   "metadata": {},
   "outputs": [],
   "source": [
    "import sys\n",
    "sys.path.append('../')\n",
    "\n",
    "import numpy as np\n",
    "from scipy import ndimage\n",
    "\n",
    "from skimage.filters import sobel_h\n",
    "from skimage.filters import sobel_v\n",
    "from scipy import stats\n",
    "\n",
    "\n",
    "import os\n",
    "import matplotlib\n",
    "import matplotlib.pyplot as plt\n",
    "import scienceplots\n",
    "from tensorflow.python.client import device_lib\n",
    "\n",
    "#plt.rcParams['figure.figsize'] = [10,10]\n",
    "\n",
    "import tensorflow as tf\n",
    "from tensorflow.keras.preprocessing import image\n",
    "from tensorflow.keras.applications.vgg16 import decode_predictions\n",
    "from tensorflow.keras.applications import VGG16\n",
    "\n",
    "from tensorflow.nn import depthwise_conv2d\n",
    "from tensorflow.math import multiply, reduce_sum, reduce_mean,reduce_euclidean_norm, sin, cos, abs\n",
    "from tensorflow import stack, concat, expand_dims\n",
    "\n",
    "import tensorflow_probability as tfp\n",
    "\n",
    "from utils.utils import *\n",
    "\n",
    "\n",
    "plt.style.use(['science', 'ieee'])\n",
    "plt.rcParams.update({'figure.dpi': '100'})"
   ]
  },
  {
   "cell_type": "markdown",
   "metadata": {},
   "source": [
    "#### Experiment #1 : RGB layer"
   ]
  },
  {
   "cell_type": "code",
   "execution_count": 39,
   "metadata": {},
   "outputs": [],
   "source": [
    "model = VGG16(weights='imagenet',\n",
    "                  include_top=False,\n",
    "                  input_shape=(224, 224, 3))"
   ]
  },
  {
   "cell_type": "code",
   "execution_count": 45,
   "metadata": {},
   "outputs": [
    {
     "data": {
      "image/png": "[encoded data removed]",
      "text/plain": [
       "<Figure size 1600x400 with 64 Axes>"
      ]
     },
     "metadata": {},
     "output_type": "display_data"
    }
   ],
   "source": [
    "\n",
    "filters = get_filter(model, 0)\n",
    "\n",
    "FILTER = list(range(filters.shape[-1]))\n",
    "\n",
    "\n",
    "#fig = plt.figure(figsize=(15, 90))\n",
    "fig, axes = plt.subplots(ncols = filters.shape[-1]//4, nrows=4, figsize=(16, 4))\n",
    "axes = axes.flatten()\n",
    "mags = []\n",
    "\n",
    "syms = []\n",
    "antis = [] \n",
    "fs = []\n",
    "\n",
    "filters = get_filter(model, 0)\n",
    "s, a = getSymAntiSymTF(filters)\n",
    "theta = getSobelTF(filters)\n",
    "a_energy = reduce_euclidean_norm(a, axis=[0,1])**2\n",
    "s_energy = reduce_euclidean_norm(s, axis=[0,1])**2\n",
    "total_energy  = reduce_euclidean_norm(filters, axis=[0,1])**2\n",
    "#beta = a_energy/total_energy\n",
    "beta = tf.reduce_mean(a_energy/total_energy, (0))\n",
    "\n",
    "for i in range(filters.shape[-1]):\n",
    "    fs.append((filters[:,:, :,i], beta[i]))\n",
    "\n",
    "fs = sorted(fs, key=lambda f: f[1], reverse=True)  \n",
    "\n",
    "#axses = axes.flatten(order='F')[0]\n",
    "for i , (f, beta) in enumerate(fs):\n",
    "    #print(beta)\n",
    "\n",
    "    ax = axes[i]\n",
    "\n",
    "    #anti_norm  =  (anti - anti.min())/(anti.max() - anti.min()) #pre.MinMaxScaler(copy=False).fit_transform(x).reshape(3,3,3)\n",
    "    #sym_norm  =  (sym - sym.min())/(sym.max() - sym.min()) #pre.MinMaxScaler(copy=False).fit_transform(x).reshape(3,3,3)\n",
    "    f_norm  =  (f - f.min())/(f.max() - f.min()) #pre.MinMaxScaler(copy=False).fit_transform(x).reshape(3,3,3)\n",
    "\n",
    "    #ax.set_title(f\" beta={beta:.3f}\")\n",
    "    ax.imshow(f_norm)\n",
    "    ax.set_yticklabels([])\n",
    "    ax.set_xticklabels([])\n",
    "\n",
    "    ax.set_box_aspect(1)\n",
    "\n",
    "    ax.set_xticks([])\n",
    "    ax.set_yticks([])\n",
    "    ax.set_aspect('equal')\n",
    "\n",
    "plt.show()\n"
   ]
  },
  {
   "cell_type": "code",
   "execution_count": 41,
   "metadata": {},
   "outputs": [
    {
     "name": "stderr",
     "output_type": "stream",
     "text": [
      "c:\\Users\\AN46710\\Anaconda3\\envs\\masters\\lib\\site-packages\\ipykernel_launcher.py:1: MatplotlibDeprecationWarning: savefig() got unexpected keyword argument \"rasterized\" which is no longer supported as of 3.3 and will become an error in 3.6\n",
      "  \"\"\"Entry point for launching an IPython kernel.\n"
     ]
    }
   ],
   "source": [
    "fig.savefig('figures/vgg16_rgb.pdf', dpi=600, rasterized=True)\n",
    "plt.show()"
   ]
  }
 ],
 "metadata": {
  "kernelspec": {
   "display_name": "masters",
   "language": "python",
   "name": "python3"
  },
  "language_info": {
   "codemirror_mode": {
    "name": "ipython",
    "version": 3
   },
   "file_extension": ".py",
   "mimetype": "text/x-python",
   "name": "python",
   "nbconvert_exporter": "python",
   "pygments_lexer": "ipython3",
   "version": "3.7.16"
  }
 },
 "nbformat": 4,
 "nbformat_minor": 2
}
