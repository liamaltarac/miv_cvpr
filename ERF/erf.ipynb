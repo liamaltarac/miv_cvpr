{
 "cells": [
  {
   "cell_type": "code",
   "execution_count": 1,
   "id": "fd2331a1",
   "metadata": {},
   "outputs": [
    {
     "name": "stderr",
     "output_type": "stream",
     "text": [
      "2025-08-01 10:38:59.178634: I tensorflow/core/util/port.cc:113] oneDNN custom operations are on. You may see slightly different numerical results due to floating-point round-off errors from different computation orders. To turn them off, set the environment variable `TF_ENABLE_ONEDNN_OPTS=0`.\n",
      "2025-08-01 10:38:59.335938: E external/local_xla/xla/stream_executor/cuda/cuda_dnn.cc:9261] Unable to register cuDNN factory: Attempting to register factory for plugin cuDNN when one has already been registered\n",
      "2025-08-01 10:38:59.336029: E external/local_xla/xla/stream_executor/cuda/cuda_fft.cc:607] Unable to register cuFFT factory: Attempting to register factory for plugin cuFFT when one has already been registered\n",
      "2025-08-01 10:38:59.360533: E external/local_xla/xla/stream_executor/cuda/cuda_blas.cc:1515] Unable to register cuBLAS factory: Attempting to register factory for plugin cuBLAS when one has already been registered\n",
      "2025-08-01 10:38:59.411921: I tensorflow/core/platform/cpu_feature_guard.cc:182] This TensorFlow binary is optimized to use available CPU instructions in performance-critical operations.\n",
      "To enable the following instructions: AVX2 AVX512F AVX512_VNNI AVX512_BF16 FMA, in other operations, rebuild TensorFlow with the appropriate compiler flags.\n",
      "2025-08-01 10:38:59.931010: W tensorflow/compiler/tf2tensorrt/utils/py_utils.cc:38] TF-TRT Warning: Could not find TensorRT\n",
      "/home/liam/anaconda3/envs/lam/lib/python3.10/site-packages/tensorflow/python/keras/engine/training_arrays_v1.py:37: UserWarning: A NumPy version >=1.23.5 and <2.5.0 is required for this version of SciPy (detected version 1.23.0)\n",
      "  from scipy.sparse import issparse  # pylint: disable=g-import-not-at-top\n"
     ]
    }
   ],
   "source": [
    "import tensorflow as tf\n",
    "import numpy as np\n",
    "import matplotlib.pyplot as plt\n",
    "\n",
    "from tensorflow.keras.applications import VGG16, ResNet50\n",
    "from tensorflow.keras.applications.vgg16 import preprocess_input as preprocess_vgg\n",
    "from tensorflow.keras.applications.resnet50 import preprocess_input as preprocess_resnet\n",
    "from tensorflow.keras.layers import Add\n"
   ]
  },
  {
   "cell_type": "code",
   "execution_count": 2,
   "id": "d02dc815",
   "metadata": {},
   "outputs": [],
   "source": [
    "MODEL_NAME = 'vgg16'  # 'vgg16' or 'resnet50'\n",
    "INPUT_SHAPE = (224, 224, 3)\n",
    "NUM_SAMPLES = 100\n",
    "TARGET_POSITION = (14, 14)  # (h, w) center of last feature map\n",
    "SEED = 42\n",
    "np.random.seed(SEED)\n",
    "tf.random.set_seed(SEED)"
   ]
  },
  {
   "cell_type": "code",
   "execution_count": 3,
   "id": "2e03cb0d",
   "metadata": {},
   "outputs": [
    {
     "name": "stderr",
     "output_type": "stream",
     "text": [
      "2025-08-01 10:39:00.998177: I external/local_xla/xla/stream_executor/cuda/cuda_executor.cc:901] successful NUMA node read from SysFS had negative value (-1), but there must be at least one NUMA node, so returning NUMA node zero. See more at https://github.com/torvalds/linux/blob/v6.0/Documentation/ABI/testing/sysfs-bus-pci#L344-L355\n",
      "2025-08-01 10:39:01.166841: I external/local_xla/xla/stream_executor/cuda/cuda_executor.cc:901] successful NUMA node read from SysFS had negative value (-1), but there must be at least one NUMA node, so returning NUMA node zero. See more at https://github.com/torvalds/linux/blob/v6.0/Documentation/ABI/testing/sysfs-bus-pci#L344-L355\n",
      "2025-08-01 10:39:01.168340: I external/local_xla/xla/stream_executor/cuda/cuda_executor.cc:901] successful NUMA node read from SysFS had negative value (-1), but there must be at least one NUMA node, so returning NUMA node zero. See more at https://github.com/torvalds/linux/blob/v6.0/Documentation/ABI/testing/sysfs-bus-pci#L344-L355\n",
      "2025-08-01 10:39:01.169510: W tensorflow/core/common_runtime/gpu/gpu_device.cc:2348] TensorFlow was not built with CUDA kernel binaries compatible with compute capability 12.0. CUDA kernels will be jit-compiled from PTX, which could take 30 minutes or longer.\n",
      "2025-08-01 10:39:01.170253: I external/local_xla/xla/stream_executor/cuda/cuda_executor.cc:901] successful NUMA node read from SysFS had negative value (-1), but there must be at least one NUMA node, so returning NUMA node zero. See more at https://github.com/torvalds/linux/blob/v6.0/Documentation/ABI/testing/sysfs-bus-pci#L344-L355\n",
      "2025-08-01 10:39:01.171439: I external/local_xla/xla/stream_executor/cuda/cuda_executor.cc:901] successful NUMA node read from SysFS had negative value (-1), but there must be at least one NUMA node, so returning NUMA node zero. See more at https://github.com/torvalds/linux/blob/v6.0/Documentation/ABI/testing/sysfs-bus-pci#L344-L355\n",
      "2025-08-01 10:39:01.172653: I external/local_xla/xla/stream_executor/cuda/cuda_executor.cc:901] successful NUMA node read from SysFS had negative value (-1), but there must be at least one NUMA node, so returning NUMA node zero. See more at https://github.com/torvalds/linux/blob/v6.0/Documentation/ABI/testing/sysfs-bus-pci#L344-L355\n",
      "2025-08-01 10:39:01.173867: W tensorflow/core/common_runtime/gpu/gpu_device.cc:2348] TensorFlow was not built with CUDA kernel binaries compatible with compute capability 12.0. CUDA kernels will be jit-compiled from PTX, which could take 30 minutes or longer.\n",
      "2025-08-01 10:39:01.283117: I external/local_xla/xla/stream_executor/cuda/cuda_executor.cc:901] successful NUMA node read from SysFS had negative value (-1), but there must be at least one NUMA node, so returning NUMA node zero. See more at https://github.com/torvalds/linux/blob/v6.0/Documentation/ABI/testing/sysfs-bus-pci#L344-L355\n",
      "2025-08-01 10:39:01.284094: I external/local_xla/xla/stream_executor/cuda/cuda_executor.cc:901] successful NUMA node read from SysFS had negative value (-1), but there must be at least one NUMA node, so returning NUMA node zero. See more at https://github.com/torvalds/linux/blob/v6.0/Documentation/ABI/testing/sysfs-bus-pci#L344-L355\n",
      "2025-08-01 10:39:01.285849: I external/local_xla/xla/stream_executor/cuda/cuda_executor.cc:901] successful NUMA node read from SysFS had negative value (-1), but there must be at least one NUMA node, so returning NUMA node zero. See more at https://github.com/torvalds/linux/blob/v6.0/Documentation/ABI/testing/sysfs-bus-pci#L344-L355\n",
      "2025-08-01 10:39:01.286642: I tensorflow/core/common_runtime/gpu/gpu_device.cc:1929] Created device /job:localhost/replica:0/task:0/device:GPU:0 with 9214 MB memory:  -> device: 0, name: NVIDIA GeForce RTX 5070, pci bus id: 0000:01:00.0, compute capability: 12.0\n"
     ]
    }
   ],
   "source": [
    "def get_model_and_layer(model_name):\n",
    "    if model_name == 'vgg16':\n",
    "        model = VGG16(weights='imagenet', include_top=False, input_shape=INPUT_SHAPE)\n",
    "        target_layer = model.get_layer('block5_conv3')\n",
    "        preprocess = preprocess_vgg\n",
    "    elif model_name == 'resnet50':\n",
    "        model = ResNet50(weights='imagenet', include_top=False, input_shape=INPUT_SHAPE)\n",
    "        target_layer = model.get_layer('conv5_block3_out')\n",
    "        preprocess = preprocess_resnet\n",
    "    else:\n",
    "        raise ValueError(\"Unsupported model\")\n",
    "\n",
    "    # Create a model that outputs the target layer\n",
    "    submodel = tf.keras.Model(inputs=model.input, outputs=target_layer.output)\n",
    "    return submodel, preprocess\n",
    "\n",
    "\n",
    "\n",
    "def remove_maxpool_layers(model):\n",
    "    \"\"\"\n",
    "    Takes a trained TF/Keras model and returns a new model with all MaxPooling layers removed.\n",
    "    Preserves Conv2D weights (3x3).\n",
    "    \"\"\"\n",
    "    # Create a new Sequential model\n",
    "    new_model = tf.keras.Sequential()\n",
    "    \n",
    "    for layer in model.layers:\n",
    "        # Skip MaxPooling layers\n",
    "        if 'MaxPooling' in layer.__class__.__name__:\n",
    "            continue\n",
    "        \n",
    "        # If Conv2D, copy the layer with weights\n",
    "        if isinstance(layer, tf.keras.layers.Conv2D):\n",
    "            # Create a new Conv2D layer with same config\n",
    "            config = layer.get_config()\n",
    "            new_layer = tf.keras.layers.Conv2D(\n",
    "                filters=config['filters'],\n",
    "                kernel_size=config['kernel_size'],\n",
    "                strides=config['strides'],\n",
    "                padding=config['padding'],\n",
    "                activation=config['activation'],\n",
    "                use_bias=config['use_bias'],\n",
    "                kernel_initializer=tf.keras.initializers.Constant(layer.get_weights()[0]),\n",
    "                bias_initializer=tf.keras.initializers.Constant(layer.get_weights()[1]) if layer.use_bias else None\n",
    "            )\n",
    "            new_model.add(new_layer)\n",
    "        \n",
    "        else:\n",
    "            # Add any other non-pooling layers (ReLU, BatchNorm, Flatten, Dense, etc.)\n",
    "            new_model.add(layer.__class__.from_config(layer.get_config()))\n",
    "            # Set weights if layer has any\n",
    "            if layer.get_weights():\n",
    "                new_model.layers[-1].set_weights(layer.get_weights())\n",
    "    \n",
    "    return new_model\n",
    "\n",
    "model, preprocess_fn = get_model_and_layer(MODEL_NAME)\n",
    "\n",
    "model = remove_maxpool_layers(model)"
   ]
  },
  {
   "cell_type": "code",
   "execution_count": 4,
   "id": "62a076b6",
   "metadata": {},
   "outputs": [
    {
     "name": "stdout",
     "output_type": "stream",
     "text": [
      "Model: \"sequential\"\n",
      "_________________________________________________________________\n",
      " Layer (type)                Output Shape              Param #   \n",
      "=================================================================\n",
      " conv2d (Conv2D)             (None, 224, 224, 64)      1792      \n",
      "                                                                 \n",
      " conv2d_1 (Conv2D)           (None, 224, 224, 64)      36928     \n",
      "                                                                 \n",
      " conv2d_2 (Conv2D)           (None, 224, 224, 128)     73856     \n",
      "                                                                 \n",
      " conv2d_3 (Conv2D)           (None, 224, 224, 128)     147584    \n",
      "                                                                 \n",
      " conv2d_4 (Conv2D)           (None, 224, 224, 256)     295168    \n",
      "                                                                 \n",
      " conv2d_5 (Conv2D)           (None, 224, 224, 256)     590080    \n",
      "                                                                 \n",
      " conv2d_6 (Conv2D)           (None, 224, 224, 256)     590080    \n",
      "                                                                 \n",
      " conv2d_7 (Conv2D)           (None, 224, 224, 512)     1180160   \n",
      "                                                                 \n",
      " conv2d_8 (Conv2D)           (None, 224, 224, 512)     2359808   \n",
      "                                                                 \n",
      " conv2d_9 (Conv2D)           (None, 224, 224, 512)     2359808   \n",
      "                                                                 \n",
      " conv2d_10 (Conv2D)          (None, 224, 224, 512)     2359808   \n",
      "                                                                 \n",
      " conv2d_11 (Conv2D)          (None, 224, 224, 512)     2359808   \n",
      "                                                                 \n",
      " conv2d_12 (Conv2D)          (None, 224, 224, 512)     2359808   \n",
      "                                                                 \n",
      "=================================================================\n",
      "Total params: 14714688 (56.13 MB)\n",
      "Trainable params: 14714688 (56.13 MB)\n",
      "Non-trainable params: 0 (0.00 Byte)\n",
      "_________________________________________________________________\n"
     ]
    }
   ],
   "source": [
    "model.summary()"
   ]
  },
  {
   "cell_type": "code",
   "execution_count": 5,
   "id": "e6d77564",
   "metadata": {},
   "outputs": [
    {
     "data": {
      "text/plain": [
       "TensorShape([224, 224])"
      ]
     },
     "execution_count": 5,
     "metadata": {},
     "output_type": "execute_result"
    }
   ],
   "source": [
    "model.output.shape[1:3]"
   ]
  },
  {
   "cell_type": "code",
   "execution_count": 6,
   "id": "1cbcede5",
   "metadata": {},
   "outputs": [
    {
     "name": "stderr",
     "output_type": "stream",
     "text": [
      "2025-08-01 10:39:02.314346: I external/local_xla/xla/stream_executor/cuda/cuda_dnn.cc:454] Loaded cuDNN version 8907\n",
      "2025-08-01 10:39:02.372029: E external/local_xla/xla/stream_executor/gpu/asm_compiler.cc:115] *** WARNING *** You are using ptxas 10.1.243, which is older than 11.1. ptxas before 11.1 is known to miscompile XLA code, leading to incorrect results or invalid-address errors.\n",
      "\n",
      "2025-08-01 10:39:02.373519: W external/local_xla/xla/stream_executor/gpu/asm_compiler.cc:225] Falling back to the CUDA driver for PTX compilation; ptxas does not support CC 12.0\n",
      "2025-08-01 10:39:02.373527: W external/local_xla/xla/stream_executor/gpu/asm_compiler.cc:228] Used ptxas at ptxas\n",
      "2025-08-01 10:39:02.373563: W external/local_xla/xla/stream_executor/gpu/redzone_allocator.cc:322] UNIMPLEMENTED: ptxas ptxas too old. Falling back to the driver to compile.\n",
      "Relying on driver to perform ptx compilation. \n",
      "Modify $PATH to customize ptxas location.\n",
      "This message will be only logged once.\n",
      "2025-08-01 10:39:02.606030: E external/local_xla/xla/stream_executor/gpu/asm_compiler.cc:115] *** WARNING *** You are using ptxas 10.1.243, which is older than 11.1. ptxas before 11.1 is known to miscompile XLA code, leading to incorrect results or invalid-address errors.\n",
      "\n",
      "2025-08-01 10:39:02.607665: W tensorflow/compiler/mlir/tools/kernel_gen/transforms/gpu_kernel_to_blob_pass.cc:191] Failed to compile generated PTX with ptxas. Falling back to compilation by driver.\n"
     ]
    },
    {
     "name": "stdout",
     "output_type": "stream",
     "text": [
      "Feature maps shape: (1, 224, 224, 512)\n"
     ]
    },
    {
     "name": "stderr",
     "output_type": "stream",
     "text": [
      "2025-08-01 10:39:25.572999: E external/local_xla/xla/stream_executor/gpu/asm_compiler.cc:115] *** WARNING *** You are using ptxas 10.1.243, which is older than 11.1. ptxas before 11.1 is known to miscompile XLA code, leading to incorrect results or invalid-address errors.\n",
      "\n",
      "2025-08-01 10:39:25.574791: W tensorflow/compiler/mlir/tools/kernel_gen/transforms/gpu_kernel_to_blob_pass.cc:191] Failed to compile generated PTX with ptxas. Falling back to compilation by driver.\n"
     ]
    },
    {
     "name": "stdout",
     "output_type": "stream",
     "text": [
      "Feature maps shape: (1, 224, 224, 512)\n",
      "Feature maps shape: (1, 224, 224, 512)\n",
      "Feature maps shape: (1, 224, 224, 512)\n",
      "Feature maps shape: (1, 224, 224, 512)\n",
      "Feature maps shape: (1, 224, 224, 512)\n",
      "Feature maps shape: (1, 224, 224, 512)\n",
      "Feature maps shape: (1, 224, 224, 512)\n",
      "Feature maps shape: (1, 224, 224, 512)\n",
      "Feature maps shape: (1, 224, 224, 512)\n",
      "Feature maps shape: (1, 224, 224, 512)\n",
      "Feature maps shape: (1, 224, 224, 512)\n",
      "Feature maps shape: (1, 224, 224, 512)\n",
      "Feature maps shape: (1, 224, 224, 512)\n",
      "Feature maps shape: (1, 224, 224, 512)\n",
      "Feature maps shape: (1, 224, 224, 512)\n",
      "Feature maps shape: (1, 224, 224, 512)\n",
      "Feature maps shape: (1, 224, 224, 512)\n",
      "Feature maps shape: (1, 224, 224, 512)\n",
      "Feature maps shape: (1, 224, 224, 512)\n",
      "Feature maps shape: (1, 224, 224, 512)\n",
      "Feature maps shape: (1, 224, 224, 512)\n",
      "Feature maps shape: (1, 224, 224, 512)\n",
      "Feature maps shape: (1, 224, 224, 512)\n",
      "Feature maps shape: (1, 224, 224, 512)\n",
      "Feature maps shape: (1, 224, 224, 512)\n",
      "Feature maps shape: (1, 224, 224, 512)\n",
      "Feature maps shape: (1, 224, 224, 512)\n",
      "Feature maps shape: (1, 224, 224, 512)\n",
      "Feature maps shape: (1, 224, 224, 512)\n",
      "Feature maps shape: (1, 224, 224, 512)\n",
      "Feature maps shape: (1, 224, 224, 512)\n",
      "Feature maps shape: (1, 224, 224, 512)\n",
      "Feature maps shape: (1, 224, 224, 512)\n",
      "Feature maps shape: (1, 224, 224, 512)\n",
      "Feature maps shape: (1, 224, 224, 512)\n",
      "Feature maps shape: (1, 224, 224, 512)\n",
      "Feature maps shape: (1, 224, 224, 512)\n",
      "Feature maps shape: (1, 224, 224, 512)\n",
      "Feature maps shape: (1, 224, 224, 512)\n",
      "Feature maps shape: (1, 224, 224, 512)\n",
      "Feature maps shape: (1, 224, 224, 512)\n",
      "Feature maps shape: (1, 224, 224, 512)\n",
      "Feature maps shape: (1, 224, 224, 512)\n",
      "Feature maps shape: (1, 224, 224, 512)\n",
      "Feature maps shape: (1, 224, 224, 512)\n",
      "Feature maps shape: (1, 224, 224, 512)\n",
      "Feature maps shape: (1, 224, 224, 512)\n",
      "Feature maps shape: (1, 224, 224, 512)\n",
      "Feature maps shape: (1, 224, 224, 512)\n",
      "Feature maps shape: (1, 224, 224, 512)\n",
      "Feature maps shape: (1, 224, 224, 512)\n",
      "Feature maps shape: (1, 224, 224, 512)\n",
      "Feature maps shape: (1, 224, 224, 512)\n",
      "Feature maps shape: (1, 224, 224, 512)\n",
      "Feature maps shape: (1, 224, 224, 512)\n",
      "Feature maps shape: (1, 224, 224, 512)\n",
      "Feature maps shape: (1, 224, 224, 512)\n",
      "Feature maps shape: (1, 224, 224, 512)\n"
     ]
    },
    {
     "ename": "KeyboardInterrupt",
     "evalue": "",
     "output_type": "error",
     "traceback": [
      "\u001b[0;31m---------------------------------------------------------------------------\u001b[0m",
      "\u001b[0;31mKeyboardInterrupt\u001b[0m                         Traceback (most recent call last)",
      "Cell \u001b[0;32mIn[6], line 25\u001b[0m\n\u001b[1;32m     22\u001b[0m \t\u001b[38;5;66;03m#erf = tf.nn.relu(erf)\u001b[39;00m\n\u001b[1;32m     23\u001b[0m \t\u001b[38;5;28;01mreturn\u001b[39;00m erf\n\u001b[0;32m---> 25\u001b[0m erf_map \u001b[38;5;241m=\u001b[39m \u001b[43mcompute_erf\u001b[49m\u001b[43m(\u001b[49m\u001b[43mmodel\u001b[49m\u001b[43m,\u001b[49m\u001b[43m \u001b[49m\u001b[43mpreprocess_fn\u001b[49m\u001b[43m,\u001b[49m\u001b[43m \u001b[49m\u001b[43mNUM_SAMPLES\u001b[49m\u001b[43m,\u001b[49m\u001b[43m \u001b[49m\u001b[43mnp\u001b[49m\u001b[38;5;241;43m.\u001b[39;49m\u001b[43marray\u001b[49m\u001b[43m(\u001b[49m\u001b[43mmodel\u001b[49m\u001b[38;5;241;43m.\u001b[39;49m\u001b[43moutput\u001b[49m\u001b[38;5;241;43m.\u001b[39;49m\u001b[43mshape\u001b[49m\u001b[43m[\u001b[49m\u001b[38;5;241;43m1\u001b[39;49m\u001b[43m:\u001b[49m\u001b[38;5;241;43m3\u001b[39;49m\u001b[43m]\u001b[49m\u001b[38;5;241;43m.\u001b[39;49m\u001b[43mas_list\u001b[49m\u001b[43m(\u001b[49m\u001b[43m)\u001b[49m\u001b[43m)\u001b[49m\u001b[38;5;241;43m/\u001b[39;49m\u001b[38;5;241;43m/\u001b[39;49m\u001b[38;5;241;43m2\u001b[39;49m\u001b[43m)\u001b[49m\n",
      "Cell \u001b[0;32mIn[6], line 19\u001b[0m, in \u001b[0;36mcompute_erf\u001b[0;34m(model, preprocess_fn, num_samples, target_pos)\u001b[0m\n\u001b[1;32m     17\u001b[0m \tgrads \u001b[38;5;241m=\u001b[39m tape\u001b[38;5;241m.\u001b[39mgradient(y, img_pp)[\u001b[38;5;241m0\u001b[39m]\n\u001b[1;32m     18\u001b[0m \tsquared_grad \u001b[38;5;241m=\u001b[39m tf\u001b[38;5;241m.\u001b[39msquare(grads)\n\u001b[0;32m---> 19\u001b[0m \tgrads_accum \u001b[38;5;241m+\u001b[39m\u001b[38;5;241m=\u001b[39m \u001b[43mtf\u001b[49m\u001b[38;5;241;43m.\u001b[39;49m\u001b[43mreduce_sum\u001b[49m\u001b[43m(\u001b[49m\u001b[43msquared_grad\u001b[49m\u001b[43m,\u001b[49m\u001b[43m \u001b[49m\u001b[43maxis\u001b[49m\u001b[38;5;241;43m=\u001b[39;49m\u001b[38;5;241;43m-\u001b[39;49m\u001b[38;5;241;43m1\u001b[39;49m\u001b[43m)\u001b[49m\u001b[38;5;241;43m.\u001b[39;49m\u001b[43mnumpy\u001b[49m\u001b[43m(\u001b[49m\u001b[43m)\u001b[49m\n\u001b[1;32m     21\u001b[0m erf \u001b[38;5;241m=\u001b[39m grads_accum \u001b[38;5;241m/\u001b[39m num_samples\n\u001b[1;32m     22\u001b[0m \u001b[38;5;66;03m#erf = tf.nn.relu(erf)\u001b[39;00m\n",
      "File \u001b[0;32m~/anaconda3/envs/lam/lib/python3.10/site-packages/tensorflow/python/framework/ops.py:394\u001b[0m, in \u001b[0;36m_EagerTensorBase.numpy\u001b[0;34m(self)\u001b[0m\n\u001b[1;32m    371\u001b[0m \u001b[38;5;250m\u001b[39m\u001b[38;5;124;03m\"\"\"Copy of the contents of this Tensor into a NumPy array or scalar.\u001b[39;00m\n\u001b[1;32m    372\u001b[0m \n\u001b[1;32m    373\u001b[0m \u001b[38;5;124;03mUnlike NumPy arrays, Tensors are immutable, so this method has to copy\u001b[39;00m\n\u001b[0;32m   (...)\u001b[0m\n\u001b[1;32m    391\u001b[0m \u001b[38;5;124;03m    NumPy dtype.\u001b[39;00m\n\u001b[1;32m    392\u001b[0m \u001b[38;5;124;03m\"\"\"\u001b[39;00m\n\u001b[1;32m    393\u001b[0m \u001b[38;5;66;03m# TODO(slebedev): Consider avoiding a copy for non-CPU or remote tensors.\u001b[39;00m\n\u001b[0;32m--> 394\u001b[0m maybe_arr \u001b[38;5;241m=\u001b[39m \u001b[38;5;28;43mself\u001b[39;49m\u001b[38;5;241;43m.\u001b[39;49m\u001b[43m_numpy\u001b[49m\u001b[43m(\u001b[49m\u001b[43m)\u001b[49m  \u001b[38;5;66;03m# pylint: disable=protected-access\u001b[39;00m\n\u001b[1;32m    395\u001b[0m \u001b[38;5;28;01mreturn\u001b[39;00m maybe_arr\u001b[38;5;241m.\u001b[39mcopy() \u001b[38;5;28;01mif\u001b[39;00m \u001b[38;5;28misinstance\u001b[39m(maybe_arr, np\u001b[38;5;241m.\u001b[39mndarray) \u001b[38;5;28;01melse\u001b[39;00m maybe_arr\n",
      "File \u001b[0;32m~/anaconda3/envs/lam/lib/python3.10/site-packages/tensorflow/python/framework/ops.py:360\u001b[0m, in \u001b[0;36m_EagerTensorBase._numpy\u001b[0;34m(self)\u001b[0m\n\u001b[1;32m    358\u001b[0m \u001b[38;5;28;01mdef\u001b[39;00m\u001b[38;5;250m \u001b[39m\u001b[38;5;21m_numpy\u001b[39m(\u001b[38;5;28mself\u001b[39m):\n\u001b[1;32m    359\u001b[0m   \u001b[38;5;28;01mtry\u001b[39;00m:\n\u001b[0;32m--> 360\u001b[0m     \u001b[38;5;28;01mreturn\u001b[39;00m \u001b[38;5;28;43mself\u001b[39;49m\u001b[38;5;241;43m.\u001b[39;49m\u001b[43m_numpy_internal\u001b[49m\u001b[43m(\u001b[49m\u001b[43m)\u001b[49m\n\u001b[1;32m    361\u001b[0m   \u001b[38;5;28;01mexcept\u001b[39;00m core\u001b[38;5;241m.\u001b[39m_NotOkStatusException \u001b[38;5;28;01mas\u001b[39;00m e:  \u001b[38;5;66;03m# pylint: disable=protected-access\u001b[39;00m\n\u001b[1;32m    362\u001b[0m     \u001b[38;5;28;01mraise\u001b[39;00m core\u001b[38;5;241m.\u001b[39m_status_to_exception(e) \u001b[38;5;28;01mfrom\u001b[39;00m\u001b[38;5;250m \u001b[39m\u001b[38;5;28;01mNone\u001b[39;00m\n",
      "\u001b[0;31mKeyboardInterrupt\u001b[0m: "
     ]
    }
   ],
   "source": [
    "def compute_erf(model, preprocess_fn, num_samples=10, target_pos=(14,14)):\n",
    "\tgrads_accum = np.zeros(INPUT_SHAPE[:2], dtype=np.float32)\n",
    "\n",
    "\tfor i in range(num_samples):\n",
    "\t\timg = np.random.uniform(low=0, high=255, size=(1, *INPUT_SHAPE)).astype(np.int32)\n",
    "\t\timg_pp = preprocess_fn(img.copy())\n",
    "\t\timg_pp = tf.convert_to_tensor(img_pp)\n",
    "\t\twith tf.GradientTape() as tape:\n",
    "\t\t\ttape.watch(img_pp)\n",
    "\t\t\tfeature_maps = model(img_pp, training=False)\n",
    "\t\t\tprint(f\"Feature maps shape: {feature_maps.shape}\")\n",
    "\t\t\ty = feature_maps[0, target_pos[0],  target_pos[1], 12]\n",
    "\n",
    "\t\t\t#scalar = tf.reduce_sum(y)\n",
    "\t\t\t#print(scalar)\n",
    "\n",
    "\t\tgrads = tape.gradient(y, img_pp)[0]\n",
    "\t\tsquared_grad = tf.square(grads)\n",
    "\t\tgrads_accum += tf.reduce_sum(squared_grad, axis=-1).numpy()\n",
    "\n",
    "\terf = grads_accum / num_samples\n",
    "\t#erf = tf.nn.relu(erf)\n",
    "\treturn erf\n",
    "\n",
    "erf_map = compute_erf(model, preprocess_fn, NUM_SAMPLES, np.array(model.output.shape[1:3].as_list())//2)\n"
   ]
  },
  {
   "cell_type": "code",
   "execution_count": null,
   "id": "e9922edc",
   "metadata": {},
   "outputs": [
    {
     "data": {
      "image/png": "[encoded data removed]",
      "text/plain": [
       "<Figure size 600x600 with 2 Axes>"
      ]
     },
     "metadata": {},
     "output_type": "display_data"
    }
   ],
   "source": [
    "plt.figure(figsize=(6, 6))\n",
    "plt.imshow(erf_map, cmap='hot')\n",
    "\n",
    "S = 10\n",
    "x_min, x_max = INPUT_SHAPE[0]//2 - S , INPUT_SHAPE[1]//2 + S\n",
    "y_min, y_max =INPUT_SHAPE[0]//2 - S , INPUT_SHAPE[1]//2 + S\n",
    "\n",
    "plt.xlim(x_min, x_max)\n",
    "plt.ylim(y_min, y_max)\n",
    "\n",
    "plt.colorbar()\n",
    "plt.title(f'Effective Receptive Field ({MODEL_NAME.upper()})')\n",
    "plt.show()"
   ]
  },
  {
   "cell_type": "code",
   "execution_count": null,
   "id": "4947df96",
   "metadata": {},
   "outputs": [],
   "source": []
  }
 ],
 "metadata": {
  "kernelspec": {
   "display_name": "lam",
   "language": "python",
   "name": "python3"
  },
  "language_info": {
   "codemirror_mode": {
    "name": "ipython",
    "version": 3
   },
   "file_extension": ".py",
   "mimetype": "text/x-python",
   "name": "python",
   "nbconvert_exporter": "python",
   "pygments_lexer": "ipython3",
   "version": "3.10.16"
  }
 },
 "nbformat": 4,
 "nbformat_minor": 5
}
