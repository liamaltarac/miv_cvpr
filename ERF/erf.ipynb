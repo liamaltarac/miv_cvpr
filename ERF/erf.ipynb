{
 "cells": [
  {
   "cell_type": "code",
   "execution_count": 201,
   "id": "fd2331a1",
   "metadata": {},
   "outputs": [],
   "source": [
    "import tensorflow as tf\n",
    "import numpy as np\n",
    "import matplotlib.pyplot as plt\n",
    "\n",
    "from tensorflow.keras.applications import VGG16, ResNet50\n",
    "from tensorflow.keras.applications.vgg16 import preprocess_input as preprocess_vgg\n",
    "from tensorflow.keras.applications.resnet50 import preprocess_input as preprocess_resnet\n",
    "from tensorflow.keras.layers import Add\n"
   ]
  },
  {
   "cell_type": "code",
   "execution_count": 202,
   "id": "d02dc815",
   "metadata": {},
   "outputs": [],
   "source": [
    "MODEL_NAME = 'vgg16'  # 'vgg16' or 'resnet50'\n",
    "INPUT_SHAPE = (224, 224, 3)\n",
    "NUM_SAMPLES = 100\n",
    "TARGET_POSITION = (14, 14)  # (h, w) center of last feature map\n",
    "SEED = 42\n",
    "np.random.seed(SEED)\n",
    "tf.random.set_seed(SEED)"
   ]
  },
  {
   "cell_type": "code",
   "execution_count": 203,
   "id": "2e03cb0d",
   "metadata": {},
   "outputs": [
    {
     "name": "stdout",
     "output_type": "stream",
     "text": [
      "(None, 28, 28, 512)\n"
     ]
    }
   ],
   "source": [
    "class NoResidualAdd(Add):\n",
    "\tdef call(self, inputs, **kwargs):\n",
    "\t\t# Return only the convolutional path, ignore the shortcut\n",
    "\t\treturn inputs[1]\n",
    "\n",
    "# Replace all Add layers with NoResidualAdd\n",
    "def strip_residuals(model):\n",
    "\tfor i, layer in enumerate(model.layers):\n",
    "\t\tif isinstance(layer, Add):\n",
    "\t\t\tconfig = layer.get_config()\n",
    "\t\t\tname = config[\"name\"]\n",
    "\t\t\tnew_layer = NoResidualAdd(name=name)\n",
    "\t\t\tmodel.layers[i] = new_layer\n",
    "\treturn model\n",
    "\n",
    "\n",
    "def get_model_and_layer(model_name):\n",
    "\tif model_name == 'vgg16':\n",
    "\t\tmodel = VGG16(weights=None, include_top=False, input_shape=INPUT_SHAPE)\n",
    "\t\ttarget_layer = model.get_layer('block4_conv1')\n",
    "\t\tprint(target_layer.output_shape)\n",
    "\t\tTARGET_POSITION = (target_layer.output_shape[1]//2, target_layer.output_shape[2]//2)\n",
    "\t\tpreprocess = preprocess_vgg\n",
    "\telif model_name == 'resnet50':\n",
    "\t\tmodel = ResNet50(weights='imagenet', include_top=False, input_shape=INPUT_SHAPE)\n",
    "\t\tmodel = strip_residuals(model)\n",
    "\t\tfor layer in model.layers:\n",
    "\t\t\tif isinstance(layer, Add):\n",
    "\t\t\t\tprint(\"Still contains residual connections.\")\n",
    "\t\ttarget_layer = model.get_layer('conv5_block3_3_conv')\n",
    "\t\tTARGET_POSITION = (target_layer.output_shape[1]//2, target_layer.output_shape[2]//2)\n",
    "\t\tpreprocess = preprocess_resnet\n",
    "\telse:\n",
    "\t\traise ValueError(\"Unsupported model\")\n",
    "\n",
    "\t# Create a model that outputs the target layer\n",
    "\tsubmodel = tf.keras.Model(inputs=model.input, outputs=target_layer.output)\n",
    "\treturn submodel, preprocess, TARGET_POSITION\n",
    "\n",
    "model, preprocess_fn, TARGET_POSITION = get_model_and_layer(MODEL_NAME)"
   ]
  },
  {
   "cell_type": "code",
   "execution_count": 204,
   "id": "62a076b6",
   "metadata": {},
   "outputs": [
    {
     "name": "stdout",
     "output_type": "stream",
     "text": [
      "Model: \"model_21\"\n",
      "_________________________________________________________________\n",
      " Layer (type)                Output Shape              Param #   \n",
      "=================================================================\n",
      " input_26 (InputLayer)       [(None, 224, 224, 3)]     0         \n",
      "                                                                 \n",
      " block1_conv1 (Conv2D)       (None, 224, 224, 64)      1792      \n",
      "                                                                 \n",
      " block1_conv2 (Conv2D)       (None, 224, 224, 64)      36928     \n",
      "                                                                 \n",
      " block1_pool (MaxPooling2D)  (None, 112, 112, 64)      0         \n",
      "                                                                 \n",
      " block2_conv1 (Conv2D)       (None, 112, 112, 128)     73856     \n",
      "                                                                 \n",
      " block2_conv2 (Conv2D)       (None, 112, 112, 128)     147584    \n",
      "                                                                 \n",
      " block2_pool (MaxPooling2D)  (None, 56, 56, 128)       0         \n",
      "                                                                 \n",
      " block3_conv1 (Conv2D)       (None, 56, 56, 256)       295168    \n",
      "                                                                 \n",
      " block3_conv2 (Conv2D)       (None, 56, 56, 256)       590080    \n",
      "                                                                 \n",
      " block3_conv3 (Conv2D)       (None, 56, 56, 256)       590080    \n",
      "                                                                 \n",
      " block3_pool (MaxPooling2D)  (None, 28, 28, 256)       0         \n",
      "                                                                 \n",
      " block4_conv1 (Conv2D)       (None, 28, 28, 512)       1180160   \n",
      "                                                                 \n",
      "=================================================================\n",
      "Total params: 2,915,648\n",
      "Trainable params: 2,915,648\n",
      "Non-trainable params: 0\n",
      "_________________________________________________________________\n"
     ]
    }
   ],
   "source": [
    "model.summary()"
   ]
  },
  {
   "cell_type": "code",
   "execution_count": 209,
   "id": "1cbcede5",
   "metadata": {},
   "outputs": [],
   "source": [
    "def compute_erf(model, preprocess_fn, num_samples=10, target_pos=(14,14)):\n",
    "\tgrads_accum = np.zeros(INPUT_SHAPE[:2], dtype=np.float32)\n",
    "\n",
    "\tfor i in range(num_samples):\n",
    "\t\timg = np.random.uniform(low=0, high=255, size=(1, *INPUT_SHAPE)).astype(np.int32)\n",
    "\t\timg_pp = preprocess_fn(img.copy())\n",
    "\t\timg_pp = tf.convert_to_tensor(img_pp)\n",
    "\t\twith tf.GradientTape() as tape:\n",
    "\t\t\ttape.watch(img_pp)\n",
    "\t\t\tfeature_maps = model(img_pp, training=False)\n",
    "\t\t\ty = feature_maps[0, target_pos[0],  target_pos[1], 475]\n",
    "\n",
    "\t\t\t#scalar = tf.reduce_sum(y)\n",
    "\t\t\t#print(scalar)\n",
    "\n",
    "\t\tgrads = tape.gradient(y, img_pp)[0]\n",
    "\t\tsquared_grad = tf.square(grads)\n",
    "\t\tgrads_accum += tf.reduce_sum(squared_grad, axis=-1).numpy()\n",
    "\n",
    "\terf = grads_accum / num_samples\n",
    "\t#erf = tf.nn.relu(erf)\n",
    "\treturn erf\n",
    "\n",
    "erf_map = compute_erf(model, preprocess_fn, NUM_SAMPLES, TARGET_POSITION)\n"
   ]
  },
  {
   "cell_type": "code",
   "execution_count": 213,
   "id": "e9922edc",
   "metadata": {},
   "outputs": [
    {
     "data": {
      "image/png": "[encoded data removed]",
      "text/plain": [
       "<Figure size 600x600 with 2 Axes>"
      ]
     },
     "metadata": {},
     "output_type": "display_data"
    }
   ],
   "source": [
    "plt.figure(figsize=(6, 6))\n",
    "plt.imshow(erf_map, cmap='hot')\n",
    "\n",
    "S = 30\n",
    "x_min, x_max = INPUT_SHAPE[0]//2 - S , INPUT_SHAPE[1]//2 + S\n",
    "y_min, y_max =INPUT_SHAPE[0]//2 - S , INPUT_SHAPE[1]//2 + S\n",
    "\n",
    "plt.xlim(x_min, x_max)\n",
    "plt.ylim(y_min, y_max)\n",
    "\n",
    "plt.colorbar()\n",
    "plt.title(f'Effective Receptive Field ({MODEL_NAME.upper()})')\n",
    "plt.show()"
   ]
  },
  {
   "cell_type": "code",
   "execution_count": null,
   "id": "4947df96",
   "metadata": {},
   "outputs": [],
   "source": []
  }
 ],
 "metadata": {
  "kernelspec": {
   "display_name": "masters",
   "language": "python",
   "name": "python3"
  },
  "language_info": {
   "codemirror_mode": {
    "name": "ipython",
    "version": 3
   },
   "file_extension": ".py",
   "mimetype": "text/x-python",
   "name": "python",
   "nbconvert_exporter": "python",
   "pygments_lexer": "ipython3",
   "version": "3.7.16"
  }
 },
 "nbformat": 4,
 "nbformat_minor": 5
}
