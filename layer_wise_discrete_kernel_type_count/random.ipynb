{
 "cells": [
  {
   "cell_type": "code",
   "execution_count": 1,
   "metadata": {},
   "outputs": [
    {
     "name": "stderr",
     "output_type": "stream",
     "text": [
      "c:\\Users\\AN46710\\Anaconda3\\envs\\masters\\lib\\site-packages\\numpy\\_distributor_init.py:32: UserWarning: loaded more than 1 DLL from .libs:\n",
      "c:\\Users\\AN46710\\Anaconda3\\envs\\masters\\lib\\site-packages\\numpy\\.libs\\libopenblas.GK7GX5KEQ4F6UYO3P26ULGBQYHGQO7J4.gfortran-win_amd64.dll\n",
      "c:\\Users\\AN46710\\Anaconda3\\envs\\masters\\lib\\site-packages\\numpy\\.libs\\libopenblas.XWYDX2IKJW2NMTWSFYNGFUWKQU3LYTCZ.gfortran-win_amd64.dll\n",
      "  stacklevel=1)\n"
     ]
    }
   ],
   "source": [
    "import sys\n",
    "sys.path.append('../')\n",
    "\n",
    "import numpy as np\n",
    "from scipy import ndimage\n",
    "\n",
    "from skimage.filters import sobel_h\n",
    "from skimage.filters import sobel_v\n",
    "from scipy import stats\n",
    "\n",
    "\n",
    "import os\n",
    "import matplotlib\n",
    "import matplotlib.pyplot as plt\n",
    "import scienceplots\n",
    "from tensorflow.python.client import device_lib\n",
    "\n",
    "#plt.rcParams['figure.figsize'] = [10,10]\n",
    "\n",
    "import tensorflow as tf\n",
    "from tensorflow.keras.preprocessing import image\n",
    "from tensorflow.keras.applications.vgg16 import decode_predictions\n",
    "from tensorflow.keras.applications import VGG16\n",
    "\n",
    "from tensorflow.nn import depthwise_conv2d\n",
    "from tensorflow.math import multiply, reduce_sum, reduce_mean,reduce_euclidean_norm, sin, cos, abs\n",
    "from tensorflow import stack, concat, expand_dims\n",
    "\n",
    "import tensorflow_probability as tfp\n",
    "\n",
    "from utils.utils import *\n",
    "\n",
    "\n",
    "plt.style.use(['science', 'ieee'])\n",
    "plt.rcParams.update({'figure.dpi': '100'})"
   ]
  },
  {
   "cell_type": "markdown",
   "metadata": {},
   "source": [
    "#### Experiment #1 : $\\beta$ accross all layers (Top-10% filters)"
   ]
  },
  {
   "cell_type": "code",
   "execution_count": 2,
   "metadata": {},
   "outputs": [
    {
     "name": "stdout",
     "output_type": "stream",
     "text": [
      " ============ LAYER 10 ==================\n",
      "(512, 3, 3, 512) (512, 3, 3, 512) (512, 3, 3, 512)\n",
      "[0.3897438049316406] [0.0343780517578125] [0.5758781433105469]\n",
      "262144\n"
     ]
    }
   ],
   "source": [
    "\n",
    "mixed = []\n",
    "sym  =  []   #beta < .25\n",
    "anti =  []  #beta > .75\n",
    "\n",
    "model = VGG16(weights=None,\n",
    "                  include_top=False,\n",
    "                  input_shape=(224, 224, 3))\n",
    "conv_layers = []\n",
    "for l in model.layers:\n",
    "    if 'conv2d' in str(type(l)).lower():\n",
    "        conv_layers.append(l)\n",
    "        \n",
    "\n",
    "l_num = 10\n",
    "anti.append(0)\n",
    "sym.append(0)\n",
    "mixed.append(0)\n",
    "count = 0\n",
    "print(f\" ============ LAYER {l_num} ==================\")\n",
    "top10F=topKfilters(model, l_num, k=100)\n",
    "beta_f = []\n",
    "\n",
    "\n",
    "filters = get_filter(model, l_num)\n",
    "\n",
    "\n",
    "s, a = getSymAntiSymTF(filters)\n",
    "a_energy = reduce_euclidean_norm(a, axis=[0,1])**2\n",
    "s_energy = reduce_euclidean_norm(s, axis=[0,1])**2\n",
    "total_energy  = reduce_euclidean_norm(filters, axis=[0,1])**2\n",
    "beta = a_energy/total_energy\n",
    "\n",
    "\n",
    "beta = tf.reshape(beta, -1)\n",
    "count = beta.shape[-1]\n",
    "\n",
    "\n",
    "\n",
    "\n",
    "anti[-1] = beta[beta > 0.75].shape[-1]\n",
    "sym[-1] = beta[beta < 0.25].shape[-1]\n",
    "mixed[-1] = count - (anti[-1] + sym[-1] )\n",
    "\n",
    "anti[-1] = anti[-1]/count\n",
    "sym[-1] = sym[-1]/count\n",
    "mixed[-1] = mixed[-1]/count\n",
    "\n",
    "print(anti, sym, mixed)\n",
    "print(beta.shape[0])\n",
    "\n",
    "\n",
    "\n",
    "\n",
    "\n"
   ]
  },
  {
   "cell_type": "code",
   "execution_count": 3,
   "metadata": {},
   "outputs": [
    {
     "data": {
      "text/plain": [
       "array([ 0,  2,  3,  4,  5,  6,  7,  8,  9, 10, 11, 12, 13, 14])"
      ]
     },
     "execution_count": 3,
     "metadata": {},
     "output_type": "execute_result"
    }
   ],
   "source": [
    "(np.concatenate(([0], np.arange(2, len(conv_layers)+2, step=1))))"
   ]
  },
  {
   "cell_type": "code",
   "execution_count": 11,
   "metadata": {},
   "outputs": [
    {
     "data": {
      "image/png": "[encoded data removed]",
      "text/plain": [
       "<Figure size 75x250 with 1 Axes>"
      ]
     },
     "metadata": {},
     "output_type": "display_data"
    }
   ],
   "source": [
    "\n",
    "x = np.arange(1, 2, step=1)\n",
    "\n",
    "width = 0.2\n",
    "plt.rcParams['figure.figsize'] = (0.75, 2.5)\n",
    "\n",
    "plt.bar(x-0.2, sym[0], width , color='r') \n",
    "plt.bar(x, mixed[0], width, color='k') \n",
    "plt.bar(x+0.2, anti[0], width, color='b') \n",
    "\n",
    "plt.xticks(x, ['Rand.']) \n",
    "plt.ylabel(\"\\%\") \n",
    "\n",
    "plt.xlabel(\"Rand.\", color=(1,1,1,0)) \n",
    "x = x.tolist()\n",
    "\n",
    "    \n",
    "\n",
    "#plt.xticks(x)\n",
    "plt.yticks(np.arange(0, 1.1, step=0.1))\n",
    "#plt.title('R')\n",
    "\n",
    "#ticks = plt.gca().get_xticklabels()\n",
    "#ticks[0].set_rotation(-90)\n",
    "\n",
    "plt.minorticks_off()\n",
    "#plt.legend([r\"$\\beta\\leq0.25$ (sym)\",  r\"$0.25<\\beta<0.75$ (mix)\", r\"$\\beta\\geq0.75$ (anti)\",], loc = 'upper right',  bbox_to_anchor=(.9,.95) )\n",
    "\n",
    "\n",
    "plt.savefig('figures/Random_kernel_type.pdf', dpi=600)\n",
    "\n",
    "plt.show() "
   ]
  },
  {
   "cell_type": "code",
   "execution_count": 5,
   "metadata": {},
   "outputs": [
    {
     "ename": "NameError",
     "evalue": "name 'xlabel' is not defined",
     "output_type": "error",
     "traceback": [
      "\u001b[1;31m---------------------------------------------------------------------------\u001b[0m",
      "\u001b[1;31mNameError\u001b[0m                                 Traceback (most recent call last)",
      "\u001b[1;32m~\\AppData\\Local\\Temp\\ipykernel_9944\\661510886.py\u001b[0m in \u001b[0;36m<module>\u001b[1;34m\u001b[0m\n\u001b[1;32m----> 1\u001b[1;33m \u001b[0mxlabel\u001b[0m\u001b[1;33m.\u001b[0m\u001b[0mget_size\u001b[0m\u001b[1;33m\u001b[0m\u001b[1;33m\u001b[0m\u001b[0m\n\u001b[0m",
      "\u001b[1;31mNameError\u001b[0m: name 'xlabel' is not defined"
     ]
    }
   ],
   "source": [
    "xlabel.get_size\n"
   ]
  }
 ],
 "metadata": {
  "kernelspec": {
   "display_name": "masters",
   "language": "python",
   "name": "python3"
  },
  "language_info": {
   "codemirror_mode": {
    "name": "ipython",
    "version": 3
   },
   "file_extension": ".py",
   "mimetype": "text/x-python",
   "name": "python",
   "nbconvert_exporter": "python",
   "pygments_lexer": "ipython3",
   "version": "3.7.16"
  }
 },
 "nbformat": 4,
 "nbformat_minor": 2
}
