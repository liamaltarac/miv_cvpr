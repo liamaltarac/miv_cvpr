{
 "cells": [
  {
   "cell_type": "code",
   "execution_count": 1,
   "metadata": {},
   "outputs": [
    {
     "name": "stderr",
     "output_type": "stream",
     "text": [
      "/tmp/ipykernel_9149/4122492361.py:5: UserWarning: A NumPy version >=1.23.5 and <2.5.0 is required for this version of SciPy (detected version 1.23.0)\n",
      "  from scipy import ndimage\n",
      "2025-10-27 11:24:26.342528: I tensorflow/core/util/port.cc:113] oneDNN custom operations are on. You may see slightly different numerical results due to floating-point round-off errors from different computation orders. To turn them off, set the environment variable `TF_ENABLE_ONEDNN_OPTS=0`.\n",
      "2025-10-27 11:24:26.493365: E external/local_xla/xla/stream_executor/cuda/cuda_dnn.cc:9261] Unable to register cuDNN factory: Attempting to register factory for plugin cuDNN when one has already been registered\n",
      "2025-10-27 11:24:26.493458: E external/local_xla/xla/stream_executor/cuda/cuda_fft.cc:607] Unable to register cuFFT factory: Attempting to register factory for plugin cuFFT when one has already been registered\n",
      "2025-10-27 11:24:26.518110: E external/local_xla/xla/stream_executor/cuda/cuda_blas.cc:1515] Unable to register cuBLAS factory: Attempting to register factory for plugin cuBLAS when one has already been registered\n",
      "2025-10-27 11:24:26.570233: I tensorflow/core/platform/cpu_feature_guard.cc:182] This TensorFlow binary is optimized to use available CPU instructions in performance-critical operations.\n",
      "To enable the following instructions: AVX2 AVX512F AVX512_VNNI AVX512_BF16 FMA, in other operations, rebuild TensorFlow with the appropriate compiler flags.\n",
      "2025-10-27 11:24:27.129190: W tensorflow/compiler/tf2tensorrt/utils/py_utils.cc:38] TF-TRT Warning: Could not find TensorRT\n"
     ]
    }
   ],
   "source": [
    "import sys\n",
    "sys.path.append('../')\n",
    "\n",
    "import numpy as np\n",
    "from scipy import ndimage\n",
    "\n",
    "from skimage.filters import sobel_h\n",
    "from skimage.filters import sobel_v\n",
    "from scipy import stats\n",
    "\n",
    "\n",
    "import os\n",
    "import matplotlib\n",
    "import matplotlib.pyplot as plt\n",
    "import scienceplots\n",
    "from tensorflow.python.client import device_lib\n",
    "\n",
    "#plt.rcParams['figure.figsize'] = [10,10]\n",
    "\n",
    "import tensorflow as tf\n",
    "from tensorflow.keras.preprocessing import image\n",
    "from tensorflow.keras.applications.vgg16 import decode_predictions\n",
    "from tensorflow.keras.applications import VGG16\n",
    "\n",
    "from tensorflow.nn import depthwise_conv2d\n",
    "from tensorflow.math import multiply, reduce_sum, reduce_mean,reduce_euclidean_norm, sin, cos, abs\n",
    "from tensorflow import stack, concat, expand_dims\n",
    "\n",
    "import tensorflow_probability as tfp\n",
    "\n",
    "from utils.utils import *\n",
    "\n",
    "\n",
    "plt.style.use(['science', 'ieee'])\n",
    "plt.rcParams.update({'figure.dpi': '100'})"
   ]
  },
  {
   "cell_type": "markdown",
   "metadata": {},
   "source": [
    "#### Experiment #1 : $\\beta$ accross all layers (Top-10% filters)"
   ]
  },
  {
   "cell_type": "code",
   "execution_count": 3,
   "metadata": {},
   "outputs": [
    {
     "name": "stderr",
     "output_type": "stream",
     "text": [
      "2025-10-27 11:24:41.487505: I external/local_xla/xla/stream_executor/cuda/cuda_executor.cc:901] successful NUMA node read from SysFS had negative value (-1), but there must be at least one NUMA node, so returning NUMA node zero. See more at https://github.com/torvalds/linux/blob/v6.0/Documentation/ABI/testing/sysfs-bus-pci#L344-L355\n",
      "2025-10-27 11:24:41.651066: I external/local_xla/xla/stream_executor/cuda/cuda_executor.cc:901] successful NUMA node read from SysFS had negative value (-1), but there must be at least one NUMA node, so returning NUMA node zero. See more at https://github.com/torvalds/linux/blob/v6.0/Documentation/ABI/testing/sysfs-bus-pci#L344-L355\n",
      "2025-10-27 11:24:41.652671: I external/local_xla/xla/stream_executor/cuda/cuda_executor.cc:901] successful NUMA node read from SysFS had negative value (-1), but there must be at least one NUMA node, so returning NUMA node zero. See more at https://github.com/torvalds/linux/blob/v6.0/Documentation/ABI/testing/sysfs-bus-pci#L344-L355\n",
      "2025-10-27 11:24:41.654049: W tensorflow/core/common_runtime/gpu/gpu_device.cc:2348] TensorFlow was not built with CUDA kernel binaries compatible with compute capability 12.0. CUDA kernels will be jit-compiled from PTX, which could take 30 minutes or longer.\n",
      "2025-10-27 11:24:41.655043: I external/local_xla/xla/stream_executor/cuda/cuda_executor.cc:901] successful NUMA node read from SysFS had negative value (-1), but there must be at least one NUMA node, so returning NUMA node zero. See more at https://github.com/torvalds/linux/blob/v6.0/Documentation/ABI/testing/sysfs-bus-pci#L344-L355\n",
      "2025-10-27 11:24:41.656297: I external/local_xla/xla/stream_executor/cuda/cuda_executor.cc:901] successful NUMA node read from SysFS had negative value (-1), but there must be at least one NUMA node, so returning NUMA node zero. See more at https://github.com/torvalds/linux/blob/v6.0/Documentation/ABI/testing/sysfs-bus-pci#L344-L355\n",
      "2025-10-27 11:24:41.657688: I external/local_xla/xla/stream_executor/cuda/cuda_executor.cc:901] successful NUMA node read from SysFS had negative value (-1), but there must be at least one NUMA node, so returning NUMA node zero. See more at https://github.com/torvalds/linux/blob/v6.0/Documentation/ABI/testing/sysfs-bus-pci#L344-L355\n",
      "2025-10-27 11:24:41.659038: W tensorflow/core/common_runtime/gpu/gpu_device.cc:2348] TensorFlow was not built with CUDA kernel binaries compatible with compute capability 12.0. CUDA kernels will be jit-compiled from PTX, which could take 30 minutes or longer.\n",
      "2025-10-27 11:24:41.765222: I external/local_xla/xla/stream_executor/cuda/cuda_executor.cc:901] successful NUMA node read from SysFS had negative value (-1), but there must be at least one NUMA node, so returning NUMA node zero. See more at https://github.com/torvalds/linux/blob/v6.0/Documentation/ABI/testing/sysfs-bus-pci#L344-L355\n",
      "2025-10-27 11:24:41.766154: I external/local_xla/xla/stream_executor/cuda/cuda_executor.cc:901] successful NUMA node read from SysFS had negative value (-1), but there must be at least one NUMA node, so returning NUMA node zero. See more at https://github.com/torvalds/linux/blob/v6.0/Documentation/ABI/testing/sysfs-bus-pci#L344-L355\n",
      "2025-10-27 11:24:41.766965: I external/local_xla/xla/stream_executor/cuda/cuda_executor.cc:901] successful NUMA node read from SysFS had negative value (-1), but there must be at least one NUMA node, so returning NUMA node zero. See more at https://github.com/torvalds/linux/blob/v6.0/Documentation/ABI/testing/sysfs-bus-pci#L344-L355\n",
      "2025-10-27 11:24:41.767752: I tensorflow/core/common_runtime/gpu/gpu_device.cc:1929] Created device /job:localhost/replica:0/task:0/device:GPU:0 with 8742 MB memory:  -> device: 0, name: NVIDIA GeForce RTX 5070, pci bus id: 0000:01:00.0, compute capability: 12.0\n"
     ]
    }
   ],
   "source": [
    "model = VGG16(weights='imagenet',\n",
    "                  include_top=False,\n",
    "                  input_shape=(224, 224, 3))\n",
    "\n",
    "conv_layers = []\n",
    "for l in model.layers:\n",
    "    if 'conv2d' in str(type(l)).lower():\n",
    "        conv_layers.append(l)\n"
   ]
  },
  {
   "cell_type": "code",
   "execution_count": null,
   "metadata": {},
   "outputs": [],
   "source": [
    "k = 10 # Top 10% highest l2-magnitude filters"
   ]
  },
  {
   "cell_type": "code",
   "execution_count": null,
   "metadata": {},
   "outputs": [],
   "source": [
    "\n",
    "mixed = []\n",
    "sym  =  []   #beta < .25\n",
    "anti =  []  #beta > .75\n",
    "\n",
    "model = VGG16(weights=None,\n",
    "                  include_top=False,\n",
    "                  input_shape=(224, 224, 3))\n",
    "\n",
    "l_num = 10\n",
    "anti.append(0)\n",
    "sym.append(0)\n",
    "mixed.append(0)\n",
    "count = 0\n",
    "print(f\" ============ LAYER {l_num} ==================\")\n",
    "top10F=topKfilters(model, l_num, k=100)\n",
    "beta_f = []\n",
    "for f in top10F:\n",
    "   top10C = topKchannels(model, l_num, f, k=k)\n",
    "\n",
    "   filters = tf.expand_dims(get_filter(model, l_num)[:,:,top10C, f], -1)\n",
    "   s, a = getSymAntiSymTF(filters)\n",
    "   a_energy = reduce_euclidean_norm(a, axis=[0,1])**2\n",
    "   s_energy = reduce_euclidean_norm(s, axis=[0,1])**2\n",
    "   total_energy  = reduce_euclidean_norm(filters, axis=[0,1])**2\n",
    "   beta = a_energy/total_energy\n",
    "\n",
    "   for b in beta:\n",
    "      print(b)\n",
    "      if b>=0.75:\n",
    "         anti[-1]+=1\n",
    "      elif b<=0.25:\n",
    "         sym[-1]+=1\n",
    "      else:\n",
    "         mixed[-1]+=1\n",
    "      count+=1\n",
    "\n",
    "anti[-1] = anti[-1]/count\n",
    "sym[-1] = sym[-1]/count\n",
    "mixed[-1] = mixed[-1]/count\n",
    "\n",
    "print(anti, sym, mixed)\n",
    "print(beta.shape[0])\n",
    "\n",
    "\n",
    "\n",
    "\n",
    "model = VGG16(weights='imagenet',\n",
    "                  include_top=False,\n",
    "                  input_shape=(224, 224, 3))\n",
    "\n",
    "for l_num, l in enumerate(conv_layers):\n",
    "    anti.append(0)\n",
    "    sym.append(0)\n",
    "    mixed.append(0)\n",
    "    count = 0\n",
    "    print(f\" ============ LAYER {l_num} ==================\")\n",
    "    top10F=topKfilters(model, l_num, k=k)\n",
    "    beta_f = []\n",
    "    for f in top10F:\n",
    "        top10C = topKchannels(model, l_num, f, k=k)\n",
    "\n",
    "        filters = tf.expand_dims(get_filter(model, l_num)[:,:,top10C, f], -1)\n",
    "        s, a = getSymAntiSymTF(filters)\n",
    "        a_energy = reduce_euclidean_norm(a, axis=[0,1])**2\n",
    "        s_energy = reduce_euclidean_norm(s, axis=[0,1])**2\n",
    "        total_energy  = reduce_euclidean_norm(filters, axis=[0,1])**2\n",
    "        beta = a_energy/total_energy\n",
    "\n",
    "        for b in beta:\n",
    "            print(b)\n",
    "            if b>=0.75:\n",
    "               anti[-1]+=1\n",
    "            elif b<=0.25:\n",
    "               sym[-1]+=1\n",
    "            else:\n",
    "               mixed[-1]+=1\n",
    "            count+=1\n",
    "\n",
    "    anti[-1] = anti[-1]/count\n",
    "    sym[-1] = sym[-1]/count\n",
    "    mixed[-1] = mixed[-1]/count\n",
    "\n",
    "    print(anti, sym, mixed)\n",
    "    print(beta.shape[0])\n",
    "\n",
    "\n"
   ]
  },
  {
   "cell_type": "code",
   "execution_count": null,
   "metadata": {},
   "outputs": [],
   "source": [
    "len(conv_layers)"
   ]
  },
  {
   "cell_type": "code",
   "execution_count": null,
   "metadata": {},
   "outputs": [],
   "source": [
    "(np.concatenate(([0], np.arange(2, len(conv_layers)+2, step=1))))"
   ]
  },
  {
   "cell_type": "code",
   "execution_count": null,
   "metadata": {},
   "outputs": [],
   "source": [
    "sym.shape"
   ]
  },
  {
   "cell_type": "code",
   "execution_count": null,
   "metadata": {},
   "outputs": [],
   "source": [
    "np.save(\"sym_vals\", sym, allow_pickle=False)\n",
    "np.save(\"mixed_vals\", mixed, allow_pickle=False)\n",
    "np.save(\"anti_vals\", anti, allow_pickle=False)"
   ]
  },
  {
   "cell_type": "code",
   "execution_count": 5,
   "metadata": {},
   "outputs": [
    {
     "data": {
      "image/png": "[encoded data removed]",
      "text/plain": [
       "<Figure size 400x250 with 1 Axes>"
      ]
     },
     "metadata": {},
     "output_type": "display_data"
    }
   ],
   "source": [
    "sym = np.load(\"vgg_sym_vals.npy\")\n",
    "mixed = np.load(\"vgg_mixed_vals.npy\")\n",
    "anti = np.load(\"vgg_anti_vals.npy\")\n",
    "\n",
    "x = np.arange(1, len(conv_layers)+1, step=1)\n",
    "\n",
    "width = 0.2\n",
    "plt.rcParams['figure.figsize'] = (4, 2.5)\n",
    "\n",
    "plt.bar(x-0.2, sym[1:], width , color='r') \n",
    "plt.bar(x, mixed[1:], width, color='k') \n",
    "plt.bar(x+0.2, anti[1:], width, color='b') \n",
    "\n",
    "plt.xlabel(\"Layer\") \n",
    "#plt.ylabel(\"\\%\") \n",
    "x = x.tolist()\n",
    "\n",
    "    \n",
    "\n",
    "plt.xticks(x)\n",
    "plt.yticks(np.arange(0, 1.1, step=0.1), ['']*11)\n",
    "\n",
    "\n",
    "#plt.title('R')\n",
    "\n",
    "ticks = plt.gca().get_xticklabels()\n",
    "#ticks[0].set_rotation(-90)\n",
    "\n",
    "plt.minorticks_off()\n",
    "plt.legend([r\"$\\beta^2\\leq0.25$ (sym)\",  r\"$0.25<\\beta^2<0.75$ (mix)\", r\"$\\beta^2\\geq0.75$ (anti)\",], loc = 'upper right',  bbox_to_anchor=(.9,.95) , prop={'size': 11})\n",
    "\n",
    "\n",
    "plt.savefig('figures/vgg16_kernel_type.pdf', dpi=600)\n",
    "\n",
    "plt.show() "
   ]
  }
 ],
 "metadata": {
  "kernelspec": {
   "display_name": "lam",
   "language": "python",
   "name": "python3"
  },
  "language_info": {
   "codemirror_mode": {
    "name": "ipython",
    "version": 3
   },
   "file_extension": ".py",
   "mimetype": "text/x-python",
   "name": "python",
   "nbconvert_exporter": "python",
   "pygments_lexer": "ipython3",
   "version": "3.10.16"
  }
 },
 "nbformat": 4,
 "nbformat_minor": 2
}
