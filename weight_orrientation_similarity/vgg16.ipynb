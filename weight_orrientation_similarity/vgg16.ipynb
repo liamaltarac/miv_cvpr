{
 "cells": [
  {
   "cell_type": "code",
   "execution_count": 1,
   "metadata": {},
   "outputs": [
    {
     "name": "stderr",
     "output_type": "stream",
     "text": [
      "c:\\Users\\AN46710\\Anaconda3\\envs\\masters\\lib\\site-packages\\numpy\\_distributor_init.py:32: UserWarning: loaded more than 1 DLL from .libs:\n",
      "c:\\Users\\AN46710\\Anaconda3\\envs\\masters\\lib\\site-packages\\numpy\\.libs\\libopenblas.GK7GX5KEQ4F6UYO3P26ULGBQYHGQO7J4.gfortran-win_amd64.dll\n",
      "c:\\Users\\AN46710\\Anaconda3\\envs\\masters\\lib\\site-packages\\numpy\\.libs\\libopenblas.XWYDX2IKJW2NMTWSFYNGFUWKQU3LYTCZ.gfortran-win_amd64.dll\n",
      "  stacklevel=1)\n"
     ]
    }
   ],
   "source": [
    "import sys\n",
    "sys.path.append('../')\n",
    "\n",
    "import numpy as np\n",
    "from scipy import ndimage\n",
    "\n",
    "from skimage.filters import sobel_h\n",
    "from skimage.filters import sobel_v\n",
    "from scipy import stats\n",
    "\n",
    "\n",
    "import os\n",
    "import matplotlib\n",
    "import matplotlib.pyplot as plt\n",
    "import matplotlib.gridspec as gridspec\n",
    "\n",
    "import scienceplots\n",
    "from tensorflow.python.client import device_lib\n",
    "\n",
    "plt.rcParams['figure.figsize'] = [10,10]\n",
    "\n",
    "import tensorflow as tf\n",
    "from tensorflow.keras.preprocessing import image\n",
    "from tensorflow.keras.applications.vgg16 import decode_predictions\n",
    "from tensorflow.keras.applications import VGG16, ResNet50\n",
    "\n",
    "from tensorflow.nn import depthwise_conv2d\n",
    "from tensorflow.math import multiply, reduce_sum, reduce_mean,reduce_euclidean_norm, sin, cos, abs, reduce_variance, reduce_min, reduce_max\n",
    "from tensorflow import stack, concat, expand_dims\n",
    "\n",
    "import tensorflow_probability as tfp\n",
    "\n",
    "from utils.utils import *\n",
    "from utils.basic_units import *\n",
    "\n",
    "\n",
    "plt.style.use(['science', 'ieee'])\n",
    "plt.rcParams.update({'figure.dpi': '100'})"
   ]
  },
  {
   "cell_type": "markdown",
   "metadata": {},
   "source": [
    "#### Experiment #1 : $\\beta$ accross all layers (Top-10% filters)"
   ]
  },
  {
   "cell_type": "code",
   "execution_count": 2,
   "metadata": {},
   "outputs": [],
   "source": [
    "model = VGG16(weights='imagenet',\n",
    "                  include_top=False,\n",
    "                  input_shape=(224, 224, 3))"
   ]
  },
  {
   "cell_type": "code",
   "execution_count": 3,
   "metadata": {},
   "outputs": [],
   "source": [
    "k = 10 # Top 10% highest l2-magnitude filters"
   ]
  },
  {
   "cell_type": "code",
   "execution_count": 4,
   "metadata": {},
   "outputs": [],
   "source": [
    "def get_F_angle(F):\n",
    "\t\n",
    "\tF = tf.expand_dims(F, -1)\n",
    "\t_, a = getSymAntiSymTF(F)\n",
    "\ta_mag = reduce_euclidean_norm(a, axis=[0,1])[:, 0]\n",
    "\ttheta = getSobelTF(F)[:, 0]\n",
    "\t#print(a_mag.shape)\n",
    "\tx =a_mag*np.cos((theta))\n",
    "\ty = a_mag*np.sin((theta))\n",
    "\n",
    "\n",
    "\tcov = np.cov([x,y])\n",
    "\te_val, e_vec = np.linalg.eigh(cov)\n",
    "\te_vec = e_vec[:, np.argmax(e_val)]\n",
    "\te_val = np.max(e_val)\n",
    "\n",
    "\tnew_vec =    ((e_vec[0] * x + e_vec[1]*y)/(e_vec[0]**2+e_vec[1]**2))[:, None] * e_vec\n",
    "\tnew_vec = np.mean(new_vec, axis=0)\n",
    "\n",
    "\n",
    "\treturn np.arctan2(new_vec[1], new_vec[0])"
   ]
  },
  {
   "cell_type": "code",
   "execution_count": 5,
   "metadata": {},
   "outputs": [
    {
     "name": "stdout",
     "output_type": "stream",
     "text": [
      "FL (3, 3, 64, 64)\n",
      "(64, 3, 3, 3) (64, 3, 3, 3) (64, 3, 3, 3)\n",
      "(64, 3, 3, 64) (64, 3, 3, 64) (64, 3, 3, 64)\n",
      "AMAG (64, 64)\n",
      "(64, 3, 3, 3) (64, 3, 3, 3) (64, 3, 3, 3)\n",
      "[-3.14159265 -1.57079633  0.          1.57079633  3.14159265]\n",
      "['-1.0π', '-0.5π', '0', '0.5π', '1.0π']\n",
      "['-$\\\\pi$', '-$\\\\pi/2$', '0', '$\\\\pi/2$', '$\\\\pi$']\n",
      "FL (3, 3, 64, 128)\n",
      "(64, 3, 3, 64) (64, 3, 3, 64) (64, 3, 3, 64)\n",
      "(128, 3, 3, 64) (128, 3, 3, 64) (128, 3, 3, 64)\n",
      "AMAG (64, 128)\n",
      "(64, 3, 3, 64) (64, 3, 3, 64) (64, 3, 3, 64)\n",
      "[-3.14159265 -1.57079633  0.          1.57079633  3.14159265]\n",
      "['-1.0π', '-0.5π', '0', '0.5π', '1.0π']\n",
      "['-$\\\\pi$', '-$\\\\pi/2$', '0', '$\\\\pi/2$', '$\\\\pi$']\n",
      "FL (3, 3, 128, 128)\n",
      "(128, 3, 3, 64) (128, 3, 3, 64) (128, 3, 3, 64)\n",
      "(128, 3, 3, 128) (128, 3, 3, 128) (128, 3, 3, 128)\n",
      "AMAG (128, 128)\n",
      "(128, 3, 3, 64) (128, 3, 3, 64) (128, 3, 3, 64)\n",
      "[-3.14159265 -1.57079633  0.          1.57079633  3.14159265]\n",
      "['-1.0π', '-0.5π', '0', '0.5π', '1.0π']\n",
      "['-$\\\\pi$', '-$\\\\pi/2$', '0', '$\\\\pi/2$', '$\\\\pi$']\n"
     ]
    },
    {
     "data": {
      "image/png": "[encoded data removed]",
      "text/plain": [
       "<Figure size 330x250 with 1 Axes>"
      ]
     },
     "metadata": {},
     "output_type": "display_data"
    },
    {
     "data": {
      "image/png": "[encoded data removed]",
      "text/plain": [
       "<Figure size 330x250 with 1 Axes>"
      ]
     },
     "metadata": {},
     "output_type": "display_data"
    },
    {
     "data": {
      "image/png": "[encoded data removed]",
      "text/plain": [
       "<Figure size 330x250 with 1 Axes>"
      ]
     },
     "metadata": {},
     "output_type": "display_data"
    }
   ],
   "source": [
    "conv_layers = []\n",
    "for l in model.layers:\n",
    "\tif 'conv2d' in str(type(l)).lower():\n",
    "\t\tif l.kernel_size == (3,3):\n",
    "\t\t\tconv_layers.append(l)\n",
    "\n",
    "for l_num in range(1, 4):\n",
    "\t#top10Fprev=topKfilters(model, l_num-1, k=20)\n",
    "\tfiltersLprev = get_filter(model, l_num-1)#[:,:,:,top10Fprev]\n",
    "\t#top10F=topKfilters(model, l_num, k=20)\n",
    "\tfiltersL = get_filter(model, l_num)#[:,:,:,top10F]\n",
    "\tfiltersL = filtersL\n",
    "\n",
    "\n",
    "\tprint(\"FL\", filtersL.shape)\n",
    "\n",
    "\t# Get kernels magnitude and theta for layer L-1\n",
    "\tsp, ap = getSymAntiSymTF(filtersLprev)\n",
    "\te_ap = reduce_euclidean_norm(ap, axis=[0,1])**2\n",
    "\te_sp = reduce_euclidean_norm(sp, axis=[0,1])**2\n",
    "\tbetap = e_ap/(e_ap+e_sp)\n",
    "\n",
    "\n",
    "\t# Get kernels magnitude and theta for layer L\n",
    "\ts, a = getSymAntiSymTF(filtersL)\n",
    "\te_a = reduce_euclidean_norm(a, axis=[0,1])**2\n",
    "\te_s = reduce_euclidean_norm(s, axis=[0,1])**2\n",
    "\tdc = np.sign(np.mean(filtersL, axis=(0,1)))\n",
    "\n",
    "\tbeta = e_a/(e_a+e_s)\n",
    "\n",
    "\n",
    "\n",
    "\te = reduce_euclidean_norm(filtersL, axis=[0,1])\n",
    "\ta_mag = reduce_euclidean_norm(a, axis=[0,1]).numpy()\n",
    "\ttheta = getSobelTF(filtersL)\n",
    "\t\n",
    "\t#mag = (e_a - reduce_min(e_a, axis=0, keepdims=True))/(reduce_max(e_a, axis=0, keepdims=True) - reduce_min(e_a, axis=0, keepdims=True))\n",
    "\tmag = (a_mag - reduce_min(a_mag, axis=0, keepdims=True))/(reduce_max(a_mag, axis=0, keepdims=True) - reduce_min(a_mag, axis=0, keepdims=True))\n",
    "\tprint(\"AMAG\", mag.shape)\n",
    "\n",
    "\n",
    "\t#find lims :\n",
    "\tcos_sim = []\n",
    "\tm = []\n",
    "\tweight = []\n",
    "\ttheta_F_prev = []\n",
    "\t_, theta_F_prev = getDominantAngle(filtersLprev)\n",
    "\t'''for i in range(filtersLprev.shape[-1]):\n",
    "\t\ttheta_F_prev.append(get_F_angle(filtersLprev[:,:,:,i]))\n",
    "\ttheta_F_prev = np.array(theta_F_prev)'''\n",
    "\tfor i in range(filtersL.shape[-1]):\n",
    "\t\t#: = tf.where(tf.greater(dc[:, i],0))[:,0].numpy()\n",
    "\t\tmag = (a_mag[:,i]**2 - reduce_min(a_mag[:,i]**2 , axis=0, keepdims=True))/(reduce_max(a_mag[:,i]**2 , axis=0, keepdims=True) - reduce_min(a_mag[:,i]**2 , axis=0, keepdims=True))\n",
    "\t\t#print((theta_F_prev[:] - theta[:,i]).shape, mag.shape )\n",
    "\t\tcos_sim.extend(theta_F_prev - theta[:,i])#(np.cos(theta_F_prev - theta[i,:])))\n",
    "\t\tm.extend(mag.numpy())\n",
    "\t\tweight.extend((e[:,i]**2 - reduce_min(e[:,i]**2 , axis=0, keepdims=True))/(reduce_max(e[:,i]**2 , axis=0, keepdims=True) - reduce_min(e[:,i]**2 , axis=0, keepdims=True)))\n",
    "\tweight = np.array(weight)\n",
    "\tm = np.array(m)\n",
    "\n",
    "\n",
    "\tfig, ax= plt.subplots(1,1)\n",
    "\n",
    "\tdata = np.array(cos_sim)\n",
    "\tdata  = np.arctan2(np.sin(data), np.cos(data)) # (np.array(cos_sim) + np.pi) % (2 * np.pi) - np.pi\n",
    "\n",
    "\tdata_min, data_max = np.min(data), np.max(data)\n",
    "\n",
    "\n",
    "\tax.hist(data, bins=32, weights=m)\n",
    "\n",
    "\tdata_min, data_max = np.min(data), np.max(data)\n",
    "\n",
    "\t# Set the tick marks at intervals of π\n",
    "\ttick_min = np.floor(data_min / np.pi) * np.pi  # Start at the lowest multiple of π\n",
    "\ttick_max = np.ceil(data_max / np.pi) * np.pi    # End at the highest multiple of π\n",
    "\tticks = np.arange(tick_min, tick_max + np.pi/2, np.pi/2)  # Ticks spaced by π\n",
    "\tprint(ticks)\n",
    "\t# Format tick labels with π notation\n",
    "\tlabels = [f\"{t / np.pi}π\" if t != 0 else \"0\" for t in ticks]\n",
    "\tprint(labels)\n",
    "\tlabels = [label.replace(\"π\", \"$\\\\pi$\").replace(\"1.0$\\\\pi$\", \"$\\\\pi$\").replace(\"0.5$\\\\pi$\", \"$\\\\pi/2$\") for label in labels]\n",
    "\tprint(labels)\n",
    "\t# Set ticks and labels on the x-axis\n",
    "\tax.set_xticks(ticks=ticks, labels=labels)\n",
    "\n",
    "\n",
    "\n",
    "\n",
    "\t#ax.convert_xunits(radians)\n",
    "\tax.set_ylabel(r\"Count (weighted by $||F^L_a{[i,j]}||$)\", fontsize=7)\n",
    "\t#ax.set_ylabel(r\"Count\", fontsize=7)\n",
    "\tax.set_xlabel(r\"$\\mathbf{\\theta}^{L}_{F[i, :]} - \\hat{\\theta}^{L-1}_{F[:, i]}$\", fontsize=7)\n",
    "\tax.set_title(f\"Layer {l_num}\"+r\"$\\rightarrow$\"+f\"{l_num+1}\")\n",
    "\tfig.savefig(f\"figures/vgg16/vgg16_orr_sim_layer_{l_num}.pdf\", bbox_inches='tight', dpi=600)\n",
    "\n"
   ]
  },
  {
   "cell_type": "code",
   "execution_count": null,
   "metadata": {},
   "outputs": [],
   "source": [
    "\n"
   ]
  },
  {
   "cell_type": "code",
   "execution_count": null,
   "metadata": {},
   "outputs": [],
   "source": []
  },
  {
   "cell_type": "code",
   "execution_count": 6,
   "metadata": {},
   "outputs": [
    {
     "data": {
      "text/plain": [
       "(array([157.81851196, 112.43891907,  88.81433105,  85.33795166,\n",
       "         82.853302  ,  87.57333374, 116.50956726, 169.3765564 ,\n",
       "        157.41795349, 118.18161774,  86.37372589,  80.04821777,\n",
       "         91.46173096,  80.67520142, 105.16244507, 160.80607605]),\n",
       " array([-3.1410987e+00, -2.7484617e+00, -2.3558249e+00, -1.9631879e+00,\n",
       "        -1.5705509e+00, -1.1779140e+00, -7.8527713e-01, -3.9264017e-01,\n",
       "        -3.2186508e-06,  3.9263374e-01,  7.8527069e-01,  1.1779076e+00,\n",
       "         1.5705445e+00,  1.9631815e+00,  2.3558185e+00,  2.7484553e+00,\n",
       "         3.1410923e+00], dtype=float32),\n",
       " <BarContainer object of 16 artists>)"
      ]
     },
     "execution_count": 6,
     "metadata": {},
     "output_type": "execute_result"
    },
    {
     "data": {
      "image/png": "[encoded data removed]",
      "text/plain": [
       "<Figure size 330x250 with 1 Axes>"
      ]
     },
     "metadata": {},
     "output_type": "display_data"
    }
   ],
   "source": [
    "plt.hist(data, bins=16, weights=weight)"
   ]
  }
 ],
 "metadata": {
  "kernelspec": {
   "display_name": "masters",
   "language": "python",
   "name": "python3"
  },
  "language_info": {
   "codemirror_mode": {
    "name": "ipython",
    "version": 3
   },
   "file_extension": ".py",
   "mimetype": "text/x-python",
   "name": "python",
   "nbconvert_exporter": "python",
   "pygments_lexer": "ipython3",
   "version": "3.7.16"
  }
 },
 "nbformat": 4,
 "nbformat_minor": 2
}
