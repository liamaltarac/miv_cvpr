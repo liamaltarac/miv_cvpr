{
 "cells": [
  {
   "cell_type": "code",
   "execution_count": 6,
   "metadata": {},
   "outputs": [],
   "source": [
    "import sys\n",
    "sys.path.append('../')\n",
    "\n",
    "import numpy as np\n",
    "from scipy import ndimage\n",
    "\n",
    "from skimage.filters import sobel_h\n",
    "from skimage.filters import sobel_v\n",
    "from scipy import stats\n",
    "\n",
    "\n",
    "import os\n",
    "import matplotlib\n",
    "import matplotlib.pyplot as plt\n",
    "import matplotlib.gridspec as gridspec\n",
    "\n",
    "import scienceplots\n",
    "from tensorflow.python.client import device_lib\n",
    "\n",
    "plt.rcParams['figure.figsize'] = [10,10]\n",
    "\n",
    "import tensorflow as tf\n",
    "from tensorflow.keras.preprocessing import image\n",
    "from tensorflow.keras.applications.vgg16 import decode_predictions\n",
    "from tensorflow.keras.applications import VGG16, ResNet50\n",
    "\n",
    "from tensorflow.nn import depthwise_conv2d\n",
    "from tensorflow.math import multiply, reduce_sum, reduce_mean,reduce_euclidean_norm, sin, cos, abs, reduce_variance, reduce_min, reduce_max\n",
    "from tensorflow import stack, concat, expand_dims\n",
    "\n",
    "import tensorflow_probability as tfp\n",
    "\n",
    "from utils.utils import *\n",
    "from utils.basic_units import *\n",
    "\n",
    "\n",
    "plt.style.use(['science', 'ieee'])\n",
    "plt.rcParams.update({'figure.dpi': '100'})"
   ]
  },
  {
   "cell_type": "markdown",
   "metadata": {},
   "source": [
    "#### Experiment #1 : $\\beta$ accross all layers (Top-10% filters)"
   ]
  },
  {
   "cell_type": "code",
   "execution_count": 7,
   "metadata": {},
   "outputs": [],
   "source": [
    "model = ResNet50(weights=None,\n",
    "                  include_top=False,\n",
    "                  input_shape=(224, 224, 3))"
   ]
  },
  {
   "cell_type": "code",
   "execution_count": 8,
   "metadata": {},
   "outputs": [],
   "source": [
    "k = 10 # Top 10% highest l2-magnitude filters"
   ]
  },
  {
   "cell_type": "code",
   "execution_count": 9,
   "metadata": {},
   "outputs": [],
   "source": [
    "def get_F_angle(F):\n",
    "\t\n",
    "\tF = tf.expand_dims(F, -1)\n",
    "\t_, a = getSymAntiSymTF(F)\n",
    "\ta_mag = reduce_euclidean_norm(a, axis=[0,1])[:, 0]\n",
    "\ttheta = getSobelTF(F)[:, 0]\n",
    "\t#print(a_mag.shape)\n",
    "\tx =a_mag*np.cos((theta))\n",
    "\ty = a_mag*np.sin((theta))\n",
    "\n",
    "\n",
    "\tcov = np.cov([x,y])\n",
    "\te_val, e_vec = np.linalg.eigh(cov)\n",
    "\te_vec = e_vec[:, np.argmax(e_val)]\n",
    "\te_val = np.max(e_val)\n",
    "\n",
    "\tnew_vec =    ((e_vec[0] * x + e_vec[1]*y)/(e_vec[0]**2+e_vec[1]**2))[:, None] * e_vec\n",
    "\tnew_vec = np.mean(new_vec, axis=0)\n",
    "\n",
    "\n",
    "\treturn np.arctan2(new_vec[1], new_vec[0])"
   ]
  },
  {
   "cell_type": "code",
   "execution_count": 12,
   "metadata": {},
   "outputs": [
    {
     "name": "stdout",
     "output_type": "stream",
     "text": [
      "FL (3, 3, 256, 256)\n",
      "(256, 3, 3, 256) (256, 3, 3, 256) (256, 3, 3, 256)\n",
      "(256, 3, 3, 256) (256, 3, 3, 256) (256, 3, 3, 256)\n",
      "AMAG (256, 256)\n",
      "(256, 3, 3, 256) (256, 3, 3, 256) (256, 3, 3, 256)\n",
      "[-3.14159265 -1.57079633  0.          1.57079633  3.14159265]\n",
      "['-1.0π', '-0.5π', '0', '0.5π', '1.0π']\n",
      "['-$\\\\pi$', '-$\\\\pi/2$', '0', '$\\\\pi/2$', '$\\\\pi$']\n"
     ]
    },
    {
     "data": {
      "image/png": "[encoded data removed]",
      "text/plain": [
       "<Figure size 330x250 with 1 Axes>"
      ]
     },
     "metadata": {},
     "output_type": "display_data"
    }
   ],
   "source": [
    "conv_layers = []\n",
    "for l in model.layers:\n",
    "\tif 'conv2d' in str(type(l)).lower():\n",
    "\t\tif l.kernel_size == (3,3):\n",
    "\t\t\tconv_layers.append(l)\n",
    "\n",
    "for l_num in range(12, 13):\n",
    "\t#top10Fprev=topKfilters(model, l_num-1, k=20)\n",
    "\tfiltersLprev = get_filter(model, l_num-1)#[:,:,:,top10Fprev]\n",
    "\t#top10F=topKfilters(model, l_num, k=20)\n",
    "\tfiltersL = get_filter(model, l_num)#[:,:,:,top10F]\n",
    "\tfiltersL = filtersL\n",
    "\n",
    "\n",
    "\tprint(\"FL\", filtersL.shape)\n",
    "\n",
    "\t# Get kernels magnitude and theta for layer L-1\n",
    "\tsp, ap = getSymAntiSymTF(filtersLprev)\n",
    "\te_ap = reduce_euclidean_norm(ap, axis=[0,1])**2\n",
    "\te_sp = reduce_euclidean_norm(sp, axis=[0,1])**2\n",
    "\tbetap = e_ap/(e_ap+e_sp)\n",
    "\n",
    "\n",
    "\t# Get kernels magnitude and theta for layer L\n",
    "\ts, a = getSymAntiSymTF(filtersL)\n",
    "\te_a = reduce_euclidean_norm(a, axis=[0,1])**2\n",
    "\te_s = reduce_euclidean_norm(s, axis=[0,1])**2\n",
    "\tdc = np.sign(np.mean(filtersL, axis=(0,1)))\n",
    "\n",
    "\tbeta = e_a/(e_a+e_s)\n",
    "\n",
    "\n",
    "\n",
    "\te = reduce_euclidean_norm(filtersL, axis=[0,1])\n",
    "\ta_mag = reduce_euclidean_norm(a, axis=[0,1]).numpy()\n",
    "\ttheta = getSobelTF(filtersL)\n",
    "\t\n",
    "\t#mag = (e_a - reduce_min(e_a, axis=0, keepdims=True))/(reduce_max(e_a, axis=0, keepdims=True) - reduce_min(e_a, axis=0, keepdims=True))\n",
    "\tmag = (a_mag - reduce_min(a_mag, axis=0, keepdims=True))/(reduce_max(a_mag, axis=0, keepdims=True) - reduce_min(a_mag, axis=0, keepdims=True))\n",
    "\tprint(\"AMAG\", mag.shape)\n",
    "\n",
    "\n",
    "\t#find lims :\n",
    "\tcos_sim = []\n",
    "\tm = []\n",
    "\tweight = []\n",
    "\ttheta_F_prev = []\n",
    "\t_, theta_F_prev = getDominantAngle(filtersLprev)\n",
    "\t'''for i in range(filtersLprev.shape[-1]):\n",
    "\t\ttheta_F_prev.append(get_F_angle(filtersLprev[:,:,:,i]))\n",
    "\ttheta_F_prev = np.array(theta_F_prev)'''\n",
    "\tfor i in range(filtersL.shape[-1]):\n",
    "\t\t#: = tf.where(tf.greater(dc[:, i],0))[:,0].numpy()\n",
    "\t\tmag = (a_mag[:,i]**2 - reduce_min(a_mag[:,i]**2 , axis=0, keepdims=True))/(reduce_max(a_mag[:,i]**2 , axis=0, keepdims=True) - reduce_min(a_mag[:,i]**2 , axis=0, keepdims=True))\n",
    "\t\t#print((theta_F_prev[:] - theta[:,i]).shape, mag.shape )\n",
    "\t\tcos_sim.extend(theta_F_prev - theta[:,i])#(np.cos(theta_F_prev - theta[i,:])))\n",
    "\t\tm.extend(mag.numpy())\n",
    "\t\tweight.extend((e[:,i]**2 - reduce_min(e[:,i]**2 , axis=0, keepdims=True))/(reduce_max(e[:,i]**2 , axis=0, keepdims=True) - reduce_min(e[:,i]**2 , axis=0, keepdims=True)))\n",
    "\tweight = np.array(weight)\n",
    "\tm = np.array(m)\n",
    "\n",
    "\n",
    "\tfig, ax= plt.subplots(1,1)\n",
    "\n",
    "\tdata = np.array(cos_sim)\n",
    "\tdata  = np.arctan2(np.sin(data), np.cos(data)) # (np.array(cos_sim) + np.pi) % (2 * np.pi) - np.pi\n",
    "\n",
    "\tdata_min, data_max = np.min(data), np.max(data)\n",
    "\n",
    "\n",
    "\tax.hist(data, bins=32, weights=m)\n",
    "\n",
    "\tdata_min, data_max = np.min(data), np.max(data)\n",
    "\n",
    "\t# Set the tick marks at intervals of π\n",
    "\ttick_min = np.floor(data_min / np.pi) * np.pi  # Start at the lowest multiple of π\n",
    "\ttick_max = np.ceil(data_max / np.pi) * np.pi    # End at the highest multiple of π\n",
    "\tticks = np.arange(tick_min, tick_max + np.pi/2, np.pi/2)  # Ticks spaced by π\n",
    "\tprint(ticks)\n",
    "\t# Format tick labels with π notation\n",
    "\tlabels = [f\"{t / np.pi}π\" if t != 0 else \"0\" for t in ticks]\n",
    "\tprint(labels)\n",
    "\tlabels = [label.replace(\"π\", \"$\\\\pi$\").replace(\"1.0$\\\\pi$\", \"$\\\\pi$\").replace(\"0.5$\\\\pi$\", \"$\\\\pi/2$\") for label in labels]\n",
    "\tprint(labels)\n",
    "\t# Set ticks and labels on the x-axis\n",
    "\tax.set_xticks(ticks=ticks, labels=labels)\n",
    "\n",
    "\n",
    "\n",
    "\n",
    "\t#ax.convert_xunits(radians)\n",
    "\tax.set_ylabel(r\"Count (weighted by $||F^L_a{[i,j]}||$)\", fontsize=7)\n",
    "\t#ax.set_ylabel(r\"Count\", fontsize=7)\n",
    "\tax.set_xlabel(r\"$\\mathbf{\\theta}^{L}_{F[i, :]} - \\hat{\\theta}^{L-1}_{F[:, i]}$\", fontsize=7)\n",
    "\tax.set_title(f\"Randomly initialized, Layer i\"+r\"$\\rightarrow$\"+f\"i+1\")\n",
    "\tfig.savefig(f\"figures/random.pdf\", bbox_inches='tight', dpi=600)\n",
    "\n"
   ]
  },
  {
   "cell_type": "code",
   "execution_count": null,
   "metadata": {},
   "outputs": [],
   "source": [
    "\n"
   ]
  },
  {
   "cell_type": "code",
   "execution_count": null,
   "metadata": {},
   "outputs": [],
   "source": []
  },
  {
   "cell_type": "code",
   "execution_count": 11,
   "metadata": {},
   "outputs": [
    {
     "data": {
      "text/plain": [
       "(array([1860.74841309, 1846.51062012, 1809.74914551, 1813.32702637,\n",
       "        1836.43237305, 1936.3770752 , 1823.99206543, 1833.67993164,\n",
       "        1910.7890625 , 1888.35290527, 1830.96142578, 1889.92858887,\n",
       "        1833.52807617, 1866.88098145, 1897.42749023, 1873.83972168]),\n",
       " array([-3.1415677e+00, -2.7488711e+00, -2.3561742e+00, -1.9634776e+00,\n",
       "        -1.5707810e+00, -1.1780843e+00, -7.8538752e-01, -3.9269084e-01,\n",
       "         5.8412552e-06,  3.9270252e-01,  7.8539920e-01,  1.1780959e+00,\n",
       "         1.5707927e+00,  1.9634893e+00,  2.3561859e+00,  2.7488828e+00,\n",
       "         3.1415794e+00], dtype=float32),\n",
       " <BarContainer object of 16 artists>)"
      ]
     },
     "execution_count": 11,
     "metadata": {},
     "output_type": "execute_result"
    },
    {
     "data": {
      "image/png": "[encoded data removed]",
      "text/plain": [
       "<Figure size 330x250 with 1 Axes>"
      ]
     },
     "metadata": {},
     "output_type": "display_data"
    }
   ],
   "source": [
    "plt.hist(data, bins=16, weights=weight)"
   ]
  }
 ],
 "metadata": {
  "kernelspec": {
   "display_name": "masters",
   "language": "python",
   "name": "python3"
  },
  "language_info": {
   "codemirror_mode": {
    "name": "ipython",
    "version": 3
   },
   "file_extension": ".py",
   "mimetype": "text/x-python",
   "name": "python",
   "nbconvert_exporter": "python",
   "pygments_lexer": "ipython3",
   "version": "3.7.16"
  }
 },
 "nbformat": 4,
 "nbformat_minor": 2
}
