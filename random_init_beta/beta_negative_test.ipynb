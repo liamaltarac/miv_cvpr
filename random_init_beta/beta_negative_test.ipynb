{
 "cells": [
  {
   "cell_type": "code",
   "execution_count": 102,
   "metadata": {},
   "outputs": [],
   "source": [
    "import sys\n",
    "sys.path.append('../')\n",
    "\n",
    "import numpy as np\n",
    "from scipy.stats import beta\n",
    "\n",
    "\n",
    "\n",
    "import matplotlib\n",
    "import matplotlib.pyplot as plt\n",
    "import scienceplots\n",
    "\n",
    "from utils import utils\t\n",
    "\n",
    "plt.style.use(['science', 'ieee'])\n",
    "plt.rcParams.update({'figure.dpi': '100'})\n",
    "\n"
   ]
  },
  {
   "cell_type": "code",
   "execution_count": null,
   "metadata": {},
   "outputs": [
    {
     "data": {
      "text/plain": [
       "(1378.0, 4719.0, 689.0)"
      ]
     },
     "execution_count": 128,
     "metadata": {},
     "output_type": "execute_result"
    }
   ],
   "source": [
    "0."
   ]
  },
  {
   "cell_type": "code",
   "execution_count": null,
   "metadata": {},
   "outputs": [
    {
     "data": {
      "text/plain": [
       "(1.0, (0.5, 0.0))"
      ]
     },
     "execution_count": 119,
     "metadata": {},
     "output_type": "execute_result"
    }
   ],
   "source": []
  },
  {
   "cell_type": "code",
   "execution_count": 129,
   "metadata": {},
   "outputs": [
    {
     "data": {
      "text/plain": [
       "array([0.00000000e+000, 0.00000000e+000, 0.00000000e+000, 0.00000000e+000,\n",
       "       0.00000000e+000, 0.00000000e+000, 0.00000000e+000, 0.00000000e+000,\n",
       "       0.00000000e+000, 0.00000000e+000, 0.00000000e+000, 0.00000000e+000,\n",
       "       0.00000000e+000, 0.00000000e+000, 0.00000000e+000, 0.00000000e+000,\n",
       "       0.00000000e+000, 0.00000000e+000, 0.00000000e+000, 0.00000000e+000,\n",
       "       0.00000000e+000, 0.00000000e+000, 0.00000000e+000, 0.00000000e+000,\n",
       "       0.00000000e+000, 0.00000000e+000, 0.00000000e+000, 0.00000000e+000,\n",
       "       0.00000000e+000, 0.00000000e+000, 0.00000000e+000, 0.00000000e+000,\n",
       "       0.00000000e+000, 0.00000000e+000, 0.00000000e+000, 0.00000000e+000,\n",
       "       0.00000000e+000, 0.00000000e+000, 0.00000000e+000, 0.00000000e+000,\n",
       "       0.00000000e+000, 0.00000000e+000, 0.00000000e+000, 0.00000000e+000,\n",
       "       0.00000000e+000, 0.00000000e+000, 0.00000000e+000, 0.00000000e+000,\n",
       "       0.00000000e+000, 0.00000000e+000, 0.00000000e+000, 0.00000000e+000,\n",
       "       0.00000000e+000, 0.00000000e+000, 0.00000000e+000, 0.00000000e+000,\n",
       "       0.00000000e+000, 0.00000000e+000, 0.00000000e+000, 0.00000000e+000,\n",
       "       0.00000000e+000, 0.00000000e+000, 0.00000000e+000, 0.00000000e+000,\n",
       "       1.96669459e-308, 2.51487683e-285, 5.80341566e-263, 2.40940264e-241,\n",
       "       1.78525665e-220, 2.32937012e-200, 5.25025620e-181, 1.99259930e-162,\n",
       "       1.23251740e-144, 1.19322572e-127, 1.72101562e-111, 3.48481826e-096,\n",
       "       9.22751405e-082, 2.93664145e-068, 1.01628479e-055, 3.39671320e-044,\n",
       "       9.52447921e-034, 1.89499355e-024, 2.18987139e-016, 1.15556147e-009,\n",
       "       2.08095661e-004, 8.96159310e-001, 5.95010334e+001, 3.51832772e+001,\n",
       "       9.23038355e-002, 4.36371627e-007, 1.12930482e-015, 3.16960524e-028,\n",
       "       9.91347922e-046, 1.22579176e-069, 3.36032607e-102, 3.42806415e-147,\n",
       "       1.07871292e-211, 1.30462122e-311, 0.00000000e+000, 0.00000000e+000])"
      ]
     },
     "execution_count": 129,
     "metadata": {},
     "output_type": "execute_result"
    }
   ],
   "source": [
    "beta_pdf"
   ]
  },
  {
   "cell_type": "code",
   "execution_count": 130,
   "metadata": {},
   "outputs": [
    {
     "data": {
      "text/plain": [
       "array(0.87259615)"
      ]
     },
     "execution_count": 130,
     "metadata": {},
     "output_type": "execute_result"
    }
   ],
   "source": [
    "\n",
    "mean, var, skew, kurt = beta.stats(a, b, moments='mvsk')\n",
    "mean"
   ]
  },
  {
   "cell_type": "code",
   "execution_count": null,
   "metadata": {},
   "outputs": [
    {
     "data": {
      "image/png": "[encoded data removed]",
      "text/plain": [
       "<Figure size 330x250 with 1 Axes>"
      ]
     },
     "metadata": {},
     "output_type": "display_data"
    }
   ],
   "source": [
    "fig, ax = plt.subplots(1, 1)\n",
    "ax.plot(x, beta_pdf,\n",
    "       '', lw=1, alpha=0.6, label='beta pdf',  rasterized=True)\n",
    "ax.set_title(f\"{n}\"+r\"x\"+f\"{n}\"+r\" - PDF of $\\beta_{random}^2 \\sim$ Beta\" + f\"({a}, {b})\")\n",
    "a1 = ax.fill_between(x[0:25], beta_pdf[0:25], alpha=0.3 ,color='red', linewidth =0, label=r'$P(\\beta_{rand}^2 \\leq 0.25) $, sym')\n",
    "a2 = ax.fill_between(x[75:], beta_pdf[75:], alpha=0.3 , color='blue', linewidth =0, label=r'$P(\\beta_{rand}^2 \\geq 0.75)$, antisym')\n",
    "ax.legend(handles=[a1, a2], loc = \"upper left\")\n",
    "ax.set_ylabel(\"PDF\")\n",
    "plt.savefig(f'figures/rand_beta_pdf_N={n}.pdf', dpi=600)\n",
    "\n",
    "plt.show()\n",
    "plt.close()\n"
   ]
  },
  {
   "cell_type": "code",
   "execution_count": 107,
   "metadata": {},
   "outputs": [
    {
     "data": {
      "text/plain": [
       "'import tensorflow as tf\\n\\nfilters = tf.random.normal([n,n, 100,100])\\ns, a = utils.getSymAntiSymTF(filters)\\n#theta = getSobelTF(filters)\\na_energy = tf.math.reduce_euclidean_norm(a, axis=[0,1])**2\\ns_energy = tf.math.reduce_euclidean_norm(s, axis=[0,1])**2\\ntotal_energy  = tf.math.reduce_euclidean_norm(filters, axis=[0,1])**2\\n#beta = a_energy/total_energy\\nbeta = tf.reshape(a_energy/total_energy, (1,-1))\\n\\nfig, ax = plt.subplots(1, 1)\\nax.hist( beta)'"
      ]
     },
     "execution_count": 107,
     "metadata": {},
     "output_type": "execute_result"
    }
   ],
   "source": [
    "'''import tensorflow as tf\n",
    "\n",
    "filters = tf.random.normal([n,n, 100,100])\n",
    "s, a = utils.getSymAntiSymTF(filters)\n",
    "#theta = getSobelTF(filters)\n",
    "a_energy = tf.math.reduce_euclidean_norm(a, axis=[0,1])**2\n",
    "s_energy = tf.math.reduce_euclidean_norm(s, axis=[0,1])**2\n",
    "total_energy  = tf.math.reduce_euclidean_norm(filters, axis=[0,1])**2\n",
    "#beta = a_energy/total_energy\n",
    "beta = tf.reshape(a_energy/total_energy, (1,-1))\n",
    "\n",
    "fig, ax = plt.subplots(1, 1)\n",
    "ax.hist( beta)'''\n"
   ]
  },
  {
   "cell_type": "code",
   "execution_count": null,
   "metadata": {},
   "outputs": [],
   "source": []
  }
 ],
 "metadata": {
  "kernelspec": {
   "display_name": "masters",
   "language": "python",
   "name": "python3"
  },
  "language_info": {
   "codemirror_mode": {
    "name": "ipython",
    "version": 3
   },
   "file_extension": ".py",
   "mimetype": "text/x-python",
   "name": "python",
   "nbconvert_exporter": "python",
   "pygments_lexer": "ipython3",
   "version": "3.7.16"
  }
 },
 "nbformat": 4,
 "nbformat_minor": 2
}
