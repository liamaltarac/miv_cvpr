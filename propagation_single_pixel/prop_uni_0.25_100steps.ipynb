{
 "cells": [
  {
   "cell_type": "code",
   "execution_count": 346,
   "metadata": {},
   "outputs": [],
   "source": [
    "import sys\n",
    "sys.path.append('../')\n",
    "\n",
    "import numpy as np\n",
    "from scipy import ndimage\n",
    "\n",
    "from skimage.filters import sobel_h\n",
    "from skimage.filters import sobel_v\n",
    "from scipy import stats\n",
    "\n",
    "\n",
    "import os\n",
    "import matplotlib\n",
    "import matplotlib.pyplot as plt\n",
    "from mpl_toolkits.mplot3d import Axes3D\n",
    "from mpl_toolkits.mplot3d.proj3d import proj_transform\n",
    "from matplotlib.patches import FancyArrowPatch\n",
    "from mpl_toolkits.mplot3d import proj3d\n",
    "\n",
    "\n",
    "import scienceplots\n",
    "from tensorflow.python.client import device_lib\n",
    "\n",
    "#plt.rcParams['figure.figsize'] = [10,10]\n",
    "\n",
    "import tensorflow as tf\n",
    "from tensorflow.keras.preprocessing import image\n",
    "from tensorflow.keras.applications.vgg16 import decode_predictions\n",
    "from tensorflow.keras.applications import VGG16\n",
    "\n",
    "from tensorflow.nn import depthwise_conv2d\n",
    "from tensorflow.math import multiply, reduce_sum, reduce_mean,reduce_euclidean_norm, sin, cos, abs\n",
    "from tensorflow import stack, concat, expand_dims\n",
    "\n",
    "import tensorflow_probability as tfp\n",
    "\n",
    "from utils.utils import *\n",
    "import cv2\n",
    "\n",
    "from scipy import ndimage, fft\n",
    "\n",
    "plt.style.use(['science', 'ieee'])\n",
    "plt.rcParams.update({'figure.dpi': '100'})"
   ]
  },
  {
   "cell_type": "markdown",
   "metadata": {},
   "source": [
    "#### Experiment #1 : HandCrafted AntiSymmetric Bipolar Convolution\n"
   ]
  },
  {
   "cell_type": "code",
   "execution_count": 347,
   "metadata": {},
   "outputs": [],
   "source": [
    "k =  3 # Top 10% highest l2-magnitude filters"
   ]
  },
  {
   "cell_type": "code",
   "execution_count": 348,
   "metadata": {},
   "outputs": [
    {
     "name": "stdout",
     "output_type": "stream",
     "text": [
      "[[ 0.61237244 -0.61237244]] (3, 3, 1, 1)\n"
     ]
    },
    {
     "data": {
      "text/plain": [
       "<tf.Tensor: shape=(), dtype=float64, numpy=0.21650635094610965>"
      ]
     },
     "execution_count": 348,
     "metadata": {},
     "output_type": "execute_result"
    }
   ],
   "source": [
    "t = np.zeros((1,2))\n",
    "t[0,1] = np.sqrt(0.75)\n",
    "print(fft.idctn(t, norm=\"ortho\"), (k,k,1,1))\n",
    "tf.math.reduce_euclidean_norm(fft.idctn(t, norm=None))\n"
   ]
  },
  {
   "cell_type": "code",
   "execution_count": 349,
   "metadata": {},
   "outputs": [
    {
     "name": "stdout",
     "output_type": "stream",
     "text": [
      "[[0.35355339 0.35355339]] (3, 3, 1, 1)\n"
     ]
    },
    {
     "data": {
      "text/plain": [
       "<tf.Tensor: shape=(), dtype=float64, numpy=0.08838834764831845>"
      ]
     },
     "execution_count": 349,
     "metadata": {},
     "output_type": "execute_result"
    }
   ],
   "source": [
    "t = np.zeros((1,2))\n",
    "t[0, 0] = np.sqrt(0.25)\n",
    "print(fft.idctn(t, norm=\"ortho\"), (k,k,1,1))\n",
    "\n",
    "tf.math.reduce_euclidean_norm(fft.idctn(t, norm=None))\n"
   ]
  },
  {
   "cell_type": "code",
   "execution_count": 350,
   "metadata": {},
   "outputs": [
    {
     "data": {
      "text/plain": [
       "0.30618622"
      ]
     },
     "execution_count": 350,
     "metadata": {},
     "output_type": "execute_result"
    }
   ],
   "source": [
    "0.61237244/2"
   ]
  },
  {
   "cell_type": "code",
   "execution_count": 351,
   "metadata": {},
   "outputs": [
    {
     "name": "stdout",
     "output_type": "stream",
     "text": [
      "(3, 3, 1, 1)\n",
      "(1, 3, 3, 1) (1, 3, 3, 1) (1, 3, 3, 1)\n",
      "(1, 3, 3, 1) (1, 3, 3, 1) (1, 3, 3, 1)\n",
      "tf.Tensor([[0.25]], shape=(1, 1), dtype=float64)\n",
      "tf.Tensor([[0.25]], shape=(1, 1), dtype=float64)\n"
     ]
    }
   ],
   "source": [
    "F = 0\n",
    "k = 3\n",
    "filters = np.zeros((k,k,1,1))\n",
    "\n",
    "t = np.zeros((k,k))\n",
    "t[1,0] = np.sqrt(1)\n",
    "t[0, 0] = np.sqrt(0)\n",
    "filters = np.reshape(fft.idctn(t, norm=\"ortho\"), (k,k,1,1))\n",
    "#filters /= np.sum(filters**2)\n",
    "\n",
    "\n",
    "\n",
    "#filters[:,:,0,0] =  (1/9)*np.array([[1,1,1], [1,1,1], [1,1,1]]) + (1/6)*np.array([[1,1,1], [0,0,0], [-1,-1,-1]]) \n",
    "\n",
    "\n",
    "#filters[:,0,0,0] = 0.\n",
    "#filters[:,-1,0,0] = 0.\n",
    "filters = np.zeros((k,k,1,1))\n",
    "\n",
    "\n",
    "filters[0,1,0,0] = 1\n",
    "\n",
    "theta = getSobelTF(filters)\n",
    "print(filters.shape)\n",
    "s, a = getSymAntiSymTF(filters)\n",
    "\n",
    "a_mag = reduce_euclidean_norm(a, axis=[0,1])\n",
    "s_mag = reduce_euclidean_norm(s, axis=[0,1])\n",
    "mag = reduce_euclidean_norm(filters, axis=[0,1])\n",
    "\n",
    "\n",
    "a = a/a_mag\n",
    "s = s/s_mag\n",
    "\n",
    "\n",
    "filters = a*np.sqrt(0.25) + s*np.sqrt(0.75)\n",
    "\n",
    "s, a = getSymAntiSymTF(filters)\n",
    "\n",
    "a_mag = reduce_euclidean_norm(a, axis=[0,1])\n",
    "s_mag = reduce_euclidean_norm(s, axis=[0,1])\n",
    "mag = reduce_euclidean_norm(filters, axis=[0,1])\n",
    "\n",
    "\n",
    "print(a_mag**2 / mag**2)\n",
    "\n",
    "print((a_mag**2)/mag**2)\n",
    "\n",
    "x =(a_mag[:,F]*np.cos((theta[:,F]))).numpy()\n",
    "y =( a_mag[:,F]*np.sin((theta[:,F]))).numpy()\n",
    "z =(s_mag[:,F]*np.sign(np.mean(s, axis=(0,1)))[:,F]).numpy()\n",
    "plt.rcParams.update({'figure.dpi': '100'})\n",
    "\n",
    "\n"
   ]
  },
  {
   "cell_type": "code",
   "execution_count": 352,
   "metadata": {},
   "outputs": [
    {
     "data": {
      "text/plain": [
       "<tf.Tensor: shape=(3, 3), dtype=float64, numpy=\n",
       "array([[0.        , 0.8660254 , 0.        ],\n",
       "       [0.28867513, 0.        , 0.28867513],\n",
       "       [0.        , 0.28867513, 0.        ]])>"
      ]
     },
     "execution_count": 352,
     "metadata": {},
     "output_type": "execute_result"
    }
   ],
   "source": [
    "filters[:,:,0,0]"
   ]
  },
  {
   "cell_type": "code",
   "execution_count": 353,
   "metadata": {},
   "outputs": [
    {
     "data": {
      "text/plain": [
       "1"
      ]
     },
     "execution_count": 353,
     "metadata": {},
     "output_type": "execute_result"
    }
   ],
   "source": [
    "3//2"
   ]
  },
  {
   "cell_type": "code",
   "execution_count": 354,
   "metadata": {},
   "outputs": [
    {
     "name": "stdout",
     "output_type": "stream",
     "text": [
      "(355, 355)\n"
     ]
    }
   ],
   "source": [
    "#var = 2/(128*9)\n",
    "\n",
    "img = np.zeros((355,355)) # cv2.imread('input4.png', 0)/255. \n",
    "mid = img.shape[0]//2\n",
    "img[mid, mid] = 1.\n",
    "#img = (img-np.mean(img))/np.std(img)\n",
    "#img = tf.repeat(tf.expand_dims([img], axis=-1) , repeats = 512, axis=-1)  #get_double_slit(shape) , axis=0)\n",
    "print(img.shape)"
   ]
  },
  {
   "cell_type": "code",
   "execution_count": 355,
   "metadata": {},
   "outputs": [
    {
     "data": {
      "text/plain": [
       "(np.float64(7.9348705817612e-06), 0.0008680555555555555)"
      ]
     },
     "execution_count": 355,
     "metadata": {},
     "output_type": "execute_result"
    }
   ],
   "source": [
    "np.var(img), 1/(128*9)\n"
   ]
  },
  {
   "cell_type": "code",
   "execution_count": 356,
   "metadata": {},
   "outputs": [
    {
     "name": "stdout",
     "output_type": "stream",
     "text": [
      "(3, 3, 1, 1)\n",
      "0\n",
      "(1, 355, 355, 1)\n",
      "VALS 1.0\n",
      "tf.Tensor(0.0, shape=(), dtype=float32) 0.0\n",
      "(1, 355, 355, 1)\n",
      "1\n",
      "(1, 355, 355, 1)\n",
      "VALS 1.0\n",
      "tf.Tensor(0.49999997, shape=(), dtype=float32) 0.86602545\n",
      "(1, 355, 355, 1)\n",
      "2\n",
      "3\n",
      "4\n",
      "5\n",
      "6\n",
      "7\n",
      "8\n",
      "9\n",
      "10\n",
      "(1, 355, 355, 1)\n",
      "VALS 1.0\n",
      "tf.Tensor(3.5152507, shape=(), dtype=float32) 2.422125\n",
      "(1, 355, 355, 1)\n",
      "11\n",
      "12\n",
      "13\n",
      "14\n",
      "15\n",
      "16\n",
      "17\n",
      "18\n",
      "19\n",
      "20\n",
      "(1, 355, 355, 1)\n",
      "VALS 1.0\n",
      "tf.Tensor(6.840129, shape=(), dtype=float32) 3.376819\n",
      "(1, 355, 355, 1)\n",
      "21\n",
      "22\n",
      "23\n",
      "24\n",
      "25\n",
      "26\n",
      "27\n",
      "28\n",
      "29\n",
      "30\n",
      "31\n",
      "32\n",
      "33\n",
      "34\n",
      "35\n",
      "36\n",
      "37\n",
      "38\n",
      "39\n",
      "40\n",
      "(1, 355, 355, 1)\n",
      "VALS 0.99999994\n",
      "tf.Tensor(13.50325, shape=(), dtype=float32) 4.744111\n",
      "(1, 355, 355, 1)\n",
      "41\n",
      "42\n",
      "43\n",
      "44\n",
      "45\n",
      "46\n",
      "47\n",
      "48\n",
      "49\n",
      "50\n",
      "51\n",
      "52\n",
      "53\n",
      "54\n",
      "55\n",
      "56\n",
      "57\n",
      "58\n",
      "59\n",
      "60\n",
      "(1, 355, 355, 1)\n",
      "VALS 0.99999994\n",
      "tf.Tensor(20.168804, shape=(), dtype=float32) 5.797881\n",
      "(1, 355, 355, 1)\n",
      "61\n",
      "62\n",
      "63\n",
      "64\n",
      "65\n",
      "66\n",
      "67\n",
      "68\n",
      "69\n",
      "70\n",
      "71\n",
      "72\n",
      "73\n",
      "74\n",
      "75\n",
      "76\n",
      "77\n",
      "78\n",
      "79\n",
      "80\n",
      "(1, 355, 355, 1)\n",
      "VALS 1.0\n",
      "tf.Tensor(26.834927, shape=(), dtype=float32) 6.687707\n",
      "(1, 355, 355, 1)\n",
      "81\n",
      "82\n",
      "83\n",
      "84\n",
      "85\n",
      "86\n",
      "87\n",
      "88\n",
      "89\n",
      "90\n",
      "91\n",
      "92\n",
      "93\n",
      "94\n",
      "95\n",
      "96\n",
      "97\n",
      "98\n",
      "99\n",
      "100\n",
      "(1, 355, 355, 1)\n",
      "VALS 1.0\n",
      "tf.Tensor(33.501266, shape=(), dtype=float32) 7.472341\n",
      "(1, 355, 355, 1)\n"
     ]
    },
    {
     "data": {
      "image/png": "[encoded data removed]",
      "text/plain": [
       "<Figure size 330x250 with 1 Axes>"
      ]
     },
     "metadata": {},
     "output_type": "display_data"
    },
    {
     "data": {
      "image/png": "[encoded data removed]",
      "text/plain": [
       "<Figure size 330x250 with 1 Axes>"
      ]
     },
     "metadata": {},
     "output_type": "display_data"
    },
    {
     "data": {
      "image/png": "[encoded data removed]",
      "text/plain": [
       "<Figure size 330x250 with 1 Axes>"
      ]
     },
     "metadata": {},
     "output_type": "display_data"
    },
    {
     "data": {
      "image/png": "[encoded data removed]",
      "text/plain": [
       "<Figure size 330x250 with 1 Axes>"
      ]
     },
     "metadata": {},
     "output_type": "display_data"
    },
    {
     "data": {
      "image/png": "[encoded data removed]",
      "text/plain": [
       "<Figure size 330x250 with 1 Axes>"
      ]
     },
     "metadata": {},
     "output_type": "display_data"
    },
    {
     "data": {
      "image/png": "[encoded data removed]",
      "text/plain": [
       "<Figure size 330x250 with 1 Axes>"
      ]
     },
     "metadata": {},
     "output_type": "display_data"
    },
    {
     "data": {
      "image/png": "[encoded data removed]",
      "text/plain": [
       "<Figure size 330x250 with 1 Axes>"
      ]
     },
     "metadata": {},
     "output_type": "display_data"
    },
    {
     "data": {
      "image/png": "[encoded data removed]",
      "text/plain": [
       "<Figure size 330x250 with 1 Axes>"
      ]
     },
     "metadata": {},
     "output_type": "display_data"
    }
   ],
   "source": [
    "import matplotlib.patches as mpatches\n",
    "\n",
    "w =tf.cast(filters, dtype=tf.float32)# tf.expand_dims(filters, -1), dtype=tf.float32)\n",
    "w = tf.transpose(w, perm=(1,0,2,3))\n",
    "print(w.shape)\n",
    "\n",
    "x = img\n",
    "\n",
    "\n",
    "directory = f\"figures/prop_unipolar_0.25\"\n",
    "if not os.path.exists(directory):\n",
    "\tos.makedirs(directory)\n",
    "x = tf.cast(tf.repeat(tf.expand_dims([img], axis=-1) , repeats = filters.shape[-2], axis=-1), dtype=tf.float32) \n",
    "for i in range(101):\n",
    "\tprint(i)\n",
    "\tif i in [0,1, 10, 20, 40, 60, 80, 100]:\n",
    "\t\tfig, ax = plt.subplots()\n",
    "\t\tprint(x.shape)\n",
    "\t\tx = x/np.std(x)\n",
    "\t\tvals = x[0, x.shape[1]//2, :, :]\n",
    "\t\tvals = vals/np.sum(vals)\n",
    "\n",
    "\t\tprint(\"VALS\", np.sum(vals))\n",
    "\t\tpos = np.expand_dims(np.linspace(-(x.shape[1]//2), x.shape[1]//2, x.shape[1]),-1)\n",
    "\t\tmean = tf.reduce_sum(pos*vals)\n",
    "\t\tvar = tf.reduce_sum(((pos-mean)**2) * vals)\n",
    "\t\tstd = np.sqrt(var)\n",
    "\t\tprint(mean, np.sqrt(var))\n",
    "\t\t\n",
    "\t\t#x = tf.repeat(x , repeats = filters.shape[-2], axis=-1)\n",
    "\t\tprint(x.shape)\n",
    "\n",
    "\t\tim = ax.imshow(np.sum(x[0,:,:,:], axis=-1))\n",
    "\t\tax.plot(mid, mid, marker = '+', color='red')\n",
    "\n",
    "\t\t#ax.plot(112+mean, 112, marker = \".\", color='black')\n",
    "\t\tarr =  mpatches.FancyArrowPatch((mid+mean, mid), (mid+mean+std, mid),\n",
    "\t\t\t\t\t\t\t\tmutation_scale=4, shrinkA=0, shrinkB=0,zorder=10, color=\"red\")\n",
    "\t\t#ax.add_patch(arr)\n",
    "\t\t\n",
    "\t\tax.annotate(r'$\\sigma=$'+f\"{std:.2f}\", (100, 60), ha='center', va='bottom',color='white')\n",
    "\t\tax.annotate(r'$\\mu=$'+f\"{mean:.2f}\", (100, 80), ha='center', va='bottom',color='white')\n",
    "\t\tax.annotate(r'$argmax=$'+f\"{np.argmax(vals)-mid:.2f}\", (100, 100), ha='center', va='bottom',color='white')\n",
    "\n",
    "\t\t#ax.annotate(r'$\\sigma=$'+f\"{std:.2f}\", (.5, 6), xycoords=arr, ha='center', va='bottom',color='white')\n",
    "\t\t#ax.arrow(, 112, dx=, dy= 0, color='black')\n",
    "\n",
    "\t\t#ax.set(xlim=( (mid-(5)-1), (mid+(10)+1)), ylim=((mid-(5)-1), (mid+(5)+1)))\n",
    "\t\t#ax.set_xticks(np.linspace(-round(std)-1, round(std)+1, int(0.5*(std)+3)))\n",
    "\t\t#fig.colorbar(im, orientation='vertical')\n",
    "\t\tfig.savefig(directory + f'/{i}.pdf', dpi=150,  transparent=True, bbox_inches='tight')\n",
    "\n",
    "\tx = tf.nn.relu( tf.nn.conv2d(x, w , strides=(1,1), \n",
    "\t\t\t\t\t\t\tpadding='SAME') )"
   ]
  },
  {
   "cell_type": "code",
   "execution_count": 357,
   "metadata": {},
   "outputs": [
    {
     "data": {
      "text/plain": [
       "(0.0, 224.0)"
      ]
     },
     "execution_count": 357,
     "metadata": {},
     "output_type": "execute_result"
    },
    {
     "data": {
      "image/png": "[encoded data removed]",
      "text/plain": [
       "<Figure size 330x250 with 1 Axes>"
      ]
     },
     "metadata": {},
     "output_type": "display_data"
    }
   ],
   "source": [
    "x = tf.nn.relu( tf.nn.conv2d(x, w , strides=(1,1), \n",
    "\t\t\t\t\t\tpadding='SAME') )\n",
    "\t\n",
    "im = plt.imshow(np.sum(x[0,:,:,:], axis=-1))\n",
    "plt.plot(112, 112, marker = '+', color='red')\n",
    "plt.xlim([0, 224])#, ylim=(0, 224))\n",
    "plt.ylim([0, 224])#, ylim=(0, 224))\n",
    "\n",
    "#, ylim=(0, 224))"
   ]
  },
  {
   "cell_type": "code",
   "execution_count": 358,
   "metadata": {},
   "outputs": [
    {
     "data": {
      "text/plain": [
       "array([[-177.],\n",
       "       [-176.],\n",
       "       [-175.],\n",
       "       [-174.],\n",
       "       [-173.],\n",
       "       [-172.],\n",
       "       [-171.],\n",
       "       [-170.],\n",
       "       [-169.],\n",
       "       [-168.],\n",
       "       [-167.],\n",
       "       [-166.],\n",
       "       [-165.],\n",
       "       [-164.],\n",
       "       [-163.],\n",
       "       [-162.],\n",
       "       [-161.],\n",
       "       [-160.],\n",
       "       [-159.],\n",
       "       [-158.],\n",
       "       [-157.],\n",
       "       [-156.],\n",
       "       [-155.],\n",
       "       [-154.],\n",
       "       [-153.],\n",
       "       [-152.],\n",
       "       [-151.],\n",
       "       [-150.],\n",
       "       [-149.],\n",
       "       [-148.],\n",
       "       [-147.],\n",
       "       [-146.],\n",
       "       [-145.],\n",
       "       [-144.],\n",
       "       [-143.],\n",
       "       [-142.],\n",
       "       [-141.],\n",
       "       [-140.],\n",
       "       [-139.],\n",
       "       [-138.],\n",
       "       [-137.],\n",
       "       [-136.],\n",
       "       [-135.],\n",
       "       [-134.],\n",
       "       [-133.],\n",
       "       [-132.],\n",
       "       [-131.],\n",
       "       [-130.],\n",
       "       [-129.],\n",
       "       [-128.],\n",
       "       [-127.],\n",
       "       [-126.],\n",
       "       [-125.],\n",
       "       [-124.],\n",
       "       [-123.],\n",
       "       [-122.],\n",
       "       [-121.],\n",
       "       [-120.],\n",
       "       [-119.],\n",
       "       [-118.],\n",
       "       [-117.],\n",
       "       [-116.],\n",
       "       [-115.],\n",
       "       [-114.],\n",
       "       [-113.],\n",
       "       [-112.],\n",
       "       [-111.],\n",
       "       [-110.],\n",
       "       [-109.],\n",
       "       [-108.],\n",
       "       [-107.],\n",
       "       [-106.],\n",
       "       [-105.],\n",
       "       [-104.],\n",
       "       [-103.],\n",
       "       [-102.],\n",
       "       [-101.],\n",
       "       [-100.],\n",
       "       [ -99.],\n",
       "       [ -98.],\n",
       "       [ -97.],\n",
       "       [ -96.],\n",
       "       [ -95.],\n",
       "       [ -94.],\n",
       "       [ -93.],\n",
       "       [ -92.],\n",
       "       [ -91.],\n",
       "       [ -90.],\n",
       "       [ -89.],\n",
       "       [ -88.],\n",
       "       [ -87.],\n",
       "       [ -86.],\n",
       "       [ -85.],\n",
       "       [ -84.],\n",
       "       [ -83.],\n",
       "       [ -82.],\n",
       "       [ -81.],\n",
       "       [ -80.],\n",
       "       [ -79.],\n",
       "       [ -78.],\n",
       "       [ -77.],\n",
       "       [ -76.],\n",
       "       [ -75.],\n",
       "       [ -74.],\n",
       "       [ -73.],\n",
       "       [ -72.],\n",
       "       [ -71.],\n",
       "       [ -70.],\n",
       "       [ -69.],\n",
       "       [ -68.],\n",
       "       [ -67.],\n",
       "       [ -66.],\n",
       "       [ -65.],\n",
       "       [ -64.],\n",
       "       [ -63.],\n",
       "       [ -62.],\n",
       "       [ -61.],\n",
       "       [ -60.],\n",
       "       [ -59.],\n",
       "       [ -58.],\n",
       "       [ -57.],\n",
       "       [ -56.],\n",
       "       [ -55.],\n",
       "       [ -54.],\n",
       "       [ -53.],\n",
       "       [ -52.],\n",
       "       [ -51.],\n",
       "       [ -50.],\n",
       "       [ -49.],\n",
       "       [ -48.],\n",
       "       [ -47.],\n",
       "       [ -46.],\n",
       "       [ -45.],\n",
       "       [ -44.],\n",
       "       [ -43.],\n",
       "       [ -42.],\n",
       "       [ -41.],\n",
       "       [ -40.],\n",
       "       [ -39.],\n",
       "       [ -38.],\n",
       "       [ -37.],\n",
       "       [ -36.],\n",
       "       [ -35.],\n",
       "       [ -34.],\n",
       "       [ -33.],\n",
       "       [ -32.],\n",
       "       [ -31.],\n",
       "       [ -30.],\n",
       "       [ -29.],\n",
       "       [ -28.],\n",
       "       [ -27.],\n",
       "       [ -26.],\n",
       "       [ -25.],\n",
       "       [ -24.],\n",
       "       [ -23.],\n",
       "       [ -22.],\n",
       "       [ -21.],\n",
       "       [ -20.],\n",
       "       [ -19.],\n",
       "       [ -18.],\n",
       "       [ -17.],\n",
       "       [ -16.],\n",
       "       [ -15.],\n",
       "       [ -14.],\n",
       "       [ -13.],\n",
       "       [ -12.],\n",
       "       [ -11.],\n",
       "       [ -10.],\n",
       "       [  -9.],\n",
       "       [  -8.],\n",
       "       [  -7.],\n",
       "       [  -6.],\n",
       "       [  -5.],\n",
       "       [  -4.],\n",
       "       [  -3.],\n",
       "       [  -2.],\n",
       "       [  -1.],\n",
       "       [   0.],\n",
       "       [   1.],\n",
       "       [   2.],\n",
       "       [   3.],\n",
       "       [   4.],\n",
       "       [   5.],\n",
       "       [   6.],\n",
       "       [   7.],\n",
       "       [   8.],\n",
       "       [   9.],\n",
       "       [  10.],\n",
       "       [  11.],\n",
       "       [  12.],\n",
       "       [  13.],\n",
       "       [  14.],\n",
       "       [  15.],\n",
       "       [  16.],\n",
       "       [  17.],\n",
       "       [  18.],\n",
       "       [  19.],\n",
       "       [  20.],\n",
       "       [  21.],\n",
       "       [  22.],\n",
       "       [  23.],\n",
       "       [  24.],\n",
       "       [  25.],\n",
       "       [  26.],\n",
       "       [  27.],\n",
       "       [  28.],\n",
       "       [  29.],\n",
       "       [  30.],\n",
       "       [  31.],\n",
       "       [  32.],\n",
       "       [  33.],\n",
       "       [  34.],\n",
       "       [  35.],\n",
       "       [  36.],\n",
       "       [  37.],\n",
       "       [  38.],\n",
       "       [  39.],\n",
       "       [  40.],\n",
       "       [  41.],\n",
       "       [  42.],\n",
       "       [  43.],\n",
       "       [  44.],\n",
       "       [  45.],\n",
       "       [  46.],\n",
       "       [  47.],\n",
       "       [  48.],\n",
       "       [  49.],\n",
       "       [  50.],\n",
       "       [  51.],\n",
       "       [  52.],\n",
       "       [  53.],\n",
       "       [  54.],\n",
       "       [  55.],\n",
       "       [  56.],\n",
       "       [  57.],\n",
       "       [  58.],\n",
       "       [  59.],\n",
       "       [  60.],\n",
       "       [  61.],\n",
       "       [  62.],\n",
       "       [  63.],\n",
       "       [  64.],\n",
       "       [  65.],\n",
       "       [  66.],\n",
       "       [  67.],\n",
       "       [  68.],\n",
       "       [  69.],\n",
       "       [  70.],\n",
       "       [  71.],\n",
       "       [  72.],\n",
       "       [  73.],\n",
       "       [  74.],\n",
       "       [  75.],\n",
       "       [  76.],\n",
       "       [  77.],\n",
       "       [  78.],\n",
       "       [  79.],\n",
       "       [  80.],\n",
       "       [  81.],\n",
       "       [  82.],\n",
       "       [  83.],\n",
       "       [  84.],\n",
       "       [  85.],\n",
       "       [  86.],\n",
       "       [  87.],\n",
       "       [  88.],\n",
       "       [  89.],\n",
       "       [  90.],\n",
       "       [  91.],\n",
       "       [  92.],\n",
       "       [  93.],\n",
       "       [  94.],\n",
       "       [  95.],\n",
       "       [  96.],\n",
       "       [  97.],\n",
       "       [  98.],\n",
       "       [  99.],\n",
       "       [ 100.],\n",
       "       [ 101.],\n",
       "       [ 102.],\n",
       "       [ 103.],\n",
       "       [ 104.],\n",
       "       [ 105.],\n",
       "       [ 106.],\n",
       "       [ 107.],\n",
       "       [ 108.],\n",
       "       [ 109.],\n",
       "       [ 110.],\n",
       "       [ 111.],\n",
       "       [ 112.],\n",
       "       [ 113.],\n",
       "       [ 114.],\n",
       "       [ 115.],\n",
       "       [ 116.],\n",
       "       [ 117.],\n",
       "       [ 118.],\n",
       "       [ 119.],\n",
       "       [ 120.],\n",
       "       [ 121.],\n",
       "       [ 122.],\n",
       "       [ 123.],\n",
       "       [ 124.],\n",
       "       [ 125.],\n",
       "       [ 126.],\n",
       "       [ 127.],\n",
       "       [ 128.],\n",
       "       [ 129.],\n",
       "       [ 130.],\n",
       "       [ 131.],\n",
       "       [ 132.],\n",
       "       [ 133.],\n",
       "       [ 134.],\n",
       "       [ 135.],\n",
       "       [ 136.],\n",
       "       [ 137.],\n",
       "       [ 138.],\n",
       "       [ 139.],\n",
       "       [ 140.],\n",
       "       [ 141.],\n",
       "       [ 142.],\n",
       "       [ 143.],\n",
       "       [ 144.],\n",
       "       [ 145.],\n",
       "       [ 146.],\n",
       "       [ 147.],\n",
       "       [ 148.],\n",
       "       [ 149.],\n",
       "       [ 150.],\n",
       "       [ 151.],\n",
       "       [ 152.],\n",
       "       [ 153.],\n",
       "       [ 154.],\n",
       "       [ 155.],\n",
       "       [ 156.],\n",
       "       [ 157.],\n",
       "       [ 158.],\n",
       "       [ 159.],\n",
       "       [ 160.],\n",
       "       [ 161.],\n",
       "       [ 162.],\n",
       "       [ 163.],\n",
       "       [ 164.],\n",
       "       [ 165.],\n",
       "       [ 166.],\n",
       "       [ 167.],\n",
       "       [ 168.],\n",
       "       [ 169.],\n",
       "       [ 170.],\n",
       "       [ 171.],\n",
       "       [ 172.],\n",
       "       [ 173.],\n",
       "       [ 174.],\n",
       "       [ 175.],\n",
       "       [ 176.],\n",
       "       [ 177.]])"
      ]
     },
     "execution_count": 358,
     "metadata": {},
     "output_type": "execute_result"
    }
   ],
   "source": [
    "pos"
   ]
  },
  {
   "cell_type": "code",
   "execution_count": 359,
   "metadata": {},
   "outputs": [
    {
     "data": {
      "text/plain": [
       "array([0.])"
      ]
     },
     "execution_count": 359,
     "metadata": {},
     "output_type": "execute_result"
    }
   ],
   "source": [
    "pos[x.shape[1]//2]"
   ]
  }
 ],
 "metadata": {
  "kernelspec": {
   "display_name": ".venv",
   "language": "python",
   "name": "python3"
  },
  "language_info": {
   "codemirror_mode": {
    "name": "ipython",
    "version": 3
   },
   "file_extension": ".py",
   "mimetype": "text/x-python",
   "name": "python",
   "nbconvert_exporter": "python",
   "pygments_lexer": "ipython3",
   "version": "3.10.12"
  }
 },
 "nbformat": 4,
 "nbformat_minor": 2
}
