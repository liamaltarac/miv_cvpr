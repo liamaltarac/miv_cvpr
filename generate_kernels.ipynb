{
 "cells": [
  {
   "cell_type": "code",
   "execution_count": 17,
   "id": "54e38ced",
   "metadata": {},
   "outputs": [],
   "source": [
    "import sys\n",
    "sys.path.append('../')\n",
    "\n",
    "import numpy as np\n",
    "from scipy import ndimage\n",
    "\n",
    "from skimage.filters import sobel_h\n",
    "from skimage.filters import sobel_v\n",
    "from scipy import stats\n",
    "\n",
    "\n",
    "import os\n",
    "import matplotlib\n",
    "import matplotlib.pyplot as plt\n",
    "from mpl_toolkits.mplot3d import Axes3D\n",
    "from mpl_toolkits.mplot3d.proj3d import proj_transform\n",
    "from matplotlib.patches import FancyArrowPatch\n",
    "from mpl_toolkits.mplot3d import proj3d\n",
    "\n",
    "\n",
    "import scienceplots\n",
    "from tensorflow.python.client import device_lib\n",
    "\n",
    "#plt.rcParams['figure.figsize'] = [10,10]\n",
    "\n",
    "import tensorflow as tf\n",
    "from tensorflow.keras.preprocessing import image\n",
    "from tensorflow.keras.applications.vgg16 import decode_predictions\n",
    "from tensorflow.keras.applications import VGG16\n",
    "\n",
    "from tensorflow.nn import depthwise_conv2d\n",
    "from tensorflow.math import multiply, reduce_sum, reduce_mean,reduce_euclidean_norm, sin, cos, abs\n",
    "from tensorflow import stack, concat, expand_dims\n",
    "\n",
    "import tensorflow_probability as tfp\n",
    "\n",
    "from utils.utils import *\n",
    "import cv2\n",
    "\n",
    "from scipy import ndimage, fft\n",
    "from io import BytesIO\n",
    "\n",
    "plt.style.use(['science', 'ieee'])\n",
    "plt.rcParams.update({'figure.dpi': '100'})"
   ]
  },
  {
   "cell_type": "code",
   "execution_count": 18,
   "id": "e27dfeb9",
   "metadata": {},
   "outputs": [
    {
     "name": "stdout",
     "output_type": "stream",
     "text": [
      "[[0.  0.  0. ]\n",
      " [0.5 0.5 0. ]\n",
      " [0.5 0.5 0. ]]\n",
      "[[0.        0.        0.       ]\n",
      " [0.6830127 0.1830127 0.       ]\n",
      " [0.6830127 0.1830127 0.       ]]\n",
      "[[0.00000000e+00 0.00000000e+00 0.00000000e+00]\n",
      " [7.07106781e-01 5.55111512e-17 0.00000000e+00]\n",
      " [7.07106781e-01 5.55111512e-17 0.00000000e+00]]\n",
      "[[ 0.         0.         0.       ]\n",
      " [ 0.6830127 -0.1830127  0.       ]\n",
      " [ 0.6830127 -0.1830127  0.       ]]\n",
      "[[ 0.   0.   0. ]\n",
      " [ 0.5 -0.5  0. ]\n",
      " [ 0.5 -0.5  0. ]]\n"
     ]
    },
    {
     "data": {
      "image/png": "[encoded data removed]",
      "text/plain": [
       "<Figure size 330x250 with 1 Axes>"
      ]
     },
     "metadata": {},
     "output_type": "display_data"
    }
   ],
   "source": [
    "\n",
    "for beta2 in [0, 0.25, 0.5, 0.75, 1]:\n",
    "\n",
    "    filters = np.zeros((3,3))\n",
    "\n",
    "\n",
    "\n",
    "    t = np.zeros((2,2))\n",
    "    t[0,1] = np.sqrt(beta2)\n",
    "    t[0, 0] = np.sqrt(1-beta2)\n",
    "\n",
    "    filters[1:,0:2] = fft.idctn(t, norm=\"ortho\")\n",
    "    print(filters)\n",
    "\n",
    "    plt.imshow(filters, cmap='gray', vmin=-0.5, vmax=0.5)\n",
    "    plt.xticks([])  # Remove x-axis ticks\n",
    "    plt.yticks([])  # Remove y-axis ticks\\\n",
    "\n",
    "    plt.grid(True)\n",
    "    plt.savefig(f\"kernels/k2_beta2_{beta2}_1.pdf\")\n",
    "\n",
    "\n",
    "    filters = np.zeros((3,3))\n",
    "\n",
    "    filters[0:2,1:] = fft.idctn(t, norm=\"ortho\")\n",
    "    plt.imshow(filters, cmap='gray', vmin=-0.5, vmax=0.5)\n",
    "    plt.xticks([])  # Remove x-axis ticks\n",
    "    plt.yticks([])  # Remove y-axis ticks\n",
    "    plt.grid(True)\n",
    "    plt.savefig(f\"kernels/k2_beta2_{beta2}_2.pdf\")\n"
   ]
  },
  {
   "cell_type": "code",
   "execution_count": 20,
   "id": "74626cf1",
   "metadata": {},
   "outputs": [
    {
     "name": "stdout",
     "output_type": "stream",
     "text": [
      "[[0.33333333 0.33333333 0.33333333]\n",
      " [0.33333333 0.33333333 0.33333333]\n",
      " [0.33333333 0.33333333 0.33333333]]\n",
      "[[0.49279928 0.28867513 0.08455099]\n",
      " [0.49279928 0.28867513 0.08455099]\n",
      " [0.49279928 0.28867513 0.08455099]]\n",
      "[[ 0.52437739  0.23570226 -0.05297287]\n",
      " [ 0.52437739  0.23570226 -0.05297287]\n",
      " [ 0.52437739  0.23570226 -0.05297287]]\n",
      "[[ 0.52022006  0.16666667 -0.18688672]\n",
      " [ 0.52022006  0.16666667 -0.18688672]\n",
      " [ 0.52022006  0.16666667 -0.18688672]]\n",
      "[[ 0.40824829  0.         -0.40824829]\n",
      " [ 0.40824829  0.         -0.40824829]\n",
      " [ 0.40824829  0.         -0.40824829]]\n"
     ]
    },
    {
     "data": {
      "image/png": "[encoded data removed]",
      "text/plain": [
       "<Figure size 330x250 with 1 Axes>"
      ]
     },
     "metadata": {},
     "output_type": "display_data"
    }
   ],
   "source": [
    "\n",
    "for beta2 in [0, 0.25, 0.5, 0.75, 1]:\n",
    "\n",
    "    filters = np.zeros((3,3))\n",
    "\n",
    "\n",
    "\n",
    "    t = np.zeros((3,3))\n",
    "    t[0,1] = np.sqrt(beta2)\n",
    "    t[0, 0] = np.sqrt(1-beta2)\n",
    "\n",
    "    filters = fft.idctn(t, norm=\"ortho\")\n",
    "    print(filters)\n",
    "\n",
    "    plt.imshow(filters, cmap='gray', vmin=-0.5, vmax=0.5)\n",
    "    plt.xticks([])  # Remove x-axis ticks\n",
    "    plt.yticks([])  # Remove y-axis ticks\\\n",
    "\n",
    "    plt.grid(True)\n",
    "    plt.savefig(f\"kernels/k3_beta2_{beta2}.pdf\")\n"
   ]
  }
 ],
 "metadata": {
  "kernelspec": {
   "display_name": "lam",
   "language": "python",
   "name": "python3"
  },
  "language_info": {
   "codemirror_mode": {
    "name": "ipython",
    "version": 3
   },
   "file_extension": ".py",
   "mimetype": "text/x-python",
   "name": "python",
   "nbconvert_exporter": "python",
   "pygments_lexer": "ipython3",
   "version": "3.10.16"
  }
 },
 "nbformat": 4,
 "nbformat_minor": 5
}
