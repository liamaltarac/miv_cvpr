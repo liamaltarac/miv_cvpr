{
 "cells": [
  {
   "cell_type": "code",
   "execution_count": 20,
   "id": "54e38ced",
   "metadata": {},
   "outputs": [],
   "source": [
    "import sys\n",
    "sys.path.append('../')\n",
    "\n",
    "import numpy as np\n",
    "from scipy import ndimage\n",
    "\n",
    "from skimage.filters import sobel_h\n",
    "from skimage.filters import sobel_v\n",
    "from scipy import stats\n",
    "\n",
    "\n",
    "import os\n",
    "import matplotlib\n",
    "import matplotlib.pyplot as plt\n",
    "from mpl_toolkits.mplot3d import Axes3D\n",
    "from mpl_toolkits.mplot3d.proj3d import proj_transform\n",
    "from matplotlib.patches import FancyArrowPatch\n",
    "from mpl_toolkits.mplot3d import proj3d\n",
    "\n",
    "\n",
    "import scienceplots\n",
    "from tensorflow.python.client import device_lib\n",
    "\n",
    "#plt.rcParams['figure.figsize'] = [10,10]\n",
    "\n",
    "import tensorflow as tf\n",
    "from tensorflow.keras.preprocessing import image\n",
    "from tensorflow.keras.applications.vgg16 import decode_predictions\n",
    "from tensorflow.keras.applications import VGG16\n",
    "\n",
    "from tensorflow.nn import depthwise_conv2d\n",
    "from tensorflow.math import multiply, reduce_sum, reduce_mean,reduce_euclidean_norm, sin, cos, abs\n",
    "from tensorflow import stack, concat, expand_dims\n",
    "\n",
    "import tensorflow_probability as tfp\n",
    "\n",
    "from utils.utils import *\n",
    "import cv2\n",
    "\n",
    "from scipy import ndimage, fft\n",
    "from io import BytesIO\n",
    "\n",
    "plt.style.use(['science', 'ieee'])\n",
    "plt.rcParams.update({'figure.dpi': '100'})"
   ]
  },
  {
   "cell_type": "code",
   "execution_count": 21,
   "id": "e27dfeb9",
   "metadata": {},
   "outputs": [
    {
     "name": "stdout",
     "output_type": "stream",
     "text": [
      "[[0.  0.  0. ]\n",
      " [0.5 0.5 0. ]\n",
      " [0.5 0.5 0. ]]\n",
      "[[0.        0.        0.       ]\n",
      " [0.6830127 0.1830127 0.       ]\n",
      " [0.6830127 0.1830127 0.       ]]\n",
      "[[0.00000000e+00 0.00000000e+00 0.00000000e+00]\n",
      " [7.07106781e-01 5.55111512e-17 0.00000000e+00]\n",
      " [7.07106781e-01 5.55111512e-17 0.00000000e+00]]\n",
      "[[ 0.         0.         0.       ]\n",
      " [ 0.6830127 -0.1830127  0.       ]\n",
      " [ 0.6830127 -0.1830127  0.       ]]\n",
      "[[ 0.   0.   0. ]\n",
      " [ 0.5 -0.5  0. ]\n",
      " [ 0.5 -0.5  0. ]]\n"
     ]
    },
    {
     "data": {
      "image/png": "[encoded data removed]",
      "text/plain": [
       "<Figure size 330x250 with 1 Axes>"
      ]
     },
     "metadata": {},
     "output_type": "display_data"
    },
    {
     "data": {
      "image/png": "[encoded data removed]",
      "text/plain": [
       "<Figure size 330x250 with 1 Axes>"
      ]
     },
     "metadata": {},
     "output_type": "display_data"
    },
    {
     "data": {
      "image/png": "[encoded data removed]",
      "text/plain": [
       "<Figure size 330x250 with 1 Axes>"
      ]
     },
     "metadata": {},
     "output_type": "display_data"
    },
    {
     "data": {
      "image/png": "[encoded data removed]",
      "text/plain": [
       "<Figure size 330x250 with 1 Axes>"
      ]
     },
     "metadata": {},
     "output_type": "display_data"
    },
    {
     "data": {
      "image/png": "[encoded data removed]",
      "text/plain": [
       "<Figure size 330x250 with 1 Axes>"
      ]
     },
     "metadata": {},
     "output_type": "display_data"
    },
    {
     "data": {
      "image/png": "[encoded data removed]",
      "text/plain": [
       "<Figure size 330x250 with 1 Axes>"
      ]
     },
     "metadata": {},
     "output_type": "display_data"
    }
   ],
   "source": [
    "\n",
    "for beta2 in [0, 0.25, 0.5, 0.75, 1]:\n",
    "\n",
    "    filters = np.zeros((3,3))\n",
    "\n",
    "\n",
    "\n",
    "    t = np.zeros((2,2))\n",
    "    t[0,1] = np.sqrt(beta2)\n",
    "    t[0, 0] = np.sqrt(1-beta2)\n",
    "\n",
    "    filters[1:,0:2] = fft.idctn(t, norm=\"ortho\")\n",
    "    print(filters)\n",
    "\n",
    "    plt.imshow(filters, cmap='gray', vmin=-0.5, vmax=0.5)\n",
    "    plt.xticks([])  # Remove x-axis ticks\n",
    "    plt.yticks([])  # Remove y-axis ticks\\\n",
    "\n",
    "    plt.grid(True)\n",
    "    plt.savefig(f\"kernels/k2_beta2_{beta2}_1.pdf\")\n",
    "\n",
    "\n",
    "    filters = np.zeros((3,3))\n",
    "\n",
    "    filters[0:2,1:] = fft.idctn(t, norm=\"ortho\")\n",
    "    plt.figure()\n",
    "\n",
    "    plt.imshow(filters, cmap='gray', vmin=-0.5, vmax=0.5)\n",
    "    plt.xticks([])  # Remove x-axis ticks\n",
    "    plt.yticks([])  # Remove y-axis ticks\n",
    "    plt.grid(True)\n",
    "    plt.savefig(f\"kernels/k2_beta2_{beta2}_2.pdf\")\n"
   ]
  },
  {
   "cell_type": "code",
   "execution_count": 22,
   "id": "74626cf1",
   "metadata": {},
   "outputs": [
    {
     "name": "stdout",
     "output_type": "stream",
     "text": [
      "[[0.33333333 0.33333333 0.33333333]\n",
      " [0.33333333 0.33333333 0.33333333]\n",
      " [0.33333333 0.33333333 0.33333333]]\n",
      "[[0.49279928 0.28867513 0.08455099]\n",
      " [0.49279928 0.28867513 0.08455099]\n",
      " [0.49279928 0.28867513 0.08455099]]\n",
      "[[ 0.52437739  0.23570226 -0.05297287]\n",
      " [ 0.52437739  0.23570226 -0.05297287]\n",
      " [ 0.52437739  0.23570226 -0.05297287]]\n",
      "[[ 0.52022006  0.16666667 -0.18688672]\n",
      " [ 0.52022006  0.16666667 -0.18688672]\n",
      " [ 0.52022006  0.16666667 -0.18688672]]\n",
      "[[ 0.40824829  0.         -0.40824829]\n",
      " [ 0.40824829  0.         -0.40824829]\n",
      " [ 0.40824829  0.         -0.40824829]]\n"
     ]
    },
    {
     "data": {
      "image/png": "[encoded data removed]",
      "text/plain": [
       "<Figure size 330x250 with 1 Axes>"
      ]
     },
     "metadata": {},
     "output_type": "display_data"
    },
    {
     "data": {
      "image/png": "[encoded data removed]",
      "text/plain": [
       "<Figure size 330x250 with 1 Axes>"
      ]
     },
     "metadata": {},
     "output_type": "display_data"
    },
    {
     "data": {
      "image/png": "[encoded data removed]",
      "text/plain": [
       "<Figure size 330x250 with 1 Axes>"
      ]
     },
     "metadata": {},
     "output_type": "display_data"
    },
    {
     "data": {
      "image/png": "[encoded data removed]",
      "text/plain": [
       "<Figure size 330x250 with 1 Axes>"
      ]
     },
     "metadata": {},
     "output_type": "display_data"
    },
    {
     "data": {
      "image/png": "[encoded data removed]",
      "text/plain": [
       "<Figure size 330x250 with 1 Axes>"
      ]
     },
     "metadata": {},
     "output_type": "display_data"
    }
   ],
   "source": [
    "\n",
    "for beta2 in [0, 0.25, 0.5, 0.75, 1]:\n",
    "\n",
    "    filters = np.zeros((3,3))\n",
    "\n",
    "\n",
    "\n",
    "    t = np.zeros((3,3))\n",
    "    t[0,1] = np.sqrt(beta2)\n",
    "    t[0, 0] = np.sqrt(1-beta2)\n",
    "\n",
    "    filters = fft.idctn(t, norm=\"ortho\")\n",
    "    print(filters)\n",
    "    plt.figure()\n",
    "\n",
    "    plt.imshow(filters, cmap='gray', vmin=-0.5, vmax=0.5)\n",
    "    plt.xticks([])  # Remove x-axis ticks\n",
    "    plt.yticks([])  # Remove y-axis ticks\\\n",
    "\n",
    "    plt.grid(True)\n",
    "    plt.savefig(f\"kernels/k3_beta2_{beta2}.pdf\")\n"
   ]
  },
  {
   "cell_type": "code",
   "execution_count": 43,
   "id": "33eb7f60",
   "metadata": {},
   "outputs": [
    {
     "name": "stdout",
     "output_type": "stream",
     "text": [
      "BETA2 tf.Tensor(0.0, shape=(), dtype=float32)\n",
      "tf.Tensor(\n",
      "[[0.  0.5 0. ]\n",
      " [0.5 0.  0.5]\n",
      " [0.  0.5 0. ]], shape=(3, 3), dtype=float32)\n",
      "BETA2 tf.Tensor(0.25, shape=(), dtype=float32)\n",
      "tf.Tensor(\n",
      "[[0.         0.28867513 0.        ]\n",
      " [0.28867513 0.         0.86602545]\n",
      " [0.         0.28867513 0.        ]], shape=(3, 3), dtype=float32)\n",
      "BETA2 tf.Tensor(0.50000006, shape=(), dtype=float32)\n",
      "tf.Tensor(\n",
      "[[0.         0.14942925 0.        ]\n",
      " [0.14942925 0.         0.9659258 ]\n",
      " [0.         0.14942925 0.        ]], shape=(3, 3), dtype=float32)\n",
      "BETA2 tf.Tensor(0.75, shape=(), dtype=float32)\n",
      "tf.Tensor(\n",
      "[[0.0000000e+00 1.4901161e-08 0.0000000e+00]\n",
      " [1.4901161e-08 0.0000000e+00 1.0000000e+00]\n",
      " [0.0000000e+00 1.4901161e-08 0.0000000e+00]], shape=(3, 3), dtype=float32)\n",
      "BETA2 tf.Tensor(1.0, shape=(), dtype=float32)\n",
      "tf.Tensor(\n",
      "[[ 0.         -0.28867513  0.        ]\n",
      " [-0.28867513  0.          0.86602545]\n",
      " [ 0.         -0.28867513  0.        ]], shape=(3, 3), dtype=float32)\n"
     ]
    },
    {
     "data": {
      "image/png": "[encoded data removed]",
      "text/plain": [
       "<Figure size 330x250 with 1 Axes>"
      ]
     },
     "metadata": {},
     "output_type": "display_data"
    },
    {
     "data": {
      "image/png": "[encoded data removed]",
      "text/plain": [
       "<Figure size 330x250 with 1 Axes>"
      ]
     },
     "metadata": {},
     "output_type": "display_data"
    },
    {
     "data": {
      "image/png": "[encoded data removed]",
      "text/plain": [
       "<Figure size 330x250 with 1 Axes>"
      ]
     },
     "metadata": {},
     "output_type": "display_data"
    },
    {
     "data": {
      "image/png": "[encoded data removed]",
      "text/plain": [
       "<Figure size 330x250 with 1 Axes>"
      ]
     },
     "metadata": {},
     "output_type": "display_data"
    },
    {
     "data": {
      "image/png": "[encoded data removed]",
      "text/plain": [
       "<Figure size 330x250 with 1 Axes>"
      ]
     },
     "metadata": {},
     "output_type": "display_data"
    }
   ],
   "source": [
    "for beta2 in [0, 0.25, 0.5, 0.75, 1]:\n",
    "\n",
    "    filters = np.array([[0,0,0],\n",
    "                       [0,0,1],\n",
    "                       [0,0,0]])\n",
    "    filters = tf.cast(tf.reshape(filters, (3,3,1,1)), tf.float32)\n",
    "    fs, fa = getSymAntiSymTF(tf.reshape(filters, (3,3,1,1)))\n",
    "    fs = (fs)/(tf.math.reduce_euclidean_norm(fs))\n",
    "    fa = (fa)/(tf.math.reduce_euclidean_norm(fa))\n",
    "\n",
    "\n",
    "    s,a = getSymAntiSymTF(filters)\n",
    "\n",
    "    filters = fa*( np.sqrt(beta2)) + fs*( np.sqrt(1-beta2))\n",
    "\t\t#filters /= np.sum(np.abs(filters))\n",
    "    s,a = getSymAntiSymTF(filters)\n",
    "    print(\"BETA2\", tf.math.reduce_euclidean_norm(a)**2 / tf.math.reduce_euclidean_norm(filters)**2 )\n",
    "\n",
    "    print(filters[:,:,0,0])\n",
    "\n",
    "    plt.figure()\n",
    "    plt.imshow(filters[:,:,0,0], cmap='gray', vmin=-0.288 ,vmax=1)\n",
    "    plt.xticks([])  # Remove x-axis ticks\n",
    "    plt.yticks([])  # Remove y-axis ticks\\\n",
    "\n",
    "    plt.grid(True)\n",
    "    plt.savefig(f\"kernels/k3_trans_beta2_{beta2}.pdf\")"
   ]
  },
  {
   "cell_type": "code",
   "execution_count": null,
   "id": "28bf8e85",
   "metadata": {},
   "outputs": [
    {
     "name": "stderr",
     "output_type": "stream",
     "text": [
      "/tmp/ipykernel_12367/2133954249.py:53: UserWarning: This figure includes Axes that are not compatible with tight_layout, so results might be incorrect.\n",
      "  plt.tight_layout()\n"
     ]
    },
    {
     "data": {
      "image/png": "[encoded data removed]",
      "text/plain": [
       "<Figure size 900x900 with 1 Axes>"
      ]
     },
     "metadata": {},
     "output_type": "display_data"
    }
   ],
   "source": [
    "import numpy as np\n",
    "import matplotlib.pyplot as plt\n",
    "from matplotlib.patches import FancyArrowPatch\n",
    "from scipy.fft import idctn\n",
    "\n",
    "\n",
    "\n",
    "N = 3\n",
    "N_disp = 3\n",
    "eps_const_raw = 1e-12   # constant-patch detection on *raw* IDCT\n",
    "eps_zero_norm = 1e-6    # near-zero snap on *normalized* values\n",
    "\n",
    "# 1) Build raw bases\n",
    "bases_raw = np.zeros((N, N, N, N), dtype=float)  # [v,u,y,x]\n",
    "is_const = np.zeros((N, N), dtype=bool)\n",
    "for v in range(N):\n",
    "    for u in range(N):\n",
    "        T = np.zeros((N, N), dtype=float)\n",
    "        T[v, u] = 1.0\n",
    "        spatial = idctn(T, norm='ortho')\n",
    "        bases_raw[v, u] = spatial\n",
    "        # detect const on raw patch\n",
    "        is_const[v, u] = np.ptp(spatial) < eps_const_raw\n",
    "\n",
    "# 2) Global normalization to [0,1]\n",
    "gmin = bases_raw.min()\n",
    "gmax = bases_raw.max()\n",
    "rng = gmax - gmin if gmax > gmin else 1.0\n",
    "bases = (bases_raw - gmin) / rng\n",
    "\n",
    "\n",
    "# constant -> white, near-zero -> 0\n",
    "for v in range(N):\n",
    "    for u in range(N):\n",
    "        P = bases[v, u]\n",
    "        if is_const[v, u]:\n",
    "            P[:] = 1.0\n",
    "        else:\n",
    "            P[P < eps_zero_norm] = 0.0\n",
    "        bases[v, u] = P\n",
    "\n",
    "# --- figure with labeled headers and u/v wedge ---\n",
    "fig = plt.figure(figsize=(9, 9))\n",
    "gs  = fig.add_gridspec(N_disp+1, N_disp+1, wspace=0.05, hspace=0.05)\n",
    "\n",
    "# corner wedge cell\n",
    "\n",
    "for beta2 in [0, 0.25, 0.5, 0.75, 1]:\n",
    "\n",
    "\n",
    "\n",
    "    filters = fa*( np.sqrt(beta2)) + fs*( np.sqrt(1-beta2))\n",
    "\t\t#filters /= np.sum(np.abs(filters))\n",
    "    s,a = getSymAntiSymTF(filters)\n",
    "    print(\"BETA2\", tf.math.reduce_euclidean_norm(a)**2 / tf.math.reduce_euclidean_norm(filters)**2 )\n",
    "\n",
    "    print(filters[:,:,0,0])\n",
    "\n",
    "    plt.figure()\n",
    "    plt.imshow(filters[:,:,0,0], cmap='gray', vmin=-0.288 ,vmax=1)\n",
    "    plt.xticks([])  # Remove x-axis ticks\n",
    "    plt.yticks([])  # Remove y-axis ticks\\\n",
    "\n",
    "    plt.grid(True)\n",
    "    plt.savefig(f\"kernels/k3_beta2_{beta2}.pdf\")\n",
    "\n",
    "\n",
    "ax = fig.add_subplot(gs[0, 0])\n",
    "ax.imshow(bases[v, u], cmap=\"gray\", vmin=0, vmax=1, interpolation=\"nearest\")\n",
    "ax.set_aspect(\"equal\")\n",
    "\n",
    "plt.tight_layout()\n",
    "plt.savefig(\"dct_basis_8x8.pdf\", dpi=300)\n",
    "\n",
    "plt.show()\n"
   ]
  }
 ],
 "metadata": {
  "kernelspec": {
   "display_name": "lam",
   "language": "python",
   "name": "python3"
  },
  "language_info": {
   "codemirror_mode": {
    "name": "ipython",
    "version": 3
   },
   "file_extension": ".py",
   "mimetype": "text/x-python",
   "name": "python",
   "nbconvert_exporter": "python",
   "pygments_lexer": "ipython3",
   "version": "3.10.16"
  }
 },
 "nbformat": 4,
 "nbformat_minor": 5
}
