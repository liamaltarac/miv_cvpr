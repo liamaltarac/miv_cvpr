{
 "cells": [
  {
   "cell_type": "code",
   "execution_count": null,
   "metadata": {},
   "outputs": [
    {
     "name": "stderr",
     "output_type": "stream",
     "text": [
      "c:\\Users\\AN46710\\Anaconda3\\envs\\masters\\lib\\site-packages\\numpy\\_distributor_init.py:32: UserWarning: loaded more than 1 DLL from .libs:\n",
      "c:\\Users\\AN46710\\Anaconda3\\envs\\masters\\lib\\site-packages\\numpy\\.libs\\libopenblas.GK7GX5KEQ4F6UYO3P26ULGBQYHGQO7J4.gfortran-win_amd64.dll\n",
      "c:\\Users\\AN46710\\Anaconda3\\envs\\masters\\lib\\site-packages\\numpy\\.libs\\libopenblas.XWYDX2IKJW2NMTWSFYNGFUWKQU3LYTCZ.gfortran-win_amd64.dll\n",
      "  stacklevel=1)\n"
     ]
    }
   ],
   "source": [
    "import sys\n",
    "sys.path.append('../')\n",
    "import numpy as np\n",
    "from scipy import ndimage\n",
    "\n",
    "from skimage.filters import sobel_h\n",
    "from skimage.filters import sobel_v\n",
    "from scipy import stats\n",
    "\n",
    "\n",
    "import os\n",
    "import matplotlib\n",
    "import matplotlib.pyplot as plt\n",
    "import matplotlib.gridspec as gridspec\n",
    "\n",
    "import scienceplots\n",
    "#from tensorflow.python.client import device_lib\n",
    "\n",
    "plt.rcParams['figure.figsize'] = [10,10]\n",
    "\n",
    "import tensorflow as tf\n",
    "from tensorflow.keras.preprocessing import image\n",
    "from tensorflow.keras.applications.vgg16 import decode_predictions\n",
    "from tensorflow.keras.applications import VGG16\n",
    "from tensorflow.keras.applications.resnet import ResNet50\n",
    "\n",
    "from tensorflow.nn import depthwise_conv2d\n",
    "from tensorflow.math import multiply, reduce_sum, reduce_mean,reduce_euclidean_norm, sin, cos, abs\n",
    "from tensorflow import stack, concat, expand_dims\n",
    "\n",
    "import tensorflow_probability as tfp\n",
    "\n",
    "from utils.utils import *\n",
    "\n",
    "from nmf import channel_reducer\n",
    "\n",
    "import re\n",
    "\n",
    "plt.style.use(['science', 'ieee'])\n",
    "plt.rcParams.update({'figure.dpi': '300'})"
   ]
  },
  {
   "cell_type": "markdown",
   "metadata": {},
   "source": [
    "#### Experiment #1 : $\\beta$ accross all layers (Top-10% filters)"
   ]
  },
  {
   "cell_type": "code",
   "execution_count": 2,
   "metadata": {},
   "outputs": [],
   "source": [
    "model = ResNet50(weights='imagenet',\n",
    "                  include_top=False,\n",
    "                  input_shape=(224, 224, 3))"
   ]
  },
  {
   "cell_type": "code",
   "execution_count": 3,
   "metadata": {},
   "outputs": [],
   "source": [
    "k = 10 # Top 10% highest l2-magnitude filters"
   ]
  },
  {
   "cell_type": "code",
   "execution_count": 4,
   "metadata": {},
   "outputs": [],
   "source": [
    "def mean_direction(angles, r):\n",
    "    angles = (angles)\n",
    "    n = angles.shape[0]\n",
    "    print(n)\n",
    "\n",
    "    C = np.sum(r*np.cos(angles))\n",
    "    S = np.sum(r*np.sin(angles))\n",
    "    return C,S\n",
    "    #return C,S\n",
    "    print(C,S)\n",
    "    if S > 0 and C > 0:\n",
    "        return (np.arctan2(S,C))\n",
    "    if C < 0:\n",
    "        return (np.arctan2(S,C) + np.pi )\n",
    "    if S<0 and C > 0:\n",
    "        print(1)\n",
    "        return (np.arctan2(S,C) + 2*np.pi)\n"
   ]
  },
  {
   "cell_type": "code",
   "execution_count": 28,
   "metadata": {},
   "outputs": [
    {
     "name": "stdout",
     "output_type": "stream",
     "text": [
      " ============ LAYER -1 ==================\n",
      "(3, 3, 512, 10)\n",
      "(10, 3, 3, 512) (10, 3, 3, 512) (10, 3, 3, 512)\n",
      "(10, 3, 3, 512) (10, 3, 3, 512) (10, 3, 3, 512)\n",
      "conv1_conv\n",
      "10 -1 1\n",
      "251\n"
     ]
    },
    {
     "data": {
      "image/png": "[encoded data removed]",
      "text/plain": [
       "<Figure size 600x600 with 1 Axes>"
      ]
     },
     "metadata": {},
     "output_type": "display_data"
    }
   ],
   "source": [
    "layers = [-1]\n",
    "F = [1]\n",
    "\n",
    "#plt.style.use(['ggplot'])\n",
    "plt.rcParams.update({'figure.dpi': '600'})\n",
    "conv_layers = []\n",
    "for l in model.layers:\n",
    "\tif 'conv2d' in str(type(l)).lower():\n",
    "\t\tif l.kernel_size == (7, 7) or l.kernel_size == (3,3):\n",
    "\t\t\tconv_layers.append(l)\n",
    "e_beta = []\n",
    "beta = []\n",
    "min_beta = []\n",
    "max_beta = []\n",
    "plt.rcParams[\"savefig.facecolor\"] = \"E5E5E5\"\n",
    "plt.rcParams[\"savefig.edgecolor\"] = \"E5E5E5\"\n",
    "fig= plt.figure(figsize = (1,1))\n",
    "fig.clf()\n",
    "\n",
    "#fig.tight_layout()\n",
    "gs1 = gridspec.GridSpec(1,1)\n",
    "gs1.update(wspace=0.0, hspace=0.0) # set the spacing between axes. \n",
    "ax = [fig.add_subplot(ss) for ss in gs1]\n",
    "ax = np.reshape(ax, (1,1))\n",
    "#fig, ax = plt.subplots(gs1 , sharex=False, sharey=False)\n",
    "\n",
    "\n",
    "#fig.set_tight_layout(True)\n",
    "for l, l_num in enumerate(layers):\n",
    "\tprint(f\" ============ LAYER {l_num} ==================\")\n",
    "\ttop10F=topKfilters(model, l_num, k=100)[:10]\n",
    "\tfilters = get_filter(model, l_num)[:,:,:, top10F]\n",
    "\ttheta = getSobelTF(filters)\n",
    "\tprint(filters.shape)\n",
    "\t_, a = getSymAntiSymTF(filters)\n",
    "\ta_mag = reduce_euclidean_norm(a, axis=[0,1])\n",
    "\n",
    "\tdvec, dtheta = getDominantAngle(filters)\n",
    "\n",
    "\ti = F[l]\n",
    "\tx =a_mag[:,i]*np.cos((theta[:,i]))\n",
    "\ty = a_mag[:,i]*np.sin((theta[:,i]))\n",
    "\t#c,s = mean_direction(theta[:,i], a_mag[:,i])\n",
    "\t#print(d)\n",
    "\tlim_x = np.max(np.abs(x))\n",
    "\tlim_y = np.max(np.abs(y))\n",
    "\tlim = np.max([lim_x, lim_y])\n",
    "\tlim *= 1.3\n",
    "\n",
    "\te_vec = dvec[i]\n",
    "\n",
    "\t#ax[l_num, i] = fig.add_subplot(gs1[l_num,i])\n",
    "\t#ax[l_num, i].set_rasterization_zorder(1)\n",
    "\tax[0, l].set_xlim(-lim, lim)\n",
    "\tax[0, l].set_ylim(-lim, lim)\n",
    "\tif l_num == 0:\t\n",
    "\t\tax[0, l].scatter(x,y, s=2, color=['red', 'green', 'blue'])\n",
    "\telse:\n",
    "\t\tax[0, l].scatter(x,y, s=2, color='#E24A33')\n",
    "\tax[0, l].set_box_aspect(1)\n",
    "\n",
    "\tax[0, l].set_xticks([])\n",
    "\tax[0, l].set_yticks([])\n",
    "\tax[0, l].set_aspect('equal')\n",
    "\t#ax[l_num, i].arrow(0, 0, e_vec[0]/lim, e_vec[1]/lim, color=\"black\", linestyle=\"--\")\n",
    "\t#ax[l_num, i].arrow(0, 0, e_vec[0]*e_val*5, e_vec[1]*e_val*5, color=\"black\", linestyle=\"--\")\n",
    "\t\n",
    "\tax[0, l].annotate(\"\", xy=(e_vec[0]*.01, e_vec[1]*.01), xytext=(0, 0), \n",
    "\t\t\t\tarrowprops=dict(arrowstyle=\"->\",  color='black', lw=None))\n",
    "\tax[0, l].collections[0].set_rasterized(True)\n",
    "\n",
    "\t#ax[l_num, i].set_title(f\"{c:.2f}, {s:.2f}\")\n",
    "\n",
    "\tprint(conv_layers[0].name)\n",
    "\tmatch = re.search(r\"conv(\\d+)_block(\\d+)\", conv_layers[l_num].name)\n",
    "\tif match is None:\n",
    "\t\tmatch = re.search(r\"conv(\\d+)_conv\", conv_layers[l_num].name)\n",
    "\t\tax[0, i].set_xlabel(f\"conv{match.group(1)}, F{top10F[F[l]]}\", fontsize=5) \n",
    "\t\tcontinue\n",
    "\n",
    "\tprint(len(top10F), l_num, F[l])\n",
    "\tprint(top10F[F[l]])\n",
    "\t\n",
    "plt.gca().set_axis_off()\n",
    "plt.subplots_adjust(top = 1, bottom = 0, right = 1, left = 0, \n",
    "            hspace = 0, wspace = 0)\n",
    "plt.margins(0,0)\n",
    "plt.gca().xaxis.set_major_locator(plt.NullLocator())\n",
    "plt.gca().yaxis.set_major_locator(plt.NullLocator())\n",
    "plt.rcParams[\"savefig.facecolor\"] = \"E5E5E5\"\n"
   ]
  },
  {
   "cell_type": "code",
   "execution_count": 6,
   "metadata": {},
   "outputs": [
    {
     "data": {
      "text/plain": [
       "1"
      ]
     },
     "execution_count": 6,
     "metadata": {},
     "output_type": "execute_result"
    }
   ],
   "source": [
    "i"
   ]
  },
  {
   "cell_type": "code",
   "execution_count": 7,
   "metadata": {},
   "outputs": [],
   "source": [
    "#fig.subplots_adjust(wspace=0.025, hspace=0.025)\n",
    "#plt.show()"
   ]
  },
  {
   "cell_type": "code",
   "execution_count": 29,
   "metadata": {},
   "outputs": [],
   "source": [
    "fig.savefig('resnet_one.pdf', dpi=600, bbox_inches = 'tight',\n",
    "    pad_inches = 0)\n",
    "plt.show()"
   ]
  }
 ],
 "metadata": {
  "kernelspec": {
   "display_name": "masters",
   "language": "python",
   "name": "python3"
  },
  "language_info": {
   "codemirror_mode": {
    "name": "ipython",
    "version": 3
   },
   "file_extension": ".py",
   "mimetype": "text/x-python",
   "name": "python",
   "nbconvert_exporter": "python",
   "pygments_lexer": "ipython3",
   "version": "3.7.16"
  }
 },
 "nbformat": 4,
 "nbformat_minor": 2
}
