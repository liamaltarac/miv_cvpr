{
 "cells": [
  {
   "cell_type": "code",
   "execution_count": 47,
   "metadata": {},
   "outputs": [],
   "source": [
    "import sys\n",
    "sys.path.append('../')\n",
    "\n",
    "import numpy as np\n",
    "from scipy import ndimage\n",
    "\n",
    "from skimage.filters import sobel_h\n",
    "from skimage.filters import sobel_v\n",
    "from scipy import stats\n",
    "\n",
    "\n",
    "import os\n",
    "import matplotlib\n",
    "import matplotlib.pyplot as plt\n",
    "from mpl_toolkits.mplot3d import Axes3D\n",
    "from mpl_toolkits.mplot3d.proj3d import proj_transform\n",
    "from matplotlib.patches import FancyArrowPatch\n",
    "from mpl_toolkits.mplot3d import proj3d\n",
    "\n",
    "\n",
    "import scienceplots\n",
    "from tensorflow.python.client import device_lib\n",
    "\n",
    "#plt.rcParams['figure.figsize'] = [10,10]\n",
    "\n",
    "import tensorflow as tf\n",
    "from tensorflow.keras.preprocessing import image\n",
    "from tensorflow.keras.applications.vgg16 import decode_predictions\n",
    "from tensorflow.keras.applications import VGG16\n",
    "\n",
    "from tensorflow.nn import depthwise_conv2d\n",
    "from tensorflow.math import multiply, reduce_sum, reduce_mean,reduce_euclidean_norm, sin, cos, abs\n",
    "from tensorflow import stack, concat, expand_dims\n",
    "\n",
    "import tensorflow_probability as tfp\n",
    "\n",
    "from utils.utils import *\n",
    "import cv2\n",
    "\n",
    "from scipy import ndimage, fft\n",
    "from io import BytesIO\n",
    "\n",
    "plt.style.use(['science', 'ieee'])\n",
    "plt.rcParams.update({'figure.dpi': '100'})"
   ]
  },
  {
   "cell_type": "code",
   "execution_count": 48,
   "metadata": {},
   "outputs": [],
   "source": [
    "k = 3   # kernel size\n",
    "beta2s = [1] #[0, 0.25, 0.75, 1]  \n",
    "activations = [tf.nn.relu, np.abs]\n",
    "timestamps = [0,5,10]\n",
    "experiment_name = \"unipolar\"\n"
   ]
  },
  {
   "cell_type": "code",
   "execution_count": 49,
   "metadata": {},
   "outputs": [
    {
     "name": "stdout",
     "output_type": "stream",
     "text": [
      "(115, 115)\n"
     ]
    }
   ],
   "source": [
    "# Single pixel input\n",
    "\n",
    "img = np.zeros((115,115)) # cv2.imread('input4.png', 0)/255. \n",
    "mid = img.shape[0]//2\n",
    "img[mid, mid] = 1.\n",
    "print(img.shape)"
   ]
  },
  {
   "cell_type": "code",
   "execution_count": 50,
   "metadata": {},
   "outputs": [],
   "source": [
    "filters = np.zeros((3,3,1,1))\n",
    "img = tf.cast(tf.repeat(tf.expand_dims([img], axis=-1) , repeats = filters.shape[-2], axis=-1), dtype=tf.float32) \n"
   ]
  },
  {
   "cell_type": "code",
   "execution_count": 51,
   "metadata": {},
   "outputs": [
    {
     "data": {
      "text/plain": [
       "TensorShape([1, 115, 115, 1])"
      ]
     },
     "execution_count": 51,
     "metadata": {},
     "output_type": "execute_result"
    }
   ],
   "source": [
    "img.shape"
   ]
  },
  {
   "cell_type": "code",
   "execution_count": 52,
   "metadata": {},
   "outputs": [
    {
     "data": {
      "text/plain": [
       "<tf.Tensor: shape=(115, 1), dtype=float32, numpy=\n",
       "array([[0.],\n",
       "       [0.],\n",
       "       [0.],\n",
       "       [0.],\n",
       "       [0.],\n",
       "       [0.],\n",
       "       [0.],\n",
       "       [0.],\n",
       "       [0.],\n",
       "       [0.],\n",
       "       [0.],\n",
       "       [0.],\n",
       "       [0.],\n",
       "       [0.],\n",
       "       [0.],\n",
       "       [0.],\n",
       "       [0.],\n",
       "       [0.],\n",
       "       [0.],\n",
       "       [0.],\n",
       "       [0.],\n",
       "       [0.],\n",
       "       [0.],\n",
       "       [0.],\n",
       "       [0.],\n",
       "       [0.],\n",
       "       [0.],\n",
       "       [0.],\n",
       "       [0.],\n",
       "       [0.],\n",
       "       [0.],\n",
       "       [0.],\n",
       "       [0.],\n",
       "       [0.],\n",
       "       [0.],\n",
       "       [0.],\n",
       "       [0.],\n",
       "       [0.],\n",
       "       [0.],\n",
       "       [0.],\n",
       "       [0.],\n",
       "       [0.],\n",
       "       [0.],\n",
       "       [0.],\n",
       "       [0.],\n",
       "       [0.],\n",
       "       [0.],\n",
       "       [0.],\n",
       "       [0.],\n",
       "       [0.],\n",
       "       [0.],\n",
       "       [0.],\n",
       "       [0.],\n",
       "       [0.],\n",
       "       [0.],\n",
       "       [0.],\n",
       "       [0.],\n",
       "       [1.],\n",
       "       [0.],\n",
       "       [0.],\n",
       "       [0.],\n",
       "       [0.],\n",
       "       [0.],\n",
       "       [0.],\n",
       "       [0.],\n",
       "       [0.],\n",
       "       [0.],\n",
       "       [0.],\n",
       "       [0.],\n",
       "       [0.],\n",
       "       [0.],\n",
       "       [0.],\n",
       "       [0.],\n",
       "       [0.],\n",
       "       [0.],\n",
       "       [0.],\n",
       "       [0.],\n",
       "       [0.],\n",
       "       [0.],\n",
       "       [0.],\n",
       "       [0.],\n",
       "       [0.],\n",
       "       [0.],\n",
       "       [0.],\n",
       "       [0.],\n",
       "       [0.],\n",
       "       [0.],\n",
       "       [0.],\n",
       "       [0.],\n",
       "       [0.],\n",
       "       [0.],\n",
       "       [0.],\n",
       "       [0.],\n",
       "       [0.],\n",
       "       [0.],\n",
       "       [0.],\n",
       "       [0.],\n",
       "       [0.],\n",
       "       [0.],\n",
       "       [0.],\n",
       "       [0.],\n",
       "       [0.],\n",
       "       [0.],\n",
       "       [0.],\n",
       "       [0.],\n",
       "       [0.],\n",
       "       [0.],\n",
       "       [0.],\n",
       "       [0.],\n",
       "       [0.],\n",
       "       [0.],\n",
       "       [0.],\n",
       "       [0.],\n",
       "       [0.],\n",
       "       [0.]], dtype=float32)>"
      ]
     },
     "execution_count": 52,
     "metadata": {},
     "output_type": "execute_result"
    }
   ],
   "source": [
    "vals_y"
   ]
  },
  {
   "cell_type": "code",
   "execution_count": null,
   "metadata": {},
   "outputs": [],
   "source": [
    "\n"
   ]
  },
  {
   "cell_type": "code",
   "execution_count": 53,
   "metadata": {},
   "outputs": [
    {
     "name": "stdout",
     "output_type": "stream",
     "text": [
      "1 1\n"
     ]
    },
    {
     "name": "stderr",
     "output_type": "stream",
     "text": [
      "/tmp/ipykernel_9326/3058148691.py:95: UserWarning: set_ticklabels() should only be used with a fixed number of ticks, i.e. after set_ticks() or using a FixedLocator.\n",
      "  ax.set_xticklabels([int(t - mid) for t in xticks])\n",
      "/tmp/ipykernel_9326/3058148691.py:96: UserWarning: set_ticklabels() should only be used with a fixed number of ticks, i.e. after set_ticks() or using a FixedLocator.\n",
      "  ax.set_yticklabels([int(t - mid) for t in yticks])\n",
      "/tmp/ipykernel_9326/3058148691.py:95: UserWarning: set_ticklabels() should only be used with a fixed number of ticks, i.e. after set_ticks() or using a FixedLocator.\n",
      "  ax.set_xticklabels([int(t - mid) for t in xticks])\n",
      "/tmp/ipykernel_9326/3058148691.py:96: UserWarning: set_ticklabels() should only be used with a fixed number of ticks, i.e. after set_ticks() or using a FixedLocator.\n",
      "  ax.set_yticklabels([int(t - mid) for t in yticks])\n",
      "/tmp/ipykernel_9326/3058148691.py:95: UserWarning: set_ticklabels() should only be used with a fixed number of ticks, i.e. after set_ticks() or using a FixedLocator.\n",
      "  ax.set_xticklabels([int(t - mid) for t in xticks])\n",
      "/tmp/ipykernel_9326/3058148691.py:96: UserWarning: set_ticklabels() should only be used with a fixed number of ticks, i.e. after set_ticks() or using a FixedLocator.\n",
      "  ax.set_yticklabels([int(t - mid) for t in yticks])\n"
     ]
    },
    {
     "name": "stdout",
     "output_type": "stream",
     "text": [
      "4.0 0.0\n"
     ]
    },
    {
     "data": {
      "image/png": "[encoded data removed]",
      "text/plain": [
       "<Figure size 1600x400 with 4 Axes>"
      ]
     },
     "metadata": {},
     "output_type": "display_data"
    }
   ],
   "source": [
    "import matplotlib.patches as mpatches\n",
    "\n",
    "\n",
    "\n",
    "filters = np.zeros((3,3,1,1))\n",
    "x = tf.cast(tf.repeat(tf.expand_dims([img], axis=-1) , repeats = filters.shape[-2], axis=-1), dtype=tf.float32) \n",
    "\n",
    "\n",
    "\n",
    "#Get image height and width\n",
    "\n",
    "vals_x = img[0, img.shape[1]//2, :, :]\n",
    "vals_y = img[0, :, img.shape[2]//2, :]\n",
    "nonzeros = np.nonzero(vals_x)[0]\n",
    "if nonzeros.size > 0:\n",
    "    length_y = nonzeros[-1] - nonzeros[0] + 1\n",
    "else:\n",
    "    length_y = 0  # all zeros\n",
    "nonzeros = np.nonzero(vals_x)[0]\n",
    "if nonzeros.size > 0:\n",
    "    length_x = nonzeros[-1] - nonzeros[0] + 1\n",
    "else:\n",
    "    length_x = 0  # all zeros\n",
    "\n",
    "max_x = length_x + np.max(timestamps) + + 3\n",
    "min_x = length_x - ((np.max(timestamps))//2 + 3)\n",
    "\n",
    "max_y = length_y + ((np.max(timestamps))//2 + 2)\n",
    "min_y = length_y - ((np.max(timestamps))//2 + 3)\n",
    "\n",
    "\n",
    "print(length_x, length_y)\n",
    "\n",
    "for beta2 in beta2s:\n",
    "\n",
    "\n",
    "\timages = []\n",
    "\n",
    "\tfilters = np.zeros((3,3,1,1))\n",
    "\n",
    "\tt = np.zeros((3,3))\n",
    "\tt[1, 0] = np.sqrt(beta2)\n",
    "\tt[0, 0] = np.sqrt(1-beta2)\n",
    "\tfilters = np.reshape(fft.idctn(t, norm='ortho'), (3,3,1,1)) \n",
    "\t#filters /= np.sum(np.abs(filters))\n",
    "\t\n",
    "\tw =tf.cast(filters, dtype=tf.float32)# tf.expand_dims(filters, -1), dtype=tf.float32)\n",
    "\tw = tf.transpose(w, perm=(1,0,2,3))\n",
    "\n",
    "\n",
    "\tx = img\n",
    "\n",
    "\n",
    "\tdirectory = f\"figures/{experiment_name}_{k}x{k}_{beta2}\"\n",
    "\tif not os.path.exists(directory):\n",
    "\t\tos.makedirs(directory)\n",
    "\n",
    "\n",
    "\tfor i in range(timestamps[-1]+1):\n",
    "\t\tif i in timestamps:\n",
    "\t\t\tfig, ax = plt.subplots()\n",
    "\t\t\tx = x/np.std(x)\n",
    "\t\t\tvals = x[0, x.shape[1]//2, :, :]\n",
    "\t\t\tvals = vals/np.sum(vals)\n",
    "\n",
    "\t\t\tpos = np.expand_dims(np.linspace(-(x.shape[1]//2), x.shape[1]//2, x.shape[1]),-1)\n",
    "\t\t\tmean = tf.reduce_sum(pos*vals)\n",
    "\t\t\tvar = tf.reduce_sum(((pos-mean)**2) * vals)\n",
    "\t\t\tstd = np.sqrt(var)\n",
    "\t\t\t#print(mean, np.sqrt(var))\n",
    "\t\t\t\n",
    "\t\t\tim = ax.imshow(np.sum(x[0,:,:,:], axis=-1))\n",
    "\t\t\tax.plot(mid, mid, marker = '+', color='red')\n",
    "\n",
    "\t\t\t'''arr =  mpatches.FancyArrowPatch((mid, mid), (mid+mean+std, mid),\n",
    "\t\t\t\t\t\t\t\t\tmutation_scale=4, shrinkA=0, shrinkB=0,zorder=10, color=\"red\")\n",
    "\t\t\tax.add_patch(arr)'''\n",
    "\n",
    "\n",
    "\t\t\tax.annotate(r'$\\sigma_x=$'+f\"{std:.2f}\", (0.05,0.01), ha='left', va='bottom',color='white', xycoords='axes fraction')\n",
    "\t\t\tax.annotate(r'$\\mu_x=$'+f\"{mean:.2f}\", (0.05,0.09), ha='left', va='bottom',color='white', xycoords='axes fraction')\n",
    "\t\t\tax.annotate(r'$argmax_x=$'+f\"{np.argmax(vals)-mid:.2f}\", (0.05,.17), ha='left', va='bottom',color='white', xycoords='axes fraction')\n",
    "\t\t\t\n",
    "\t\t\t#ax.annotate(r'$\\sigma=$'+f\"{std:.2f}\", (.5, 6), xycoords=arr, ha='center', va='bottom',color='white')\n",
    "\t\t\t#ax.arrow(, 112, dx=, dy= 0, color='black')\n",
    "\n",
    "\n",
    "\n",
    "\n",
    "\t\t\tax.set(xlim=((mid + min_x, mid+max_x)) , ylim=((mid+min_y, (mid+max_y))))\n",
    "\n",
    "\t\t\t# Re-label ticks relative to midpoint\n",
    "\t\t\txticks = ax.get_xticks()\n",
    "\t\t\tyticks = ax.get_yticks()\n",
    "\t\t\tax.set_xticklabels([int(t - mid) for t in xticks])\n",
    "\t\t\tax.set_yticklabels([int(t - mid) for t in yticks])\n",
    "\n",
    "\n",
    "\t\t\t#ax.set_xticks(np.linspace(-round(std)-1, round(std)+1, int(0.5*(std)+3)))\n",
    "\t\t\t#fig.colorbar(im, orientation='vertical')\n",
    "\n",
    "\t\t\tplt.close(fig) \n",
    "\t\t\tbuf = BytesIO()\n",
    "\t\t\tfig.savefig(buf, format=\"png\", dpi=fig.dpi, bbox_inches=\"tight\")\n",
    "\t\t\tbuf.seek(0)\n",
    "\n",
    "\n",
    "\t\t\timages.append(Image.open(buf))\n",
    "\n",
    "\t\tx = tf.nn.relu( tf.nn.conv2d(x, w , strides=(1,1), \n",
    "\t\t\t\t\t\t\t\tpadding='SAME') )\n",
    "\t\n",
    "\t#Generate Plot\n",
    "\tfig = plt.figure(figsize=(16,4))\n",
    "\tgs = fig.add_gridspec(1,len(timestamps)+1, wspace=0.04)\n",
    "\n",
    "\tax0 = fig.add_subplot(gs[0])\n",
    "\tax0.imshow(plot_filter_x(beta2))\n",
    "\tax0.axis('off')\n",
    "\tfor i, im in enumerate(images):\t\n",
    "\t\tax0 = fig.add_subplot(gs[i+1])\n",
    "\t\tax0.imshow(im)\n",
    "\t\tax0.axis('off')\n",
    "\t\tax0.set_title(f\"t={timestamps[i]}\")\n",
    "\n",
    "\tfig.subplots_adjust(left=0.02, right=0.98, top=0.9, bottom=0.01, wspace=0.01)"
   ]
  },
  {
   "cell_type": "code",
   "execution_count": 54,
   "metadata": {},
   "outputs": [
    {
     "data": {
      "text/plain": [
       "(-7, 14, -7, 8)"
      ]
     },
     "execution_count": 54,
     "metadata": {},
     "output_type": "execute_result"
    }
   ],
   "source": [
    "min_x, max_x, min_y, max_y\n"
   ]
  }
 ],
 "metadata": {
  "kernelspec": {
   "display_name": "lam",
   "language": "python",
   "name": "python3"
  },
  "language_info": {
   "codemirror_mode": {
    "name": "ipython",
    "version": 3
   },
   "file_extension": ".py",
   "mimetype": "text/x-python",
   "name": "python",
   "nbconvert_exporter": "python",
   "pygments_lexer": "ipython3",
   "version": "3.10.16"
  }
 },
 "nbformat": 4,
 "nbformat_minor": 2
}
