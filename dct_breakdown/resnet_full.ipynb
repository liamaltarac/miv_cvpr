{
 "cells": [
  {
   "cell_type": "code",
   "execution_count": 1,
   "metadata": {},
   "outputs": [
    {
     "name": "stderr",
     "output_type": "stream",
     "text": [
      "c:\\Users\\AN46710\\Anaconda3\\envs\\masters\\lib\\site-packages\\numpy\\_distributor_init.py:32: UserWarning: loaded more than 1 DLL from .libs:\n",
      "c:\\Users\\AN46710\\Anaconda3\\envs\\masters\\lib\\site-packages\\numpy\\.libs\\libopenblas.GK7GX5KEQ4F6UYO3P26ULGBQYHGQO7J4.gfortran-win_amd64.dll\n",
      "c:\\Users\\AN46710\\Anaconda3\\envs\\masters\\lib\\site-packages\\numpy\\.libs\\libopenblas.XWYDX2IKJW2NMTWSFYNGFUWKQU3LYTCZ.gfortran-win_amd64.dll\n",
      "  stacklevel=1)\n"
     ]
    }
   ],
   "source": [
    "import sys\n",
    "sys.path.append('../')\n",
    "\n",
    "import numpy as np\n",
    "#from scipy import ndimage\n",
    "\n",
    "from skimage.filters import sobel_h\n",
    "from skimage.filters import sobel_v\n",
    "#from scipy import stats\n",
    "\n",
    "\n",
    "import os\n",
    "import matplotlib\n",
    "import matplotlib.pyplot as plt\n",
    "import scienceplots\n",
    "from tensorflow.python.client import device_lib\n",
    "\n",
    "#plt.rcParams['figure.figsize'] = [10,10]\n",
    "\n",
    "import tensorflow as tf\n",
    "from tensorflow.keras.preprocessing import image\n",
    "from tensorflow.keras.applications.vgg16 import decode_predictions\n",
    "from tensorflow.keras.applications import ResNet50\n",
    "\n",
    "from tensorflow.nn import depthwise_conv2d, relu\n",
    "from tensorflow.math import multiply, reduce_sum, reduce_mean,reduce_euclidean_norm, sin, cos, abs\n",
    "from tensorflow import stack, concat, expand_dims\n",
    "\n",
    "import tensorflow_probability as tfp\n",
    "\n",
    "from utils.utils import *\n",
    "from scipy import ndimage, fft\n",
    "\n",
    "plt.style.use(['science', 'ieee'])\n",
    "plt.rcParams.update({'figure.dpi': '100'})"
   ]
  },
  {
   "cell_type": "markdown",
   "metadata": {},
   "source": [
    "#### Experiment #1 : Confirming that most energy lies within the first 3 DCT coeficients"
   ]
  },
  {
   "cell_type": "code",
   "execution_count": 2,
   "metadata": {},
   "outputs": [],
   "source": [
    "model = ResNet50(weights='imagenet',\n",
    "                  include_top=False,\n",
    "                  input_shape=(224, 224, 3))"
   ]
  },
  {
   "cell_type": "code",
   "execution_count": 3,
   "metadata": {},
   "outputs": [],
   "source": [
    "conv_layers = []\n",
    "for l in model.layers:\n",
    "\tif 'conv2d' in str(type(l)).lower():\n",
    "\t\tif l.kernel_size == (3,3):\n",
    "\t\t\tconv_layers.append(l)"
   ]
  },
  {
   "cell_type": "code",
   "execution_count": 4,
   "metadata": {},
   "outputs": [
    {
     "name": "stdout",
     "output_type": "stream",
     "text": [
      "tf.Tensor(33.9693, shape=(), dtype=float32)\n",
      "tf.Tensor(33.9693, shape=(), dtype=float32)\n",
      "tf.Tensor(38.293594, shape=(), dtype=float32)\n",
      "tf.Tensor(38.29359, shape=(), dtype=float32)\n",
      "tf.Tensor(36.940254, shape=(), dtype=float32)\n",
      "tf.Tensor(36.940254, shape=(), dtype=float32)\n",
      "tf.Tensor(74.06923, shape=(), dtype=float32)\n",
      "tf.Tensor(74.06923, shape=(), dtype=float32)\n",
      "tf.Tensor(66.510605, shape=(), dtype=float32)\n",
      "tf.Tensor(66.510605, shape=(), dtype=float32)\n",
      "tf.Tensor(52.92857, shape=(), dtype=float32)\n",
      "tf.Tensor(52.928566, shape=(), dtype=float32)\n",
      "tf.Tensor(78.4034, shape=(), dtype=float32)\n",
      "tf.Tensor(78.4034, shape=(), dtype=float32)\n",
      "tf.Tensor(140.47586, shape=(), dtype=float32)\n",
      "tf.Tensor(140.47586, shape=(), dtype=float32)\n",
      "tf.Tensor(111.39947, shape=(), dtype=float32)\n",
      "tf.Tensor(111.39946, shape=(), dtype=float32)\n",
      "tf.Tensor(121.93478, shape=(), dtype=float32)\n",
      "tf.Tensor(121.93479, shape=(), dtype=float32)\n",
      "tf.Tensor(122.77906, shape=(), dtype=float32)\n",
      "tf.Tensor(122.779076, shape=(), dtype=float32)\n",
      "tf.Tensor(119.447716, shape=(), dtype=float32)\n",
      "tf.Tensor(119.44771, shape=(), dtype=float32)\n",
      "tf.Tensor(123.44556, shape=(), dtype=float32)\n",
      "tf.Tensor(123.44556, shape=(), dtype=float32)\n",
      "tf.Tensor(342.70953, shape=(), dtype=float32)\n",
      "tf.Tensor(342.70953, shape=(), dtype=float32)\n",
      "tf.Tensor(297.0807, shape=(), dtype=float32)\n",
      "tf.Tensor(297.08066, shape=(), dtype=float32)\n",
      "tf.Tensor(263.58832, shape=(), dtype=float32)\n",
      "tf.Tensor(263.5883, shape=(), dtype=float32)\n"
     ]
    },
    {
     "name": "stderr",
     "output_type": "stream",
     "text": [
      "c:\\Users\\AN46710\\Anaconda3\\envs\\masters\\lib\\site-packages\\ipykernel_launcher.py:62: UserWarning: FixedFormatter should only be used together with FixedLocator\n"
     ]
    },
    {
     "data": {
      "image/png": "[encoded data removed]",
      "text/plain": [
       "<Figure size 330x250 with 1 Axes>"
      ]
     },
     "metadata": {},
     "output_type": "display_data"
    }
   ],
   "source": [
    "\n",
    "from matplotlib.offsetbox import OffsetImage, AnnotationBbox\n",
    "\n",
    "\n",
    "#bars =  ax.bar([\"dc\", \"c1\", \"c2\", \"c3\", \"c4\", \"c5\", \"c6\", \"c7\", \"c8\"], vals)\n",
    "pos = [(0,0) , (0,1), (1,0), (1,1), (0, 2) , (2, 0), (1,2), (2,1), (2,2) ]\n",
    "\n",
    "d = []\n",
    "for  i,j in pos:\n",
    "\tt = np.zeros((3,3))\n",
    "\tt[i,j] =1\n",
    "\td.append(tf.reshape(fft.idctn(t, norm='ortho'), (3,3,1,1)))\n",
    "d = tf.cast(tf.stack(d), dtype=tf.float32)\n",
    "\n",
    "fig,ax= plt.subplots(1,1)\n",
    "\n",
    "\n",
    "dct_mean = np.zeros((9))\n",
    "\n",
    "for l_num in range(0, len(conv_layers)):\n",
    "\t\n",
    "\n",
    "\n",
    "\tf = get_filter(model, l_num)\n",
    "\ttitle = conv_layers[l_num].name\n",
    "\tw = tf.reshape(tf.reduce_sum(f*d, axis=(1,2)), (d.shape[0],1,1, f.shape[-2], f.shape[-1]))\n",
    "\n",
    "\tprint(tf.math.reduce_sum(w**2))\n",
    "\tprint(tf.math.reduce_sum(f**2))\n",
    "\n",
    "\n",
    "\tdct_mean += tf.reduce_sum(w**2, axis=(1,2,3,4))/tf.math.reduce_sum(w**2)\n",
    "\n",
    "dct_mean /= len(conv_layers)\n",
    "\n",
    "bars =  ax.bar([\"dc\", \"c1\", \"c2\", \"c3\", \"c4\", \"c5\", \"c6\", \"c7\", \"c8\"], dct_mean)\n",
    "\n",
    "\n",
    "for i, bar in enumerate(bars):\n",
    "\t# Load image\n",
    "\n",
    "\tdct_im = np.zeros((3,3))\n",
    "\tdct_im[pos[i]]=1\n",
    "\t#print(idct2(np.float16(dct_im)))\n",
    "\timg = idct2(np.float16(dct_im))\n",
    "\n",
    "\t# Create OffsetImage object\n",
    "\tim = OffsetImage(img, zoom=3, cmap=plt.cm.binary)  # Adjust zoom for image size\n",
    "\n",
    "\t# Get the x position of the bar's center\n",
    "\tx_position = bar.get_x() + bar.get_width() / 2\n",
    "\n",
    "\t# Place image below the x-axis label\n",
    "\tab = AnnotationBbox(im, (x_position, 0), \n",
    "\t\t\t\t\t\txybox=(0, -5),  # Adjust the second value for distance under the label\n",
    "\t\t\t\t\t\txycoords='data', \n",
    "\t\t\t\t\t\tboxcoords=\"offset points\", \n",
    "\t\t\t\t\t\tpad=0, frameon=True, \n",
    "\t\t\t\t\t\tbox_alignment=(0.5, 1))\n",
    "\n",
    "\t# Add image to the axes\n",
    "\tax.add_artist(ab)\n",
    "ax.set_xticklabels([''] * w.shape[0])  # Set empty labels\n",
    "ax.set_xlabel('DCT Component')\n",
    "ax.xaxis.set_label_coords(0.5, -0.15)\n",
    "ax.set_ylabel('Avg. Energy \\%')\n",
    "ax.set_box_aspect(1)\n",
    "\n",
    "\n",
    "ax.tick_params(axis='x', which='both', length=0)\n",
    "ax.set_box_aspect(1)\n",
    "\n",
    "ax.plot(ax.get_xticks(), [np.sum(dct_mean[:i+1]) for i in range(dct_mean.shape[-1])], lw=1, c='r', ls=':', marker='x', label=\"Cumulative Energy\")\n",
    "ax.legend()\n",
    "\n",
    "\n",
    "fig.tight_layout()\n",
    "\n",
    "plt.show()"
   ]
  },
  {
   "cell_type": "code",
   "execution_count": 5,
   "metadata": {},
   "outputs": [],
   "source": [
    "fig.savefig('resnet_dct_full.pdf', dpi=600)"
   ]
  },
  {
   "cell_type": "code",
   "execution_count": 10,
   "metadata": {},
   "outputs": [
    {
     "data": {
      "text/html": [
       "<div>\n",
       "<style scoped>\n",
       "    .dataframe tbody tr th:only-of-type {\n",
       "        vertical-align: middle;\n",
       "    }\n",
       "\n",
       "    .dataframe tbody tr th {\n",
       "        vertical-align: top;\n",
       "    }\n",
       "\n",
       "    .dataframe thead th {\n",
       "        text-align: right;\n",
       "    }\n",
       "</style>\n",
       "<table border=\"1\" class=\"dataframe\">\n",
       "  <thead>\n",
       "    <tr style=\"text-align: right;\">\n",
       "      <th></th>\n",
       "      <th>0</th>\n",
       "    </tr>\n",
       "  </thead>\n",
       "  <tbody>\n",
       "    <tr>\n",
       "      <th>0</th>\n",
       "      <td>0.346118</td>\n",
       "    </tr>\n",
       "    <tr>\n",
       "      <th>1</th>\n",
       "      <td>0.118893</td>\n",
       "    </tr>\n",
       "    <tr>\n",
       "      <th>2</th>\n",
       "      <td>0.157119</td>\n",
       "    </tr>\n",
       "    <tr>\n",
       "      <th>3</th>\n",
       "      <td>0.045584</td>\n",
       "    </tr>\n",
       "    <tr>\n",
       "      <th>4</th>\n",
       "      <td>0.088305</td>\n",
       "    </tr>\n",
       "    <tr>\n",
       "      <th>5</th>\n",
       "      <td>0.092051</td>\n",
       "    </tr>\n",
       "    <tr>\n",
       "      <th>6</th>\n",
       "      <td>0.043694</td>\n",
       "    </tr>\n",
       "    <tr>\n",
       "      <th>7</th>\n",
       "      <td>0.041187</td>\n",
       "    </tr>\n",
       "    <tr>\n",
       "      <th>8</th>\n",
       "      <td>0.067049</td>\n",
       "    </tr>\n",
       "  </tbody>\n",
       "</table>\n",
       "</div>"
      ],
      "text/plain": [
       "          0\n",
       "0  0.346118\n",
       "1  0.118893\n",
       "2  0.157119\n",
       "3  0.045584\n",
       "4  0.088305\n",
       "5  0.092051\n",
       "6  0.043694\n",
       "7  0.041187\n",
       "8  0.067049"
      ]
     },
     "execution_count": 10,
     "metadata": {},
     "output_type": "execute_result"
    }
   ],
   "source": [
    "import pandas as pd\n",
    "pd.DataFrame(dct_mean)"
   ]
  },
  {
   "cell_type": "code",
   "execution_count": 6,
   "metadata": {},
   "outputs": [
    {
     "data": {
      "text/plain": [
       "0.6221294"
      ]
     },
     "execution_count": 6,
     "metadata": {},
     "output_type": "execute_result"
    }
   ],
   "source": [
    "np.sum(dct_mean[0:3])"
   ]
  }
 ],
 "metadata": {
  "kernelspec": {
   "display_name": "masters",
   "language": "python",
   "name": "python3"
  },
  "language_info": {
   "codemirror_mode": {
    "name": "ipython",
    "version": 3
   },
   "file_extension": ".py",
   "mimetype": "text/x-python",
   "name": "python",
   "nbconvert_exporter": "python",
   "pygments_lexer": "ipython3",
   "version": "3.7.16"
  }
 },
 "nbformat": 4,
 "nbformat_minor": 2
}
