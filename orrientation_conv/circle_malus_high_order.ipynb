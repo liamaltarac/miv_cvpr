{
 "cells": [
  {
   "cell_type": "code",
   "execution_count": 22,
   "metadata": {},
   "outputs": [],
   "source": [
    "import sys\n",
    "sys.path.append('../')\n",
    "\n",
    "import numpy as np\n",
    "from scipy import ndimage\n",
    "\n",
    "from skimage.filters import sobel_h\n",
    "from skimage.filters import sobel_v\n",
    "from scipy import stats\n",
    "\n",
    "\n",
    "import os\n",
    "import matplotlib\n",
    "import matplotlib.pyplot as plt\n",
    "from mpl_toolkits.mplot3d import Axes3D\n",
    "from mpl_toolkits.mplot3d.proj3d import proj_transform\n",
    "from matplotlib.patches import FancyArrowPatch\n",
    "from mpl_toolkits.mplot3d import proj3d\n",
    "\n",
    "\n",
    "import scienceplots\n",
    "from tensorflow.python.client import device_lib\n",
    "\n",
    "#plt.rcParams['figure.figsize'] = [10,10]\n",
    "\n",
    "import tensorflow as tf\n",
    "from tensorflow.keras.preprocessing import image\n",
    "from tensorflow.keras.applications.vgg16 import decode_predictions\n",
    "from tensorflow.keras.applications import VGG16\n",
    "\n",
    "from tensorflow.nn import depthwise_conv2d\n",
    "from tensorflow.math import multiply, reduce_sum, reduce_mean,reduce_euclidean_norm, sin, cos, abs\n",
    "from tensorflow import stack, concat, expand_dims\n",
    "\n",
    "import tensorflow_probability as tfp\n",
    "\n",
    "from utils.utils import *\n",
    "import cv2\n",
    "\n",
    "from scipy import ndimage, fft\n",
    "\n",
    "plt.style.use(['science', 'ieee'])\n",
    "plt.rcParams.update({'figure.dpi': '100'})"
   ]
  },
  {
   "cell_type": "markdown",
   "metadata": {},
   "source": [
    "#### Experiment #1 : Symmetric Convolution\n"
   ]
  },
  {
   "cell_type": "code",
   "execution_count": 23,
   "metadata": {},
   "outputs": [
    {
     "data": {
      "text/plain": [
       "TensorShape([50, 50])"
      ]
     },
     "execution_count": 23,
     "metadata": {},
     "output_type": "execute_result"
    },
    {
     "data": {
      "image/png": "[encoded data removed]",
      "text/plain": [
       "<Figure size 330x250 with 1 Axes>"
      ]
     },
     "metadata": {},
     "output_type": "display_data"
    }
   ],
   "source": [
    "'''img = np.zeros((45, 45))\n",
    "center_coordinates = (img.shape[0]//2, img.shape[1]//2) \n",
    "img = cv2.circle(img, center_coordinates, 20, (255,255,255), -1) \n",
    "plt.imshow(img)'''\n",
    "\n",
    "\n",
    "N = 50\n",
    "#img =  tf.image.rot90(tf.random.uniform(shape=(50,50,1), minval=0., maxval=1.), k=1) #\n",
    "#img = tf.image.pad_to_bounding_box(img, 25//2,25//2,N+25, N+25)[...,0]\n",
    "\n",
    "img =  tf.expand_dims(cv2.imread('input4.png', 0)/255. , axis=-1)\n",
    "H, W, C = img.shape  # Get image dimensions\n",
    "offset_height = (H - N) // 2\n",
    "offset_width = (W - N) // 2\n",
    "img = tf.image.crop_to_bounding_box(img, offset_height, offset_width, N, N)[...,0]\n",
    "plt.imshow(img)\n",
    "img.shape\n"
   ]
  },
  {
   "cell_type": "code",
   "execution_count": 24,
   "metadata": {},
   "outputs": [
    {
     "name": "stdout",
     "output_type": "stream",
     "text": [
      "(50, 50)\n"
     ]
    },
    {
     "data": {
      "image/png": "[encoded data removed]",
      "text/plain": [
       "<Figure size 330x250 with 1 Axes>"
      ]
     },
     "metadata": {},
     "output_type": "display_data"
    }
   ],
   "source": [
    "#var = 2/(128*9)\n",
    "\n",
    "fig,ax = plt.subplots(1)\n",
    "\n",
    "ax.imshow(img, cmap='gray')\n",
    "\n",
    "#img = (img-np.mean(img))/np.std(img)\n",
    "#img = tf.repeat(tf.expand_dims([img], axis=-1) , repeats = 512, axis=-1)  #get_double_slit(shape) , axis=0)\n",
    "print(img.shape)\n",
    "plt.gca().set_axis_off()\n",
    "plt.subplots_adjust(top = 1, bottom = 0, right = 1, left = 0, \n",
    "            hspace = 0, wspace = 0)\n",
    "plt.margins(0,0)\n",
    "plt.gca().xaxis.set_major_locator(plt.NullLocator())\n",
    "plt.gca().yaxis.set_major_locator(plt.NullLocator())\n",
    "plt.savefig(\"input.png\",bbox_inches='tight',   pad_inches = 0)\n"
   ]
  },
  {
   "cell_type": "code",
   "execution_count": 25,
   "metadata": {},
   "outputs": [
    {
     "name": "stdout",
     "output_type": "stream",
     "text": [
      "tf.Tensor(1.0, shape=(), dtype=float64)\n",
      "tf.Tensor(1.0, shape=(), dtype=float64)\n",
      "IMG tf.Tensor(34.40930106817051, shape=(), dtype=float64)\n",
      "I0, tf.Tensor(34.409298, shape=(), dtype=float32)\n",
      "I1, tf.Tensor(3.21455, shape=(), dtype=float32)\n",
      "2.6060824 0.81071454\n",
      "2.6033154 0.80985373\n",
      "2.5950418 0.80727994\n",
      "2.581342 0.80301815\n",
      "2.5623517 0.79711056\n",
      "2.5382624 0.7896167\n",
      "2.5093205 0.7806133\n",
      "2.4758313 0.7701953\n",
      "2.4381576 0.75847554\n",
      "2.396724 0.74558616\n",
      "2.3520164 0.7316783\n",
      "2.3045866 0.71692353\n",
      "2.25505 0.7015134\n",
      "2.20403 0.6856418\n",
      "2.1520426 0.6694693\n",
      "2.0998619 0.6532366\n",
      "2.048344 0.63721013\n",
      "1.998401 0.62167364\n",
      "1.9509437 0.60691035\n",
      "1.9067291 0.59315586\n",
      "1.8667321 0.58071333\n",
      "1.8324391 0.5700453\n",
      "1.8048933 0.5614762\n",
      "1.7845622 0.55515146\n",
      "1.7719415 0.55122536\n",
      "1.7674087 0.5498153\n",
      "1.7712722 0.55101717\n",
      "1.7834862 0.5548168\n",
      "1.8036838 0.56109995\n",
      "1.831036 0.5696088\n",
      "1.8646681 0.5800713\n",
      "1.9041967 0.59236807\n",
      "1.9488894 0.60627127\n",
      "1.9975812 0.6214186\n",
      "2.0490828 0.63744\n",
      "2.1023893 0.65402293\n",
      "2.156542 0.67086905\n",
      "2.2106397 0.687698\n",
      "2.2637331 0.70421463\n",
      "2.31489 0.7201288\n",
      "2.3634355 0.73523057\n",
      "2.40877 0.7493335\n",
      "2.4503617 0.76227206\n",
      "2.487744 0.77390116\n",
      "2.5205157 0.78409594\n",
      "2.5483363 0.79275054\n",
      "2.5709245 0.79977745\n",
      "2.5880592 0.8051078\n",
      "2.5995736 0.8086897\n",
      "2.6053584 0.8104893\n",
      "2.6053581 0.81048924\n",
      "2.5995736 0.8086897\n",
      "2.5880592 0.8051078\n",
      "2.5709248 0.7997775\n",
      "2.5483363 0.79275054\n",
      "2.5205157 0.78409594\n",
      "2.487744 0.77390116\n",
      "2.4503617 0.76227206\n",
      "2.4087703 0.7493336\n",
      "2.3634357 0.7352307\n",
      "2.3148897 0.72012866\n",
      "2.2637331 0.70421463\n",
      "2.2106395 0.68769795\n",
      "2.156542 0.67086905\n",
      "2.1023896 0.654023\n",
      "2.0490828 0.63744\n",
      "1.9975814 0.62141865\n",
      "1.9488895 0.6062713\n",
      "1.9041969 0.59236807\n",
      "1.8646681 0.5800713\n",
      "1.831036 0.5696088\n",
      "1.8036836 0.5610999\n",
      "1.7834862 0.5548168\n",
      "1.7712722 0.55101717\n",
      "1.7674087 0.5498153\n",
      "1.7719415 0.55122536\n",
      "1.7845621 0.55515146\n",
      "1.8048933 0.5614762\n",
      "1.832439 0.57004523\n",
      "1.8667321 0.58071333\n",
      "1.9067292 0.59315586\n",
      "1.9509436 0.60691035\n",
      "1.998401 0.62167364\n",
      "2.0483441 0.63721025\n",
      "2.0998619 0.6532366\n",
      "2.1520429 0.6694694\n",
      "2.20403 0.6856418\n",
      "2.25505 0.7015134\n",
      "2.3045866 0.71692353\n",
      "2.3520164 0.7316783\n",
      "2.3967237 0.7455861\n",
      "2.4381576 0.75847554\n",
      "2.4758313 0.7701953\n",
      "2.5093205 0.7806133\n",
      "2.5382624 0.7896167\n",
      "2.5623517 0.79711056\n",
      "2.581342 0.80301815\n",
      "2.5950418 0.80727994\n",
      "2.6033154 0.80985373\n",
      "2.6060824 0.81071454\n"
     ]
    }
   ],
   "source": [
    "w = np.zeros((3,3,1,1))\n",
    "\n",
    "\n",
    "t1 = np.zeros((3,3))\n",
    "t2 = np.zeros((3,3))\n",
    "\n",
    "t1[1, 2] = 1.\n",
    "t2[2, 1] = 1.\n",
    "\n",
    "\n",
    "w1 = fft.idctn(t1, norm='ortho')\n",
    "#w1 /= np.sum(np.abs(w1))\n",
    "\n",
    "w2 = fft.idctn(t2, norm='ortho')\n",
    "#w2 /= np.sum(np.abs(w2))\n",
    "\n",
    "w[:,:,0,0] = (np.cos(-np.pi))*w1 + ( np.sin(-np.pi))*w2\n",
    "print(tf.math.reduce_euclidean_norm(w))\n",
    "w[:,:,0,0] = w[:,:,0,0] / (tf.math.reduce_euclidean_norm(w))\n",
    "\n",
    "\n",
    "print(tf.math.reduce_euclidean_norm(w))\n",
    "x = img\n",
    "\n",
    "print(\"IMG\", (tf.math.reduce_euclidean_norm(img)))\n",
    "\n",
    "\n",
    "\n",
    "directory = f\"figures/malus_high_order\"\n",
    "if not os.path.exists(directory):\n",
    "\tos.makedirs(directory)\n",
    "\n",
    "\n",
    "response_mag = []\n",
    "init_mag = tf.math.reduce_euclidean_norm(x).numpy()\n",
    "\n",
    "\n",
    "\n",
    "i0 = tf.cast(tf.repeat(tf.expand_dims([img], axis=-1) , repeats = w.shape[-2], axis=-1), dtype=tf.float32) \n",
    "\n",
    "print(\"I0,\", tf.math.reduce_euclidean_norm(i0))\n",
    "\n",
    "\n",
    "i1 = tf.nn.relu(tf.nn.conv2d(i0, w , strides=(1,1), padding='SAME') )\n",
    "\n",
    "print(\"I1,\", tf.math.reduce_euclidean_norm(i1))\n",
    "\n",
    "\n",
    "\n",
    "init_mag = tf.math.reduce_euclidean_norm(i1).numpy()\n",
    "\n",
    "angles = np.linspace(-np.pi, np.pi, 100)\n",
    "for i in range(100):\n",
    "\t#fig, ax = plt.subplots()\n",
    "\t\n",
    "\t\n",
    "\tw[:,:,0,0] = (np.cos(angles[i]))*w1 + ( np.sin(angles[i]))*w2\n",
    "\tw[:,:,0,0] = w[:,:,0,0] / (tf.math.reduce_euclidean_norm(w))\n",
    "\t\t\n",
    "\tx_out = tf.nn.relu( tf.nn.conv2d(i1, w , strides=(1,1), \n",
    "\t\t\t\t\t\t\t\tpadding='SAME') )\n",
    "\n",
    "\tresponse_mag.append(tf.math.reduce_euclidean_norm(x_out).numpy()/init_mag)\n",
    "\tprint(tf.math.reduce_euclidean_norm(x_out).numpy(), response_mag[-1])"
   ]
  },
  {
   "cell_type": "code",
   "execution_count": null,
   "metadata": {},
   "outputs": [],
   "source": []
  },
  {
   "cell_type": "code",
   "execution_count": 26,
   "metadata": {},
   "outputs": [
    {
     "data": {
      "image/png": "[encoded data removed]",
      "text/plain": [
       "<Figure size 300x300 with 1 Axes>"
      ]
     },
     "metadata": {},
     "output_type": "display_data"
    }
   ],
   "source": [
    "fig, ax= plt.subplots(1,1, figsize=(3,3))\n",
    "\n",
    "ax.plot(angles,response_mag)\n",
    "\n",
    "ticks = np.arange(-np.pi, 1.5*np.pi, np.pi/2)\n",
    "labels = [r\"$-\\pi$\", r\"$-\\pi/2$\", r\"$0$\", r\"$\\pi/2$\", r\"$\\pi$\"]\n",
    "# Set ticks and labels on the x-axis\n",
    "ax.set_xticks(ticks=ticks, labels=labels);\n",
    "ax.set_yticks(ticks=np.arange(0,1.1, 0.1));\n",
    "\n",
    "ax.set_ylabel(r\"Percent of Energy Transmitted $\\left( \\frac{||I_{2}||}{||I_{1}||} \\right)$\", fontsize=7)\n",
    "ax.set_xlabel(r\"Difference in kernel orrientation $(\\theta_2 - \\theta_1)$\", fontsize=7)\n",
    "\n",
    "plt.savefig('malus2_high_order.pdf', dpi=600)\n",
    "plt.show()\n"
   ]
  },
  {
   "cell_type": "code",
   "execution_count": 27,
   "metadata": {},
   "outputs": [
    {
     "data": {
      "image/png": "[encoded data removed]",
      "text/plain": [
       "<Figure size 330x250 with 2 Axes>"
      ]
     },
     "metadata": {},
     "output_type": "display_data"
    }
   ],
   "source": [
    "i0 = tf.cast(tf.repeat(tf.expand_dims([img], axis=-1) , repeats = w.shape[-2], axis=-1), dtype=tf.float32) \n",
    "\n",
    "fig, ax= plt.subplots(1,1)\n",
    "\n",
    "\n",
    "im =ax.imshow(i0[0,...,0])\n",
    "#ax.plot(45//2, 45, marker = '+', color='red');\n",
    "\n",
    "\n",
    "\n",
    "ax.set(xlim=(0, img.shape[0]), ylim=(0,  img.shape[1]));\n",
    "\n",
    "x_min, x_max = 30, 60\n",
    "y_min, y_max = 30, 60\n",
    "\n",
    "ax.set_xlim(x_min, x_max)\n",
    "ax.set_ylim(y_min, y_max)\n",
    "\n",
    "fig.colorbar(im, orientation='vertical');\n",
    "\n",
    "plt.gca().set_axis_off()\n",
    "plt.subplots_adjust(top = 1, bottom = 0, right = 1, left = 0, \n",
    "            hspace = 0, wspace = 0)\n",
    "plt.margins(0,0)\n",
    "plt.gca().xaxis.set_major_locator(plt.NullLocator())\n",
    "plt.gca().yaxis.set_major_locator(plt.NullLocator())\n",
    "plt.savefig(\"i0_high_order.pdf\",bbox_inches='tight',   pad_inches = 0, dpi=600)\n"
   ]
  },
  {
   "cell_type": "code",
   "execution_count": null,
   "metadata": {},
   "outputs": [],
   "source": []
  },
  {
   "cell_type": "code",
   "execution_count": 28,
   "metadata": {},
   "outputs": [
    {
     "name": "stdout",
     "output_type": "stream",
     "text": [
      "tf.Tensor(34.409298, shape=(), dtype=float32)\n"
     ]
    },
    {
     "data": {
      "text/plain": [
       "<tf.Tensor: shape=(), dtype=float32, numpy=3.21455>"
      ]
     },
     "execution_count": 28,
     "metadata": {},
     "output_type": "execute_result"
    },
    {
     "data": {
      "image/png": "[encoded data removed]",
      "text/plain": [
       "<Figure size 330x250 with 2 Axes>"
      ]
     },
     "metadata": {},
     "output_type": "display_data"
    }
   ],
   "source": [
    "angle = -np.pi\n",
    "\n",
    "w = np.zeros((3,3,1,1))\n",
    "\n",
    "w[:,:,0,0] = (np.cos(angle))*w1 + ( np.sin(angle))*w2\n",
    "w[:,:,0,0] = w[:,:,0,0] / (tf.math.reduce_euclidean_norm(w))\n",
    "\n",
    "\n",
    "i0 = tf.cast(tf.repeat(tf.expand_dims([img], axis=-1) , repeats = w.shape[-2], axis=-1), dtype=tf.float32) \n",
    "\n",
    "print((tf.math.reduce_euclidean_norm(i0)))\n",
    "\n",
    "i1_x = tf.nn.relu( tf.nn.conv2d(i0, w , strides=(1,1), \n",
    "\t\t\t\t\t\t\t padding='SAME') )\n",
    "\n",
    "\n",
    "fig, ax= plt.subplots(1,1)\n",
    "\n",
    "im =ax.imshow(i1[0,...,0])\n",
    "#ax.plot(45//2, 45, marker = '+', color='red');\n",
    "\n",
    "\n",
    "\n",
    "\n",
    "ax.set(xlim=(0, img.shape[0]), ylim=(0,  img.shape[1]));\n",
    "x_min, x_max = 30, 60\n",
    "y_min, y_max = 30, 60\n",
    "\n",
    "ax.set_xlim(x_min, x_max)\n",
    "ax.set_ylim(y_min, y_max)\n",
    "\n",
    "fig.colorbar(im, orientation='vertical');\n",
    "\n",
    "plt.gca().set_axis_off()\n",
    "plt.subplots_adjust(top = 1, bottom = 0, right = 1, left = 0, \n",
    "            hspace = 0, wspace = 0)\n",
    "plt.margins(0,0)\n",
    "plt.gca().xaxis.set_major_locator(plt.NullLocator())\n",
    "plt.gca().yaxis.set_major_locator(plt.NullLocator())\n",
    "plt.savefig(\"i1_high_order.pdf\",bbox_inches='tight',   pad_inches = 0, dpi=600)\n",
    "tf.math.reduce_euclidean_norm(i1)\n",
    "\n"
   ]
  },
  {
   "cell_type": "code",
   "execution_count": 29,
   "metadata": {},
   "outputs": [
    {
     "data": {
      "text/plain": [
       "<tf.Tensor: shape=(), dtype=float32, numpy=2.6060824>"
      ]
     },
     "execution_count": 29,
     "metadata": {},
     "output_type": "execute_result"
    },
    {
     "data": {
      "image/png": "[encoded data removed]",
      "text/plain": [
       "<Figure size 330x250 with 2 Axes>"
      ]
     },
     "metadata": {},
     "output_type": "display_data"
    }
   ],
   "source": [
    "angle = -np.pi\n",
    "\n",
    "w[:,:,0,0] = (np.cos(angle))*w1 + ( np.sin(angle))*w2\n",
    "w[:,:,0,0] = w[:,:,0,0] / (tf.math.reduce_euclidean_norm(w))\n",
    "\n",
    "\n",
    "\n",
    "\n",
    "i2_x = tf.nn.relu( tf.nn.conv2d(i1, w , strides=(1,1), \n",
    "\t\t\t\t\t\t\t padding='SAME') )\n",
    "\n",
    "\n",
    "fig, ax= plt.subplots(1,1)\n",
    "\n",
    "im =ax.imshow(i2_x[0,...,0])\n",
    "#ax.plot(45//2, 45, marker = '+', color='red');\n",
    "\n",
    "\n",
    "\n",
    "ax.set(xlim=(0, img.shape[0]), ylim=(0,  img.shape[1]));\n",
    "x_min, x_max = 30, 60\n",
    "y_min, y_max = 30, 60\n",
    "\n",
    "ax.set_xlim(x_min, x_max)\n",
    "ax.set_ylim(y_min, y_max)\n",
    "\n",
    "\n",
    "fig.colorbar(im, orientation='vertical');\n",
    "\n",
    "plt.gca().set_axis_off()\n",
    "plt.subplots_adjust(top = 1, bottom = 0, right = 1, left = 0, \n",
    "            hspace = 0, wspace = 0)\n",
    "plt.margins(0,0)\n",
    "plt.gca().xaxis.set_major_locator(plt.NullLocator())\n",
    "plt.gca().yaxis.set_major_locator(plt.NullLocator())\n",
    "plt.savefig(\"i2_y_high_order.pdf\",bbox_inches='tight',   pad_inches = 0, dpi=600)\n",
    "tf.math.reduce_euclidean_norm(i2_x)"
   ]
  },
  {
   "cell_type": "code",
   "execution_count": 30,
   "metadata": {},
   "outputs": [
    {
     "data": {
      "text/plain": [
       "<tf.Tensor: shape=(), dtype=float32, numpy=1.7677668>"
      ]
     },
     "execution_count": 30,
     "metadata": {},
     "output_type": "execute_result"
    },
    {
     "data": {
      "image/png": "[encoded data removed]",
      "text/plain": [
       "<Figure size 330x250 with 2 Axes>"
      ]
     },
     "metadata": {},
     "output_type": "display_data"
    }
   ],
   "source": [
    "angle = np.pi/2\n",
    "\n",
    "w[:,:,0,0] = (np.cos(angle))*w1 + ( np.sin(angle))*w2\n",
    "w[:,:,0,0] = w[:,:,0,0] / (tf.math.reduce_euclidean_norm(w))\n",
    "\n",
    "\n",
    "\n",
    "\n",
    "i2_y = tf.nn.relu( tf.nn.conv2d(i1, w , strides=(1,1), \n",
    "\t\t\t\t\t\t\t padding='SAME') )\n",
    "\n",
    "\n",
    "fig, ax= plt.subplots(1,1)\n",
    "\n",
    "im =ax.imshow(i2_y[0,...,0])\n",
    "#ax.plot(45//2, 45, marker = '+', color='red');\n",
    "\n",
    "\n",
    "\n",
    "ax.set(xlim=(0, img.shape[0]), ylim=(0,  img.shape[1]));\n",
    "x_min, x_max = 30, 60\n",
    "y_min, y_max = 30, 60\n",
    "\n",
    "ax.set_xlim(x_min, x_max)\n",
    "ax.set_ylim(y_min, y_max)\n",
    "\n",
    "\n",
    "fig.colorbar(im, orientation='vertical');\n",
    "\n",
    "plt.gca().set_axis_off()\n",
    "plt.subplots_adjust(top = 1, bottom = 0, right = 1, left = 0, \n",
    "            hspace = 0, wspace = 0)\n",
    "plt.margins(0,0)\n",
    "plt.gca().xaxis.set_major_locator(plt.NullLocator())\n",
    "plt.gca().yaxis.set_major_locator(plt.NullLocator())\n",
    "#plt.savefig(\"i2_y_high_order.pdf\",bbox_inches='tight',   pad_inches = 0, dpi=600)\n",
    "tf.math.reduce_euclidean_norm(i2_y)"
   ]
  },
  {
   "cell_type": "code",
   "execution_count": 31,
   "metadata": {},
   "outputs": [
    {
     "data": {
      "text/plain": [
       "TensorShape([1, 50, 50, 1])"
      ]
     },
     "execution_count": 31,
     "metadata": {},
     "output_type": "execute_result"
    }
   ],
   "source": [
    "i0.shape"
   ]
  },
  {
   "cell_type": "code",
   "execution_count": 32,
   "metadata": {},
   "outputs": [
    {
     "data": {
      "image/png": "[encoded data removed]",
      "text/plain": [
       "<Figure size 800x700 with 8 Axes>"
      ]
     },
     "metadata": {},
     "output_type": "display_data"
    }
   ],
   "source": [
    "fig, axs = plt.subplots(2, 2, figsize=(8, 7))\n",
    "title_fontsize = 16  # Adjust as needed\n",
    "\n",
    "# Top-left\n",
    "im0 = axs[0, 0].imshow(i0[0,...,0].numpy(), cmap='viridis')\n",
    "axs[0, 0].set_title(r'Input ', fontsize=title_fontsize)\n",
    "fig.colorbar(im0, ax=axs[0, 0], fraction=0.046, pad=0.04)\n",
    "#ax.set(xlim=(0, img.shape[0]), ylim=(0,  img.shape[1]));\n",
    "\n",
    "\n",
    "\n",
    "#fig.colorbar(im, orientation='vertical');\n",
    "\n",
    "\n",
    "# Top-right\n",
    "im1 = axs[0, 1].imshow(i1_x[0,...,0].numpy(), cmap='viridis')\n",
    "axs[0, 1].set_title(r'$I_1 = \\mathrm{ReLU}(I_0 * D_{1,2})$', fontsize=title_fontsize)\n",
    "fig.colorbar(im1, ax=axs[0, 1], fraction=0.046, pad=0.04)\n",
    "\n",
    "# Bottom-left\n",
    "im2 = axs[1, 0].imshow(i2_x[0,...,0].numpy(), cmap='viridis')\n",
    "axs[1, 0].set_title(r'$I_2 = \\mathrm{ReLU}(I_1 * D_{1,2})$', fontsize=title_fontsize)\n",
    "fig.colorbar(im2, ax=axs[1, 0], fraction=0.046, pad=0.04)\n",
    "\n",
    "vmin = i2_x[0,...,0].numpy().min()\n",
    "vmax = i2_x[0,...,0].numpy().max()\n",
    "\n",
    "\n",
    "# Bottom-right\n",
    "im3 = axs[1, 1].imshow(\n",
    "    i2_y[0,...,0].numpy(), \n",
    "    cmap='viridis', \n",
    "    vmin=vmin, \n",
    "    vmax=vmax\n",
    ")\n",
    "axs[1, 1].set_title(r'$I_2 = \\mathrm{ReLU}(I_1 * D_{2,1})$', fontsize=title_fontsize)\n",
    "fig.colorbar(im2, ax=axs[1, 1], fraction=0.046, pad=0.04)\n",
    "\n",
    "# Optional: tighten layout and remove axis ticks\n",
    "for ax in axs.flat:\n",
    "    ax.set_xticks([])\n",
    "    ax.set_yticks([])\n",
    "\n",
    "plt.tight_layout()\n",
    "plt.savefig(\"malus_high_order_circle.pdf\", dpi=600)\n",
    "\n",
    "plt.show()\n",
    "\n",
    "\n"
   ]
  },
  {
   "cell_type": "code",
   "execution_count": null,
   "metadata": {},
   "outputs": [
    {
     "data": {
      "text/plain": [
       "(0.57735026, 0.49999997)"
      ]
     },
     "execution_count": 33,
     "metadata": {},
     "output_type": "execute_result"
    }
   ],
   "source": [
    "np.max(i1_x), np.max(i2_x)"
   ]
  },
  {
   "cell_type": "code",
   "execution_count": 34,
   "metadata": {},
   "outputs": [
    {
     "data": {
      "text/plain": [
       "-5.551115123125783e-17"
      ]
     },
     "execution_count": 34,
     "metadata": {},
     "output_type": "execute_result"
    }
   ],
   "source": [
    "np.sum(w)"
   ]
  },
  {
   "cell_type": "code",
   "execution_count": 35,
   "metadata": {},
   "outputs": [
    {
     "data": {
      "text/plain": [
       "0.57735026"
      ]
     },
     "execution_count": 35,
     "metadata": {},
     "output_type": "execute_result"
    }
   ],
   "source": [
    "np.max(tf.nn.conv2d(i0, w , strides=(1,1), padding='SAME'))"
   ]
  },
  {
   "cell_type": "code",
   "execution_count": 36,
   "metadata": {},
   "outputs": [
    {
     "data": {
      "text/plain": [
       "0.25"
      ]
     },
     "execution_count": 36,
     "metadata": {},
     "output_type": "execute_result"
    }
   ],
   "source": [
    "np.max(tf.nn.conv2d(i1, w , strides=(1,1), padding='SAME'))"
   ]
  },
  {
   "cell_type": "code",
   "execution_count": 37,
   "metadata": {},
   "outputs": [
    {
     "name": "stderr",
     "output_type": "stream",
     "text": [
      "/tmp/ipykernel_90032/680190818.py:34: MatplotlibDeprecationWarning: The tostring_rgb function was deprecated in Matplotlib 3.8 and will be removed in 3.10. Use buffer_rgba instead.\n",
      "  img = np.frombuffer(canvas.tostring_rgb(), dtype='uint8')\n"
     ]
    },
    {
     "data": {
      "image/png": "[encoded data removed]",
      "text/plain": [
       "<Figure size 300x300 with 1 Axes>"
      ]
     },
     "metadata": {},
     "output_type": "display_data"
    }
   ],
   "source": [
    "from matplotlib.offsetbox import OffsetImage, AnnotationBbox, TextArea, VPacker\n",
    "from matplotlib.backends.backend_agg import FigureCanvasAgg as FigureCanvas\n",
    "\n",
    "def render_patch_with_border(patch, border_color='black', border_width=1, zoom=1.0):\n",
    "\t\"\"\"\n",
    "\tRenders a patch using imshow-style with a border and returns it as an OffsetImage.\n",
    "\t\"\"\"\n",
    "\t# Create a tiny figure to render the patch using imshow\n",
    "\tfig, ax = plt.subplots(figsize=(1, 1), dpi=100)\n",
    "\tcanvas = FigureCanvas(fig)\n",
    "\n",
    "\tax.imshow(patch, cmap='gray', interpolation='none')\n",
    "\tax.tick_params(left=False, bottom=False, labelleft=False, labelbottom=False)\n",
    "\n",
    "\n",
    "\tfor spine in ax.spines.values():\n",
    "\t\tspine.set_visible(True)\n",
    "\t\tspine.set_linewidth(1)\n",
    "\t\tspine.set_color('black')\n",
    "\n",
    "\t# Make sure spines are drawn on top of the image\n",
    "\tax.set_frame_on(True)\n",
    "\t# Add rectangle border\n",
    "\t'''h, w = patch.shape\n",
    "\tax.add_patch(plt.Rectangle(\n",
    "\t\t(-0.5, -0.5), w, h,\n",
    "\t\tedgecolor=border_color,\n",
    "\t\tfacecolor='none',\n",
    "\t\tlinewidth=border_width\n",
    "\t))'''\n",
    "\n",
    "\t# Render to array\n",
    "\tcanvas.draw()\n",
    "\timg = np.frombuffer(canvas.tostring_rgb(), dtype='uint8')\n",
    "\timg = img.reshape(canvas.get_width_height()[::-1] + (3,))\n",
    "\n",
    "\tplt.close(fig)\n",
    "\treturn OffsetImage(img, zoom=zoom)\n",
    "\n",
    "# Function to place image on the curve\n",
    "\n",
    "def add_patch_with_label(ax, x, y, patch, label):\n",
    "\t# Create rendered image with border\n",
    "\timagebox = render_patch_with_border(patch, border_color='black', border_width=2, zoom=0.2)\n",
    "\n",
    "\t# Create label\n",
    "\ttextbox = TextArea(label, textprops={\n",
    "\t\t'fontsize': 7,\n",
    "\t\t'ha': 'center',\n",
    "\t\t'va': 'center',\n",
    "\t\t'bbox': dict(facecolor='white', edgecolor='none', boxstyle='round,pad=0.1')\n",
    "\t})\n",
    "\n",
    "\t# Stack vertically\n",
    "\tvpack = VPacker(children=[textbox, imagebox], align=\"center\", pad=0, sep=3)\n",
    "\tab = AnnotationBbox(vpack, (x, y), frameon=False, box_alignment=(0.5, 0.5))\n",
    "\n",
    "\tax.add_artist(ab)\n",
    "\n",
    "\n",
    "fig, ax= plt.subplots(1,1, figsize=(3,3))\n",
    "\n",
    "ax.plot(angles,response_mag)\n",
    "\n",
    "ticks = np.arange(-np.pi, 1.5*np.pi, np.pi/2)\n",
    "labels = [r\"$-\\pi$\", r\"$-\\pi/2$\", r\"$0$\", r\"$\\pi/2$\", r\"$\\pi$\"]\n",
    "# Set ticks and labels on the x-axis\n",
    "ax.set_xticks(ticks=ticks, labels=labels);\n",
    "ax.set_yticks(ticks=np.arange(0,1.1, 0.1));\n",
    "\n",
    "ax.set_ylabel(r\"Percent of Energy Transmitted $\\left( \\frac{||I_{2}||}{||I_{1}||} \\right)$\", fontsize=10)\n",
    "ax.set_xlabel(r\"Difference in kernel orrientation $(\\theta_2 - \\theta_1)$\", fontsize=10)\n",
    "\n",
    "# Locations along curve\n",
    "x1, y1 = -np.pi/2, response_mag[len(response_mag)//4]  # for dy\n",
    "x2, y2 = np.pi, response_mag[-1]     # for dx\n",
    "w[:,:,0,0] = (np.cos(np.pi))*w1 + ( np.sin(np.pi))*w2\n",
    "dx_kernel = w[:,:,0,0]\n",
    "dy_kernel = dx_kernel.T\n",
    "\n",
    "\n",
    "\n",
    "add_patch_with_label(ax, x1,  y1-0.09, dy_kernel, r'$I_2 = \\mathrm{ReLU}(I_1 * D_{2,1})$')\n",
    "add_patch_with_label(ax, x2+0.05, y2+0.1, dx_kernel, r'$I_2 = \\mathrm{ReLU}(I_1 * D_{1,2})$')\n",
    "\n",
    "\n",
    "plt.savefig('malus_curve_circle_high_order.pdf', dpi=600)\n",
    "plt.show()\n"
   ]
  },
  {
   "cell_type": "code",
   "execution_count": 38,
   "metadata": {},
   "outputs": [
    {
     "name": "stdout",
     "output_type": "stream",
     "text": [
      "tf.Tensor(1.0, shape=(), dtype=float64)\n",
      "tf.Tensor(1.0, shape=(), dtype=float64)\n"
     ]
    }
   ],
   "source": [
    "a = np.pi\n",
    "w[:,:,0,0] = (np.cos(a))*w1 + ( np.sin(a))*w2\n",
    "\n",
    "print((tf.math.reduce_euclidean_norm(w)))\n",
    "\n",
    "w[:,:,0,0] = w[:,:,0,0] / (tf.math.reduce_euclidean_norm(w))\n",
    "print((tf.math.reduce_euclidean_norm(w)))\n",
    "\n"
   ]
  },
  {
   "cell_type": "code",
   "execution_count": 39,
   "metadata": {},
   "outputs": [
    {
     "data": {
      "text/plain": [
       "<matplotlib.image.AxesImage at 0x7f0f6c35d600>"
      ]
     },
     "execution_count": 39,
     "metadata": {},
     "output_type": "execute_result"
    },
    {
     "data": {
      "image/png": "[encoded data removed]",
      "text/plain": [
       "<Figure size 330x250 with 1 Axes>"
      ]
     },
     "metadata": {},
     "output_type": "display_data"
    }
   ],
   "source": [
    "w[:,:,0,0] = (np.cos(np.pi/2))*w1 + ( np.sin(np.pi/2))*w2\n",
    "\n",
    "\n",
    "\n",
    "\n",
    "\n",
    "p = plt.imshow(w[:,:,0,0], cmap='gray')\n",
    "plt.axis('off')\n",
    "p\n"
   ]
  },
  {
   "cell_type": "code",
   "execution_count": 40,
   "metadata": {},
   "outputs": [
    {
     "data": {
      "text/plain": [
       "array([[[[ 0.13608276]],\n",
       "\n",
       "        [[ 0.        ]],\n",
       "\n",
       "        [[-0.13608276]]],\n",
       "\n",
       "\n",
       "       [[[ 0.13608276]],\n",
       "\n",
       "        [[ 0.        ]],\n",
       "\n",
       "        [[-0.13608276]]],\n",
       "\n",
       "\n",
       "       [[[ 0.13608276]],\n",
       "\n",
       "        [[ 0.        ]],\n",
       "\n",
       "        [[-0.13608276]]]])"
      ]
     },
     "execution_count": 40,
     "metadata": {},
     "output_type": "execute_result"
    },
    {
     "data": {
      "image/png": "[encoded data removed]",
      "text/plain": [
       "<Figure size 330x250 with 1 Axes>"
      ]
     },
     "metadata": {},
     "output_type": "display_data"
    }
   ],
   "source": [
    "a = np.zeros((3,3))\n",
    "a[0, 1] =1\n",
    "a = np.reshape(fft.idctn(a, norm='ortho'), (3,3,1,1))\n",
    "\n",
    "b = np.zeros((3,3))\n",
    "b[0, 0] =1\n",
    "b = np.reshape(fft.idctn(b, norm='ortho'), (3,3,1,1))\n",
    "\n",
    "dct_basis = a*b\n",
    "\n",
    "plt.imshow(dct_basis[..., 0,0])\n",
    "dct_basis"
   ]
  }
 ],
 "metadata": {
  "kernelspec": {
   "display_name": "lam",
   "language": "python",
   "name": "python3"
  },
  "language_info": {
   "codemirror_mode": {
    "name": "ipython",
    "version": 3
   },
   "file_extension": ".py",
   "mimetype": "text/x-python",
   "name": "python",
   "nbconvert_exporter": "python",
   "pygments_lexer": "ipython3",
   "version": "3.10.16"
  }
 },
 "nbformat": 4,
 "nbformat_minor": 2
}
