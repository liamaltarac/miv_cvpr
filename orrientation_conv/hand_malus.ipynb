{
 "cells": [
  {
   "cell_type": "code",
   "execution_count": 146,
   "metadata": {},
   "outputs": [],
   "source": [
    "import sys\n",
    "sys.path.append('../')\n",
    "\n",
    "import numpy as np\n",
    "from scipy import ndimage\n",
    "\n",
    "from skimage.filters import sobel_h\n",
    "from skimage.filters import sobel_v\n",
    "from scipy import stats\n",
    "\n",
    "\n",
    "import os\n",
    "import matplotlib\n",
    "import matplotlib.pyplot as plt\n",
    "from mpl_toolkits.mplot3d import Axes3D\n",
    "from mpl_toolkits.mplot3d.proj3d import proj_transform\n",
    "from matplotlib.patches import FancyArrowPatch\n",
    "from mpl_toolkits.mplot3d import proj3d\n",
    "\n",
    "\n",
    "import scienceplots\n",
    "from tensorflow.python.client import device_lib\n",
    "\n",
    "#plt.rcParams['figure.figsize'] = [10,10]\n",
    "\n",
    "import tensorflow as tf\n",
    "from tensorflow.keras.preprocessing import image\n",
    "from tensorflow.keras.applications.vgg16 import decode_predictions\n",
    "from tensorflow.keras.applications import VGG16\n",
    "\n",
    "from tensorflow.nn import depthwise_conv2d\n",
    "from tensorflow.math import multiply, reduce_sum, reduce_mean,reduce_euclidean_norm, sin, cos, abs\n",
    "from tensorflow import stack, concat, expand_dims\n",
    "\n",
    "import tensorflow_probability as tfp\n",
    "\n",
    "from utils.utils import *\n",
    "import cv2\n",
    "\n",
    "from scipy import ndimage, fft\n",
    "\n",
    "plt.style.use(['science', 'ieee'])\n",
    "plt.rcParams.update({'figure.dpi': '100'})"
   ]
  },
  {
   "cell_type": "markdown",
   "metadata": {},
   "source": [
    "#### Experiment #1 : Symmetric Convolution\n"
   ]
  },
  {
   "cell_type": "code",
   "execution_count": 147,
   "metadata": {},
   "outputs": [
    {
     "data": {
      "text/plain": [
       "TensorShape([50, 50])"
      ]
     },
     "execution_count": 147,
     "metadata": {},
     "output_type": "execute_result"
    },
    {
     "data": {
      "image/png": "[encoded data removed]",
      "text/plain": [
       "<Figure size 330x250 with 1 Axes>"
      ]
     },
     "metadata": {},
     "output_type": "display_data"
    }
   ],
   "source": [
    "'''img = np.zeros((45, 45))\n",
    "center_coordinates = (img.shape[0]//2, img.shape[1]//2) \n",
    "img = cv2.circle(img, center_coordinates, 20, (255,255,255), -1) \n",
    "plt.imshow(img)'''\n",
    "\n",
    "\n",
    "N = 50\n",
    "#img =  tf.image.rot90(tf.random.uniform(shape=(50,50,1), minval=0., maxval=1.), k=1) #\n",
    "#img = tf.image.pad_to_bounding_box(img, 25//2,25//2,N+25, N+25)[...,0]\n",
    "\n",
    "img =  tf.expand_dims(cv2.imread('input4.png', 0)/255. , axis=-1)\n",
    "H, W, C = img.shape  # Get image dimensions\n",
    "offset_height = (H - N) // 2\n",
    "offset_width = (W - N) // 2\n",
    "img = tf.image.crop_to_bounding_box(img, offset_height, offset_width, N, N)[...,0]\n",
    "plt.imshow(img)\n",
    "img.shape\n"
   ]
  },
  {
   "cell_type": "code",
   "execution_count": 148,
   "metadata": {},
   "outputs": [
    {
     "name": "stdout",
     "output_type": "stream",
     "text": [
      "(50, 50)\n"
     ]
    },
    {
     "data": {
      "image/png": "[encoded data removed]",
      "text/plain": [
       "<Figure size 330x250 with 1 Axes>"
      ]
     },
     "metadata": {},
     "output_type": "display_data"
    }
   ],
   "source": [
    "#var = 2/(128*9)\n",
    "\n",
    "fig,ax = plt.subplots(1)\n",
    "\n",
    "ax.imshow(img, cmap='gray')\n",
    "\n",
    "#img = (img-np.mean(img))/np.std(img)\n",
    "#img = tf.repeat(tf.expand_dims([img], axis=-1) , repeats = 512, axis=-1)  #get_double_slit(shape) , axis=0)\n",
    "print(img.shape)\n",
    "plt.gca().set_axis_off()\n",
    "plt.subplots_adjust(top = 1, bottom = 0, right = 1, left = 0, \n",
    "            hspace = 0, wspace = 0)\n",
    "plt.margins(0,0)\n",
    "plt.gca().xaxis.set_major_locator(plt.NullLocator())\n",
    "plt.gca().yaxis.set_major_locator(plt.NullLocator())\n",
    "plt.savefig(\"input.png\",bbox_inches='tight',   pad_inches = 0)\n"
   ]
  },
  {
   "cell_type": "code",
   "execution_count": 149,
   "metadata": {},
   "outputs": [
    {
     "name": "stdout",
     "output_type": "stream",
     "text": [
      "0\n",
      "(1, 50, 50, 1)\n",
      "1.0281652\n",
      "1\n",
      "(1, 50, 50, 1)\n",
      "1.0264488\n",
      "2\n",
      "(1, 50, 50, 1)\n",
      "1.0213101\n",
      "3\n",
      "(1, 50, 50, 1)\n",
      "1.0127805\n",
      "4\n",
      "(1, 50, 50, 1)\n",
      "1.0009133\n",
      "5\n",
      "(1, 50, 50, 1)\n",
      "0.9857971\n",
      "6\n",
      "(1, 50, 50, 1)\n",
      "0.9675382\n",
      "7\n",
      "(1, 50, 50, 1)\n",
      "0.94625807\n",
      "8\n",
      "(1, 50, 50, 1)\n",
      "0.92210245\n",
      "9\n",
      "(1, 50, 50, 1)\n",
      "0.8952448\n",
      "10\n",
      "(1, 50, 50, 1)\n",
      "0.8658924\n",
      "11\n",
      "(1, 50, 50, 1)\n",
      "0.8342951\n",
      "12\n",
      "(1, 50, 50, 1)\n",
      "0.80072755\n",
      "13\n",
      "(1, 50, 50, 1)\n",
      "0.7655216\n",
      "14\n",
      "(1, 50, 50, 1)\n",
      "0.7291027\n",
      "15\n",
      "(1, 50, 50, 1)\n",
      "0.6919178\n",
      "16\n",
      "(1, 50, 50, 1)\n",
      "0.654504\n",
      "17\n",
      "(1, 50, 50, 1)\n",
      "0.617583\n",
      "18\n",
      "(1, 50, 50, 1)\n",
      "0.5819125\n",
      "19\n",
      "(1, 50, 50, 1)\n",
      "0.5483446\n",
      "20\n",
      "(1, 50, 50, 1)\n",
      "0.51790303\n",
      "21\n",
      "(1, 50, 50, 1)\n",
      "0.4917862\n",
      "22\n",
      "(1, 50, 50, 1)\n",
      "0.47105664\n",
      "23\n",
      "(1, 50, 50, 1)\n",
      "0.45673814\n",
      "24\n",
      "(1, 50, 50, 1)\n",
      "0.44979563\n",
      "25\n",
      "(1, 50, 50, 1)\n",
      "0.4507325\n",
      "26\n",
      "(1, 50, 50, 1)\n",
      "0.4592513\n",
      "27\n",
      "(1, 50, 50, 1)\n",
      "0.47472775\n",
      "28\n",
      "(1, 50, 50, 1)\n",
      "0.49640158\n",
      "29\n",
      "(1, 50, 50, 1)\n",
      "0.52318084\n",
      "30\n",
      "(1, 50, 50, 1)\n",
      "0.55385804\n",
      "31\n",
      "(1, 50, 50, 1)\n",
      "0.5873384\n",
      "32\n",
      "(1, 50, 50, 1)\n",
      "0.622757\n",
      "33\n",
      "(1, 50, 50, 1)\n",
      "0.6592654\n",
      "34\n",
      "(1, 50, 50, 1)\n",
      "0.69614094\n",
      "35\n",
      "(1, 50, 50, 1)\n",
      "0.73283774\n",
      "36\n",
      "(1, 50, 50, 1)\n",
      "0.7688918\n",
      "37\n",
      "(1, 50, 50, 1)\n",
      "0.8038477\n",
      "38\n",
      "(1, 50, 50, 1)\n",
      "0.83733976\n",
      "39\n",
      "(1, 50, 50, 1)\n",
      "0.86906606\n",
      "40\n",
      "(1, 50, 50, 1)\n",
      "0.8987298\n",
      "41\n",
      "(1, 50, 50, 1)\n",
      "0.92607886\n",
      "42\n",
      "(1, 50, 50, 1)\n",
      "0.95090365\n",
      "43\n",
      "(1, 50, 50, 1)\n",
      "0.9730124\n",
      "44\n",
      "(1, 50, 50, 1)\n",
      "0.9922419\n",
      "45\n",
      "(1, 50, 50, 1)\n",
      "1.0084552\n",
      "46\n",
      "(1, 50, 50, 1)\n",
      "1.0215422\n",
      "47\n",
      "(1, 50, 50, 1)\n",
      "1.0314308\n",
      "48\n",
      "(1, 50, 50, 1)\n",
      "1.0380595\n",
      "49\n",
      "(1, 50, 50, 1)\n",
      "1.041385\n",
      "50\n",
      "(1, 50, 50, 1)\n",
      "1.0413849\n",
      "51\n",
      "(1, 50, 50, 1)\n",
      "1.0380596\n",
      "52\n",
      "(1, 50, 50, 1)\n",
      "1.0314307\n",
      "53\n",
      "(1, 50, 50, 1)\n",
      "1.0215422\n",
      "54\n",
      "(1, 50, 50, 1)\n",
      "1.0084552\n",
      "55\n",
      "(1, 50, 50, 1)\n",
      "0.9922418\n",
      "56\n",
      "(1, 50, 50, 1)\n",
      "0.9730124\n",
      "57\n",
      "(1, 50, 50, 1)\n",
      "0.95090365\n",
      "58\n",
      "(1, 50, 50, 1)\n",
      "0.92607886\n",
      "59\n",
      "(1, 50, 50, 1)\n",
      "0.8987298\n",
      "60\n",
      "(1, 50, 50, 1)\n",
      "0.8690661\n",
      "61\n",
      "(1, 50, 50, 1)\n",
      "0.83733976\n",
      "62\n",
      "(1, 50, 50, 1)\n",
      "0.8038477\n",
      "63\n",
      "(1, 50, 50, 1)\n",
      "0.7688918\n",
      "64\n",
      "(1, 50, 50, 1)\n",
      "0.73283774\n",
      "65\n",
      "(1, 50, 50, 1)\n",
      "0.69614094\n",
      "66\n",
      "(1, 50, 50, 1)\n",
      "0.6592654\n",
      "67\n",
      "(1, 50, 50, 1)\n",
      "0.622757\n",
      "68\n",
      "(1, 50, 50, 1)\n",
      "0.5873384\n",
      "69\n",
      "(1, 50, 50, 1)\n",
      "0.55385804\n",
      "70\n",
      "(1, 50, 50, 1)\n",
      "0.52318084\n",
      "71\n",
      "(1, 50, 50, 1)\n",
      "0.49640158\n",
      "72\n",
      "(1, 50, 50, 1)\n",
      "0.47472775\n",
      "73\n",
      "(1, 50, 50, 1)\n",
      "0.4592513\n",
      "74\n",
      "(1, 50, 50, 1)\n",
      "0.4507325\n",
      "75\n",
      "(1, 50, 50, 1)\n",
      "0.44979563\n",
      "76\n",
      "(1, 50, 50, 1)\n",
      "0.45673814\n",
      "77\n",
      "(1, 50, 50, 1)\n",
      "0.47105664\n",
      "78\n",
      "(1, 50, 50, 1)\n",
      "0.4917862\n",
      "79\n",
      "(1, 50, 50, 1)\n",
      "0.517903\n",
      "80\n",
      "(1, 50, 50, 1)\n",
      "0.5483446\n",
      "81\n",
      "(1, 50, 50, 1)\n",
      "0.58191246\n",
      "82\n",
      "(1, 50, 50, 1)\n",
      "0.617583\n",
      "83\n",
      "(1, 50, 50, 1)\n",
      "0.654504\n",
      "84\n",
      "(1, 50, 50, 1)\n",
      "0.6919178\n",
      "85\n",
      "(1, 50, 50, 1)\n",
      "0.7291027\n",
      "86\n",
      "(1, 50, 50, 1)\n",
      "0.7655216\n",
      "87\n",
      "(1, 50, 50, 1)\n",
      "0.8007276\n",
      "88\n",
      "(1, 50, 50, 1)\n",
      "0.8342951\n",
      "89\n",
      "(1, 50, 50, 1)\n",
      "0.8658924\n",
      "90\n",
      "(1, 50, 50, 1)\n",
      "0.8952448\n",
      "91\n",
      "(1, 50, 50, 1)\n",
      "0.9221026\n",
      "92\n",
      "(1, 50, 50, 1)\n",
      "0.94625807\n",
      "93\n",
      "(1, 50, 50, 1)\n",
      "0.9675382\n",
      "94\n",
      "(1, 50, 50, 1)\n",
      "0.98579705\n",
      "95\n",
      "(1, 50, 50, 1)\n",
      "1.0009133\n",
      "96\n",
      "(1, 50, 50, 1)\n",
      "1.0127805\n",
      "97\n",
      "(1, 50, 50, 1)\n",
      "1.0213101\n",
      "98\n",
      "(1, 50, 50, 1)\n",
      "1.0264488\n",
      "99\n",
      "(1, 50, 50, 1)\n",
      "1.0281652\n"
     ]
    }
   ],
   "source": [
    "import matplotlib.patches as mpatches\n",
    "\n",
    "\n",
    "w = np.zeros((3,3,1,1))\n",
    "\n",
    "w[:,:,0,0] = (np.cos(0))*np.array([[1,0,-1], [1,0,-1], [1,0,-1]]) + ( np.sin(0))*np.array([[1,1,1], [0,0,0], [-1,-1,-1]])\n",
    "w[:,:,0,0] = ( w[:,:,0,0] )  / (tf.math.reduce_euclidean_norm(w))  \n",
    "\n",
    "#w[:,:,0,0] = (1/(6))*np.array([[1,0,-1], [1,0,-1], [1,0,-1]])\n",
    "\n",
    "\n",
    "x = img\n",
    "\n",
    "\n",
    "\n",
    "\n",
    "directory = f\"figures/malus\"\n",
    "if not os.path.exists(directory):\n",
    "\tos.makedirs(directory)\n",
    "\n",
    "\n",
    "response_mag = []\n",
    "init_mag = tf.math.reduce_euclidean_norm(x).numpy()\n",
    "\n",
    "x = tf.cast(tf.repeat(tf.expand_dims([img], axis=-1) , repeats = w.shape[-2], axis=-1), dtype=tf.float32) \n",
    "\n",
    "\n",
    "x = tf.nn.relu( tf.nn.conv2d(x, w , strides=(1,1), \n",
    "\t\t\t\t\t\t\t padding='SAME') )\n",
    "\n",
    "init_mag = tf.math.reduce_euclidean_norm(x).numpy()\n",
    "\n",
    "angles = np.linspace(-np.pi, np.pi, 100)\n",
    "\n",
    "for i in range(100):\n",
    "\tprint(i)\n",
    "\tprint(x.shape)\n",
    "\t#fig, ax = plt.subplots()\n",
    "\n",
    "\tw[:,:,0,0] = (np.cos(angles[i]))*np.array([[1,0,-1], [1,0,-1], [1,0,-1]]) + ( np.sin(angles[i]))*np.array([[1,1,1], [0,0,0], [-1,-1,-1]])\n",
    "\tw[:,:,0,0] = ( w[:,:,0,0] )  / (tf.math.reduce_euclidean_norm(w))  \n",
    "\n",
    "\t\t\n",
    "\tx_out = tf.nn.relu( tf.nn.conv2d(x, w , strides=(1,1), \n",
    "\t\t\t\t\t\t\t\tpadding='SAME') )\n",
    "\n",
    "\tresponse_mag.append(tf.math.reduce_euclidean_norm(x_out).numpy()/init_mag)\n",
    "\tprint(response_mag[-1])\n",
    "\n",
    "\t'''im = ax.imshow(np.sum(x_out[0,:,:,:], axis=-1));\n",
    "\t#ax.plot(45//2, 45, marker = '+', color='red');\n",
    "\n",
    "\n",
    "\n",
    "\tax.set(xlim=(0, img.shape[0]), ylim=(0,  img.shape[1]));\n",
    "\n",
    "\tfig.colorbar(im, orientation='vertical');\n",
    "\tfig.savefig(directory + f'/{i}.pdf', dpi=600,  transparent=True, bbox_inches='tight')'''\n",
    "\n",
    "\n"
   ]
  },
  {
   "cell_type": "code",
   "execution_count": 150,
   "metadata": {},
   "outputs": [
    {
     "data": {
      "image/png": "[encoded data removed]",
      "text/plain": [
       "<Figure size 300x300 with 1 Axes>"
      ]
     },
     "metadata": {},
     "output_type": "display_data"
    }
   ],
   "source": [
    "fig, ax= plt.subplots(1,1, figsize=(3,3))\n",
    "\n",
    "ax.plot(angles,response_mag)\n",
    "\n",
    "ticks = np.arange(-np.pi, 1.5*np.pi, np.pi/2)\n",
    "labels = [r\"$-\\pi$\", r\"$-\\pi/2$\", r\"$0$\", r\"$\\pi/2$\", r\"$\\pi$\"]\n",
    "# Set ticks and labels on the x-axis\n",
    "ax.set_xticks(ticks=ticks, labels=labels);\n",
    "ax.set_yticks(ticks=np.arange(0,1.1, 0.1));\n",
    "\n",
    "ax.set_ylabel(r\"Percent of Energy Transmitted $\\left( \\frac{||I_{2}||}{||I_{1}||} \\right)$\", fontsize=7)\n",
    "ax.set_xlabel(r\"Difference in kernel orrientation $(\\theta_2 - \\theta_1)$\", fontsize=7)\n",
    "\n",
    "plt.savefig('malus2.pdf', dpi=600)\n",
    "plt.show()\n"
   ]
  },
  {
   "cell_type": "code",
   "execution_count": 151,
   "metadata": {},
   "outputs": [
    {
     "data": {
      "text/plain": [
       "<tf.Tensor: shape=(), dtype=float64, numpy=2.4494897427831788>"
      ]
     },
     "execution_count": 151,
     "metadata": {},
     "output_type": "execute_result"
    }
   ],
   "source": [
    "tf.reduce_sum(tf.abs(w))"
   ]
  },
  {
   "cell_type": "code",
   "execution_count": 152,
   "metadata": {},
   "outputs": [
    {
     "data": {
      "text/plain": [
       "<tf.Tensor: shape=(), dtype=float32, numpy=34.4093>"
      ]
     },
     "execution_count": 152,
     "metadata": {},
     "output_type": "execute_result"
    },
    {
     "data": {
      "image/png": "[encoded data removed]",
      "text/plain": [
       "<Figure size 330x250 with 2 Axes>"
      ]
     },
     "metadata": {},
     "output_type": "display_data"
    }
   ],
   "source": [
    "i0 = tf.cast(tf.repeat(tf.expand_dims([img], axis=-1) , repeats = w.shape[-2], axis=-1), dtype=tf.float32) \n",
    "\n",
    "fig, ax= plt.subplots(1,1)\n",
    "\n",
    "\n",
    "im =ax.imshow(i0[0,...,0])\n",
    "#ax.plot(45//2, 45, marker = '+', color='red');\n",
    "\n",
    "\n",
    "\n",
    "ax.set(xlim=(0, img.shape[0]), ylim=(0,  img.shape[1]));\n",
    "\n",
    "fig.colorbar(im, orientation='vertical');\n",
    "\n",
    "plt.gca().set_axis_off()\n",
    "plt.subplots_adjust(top = 1, bottom = 0, right = 1, left = 0, \n",
    "            hspace = 0, wspace = 0)\n",
    "plt.margins(0,0)\n",
    "plt.gca().xaxis.set_major_locator(plt.NullLocator())\n",
    "plt.gca().yaxis.set_major_locator(plt.NullLocator())\n",
    "plt.savefig(\"i0.pdf\",bbox_inches='tight',   pad_inches = 0, dpi=600)\n",
    "\n",
    "tf.math.reduce_euclidean_norm(i0)"
   ]
  },
  {
   "cell_type": "code",
   "execution_count": 153,
   "metadata": {},
   "outputs": [
    {
     "data": {
      "text/plain": [
       "0.4714045207910317"
      ]
     },
     "execution_count": 153,
     "metadata": {},
     "output_type": "execute_result"
    }
   ],
   "source": [
    "np.sqrt(2/9)"
   ]
  },
  {
   "cell_type": "code",
   "execution_count": 154,
   "metadata": {},
   "outputs": [
    {
     "name": "stdout",
     "output_type": "stream",
     "text": [
      "0.33333333333333337\n"
     ]
    },
    {
     "data": {
      "text/plain": [
       "<tf.Tensor: shape=(), dtype=float32, numpy=9.472182>"
      ]
     },
     "execution_count": 154,
     "metadata": {},
     "output_type": "execute_result"
    },
    {
     "data": {
      "image/png": "[encoded data removed]",
      "text/plain": [
       "<Figure size 330x250 with 2 Axes>"
      ]
     },
     "metadata": {},
     "output_type": "display_data"
    }
   ],
   "source": [
    "angle = 0\n",
    "\n",
    "w = np.zeros((3,3,1,1))\n",
    "\n",
    "w[:,:,0,0] = (np.cos(angle))*np.array([[1,0,-1], [1,0,-1], [1,0,-1]]) + ( np.sin(angle))*np.array([[1,1,1], [0,0,0], [-1,-1,-1]])\n",
    "w[:,:,0,0] = ( w[:,:,0,0] )  / (tf.math.reduce_euclidean_norm(w))  \n",
    "print(np.std(w))\n",
    "\n",
    "i0 = tf.cast(tf.repeat(tf.expand_dims([img], axis=-1) , repeats = w.shape[-2], axis=-1), dtype=tf.float32) \n",
    "\n",
    "\n",
    "i1 = tf.nn.relu( tf.nn.conv2d(x, w , strides=(1,1), \n",
    "\t\t\t\t\t\t\t padding='SAME') )\n",
    "\n",
    "fig, ax= plt.subplots(1,1)\n",
    "\n",
    "im =ax.imshow(i1[0,...,0])\n",
    "#ax.plot(45//2, 45, marker = '+', color='red');\n",
    "\n",
    "\n",
    "\n",
    "ax.set(xlim=(0, img.shape[0]), ylim=(0,  img.shape[1]));\n",
    "\n",
    "fig.colorbar(im, orientation='vertical');\n",
    "\n",
    "plt.gca().set_axis_off()\n",
    "plt.subplots_adjust(top = 1, bottom = 0, right = 1, left = 0, \n",
    "            hspace = 0, wspace = 0)\n",
    "plt.margins(0,0)\n",
    "plt.gca().xaxis.set_major_locator(plt.NullLocator())\n",
    "plt.gca().yaxis.set_major_locator(plt.NullLocator())\n",
    "plt.savefig(\"i1.pdf\",bbox_inches='tight',   pad_inches = 0, dpi=600)\n",
    "#plt.title(\"Conv 1\")\n",
    "\n",
    "\n",
    "tf.math.reduce_euclidean_norm(i1)\n",
    "\n"
   ]
  },
  {
   "cell_type": "code",
   "execution_count": null,
   "metadata": {},
   "outputs": [],
   "source": []
  },
  {
   "cell_type": "code",
   "execution_count": 155,
   "metadata": {},
   "outputs": [
    {
     "data": {
      "text/plain": [
       "(1.0, <tf.Tensor: shape=(), dtype=float64, numpy=1.0>)"
      ]
     },
     "execution_count": 155,
     "metadata": {},
     "output_type": "execute_result"
    }
   ],
   "source": [
    "3*np.std(w), tf.math.reduce_euclidean_norm(w)"
   ]
  },
  {
   "cell_type": "code",
   "execution_count": 156,
   "metadata": {},
   "outputs": [
    {
     "data": {
      "text/plain": [
       "<tf.Tensor: shape=(), dtype=float32, numpy=3.1534817>"
      ]
     },
     "execution_count": 156,
     "metadata": {},
     "output_type": "execute_result"
    },
    {
     "data": {
      "image/png": "[encoded data removed]",
      "text/plain": [
       "<Figure size 330x250 with 2 Axes>"
      ]
     },
     "metadata": {},
     "output_type": "display_data"
    }
   ],
   "source": [
    "angle = np.pi/2\n",
    "\n",
    "w = np.zeros((3,3,1,1))\n",
    "w[:,:,0,0] = (np.cos(angle))*np.array([[1,0,-1], [1,0,-1], [1,0,-1]]) + ( np.sin(angle))*np.array([[1,1,1], [0,0,0], [-1,-1,-1]])\n",
    "w[:,:,0,0] = ( w[:,:,0,0] )  / (tf.math.reduce_euclidean_norm(w))  \n",
    "\n",
    "\n",
    "\n",
    "i2_op = tf.nn.relu( tf.nn.conv2d(i1, w , strides=(1,1), \n",
    "\t\t\t\t\t\t\t padding='SAME') )\n",
    "\n",
    "\n",
    "fig, ax= plt.subplots(1,1)\n",
    "\n",
    "im =ax.imshow(i2_op[0,...,0])\n",
    "#ax.plot(45//2, 45, marker = '+', color='red');\n",
    "\n",
    "\n",
    "\n",
    "ax.set(xlim=(0, img.shape[0]), ylim=(0,  img.shape[1]));\n",
    "\n",
    "fig.colorbar(im, orientation='vertical');\n",
    "\n",
    "plt.gca().set_axis_off()\n",
    "plt.subplots_adjust(top = 1, bottom = 0, right = 1, left = 0, \n",
    "            hspace = 0, wspace = 0)\n",
    "plt.margins(0,0)\n",
    "plt.gca().xaxis.set_major_locator(plt.NullLocator())\n",
    "plt.gca().yaxis.set_major_locator(plt.NullLocator())\n",
    "plt.savefig(\"i1_y.pdf\",bbox_inches='tight',   pad_inches = 0, dpi=600)\n",
    "#plt.title(\"Conv 2\")\n",
    "\n",
    "tf.math.reduce_euclidean_norm(i2_op)\n"
   ]
  },
  {
   "cell_type": "code",
   "execution_count": 157,
   "metadata": {},
   "outputs": [
    {
     "data": {
      "text/plain": [
       "<tf.Tensor: shape=(), dtype=float32, numpy=10.644074>"
      ]
     },
     "execution_count": 157,
     "metadata": {},
     "output_type": "execute_result"
    },
    {
     "data": {
      "image/png": "[encoded data removed]",
      "text/plain": [
       "<Figure size 330x250 with 2 Axes>"
      ]
     },
     "metadata": {},
     "output_type": "display_data"
    }
   ],
   "source": [
    "angle = 0\n",
    "w = np.zeros((3,3,1,1))\n",
    "w[:,:,0,0] = (np.cos(angle))*np.array([[1,0,-1], [1,0,-1], [1,0,-1]]) + ( np.sin(angle))*np.array([[1,1,1], [0,0,0], [-1,-1,-1]])\n",
    "w[:,:,0,0] = ( w[:,:,0,0] )  / (tf.math.reduce_euclidean_norm(w))  \n",
    "\n",
    "\n",
    "\n",
    "i2_same = tf.nn.relu( tf.nn.conv2d(i1, w , strides=(1,1), \n",
    "\t\t\t\t\t\t\t padding='SAME') )\n",
    "\n",
    "\n",
    "fig, ax= plt.subplots(1,1)\n",
    "\n",
    "im =ax.imshow(i2_same[0,...,0])\n",
    "#ax.plot(45//2, 45, marker = '+', color='red');\n",
    "\n",
    "\n",
    "\n",
    "ax.set(xlim=(0, img.shape[0]), ylim=(0,  img.shape[1]));\n",
    "\n",
    "fig.colorbar(im, orientation='vertical');\n",
    "\n",
    "plt.gca().set_axis_off()\n",
    "plt.subplots_adjust(top = 1, bottom = 0, right = 1, left = 0, \n",
    "            hspace = 0, wspace = 0)\n",
    "plt.margins(0,0)\n",
    "plt.gca().xaxis.set_major_locator(plt.NullLocator())\n",
    "plt.gca().yaxis.set_major_locator(plt.NullLocator())\n",
    "plt.savefig(\"i1_x.pdf\",bbox_inches='tight',   pad_inches = 0, dpi=600)\n",
    "\n",
    "\n",
    "tf.math.reduce_euclidean_norm(i2_same)\n"
   ]
  },
  {
   "cell_type": "code",
   "execution_count": 158,
   "metadata": {},
   "outputs": [
    {
     "data": {
      "text/plain": [
       "<matplotlib.image.AxesImage at 0x25c30e14c88>"
      ]
     },
     "execution_count": 158,
     "metadata": {},
     "output_type": "execute_result"
    },
    {
     "data": {
      "image/png": "[encoded data removed]",
      "text/plain": [
       "<Figure size 330x250 with 1 Axes>"
      ]
     },
     "metadata": {},
     "output_type": "display_data"
    }
   ],
   "source": [
    "plt.imshow((i2_same - i)[0, ..., 0])"
   ]
  }
 ],
 "metadata": {
  "kernelspec": {
   "display_name": "Python 3",
   "language": "python",
   "name": "python3"
  },
  "language_info": {
   "codemirror_mode": {
    "name": "ipython",
    "version": 3
   },
   "file_extension": ".py",
   "mimetype": "text/x-python",
   "name": "python",
   "nbconvert_exporter": "python",
   "pygments_lexer": "ipython3",
   "version": "3.7.16"
  }
 },
 "nbformat": 4,
 "nbformat_minor": 2
}
