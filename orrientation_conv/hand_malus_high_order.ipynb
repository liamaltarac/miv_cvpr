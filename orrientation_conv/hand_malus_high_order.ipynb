{
 "cells": [
  {
   "cell_type": "code",
   "execution_count": 1,
   "metadata": {},
   "outputs": [
    {
     "name": "stderr",
     "output_type": "stream",
     "text": [
      "c:\\Users\\AN46710\\Anaconda3\\envs\\masters\\lib\\site-packages\\numpy\\_distributor_init.py:32: UserWarning: loaded more than 1 DLL from .libs:\n",
      "c:\\Users\\AN46710\\Anaconda3\\envs\\masters\\lib\\site-packages\\numpy\\.libs\\libopenblas.GK7GX5KEQ4F6UYO3P26ULGBQYHGQO7J4.gfortran-win_amd64.dll\n",
      "c:\\Users\\AN46710\\Anaconda3\\envs\\masters\\lib\\site-packages\\numpy\\.libs\\libopenblas.XWYDX2IKJW2NMTWSFYNGFUWKQU3LYTCZ.gfortran-win_amd64.dll\n",
      "  stacklevel=1)\n"
     ]
    }
   ],
   "source": [
    "import sys\n",
    "sys.path.append('../')\n",
    "\n",
    "import numpy as np\n",
    "from scipy import ndimage\n",
    "\n",
    "from skimage.filters import sobel_h\n",
    "from skimage.filters import sobel_v\n",
    "from scipy import stats\n",
    "\n",
    "\n",
    "import os\n",
    "import matplotlib\n",
    "import matplotlib.pyplot as plt\n",
    "from mpl_toolkits.mplot3d import Axes3D\n",
    "from mpl_toolkits.mplot3d.proj3d import proj_transform\n",
    "from matplotlib.patches import FancyArrowPatch\n",
    "from mpl_toolkits.mplot3d import proj3d\n",
    "\n",
    "\n",
    "import scienceplots\n",
    "from tensorflow.python.client import device_lib\n",
    "\n",
    "#plt.rcParams['figure.figsize'] = [10,10]\n",
    "\n",
    "import tensorflow as tf\n",
    "from tensorflow.keras.preprocessing import image\n",
    "from tensorflow.keras.applications.vgg16 import decode_predictions\n",
    "from tensorflow.keras.applications import VGG16\n",
    "\n",
    "from tensorflow.nn import depthwise_conv2d\n",
    "from tensorflow.math import multiply, reduce_sum, reduce_mean,reduce_euclidean_norm, sin, cos, abs\n",
    "from tensorflow import stack, concat, expand_dims\n",
    "\n",
    "import tensorflow_probability as tfp\n",
    "\n",
    "from utils.utils import *\n",
    "import cv2\n",
    "\n",
    "from scipy import ndimage, fft\n",
    "\n",
    "plt.style.use(['science', 'ieee'])\n",
    "plt.rcParams.update({'figure.dpi': '100'})"
   ]
  },
  {
   "cell_type": "markdown",
   "metadata": {},
   "source": [
    "#### Experiment #1 : Symmetric Convolution\n"
   ]
  },
  {
   "cell_type": "code",
   "execution_count": 2,
   "metadata": {},
   "outputs": [
    {
     "data": {
      "text/plain": [
       "TensorShape([50, 50])"
      ]
     },
     "execution_count": 2,
     "metadata": {},
     "output_type": "execute_result"
    },
    {
     "data": {
      "image/png": "[encoded data removed]",
      "text/plain": [
       "<Figure size 330x250 with 1 Axes>"
      ]
     },
     "metadata": {},
     "output_type": "display_data"
    }
   ],
   "source": [
    "'''img = np.zeros((45, 45))\n",
    "center_coordinates = (img.shape[0]//2, img.shape[1]//2) \n",
    "img = cv2.circle(img, center_coordinates, 20, (255,255,255), -1) \n",
    "plt.imshow(img)'''\n",
    "\n",
    "\n",
    "N = 50\n",
    "#img =  tf.image.rot90(tf.random.uniform(shape=(50,50,1), minval=0., maxval=1.), k=1) #\n",
    "#img = tf.image.pad_to_bounding_box(img, 25//2,25//2,N+25, N+25)[...,0]\n",
    "\n",
    "img =  tf.expand_dims(cv2.imread('input4.png', 0)/255. , axis=-1)\n",
    "H, W, C = img.shape  # Get image dimensions\n",
    "offset_height = (H - N) // 2\n",
    "offset_width = (W - N) // 2\n",
    "img = tf.image.crop_to_bounding_box(img, offset_height, offset_width, N, N)[...,0]\n",
    "plt.imshow(img)\n",
    "img.shape\n"
   ]
  },
  {
   "cell_type": "code",
   "execution_count": 3,
   "metadata": {},
   "outputs": [
    {
     "name": "stdout",
     "output_type": "stream",
     "text": [
      "(50, 50)\n"
     ]
    },
    {
     "data": {
      "image/png": "[encoded data removed]",
      "text/plain": [
       "<Figure size 330x250 with 1 Axes>"
      ]
     },
     "metadata": {},
     "output_type": "display_data"
    }
   ],
   "source": [
    "#var = 2/(128*9)\n",
    "\n",
    "fig,ax = plt.subplots(1)\n",
    "\n",
    "ax.imshow(img, cmap='gray')\n",
    "\n",
    "#img = (img-np.mean(img))/np.std(img)\n",
    "#img = tf.repeat(tf.expand_dims([img], axis=-1) , repeats = 512, axis=-1)  #get_double_slit(shape) , axis=0)\n",
    "print(img.shape)\n",
    "plt.gca().set_axis_off()\n",
    "plt.subplots_adjust(top = 1, bottom = 0, right = 1, left = 0, \n",
    "            hspace = 0, wspace = 0)\n",
    "plt.margins(0,0)\n",
    "plt.gca().xaxis.set_major_locator(plt.NullLocator())\n",
    "plt.gca().yaxis.set_major_locator(plt.NullLocator())\n",
    "plt.savefig(\"input.png\",bbox_inches='tight',   pad_inches = 0)\n"
   ]
  },
  {
   "cell_type": "code",
   "execution_count": 4,
   "metadata": {},
   "outputs": [
    {
     "name": "stdout",
     "output_type": "stream",
     "text": [
      "tf.Tensor(0.9999999999999998, shape=(), dtype=float64)\n",
      "tf.Tensor(0.9999999999999999, shape=(), dtype=float64)\n",
      "IMG tf.Tensor(34.40930106817051, shape=(), dtype=float64)\n",
      "0.81071454\n",
      "0.8098137\n",
      "0.8071198\n",
      "0.8026584\n",
      "0.7964722\n",
      "0.78862166\n",
      "0.77918494\n",
      "0.7682587\n",
      "0.75595796\n",
      "0.7424178\n",
      "0.72779334\n",
      "0.71226066\n",
      "0.69601744\n",
      "0.67930245\n",
      "0.6624311\n",
      "0.64568025\n",
      "0.6293399\n",
      "0.61371577\n",
      "0.5991389\n",
      "0.58599913\n",
      "0.5746104\n",
      "0.56509537\n",
      "0.55765826\n",
      "0.5525976\n",
      "0.5500874\n",
      "0.5502005\n",
      "0.55287975\n",
      "0.5580238\n",
      "0.56548536\n",
      "0.57513255\n",
      "0.5867476\n",
      "0.5998893\n",
      "0.61418146\n",
      "0.62936234\n",
      "0.6451803\n",
      "0.6613443\n",
      "0.67757905\n",
      "0.6936274\n",
      "0.7092876\n",
      "0.7243953\n",
      "0.73874927\n",
      "0.752168\n",
      "0.7644903\n",
      "0.7755745\n",
      "0.78529817\n",
      "0.7935575\n",
      "0.8002668\n",
      "0.8053578\n",
      "0.80877984\n",
      "0.81049925\n",
      "0.81049925\n",
      "0.80877984\n",
      "0.8053577\n",
      "0.8002668\n",
      "0.7935576\n",
      "0.7852982\n",
      "0.7755745\n",
      "0.7644903\n",
      "0.752168\n",
      "0.73874927\n",
      "0.7243954\n",
      "0.7092876\n",
      "0.6936274\n",
      "0.67757905\n",
      "0.6613443\n",
      "0.6451803\n",
      "0.62936234\n",
      "0.61418146\n",
      "0.5998893\n",
      "0.5867476\n",
      "0.57513255\n",
      "0.56548536\n",
      "0.55802375\n",
      "0.55287975\n",
      "0.5502005\n",
      "0.5500874\n",
      "0.5525976\n",
      "0.5576582\n",
      "0.56509537\n",
      "0.57461035\n",
      "0.58599913\n",
      "0.5991389\n",
      "0.6137157\n",
      "0.6293398\n",
      "0.64568025\n",
      "0.6624311\n",
      "0.67930245\n",
      "0.6960175\n",
      "0.71226066\n",
      "0.7277934\n",
      "0.7424178\n",
      "0.75595796\n",
      "0.7682587\n",
      "0.77918494\n",
      "0.7886217\n",
      "0.7964722\n",
      "0.8026584\n",
      "0.8071198\n",
      "0.8098137\n",
      "0.81071454\n"
     ]
    }
   ],
   "source": [
    "import matplotlib.patches as mpatches\n",
    "\n",
    "\n",
    "w = np.zeros((3,3,1,1))\n",
    "\n",
    "\n",
    "t1 = np.zeros((3,3))\n",
    "t2 = np.zeros((3,3))\n",
    "\n",
    "t1[1, 2] = 1.\n",
    "t2[2, 1] = 1.\n",
    "\n",
    "w1 = fft.idctn(t1, norm='ortho')\n",
    "#w1 /= np.sum(np.abs(w1))\n",
    "\n",
    "w2 = fft.idctn(t2, norm='ortho')\n",
    "#w2 /= np.sum(np.abs(w2))\n",
    "\n",
    "w[:,:,0,0] = (np.cos(0.))*w1 + ( np.sin(0.))*w2\n",
    "print(tf.math.reduce_euclidean_norm(w))\n",
    "w[:,:,0,0] = w[:,:,0,0] / (tf.math.reduce_euclidean_norm(w))\n",
    "\n",
    "\n",
    "print(tf.math.reduce_euclidean_norm(w))\n",
    "x = img\n",
    "\n",
    "print(\"IMG\", (tf.math.reduce_euclidean_norm(img)))\n",
    "\n",
    "\n",
    "\n",
    "directory = f\"figures/malus_high_order\"\n",
    "if not os.path.exists(directory):\n",
    "\tos.makedirs(directory)\n",
    "\n",
    "\n",
    "response_mag = []\n",
    "init_mag = tf.math.reduce_euclidean_norm(x).numpy()\n",
    "\n",
    "\n",
    "\n",
    "i0 = tf.cast(tf.repeat(tf.expand_dims([img], axis=-1) , repeats = w.shape[-2], axis=-1), dtype=tf.float32) \n",
    "\n",
    "#print(tf.math.reduce_euclidean_norm(i0))\n",
    "\n",
    "\n",
    "i1 = tf.nn.relu(tf.nn.conv2d(i0, w , strides=(1,1), padding='SAME') )\n",
    "\n",
    "\n",
    "init_mag = tf.math.reduce_euclidean_norm(i1).numpy()\n",
    "\n",
    "angles = np.linspace(-np.pi, np.pi, 100)\n",
    "for i in range(100):\n",
    "\t#fig, ax = plt.subplots()\n",
    "\t\n",
    "\t\n",
    "\tw[:,:,0,0] = (np.cos(angles[i]))*w1 + ( np.sin(angles[i]))*w2\n",
    "\tw[:,:,0,0] = w[:,:,0,0] / (tf.math.reduce_euclidean_norm(w))\n",
    "\t\t\n",
    "\tx_out = tf.nn.relu( tf.nn.conv2d(i1, w , strides=(1,1), \n",
    "\t\t\t\t\t\t\t\tpadding='SAME') )\n",
    "\n",
    "\tresponse_mag.append(tf.math.reduce_euclidean_norm(x_out).numpy()/init_mag)\n",
    "\tprint(response_mag[-1])\n",
    "\n",
    "\t'''im = ax.imshow(np.sum(x_out[0,:,:,:], axis=-1));\n",
    "\t#ax.plot(45//2, 45, marker = '+', color='red');\n",
    "\n",
    "\n",
    "\n",
    "\tax.set(xlim=(0, 45), ylim=(0, 45));\n",
    "\n",
    "\tfig.colorbar(im, orientation='vertical');\n",
    "\tfig.savefig(directory + f'/{i}.pdf', dpi=600,  transparent=True, bbox_inches='tight')'''\n",
    "\n",
    "\n"
   ]
  },
  {
   "cell_type": "code",
   "execution_count": 5,
   "metadata": {},
   "outputs": [
    {
     "data": {
      "image/png": "[encoded data removed]",
      "text/plain": [
       "<Figure size 300x300 with 1 Axes>"
      ]
     },
     "metadata": {},
     "output_type": "display_data"
    }
   ],
   "source": [
    "fig, ax= plt.subplots(1,1, figsize=(3,3))\n",
    "\n",
    "ax.plot(angles,response_mag)\n",
    "\n",
    "ticks = np.arange(-np.pi, 1.5*np.pi, np.pi/2)\n",
    "labels = [r\"$-\\pi$\", r\"$-\\pi/2$\", r\"$0$\", r\"$\\pi/2$\", r\"$\\pi$\"]\n",
    "# Set ticks and labels on the x-axis\n",
    "ax.set_xticks(ticks=ticks, labels=labels);\n",
    "ax.set_yticks(ticks=np.arange(0,1.1, 0.1));\n",
    "\n",
    "ax.set_ylabel(r\"Percent of Energy Transmitted $\\left( \\frac{||I_{2}||}{||I_{1}||} \\right)$\", fontsize=7)\n",
    "ax.set_xlabel(r\"Difference in kernel orrientation $(\\theta_2 - \\theta_1)$\", fontsize=7)\n",
    "\n",
    "plt.savefig('malus2_high_order.pdf', dpi=600)\n",
    "plt.show()\n"
   ]
  },
  {
   "cell_type": "code",
   "execution_count": 6,
   "metadata": {},
   "outputs": [
    {
     "data": {
      "image/png": "[encoded data removed]",
      "text/plain": [
       "<Figure size 330x250 with 2 Axes>"
      ]
     },
     "metadata": {},
     "output_type": "display_data"
    }
   ],
   "source": [
    "i0 = tf.cast(tf.repeat(tf.expand_dims([img], axis=-1) , repeats = w.shape[-2], axis=-1), dtype=tf.float32) \n",
    "\n",
    "fig, ax= plt.subplots(1,1)\n",
    "\n",
    "\n",
    "im =ax.imshow(i0[0,...,0])\n",
    "#ax.plot(45//2, 45, marker = '+', color='red');\n",
    "\n",
    "\n",
    "\n",
    "ax.set(xlim=(0, img.shape[0]), ylim=(0,  img.shape[1]));\n",
    "\n",
    "fig.colorbar(im, orientation='vertical');\n",
    "\n",
    "plt.gca().set_axis_off()\n",
    "plt.subplots_adjust(top = 1, bottom = 0, right = 1, left = 0, \n",
    "            hspace = 0, wspace = 0)\n",
    "plt.margins(0,0)\n",
    "plt.gca().xaxis.set_major_locator(plt.NullLocator())\n",
    "plt.gca().yaxis.set_major_locator(plt.NullLocator())\n",
    "plt.savefig(\"i0_high_order.pdf\",bbox_inches='tight',   pad_inches = 0, dpi=600)\n"
   ]
  },
  {
   "cell_type": "code",
   "execution_count": null,
   "metadata": {},
   "outputs": [],
   "source": []
  },
  {
   "cell_type": "code",
   "execution_count": 7,
   "metadata": {},
   "outputs": [
    {
     "name": "stdout",
     "output_type": "stream",
     "text": [
      "tf.Tensor(34.4093, shape=(), dtype=float32)\n"
     ]
    },
    {
     "data": {
      "text/plain": [
       "<tf.Tensor: shape=(), dtype=float32, numpy=3.21455>"
      ]
     },
     "execution_count": 7,
     "metadata": {},
     "output_type": "execute_result"
    },
    {
     "data": {
      "image/png": "[encoded data removed]",
      "text/plain": [
       "<Figure size 330x250 with 2 Axes>"
      ]
     },
     "metadata": {},
     "output_type": "display_data"
    }
   ],
   "source": [
    "angle = 0\n",
    "\n",
    "w = np.zeros((3,3,1,1))\n",
    "\n",
    "w[:,:,0,0] = (np.cos(angle))*w1 + ( np.sin(angle))*w2\n",
    "w[:,:,0,0] = w[:,:,0,0] / (tf.math.reduce_euclidean_norm(w))\n",
    "\n",
    "\n",
    "i0 = tf.cast(tf.repeat(tf.expand_dims([img], axis=-1) , repeats = w.shape[-2], axis=-1), dtype=tf.float32) \n",
    "\n",
    "print((tf.math.reduce_euclidean_norm(i0)))\n",
    "\n",
    "i1 = tf.nn.relu( tf.nn.conv2d(i0, w , strides=(1,1), \n",
    "\t\t\t\t\t\t\t padding='SAME') )\n",
    "\n",
    "fig, ax= plt.subplots(1,1)\n",
    "\n",
    "im =ax.imshow(i1[0,...,0])\n",
    "#ax.plot(45//2, 45, marker = '+', color='red');\n",
    "\n",
    "\n",
    "\n",
    "ax.set(xlim=(0, img.shape[0]), ylim=(0,  img.shape[1]));\n",
    "\n",
    "fig.colorbar(im, orientation='vertical');\n",
    "\n",
    "plt.gca().set_axis_off()\n",
    "plt.subplots_adjust(top = 1, bottom = 0, right = 1, left = 0, \n",
    "            hspace = 0, wspace = 0)\n",
    "plt.margins(0,0)\n",
    "plt.gca().xaxis.set_major_locator(plt.NullLocator())\n",
    "plt.gca().yaxis.set_major_locator(plt.NullLocator())\n",
    "plt.savefig(\"i1_high_order.pdf\",bbox_inches='tight',   pad_inches = 0, dpi=600)\n",
    "tf.math.reduce_euclidean_norm(i1)\n",
    "\n"
   ]
  },
  {
   "cell_type": "code",
   "execution_count": 8,
   "metadata": {},
   "outputs": [
    {
     "data": {
      "text/plain": [
       "<tf.Tensor: shape=(), dtype=float32, numpy=1.7677668>"
      ]
     },
     "execution_count": 8,
     "metadata": {},
     "output_type": "execute_result"
    },
    {
     "data": {
      "image/png": "[encoded data removed]",
      "text/plain": [
       "<Figure size 330x250 with 2 Axes>"
      ]
     },
     "metadata": {},
     "output_type": "display_data"
    }
   ],
   "source": [
    "angle = np.pi/2\n",
    "\n",
    "w[:,:,0,0] = (np.cos(angle))*w1 + ( np.sin(angle))*w2\n",
    "w[:,:,0,0] = w[:,:,0,0] / (tf.math.reduce_euclidean_norm(w))\n",
    "\n",
    "\n",
    "\n",
    "\n",
    "i2 = tf.nn.relu( tf.nn.conv2d(i1, w , strides=(1,1), \n",
    "\t\t\t\t\t\t\t padding='SAME') )\n",
    "\n",
    "\n",
    "fig, ax= plt.subplots(1,1)\n",
    "\n",
    "im =ax.imshow(i2[0,...,0])\n",
    "#ax.plot(45//2, 45, marker = '+', color='red');\n",
    "\n",
    "\n",
    "\n",
    "ax.set(xlim=(0, img.shape[0]), ylim=(0,  img.shape[1]));\n",
    "\n",
    "fig.colorbar(im, orientation='vertical');\n",
    "\n",
    "plt.gca().set_axis_off()\n",
    "plt.subplots_adjust(top = 1, bottom = 0, right = 1, left = 0, \n",
    "            hspace = 0, wspace = 0)\n",
    "plt.margins(0,0)\n",
    "plt.gca().xaxis.set_major_locator(plt.NullLocator())\n",
    "plt.gca().yaxis.set_major_locator(plt.NullLocator())\n",
    "plt.savefig(\"i2_y_high_order.pdf\",bbox_inches='tight',   pad_inches = 0, dpi=600)\n",
    "tf.math.reduce_euclidean_norm(i2)"
   ]
  },
  {
   "cell_type": "code",
   "execution_count": 9,
   "metadata": {},
   "outputs": [
    {
     "data": {
      "text/plain": [
       "<tf.Tensor: shape=(), dtype=float32, numpy=2.6060824>"
      ]
     },
     "execution_count": 9,
     "metadata": {},
     "output_type": "execute_result"
    },
    {
     "data": {
      "image/png": "[encoded data removed]",
      "text/plain": [
       "<Figure size 330x250 with 2 Axes>"
      ]
     },
     "metadata": {},
     "output_type": "display_data"
    }
   ],
   "source": [
    "angle = 0\n",
    "w = np.zeros((3,3,1,1))\n",
    "w[:,:,0,0] = (np.cos(angle))*w1 + ( np.sin(angle))*w2\n",
    "w[:,:,0,0] = w[:,:,0,0] / (tf.math.reduce_euclidean_norm(w))\n",
    "\n",
    "\n",
    "\n",
    "i2 = tf.nn.relu( tf.nn.conv2d(i1, w , strides=(1,1), \n",
    "\t\t\t\t\t\t\t padding='SAME') )\n",
    "\n",
    "\n",
    "fig, ax= plt.subplots(1,1)\n",
    "\n",
    "im =ax.imshow(i2[0,...,0])\n",
    "#ax.plot(45//2, 45, marker = '+', color='red');\n",
    "\n",
    "\n",
    "\n",
    "ax.set(xlim=(0, img.shape[0]), ylim=(0,  img.shape[1]));\n",
    "\n",
    "fig.colorbar(im, orientation='vertical');\n",
    "\n",
    "plt.gca().set_axis_off()\n",
    "plt.subplots_adjust(top = 1, bottom = 0, right = 1, left = 0, \n",
    "            hspace = 0, wspace = 0)\n",
    "plt.margins(0,0)\n",
    "plt.gca().xaxis.set_major_locator(plt.NullLocator())\n",
    "plt.gca().yaxis.set_major_locator(plt.NullLocator())\n",
    "plt.savefig(\"i2_x_high_order.pdf\",bbox_inches='tight',   pad_inches = 0, dpi=600)\n",
    "\n",
    "tf.math.reduce_euclidean_norm(i2)"
   ]
  },
  {
   "cell_type": "code",
   "execution_count": 10,
   "metadata": {},
   "outputs": [
    {
     "data": {
      "text/plain": [
       "array([[[[ 2.88675135e-01]],\n",
       "\n",
       "        [[-2.77555756e-17]],\n",
       "\n",
       "        [[-2.88675135e-01]]],\n",
       "\n",
       "\n",
       "       [[[-5.77350269e-01]],\n",
       "\n",
       "        [[ 5.55111512e-17]],\n",
       "\n",
       "        [[ 5.77350269e-01]]],\n",
       "\n",
       "\n",
       "       [[[ 2.88675135e-01]],\n",
       "\n",
       "        [[ 0.00000000e+00]],\n",
       "\n",
       "        [[-2.88675135e-01]]]])"
      ]
     },
     "execution_count": 10,
     "metadata": {},
     "output_type": "execute_result"
    },
    {
     "data": {
      "image/png": "[encoded data removed]",
      "text/plain": [
       "<Figure size 330x250 with 1 Axes>"
      ]
     },
     "metadata": {},
     "output_type": "display_data"
    }
   ],
   "source": [
    "t = np.zeros((3,3))\n",
    "t[2, 1] =1\n",
    "\n",
    "dct_basis = np.reshape(fft.idctn(t, norm='ortho'), (3,3,1,1))\n",
    "plt.imshow(dct_basis[..., 0,0])\n",
    "dct_basis"
   ]
  },
  {
   "cell_type": "code",
   "execution_count": 11,
   "metadata": {},
   "outputs": [
    {
     "data": {
      "text/plain": [
       "array([[[[ 1.36082763e-01]],\n",
       "\n",
       "        [[-1.85037171e-17]],\n",
       "\n",
       "        [[-1.36082763e-01]]],\n",
       "\n",
       "\n",
       "       [[[ 1.36082763e-01]],\n",
       "\n",
       "        [[-1.85037171e-17]],\n",
       "\n",
       "        [[-1.36082763e-01]]],\n",
       "\n",
       "\n",
       "       [[[ 1.36082763e-01]],\n",
       "\n",
       "        [[-1.85037171e-17]],\n",
       "\n",
       "        [[-1.36082763e-01]]]])"
      ]
     },
     "execution_count": 11,
     "metadata": {},
     "output_type": "execute_result"
    },
    {
     "data": {
      "image/png": "[encoded data removed]",
      "text/plain": [
       "<Figure size 330x250 with 1 Axes>"
      ]
     },
     "metadata": {},
     "output_type": "display_data"
    }
   ],
   "source": [
    "a = np.zeros((3,3))\n",
    "a[0, 1] =1\n",
    "a = np.reshape(fft.idctn(a, norm='ortho'), (3,3,1,1))\n",
    "\n",
    "b = np.zeros((3,3))\n",
    "b[0, 0] =1\n",
    "b = np.reshape(fft.idctn(b, norm='ortho'), (3,3,1,1))\n",
    "\n",
    "dct_basis = a*b\n",
    "\n",
    "plt.imshow(dct_basis[..., 0,0])\n",
    "dct_basis"
   ]
  }
 ],
 "metadata": {
  "kernelspec": {
   "display_name": "Python 3",
   "language": "python",
   "name": "python3"
  },
  "language_info": {
   "codemirror_mode": {
    "name": "ipython",
    "version": 3
   },
   "file_extension": ".py",
   "mimetype": "text/x-python",
   "name": "python",
   "nbconvert_exporter": "python",
   "pygments_lexer": "ipython3",
   "version": "3.7.16"
  }
 },
 "nbformat": 4,
 "nbformat_minor": 2
}
