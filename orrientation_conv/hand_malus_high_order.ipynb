{
 "cells": [
  {
   "cell_type": "code",
   "execution_count": 22,
   "metadata": {},
   "outputs": [],
   "source": [
    "import sys\n",
    "sys.path.append('../')\n",
    "\n",
    "import numpy as np\n",
    "from scipy import ndimage\n",
    "\n",
    "from skimage.filters import sobel_h\n",
    "from skimage.filters import sobel_v\n",
    "from scipy import stats\n",
    "\n",
    "\n",
    "import os\n",
    "import matplotlib\n",
    "import matplotlib.pyplot as plt\n",
    "from mpl_toolkits.mplot3d import Axes3D\n",
    "from mpl_toolkits.mplot3d.proj3d import proj_transform\n",
    "from matplotlib.patches import FancyArrowPatch\n",
    "from mpl_toolkits.mplot3d import proj3d\n",
    "\n",
    "\n",
    "import scienceplots\n",
    "from tensorflow.python.client import device_lib\n",
    "\n",
    "#plt.rcParams['figure.figsize'] = [10,10]\n",
    "\n",
    "import tensorflow as tf\n",
    "from tensorflow.keras.preprocessing import image\n",
    "from tensorflow.keras.applications.vgg16 import decode_predictions\n",
    "from tensorflow.keras.applications import VGG16\n",
    "\n",
    "from tensorflow.nn import depthwise_conv2d\n",
    "from tensorflow.math import multiply, reduce_sum, reduce_mean,reduce_euclidean_norm, sin, cos, abs\n",
    "from tensorflow import stack, concat, expand_dims\n",
    "\n",
    "import tensorflow_probability as tfp\n",
    "\n",
    "from utils.utils import *\n",
    "import cv2\n",
    "\n",
    "from scipy import ndimage, fft\n",
    "\n",
    "plt.style.use(['science', 'ieee'])\n",
    "plt.rcParams.update({'figure.dpi': '100'})"
   ]
  },
  {
   "cell_type": "markdown",
   "metadata": {},
   "source": [
    "#### Experiment #1 : Symmetric Convolution\n"
   ]
  },
  {
   "cell_type": "code",
   "execution_count": 23,
   "metadata": {},
   "outputs": [
    {
     "data": {
      "text/plain": [
       "TensorShape([50, 50])"
      ]
     },
     "execution_count": 23,
     "metadata": {},
     "output_type": "execute_result"
    },
    {
     "data": {
      "image/png": "[encoded data removed]",
      "text/plain": [
       "<Figure size 330x250 with 1 Axes>"
      ]
     },
     "metadata": {},
     "output_type": "display_data"
    }
   ],
   "source": [
    "'''img = np.zeros((45, 45))\n",
    "center_coordinates = (img.shape[0]//2, img.shape[1]//2) \n",
    "img = cv2.circle(img, center_coordinates, 20, (255,255,255), -1) \n",
    "plt.imshow(img)'''\n",
    "\n",
    "\n",
    "N = 50\n",
    "#img =  tf.image.rot90(tf.random.uniform(shape=(50,50,1), minval=0., maxval=1.), k=1) #\n",
    "#img = tf.image.pad_to_bounding_box(img, 25//2,25//2,N+25, N+25)[...,0]\n",
    "\n",
    "img =  tf.expand_dims(cv2.imread('input4.png', 0)/255. , axis=-1)\n",
    "H, W, C = img.shape  # Get image dimensions\n",
    "offset_height = (H - N) // 2\n",
    "offset_width = (W - N) // 2\n",
    "img = tf.image.crop_to_bounding_box(img, offset_height, offset_width, N, N)[...,0]\n",
    "plt.imshow(img)\n",
    "img.shape\n"
   ]
  },
  {
   "cell_type": "code",
   "execution_count": 24,
   "metadata": {},
   "outputs": [
    {
     "name": "stdout",
     "output_type": "stream",
     "text": [
      "(50, 50)\n"
     ]
    },
    {
     "data": {
      "image/png": "[encoded data removed]",
      "text/plain": [
       "<Figure size 330x250 with 1 Axes>"
      ]
     },
     "metadata": {},
     "output_type": "display_data"
    }
   ],
   "source": [
    "#var = 2/(128*9)\n",
    "\n",
    "fig,ax = plt.subplots(1)\n",
    "\n",
    "ax.imshow(img, cmap='gray')\n",
    "\n",
    "#img = (img-np.mean(img))/np.std(img)\n",
    "#img = tf.repeat(tf.expand_dims([img], axis=-1) , repeats = 512, axis=-1)  #get_double_slit(shape) , axis=0)\n",
    "print(img.shape)\n",
    "plt.gca().set_axis_off()\n",
    "plt.subplots_adjust(top = 1, bottom = 0, right = 1, left = 0, \n",
    "            hspace = 0, wspace = 0)\n",
    "plt.margins(0,0)\n",
    "plt.gca().xaxis.set_major_locator(plt.NullLocator())\n",
    "plt.gca().yaxis.set_major_locator(plt.NullLocator())\n",
    "plt.savefig(\"input.png\",bbox_inches='tight',   pad_inches = 0)\n"
   ]
  },
  {
   "cell_type": "code",
   "execution_count": 25,
   "metadata": {},
   "outputs": [
    {
     "name": "stdout",
     "output_type": "stream",
     "text": [
      "Original shape: (500, 500)\n"
     ]
    },
    {
     "data": {
      "image/png": "[encoded data removed]",
      "text/plain": [
       "<Figure size 330x250 with 1 Axes>"
      ]
     },
     "metadata": {},
     "output_type": "display_data"
    }
   ],
   "source": [
    "img = np.random.normal(loc=0.0, scale=1.0, size=(500, 500))\n",
    "print(\"Original shape:\", img.shape)\n",
    "\n",
    "# Pad with 10 pixels of zeros on all sides\n",
    "img = np.pad(img, pad_width=((10, 10), (10, 10)), mode='constant', constant_values=0)\n",
    "\n",
    "fig, ax = plt.subplots()\n",
    "ax.imshow(img)\n",
    "x_min, x_max = 30, 60\n",
    "y_min, y_max = 30, 60\n",
    "\n",
    "ax.set_xlim(x_min, x_max)\n",
    "ax.set_ylim(y_min, y_max)\n",
    "\n",
    "plt.show()"
   ]
  },
  {
   "cell_type": "code",
   "execution_count": 26,
   "metadata": {},
   "outputs": [
    {
     "data": {
      "text/plain": [
       "'img  = np.zeros((7, 7)) # np.random.uniform(low=0, high=1, size=(50,50,10))\\nimg[3, 3 ]=1.\\n\\nplt.imshow(img)'"
      ]
     },
     "execution_count": 26,
     "metadata": {},
     "output_type": "execute_result"
    }
   ],
   "source": [
    "'''img  = np.zeros((7, 7)) # np.random.uniform(low=0, high=1, size=(50,50,10))\n",
    "img[3, 3 ]=1.\n",
    "\n",
    "plt.imshow(img)'''"
   ]
  },
  {
   "cell_type": "code",
   "execution_count": 27,
   "metadata": {},
   "outputs": [
    {
     "name": "stdout",
     "output_type": "stream",
     "text": [
      "tf.Tensor(0.9999999999999999, shape=(), dtype=float64)\n",
      "tf.Tensor(1.0, shape=(), dtype=float64)\n",
      "IMG tf.Tensor(500.27115561494026, shape=(), dtype=float64)\n",
      "I0, tf.Tensor(500.27115, shape=(), dtype=float32)\n",
      "I1, tf.Tensor(351.75595, shape=(), dtype=float32)\n",
      "334.02737 0.9495998\n",
      "333.5059 0.94811726\n",
      "331.95166 0.94369876\n",
      "329.37518 0.9363742\n",
      "325.7942 0.92619383\n",
      "321.23395 0.9132296\n",
      "315.7275 0.89757544\n",
      "309.31628 0.8793491\n",
      "302.0493 0.8586899\n",
      "293.98456 0.83576286\n",
      "285.19022 0.8107616\n",
      "275.74512 0.78391033\n",
      "265.74014 0.75546736\n",
      "255.28003 0.72573054\n",
      "244.48503 0.69504166\n",
      "233.4963 0.663802\n",
      "222.47649 0.632474\n",
      "211.61345 0.60159165\n",
      "201.11987 0.5717597\n",
      "191.23845 0.543668\n",
      "182.24152 0.5180908\n",
      "174.42276 0.495863\n",
      "168.08429 0.4778435\n",
      "163.50262 0.46481836\n",
      "160.89575 0.45740733\n",
      "160.39732 0.45599037\n",
      "162.03062 0.46063364\n",
      "165.70856 0.47108957\n",
      "171.25284 0.48685127\n",
      "178.40744 0.50719094\n",
      "186.87689 0.5312686\n",
      "196.36493 0.55824196\n",
      "206.58922 0.5873084\n",
      "217.29199 0.6177351\n",
      "228.24646 0.6488773\n",
      "239.25545 0.6801745\n",
      "250.14586 0.7111347\n",
      "260.76862 0.7413339\n",
      "270.9947 0.7704054\n",
      "280.71283 0.79803294\n",
      "289.8251 0.823938\n",
      "298.24634 0.8478786\n",
      "305.90286 0.8696452\n",
      "312.7315 0.8890582\n",
      "318.67932 0.9059671\n",
      "323.7018 0.92024547\n",
      "327.7625 0.9317895\n",
      "330.83276 0.9405179\n",
      "332.89148 0.94637054\n",
      "333.92465 0.94930774\n",
      "333.925 0.9493087\n",
      "332.89194 0.94637185\n",
      "330.8324 0.9405168\n",
      "327.76077 0.9317846\n",
      "323.6985 0.920236\n",
      "318.6744 0.90595317\n",
      "312.7245 0.8890382\n",
      "305.89316 0.8696176\n",
      "298.2342 0.84784406\n",
      "289.81027 0.8238959\n",
      "280.69437 0.7979804\n",
      "270.9711 0.77033836\n",
      "260.73822 0.7412475\n",
      "250.10883 0.7110294\n",
      "239.2123 0.68005186\n",
      "228.19661 0.6487356\n",
      "217.23299 0.61756736\n",
      "206.51936 0.5871098\n",
      "196.28525 0.5580154\n",
      "186.78563 0.53100914\n",
      "178.30168 0.5068903\n",
      "171.12683 0.48649308\n",
      "165.55223 0.47064516\n",
      "161.84203 0.4600975\n",
      "160.1957 0.45541716\n",
      "160.70627 0.45686865\n",
      "163.34889 0.4643813\n",
      "167.97437 0.477531\n",
      "174.34717 0.4956481\n",
      "182.18954 0.517943\n",
      "191.2051 0.54357314\n",
      "201.10089 0.5717057\n",
      "211.6074 0.6015745\n",
      "222.48213 0.63249004\n",
      "233.5102 0.6638415\n",
      "244.50435 0.69509655\n",
      "255.30421 0.72579926\n",
      "265.76913 0.7555498\n",
      "275.7774 0.7840021\n",
      "285.22342 0.810856\n",
      "294.01712 0.8358554\n",
      "302.08014 0.85877764\n",
      "309.3452 0.87943137\n",
      "315.7541 0.897651\n",
      "321.25726 0.91329587\n",
      "325.81387 0.9262498\n",
      "329.39096 0.936419\n",
      "331.96304 0.9437311\n",
      "333.51205 0.9481348\n",
      "334.02737 0.9495998\n"
     ]
    }
   ],
   "source": [
    "w = np.zeros((3,3,1,1))\n",
    "\n",
    "\n",
    "t1 = np.zeros((3,3))\n",
    "t2 = np.zeros((3,3))\n",
    "\n",
    "'''t1[1, 2] = 1.\n",
    "t2[2, 1] = 1.'''\n",
    "t1[1,0] = 1.\n",
    "t2[0, 1] = 1.\n",
    "\n",
    "\n",
    "w1 = fft.idctn(t1, norm='ortho')\n",
    "#w1 /= np.sum(np.abs(w1))\n",
    "\n",
    "w2 = fft.idctn(t2, norm='ortho')\n",
    "#w2 /= np.sum(np.abs(w2))\n",
    "\n",
    "w[:,:,0,0] = (np.cos(-np.pi))*w1 + ( np.sin(-np.pi))*w2\n",
    "print(tf.math.reduce_euclidean_norm(w))\n",
    "w[:,:,0,0] = w[:,:,0,0] / (tf.math.reduce_euclidean_norm(w))\n",
    "\n",
    "\n",
    "print(tf.math.reduce_euclidean_norm(w))\n",
    "x = img\n",
    "\n",
    "print(\"IMG\", (tf.math.reduce_euclidean_norm(img)))\n",
    "\n",
    "\n",
    "\n",
    "directory = f\"figures/malus_high_order\"\n",
    "if not os.path.exists(directory):\n",
    "\tos.makedirs(directory)\n",
    "\n",
    "\n",
    "response_mag = []\n",
    "init_mag = tf.math.reduce_euclidean_norm(x).numpy()\n",
    "\n",
    "\n",
    "\n",
    "i0 = tf.cast(tf.repeat(tf.expand_dims([img], axis=-1) , repeats = w.shape[-2], axis=-1), dtype=tf.float32) \n",
    "\n",
    "print(\"I0,\", tf.math.reduce_euclidean_norm(i0))\n",
    "\n",
    "\n",
    "i1 = tf.nn.relu(tf.nn.conv2d(i0, w , strides=(1,1), padding='SAME') )\n",
    "\n",
    "print(\"I1,\", tf.math.reduce_euclidean_norm(i1))\n",
    "\n",
    "\n",
    "\n",
    "init_mag = tf.math.reduce_euclidean_norm(i1).numpy()\n",
    "\n",
    "angles = np.linspace(-np.pi, np.pi, 100)\n",
    "for i in range(100):\n",
    "\t#fig, ax = plt.subplots()\n",
    "\t\n",
    "\t\n",
    "\tw[:,:,0,0] = (np.cos(angles[i]))*w1 + ( np.sin(angles[i]))*w2\n",
    "\tw[:,:,0,0] = w[:,:,0,0] / (tf.math.reduce_euclidean_norm(w))\n",
    "\t\t\n",
    "\tx_out = tf.nn.relu( tf.nn.conv2d(i1, w , strides=(1,1), \n",
    "\t\t\t\t\t\t\t\tpadding='SAME') )\n",
    "\n",
    "\tresponse_mag.append(tf.math.reduce_euclidean_norm(x_out).numpy()/init_mag)\n",
    "\tprint(tf.math.reduce_euclidean_norm(x_out).numpy(), response_mag[-1])"
   ]
  },
  {
   "cell_type": "code",
   "execution_count": null,
   "metadata": {},
   "outputs": [],
   "source": []
  },
  {
   "cell_type": "code",
   "execution_count": 28,
   "metadata": {},
   "outputs": [
    {
     "data": {
      "image/png": "[encoded data removed]",
      "text/plain": [
       "<Figure size 300x300 with 1 Axes>"
      ]
     },
     "metadata": {},
     "output_type": "display_data"
    }
   ],
   "source": [
    "fig, ax= plt.subplots(1,1, figsize=(3,3))\n",
    "\n",
    "ax.plot(angles,response_mag)\n",
    "\n",
    "ticks = np.arange(-np.pi, 1.5*np.pi, np.pi/2)\n",
    "labels = [r\"$-\\pi$\", r\"$-\\pi/2$\", r\"$0$\", r\"$\\pi/2$\", r\"$\\pi$\"]\n",
    "# Set ticks and labels on the x-axis\n",
    "ax.set_xticks(ticks=ticks, labels=labels);\n",
    "ax.set_yticks(ticks=np.arange(0,1.1, 0.1));\n",
    "\n",
    "ax.set_ylabel(r\"Percent of Energy Transmitted $\\left( \\frac{||I_{2}||}{||I_{1}||} \\right)$\", fontsize=7)\n",
    "ax.set_xlabel(r\"Difference in kernel orrientation $(\\theta_2 - \\theta_1)$\", fontsize=7)\n",
    "\n",
    "plt.savefig('malus2_high_order.pdf', dpi=600)\n",
    "plt.show()\n"
   ]
  },
  {
   "cell_type": "code",
   "execution_count": 29,
   "metadata": {},
   "outputs": [
    {
     "data": {
      "image/png": "[encoded data removed]",
      "text/plain": [
       "<Figure size 330x250 with 2 Axes>"
      ]
     },
     "metadata": {},
     "output_type": "display_data"
    }
   ],
   "source": [
    "i0 = tf.cast(tf.repeat(tf.expand_dims([img], axis=-1) , repeats = w.shape[-2], axis=-1), dtype=tf.float32) \n",
    "\n",
    "fig, ax= plt.subplots(1,1)\n",
    "\n",
    "\n",
    "im =ax.imshow(i0[0,...,0])\n",
    "#ax.plot(45//2, 45, marker = '+', color='red');\n",
    "\n",
    "\n",
    "\n",
    "ax.set(xlim=(0, img.shape[0]), ylim=(0,  img.shape[1]));\n",
    "\n",
    "x_min, x_max = 30, 60\n",
    "y_min, y_max = 30, 60\n",
    "\n",
    "ax.set_xlim(x_min, x_max)\n",
    "ax.set_ylim(y_min, y_max)\n",
    "\n",
    "fig.colorbar(im, orientation='vertical');\n",
    "\n",
    "plt.gca().set_axis_off()\n",
    "plt.subplots_adjust(top = 1, bottom = 0, right = 1, left = 0, \n",
    "            hspace = 0, wspace = 0)\n",
    "plt.margins(0,0)\n",
    "plt.gca().xaxis.set_major_locator(plt.NullLocator())\n",
    "plt.gca().yaxis.set_major_locator(plt.NullLocator())\n",
    "plt.savefig(\"i0_high_order.pdf\",bbox_inches='tight',   pad_inches = 0, dpi=600)\n"
   ]
  },
  {
   "cell_type": "code",
   "execution_count": null,
   "metadata": {},
   "outputs": [],
   "source": []
  },
  {
   "cell_type": "code",
   "execution_count": 30,
   "metadata": {},
   "outputs": [
    {
     "name": "stdout",
     "output_type": "stream",
     "text": [
      "tf.Tensor(500.27115, shape=(), dtype=float32)\n"
     ]
    },
    {
     "data": {
      "text/plain": [
       "<tf.Tensor: shape=(), dtype=float32, numpy=351.75595>"
      ]
     },
     "execution_count": 30,
     "metadata": {},
     "output_type": "execute_result"
    },
    {
     "data": {
      "image/png": "[encoded data removed]",
      "text/plain": [
       "<Figure size 330x250 with 2 Axes>"
      ]
     },
     "metadata": {},
     "output_type": "display_data"
    }
   ],
   "source": [
    "angle = -np.pi\n",
    "\n",
    "w = np.zeros((3,3,1,1))\n",
    "\n",
    "w[:,:,0,0] = (np.cos(angle))*w1 + ( np.sin(angle))*w2\n",
    "w[:,:,0,0] = w[:,:,0,0] / (tf.math.reduce_euclidean_norm(w))\n",
    "\n",
    "\n",
    "i0 = tf.cast(tf.repeat(tf.expand_dims([img], axis=-1) , repeats = w.shape[-2], axis=-1), dtype=tf.float32) \n",
    "\n",
    "print((tf.math.reduce_euclidean_norm(i0)))\n",
    "\n",
    "i1_x = tf.nn.relu( tf.nn.conv2d(i0, w , strides=(1,1), \n",
    "\t\t\t\t\t\t\t padding='SAME') )\n",
    "\n",
    "\n",
    "fig, ax= plt.subplots(1,1)\n",
    "\n",
    "im =ax.imshow(i1[0,...,0])\n",
    "#ax.plot(45//2, 45, marker = '+', color='red');\n",
    "\n",
    "\n",
    "\n",
    "\n",
    "ax.set(xlim=(0, img.shape[0]), ylim=(0,  img.shape[1]));\n",
    "x_min, x_max = 30, 60\n",
    "y_min, y_max = 30, 60\n",
    "\n",
    "ax.set_xlim(x_min, x_max)\n",
    "ax.set_ylim(y_min, y_max)\n",
    "\n",
    "fig.colorbar(im, orientation='vertical');\n",
    "\n",
    "plt.gca().set_axis_off()\n",
    "plt.subplots_adjust(top = 1, bottom = 0, right = 1, left = 0, \n",
    "            hspace = 0, wspace = 0)\n",
    "plt.margins(0,0)\n",
    "plt.gca().xaxis.set_major_locator(plt.NullLocator())\n",
    "plt.gca().yaxis.set_major_locator(plt.NullLocator())\n",
    "plt.savefig(\"i1_high_order.pdf\",bbox_inches='tight',   pad_inches = 0, dpi=600)\n",
    "tf.math.reduce_euclidean_norm(i1)\n",
    "\n"
   ]
  },
  {
   "cell_type": "code",
   "execution_count": 31,
   "metadata": {},
   "outputs": [
    {
     "data": {
      "text/plain": [
       "<tf.Tensor: shape=(), dtype=float32, numpy=334.02737>"
      ]
     },
     "execution_count": 31,
     "metadata": {},
     "output_type": "execute_result"
    },
    {
     "data": {
      "image/png": "[encoded data removed]",
      "text/plain": [
       "<Figure size 330x250 with 2 Axes>"
      ]
     },
     "metadata": {},
     "output_type": "display_data"
    }
   ],
   "source": [
    "angle = -np.pi\n",
    "\n",
    "w[:,:,0,0] = (np.cos(angle))*w1 + ( np.sin(angle))*w2\n",
    "w[:,:,0,0] = w[:,:,0,0] / (tf.math.reduce_euclidean_norm(w))\n",
    "\n",
    "\n",
    "\n",
    "\n",
    "i2_x = tf.nn.relu( tf.nn.conv2d(i1, w , strides=(1,1), \n",
    "\t\t\t\t\t\t\t padding='SAME') )\n",
    "\n",
    "\n",
    "fig, ax= plt.subplots(1,1)\n",
    "\n",
    "im =ax.imshow(i2_x[0,...,0])\n",
    "#ax.plot(45//2, 45, marker = '+', color='red');\n",
    "\n",
    "\n",
    "\n",
    "ax.set(xlim=(0, img.shape[0]), ylim=(0,  img.shape[1]));\n",
    "x_min, x_max = 30, 60\n",
    "y_min, y_max = 30, 60\n",
    "\n",
    "ax.set_xlim(x_min, x_max)\n",
    "ax.set_ylim(y_min, y_max)\n",
    "\n",
    "\n",
    "fig.colorbar(im, orientation='vertical');\n",
    "\n",
    "plt.gca().set_axis_off()\n",
    "plt.subplots_adjust(top = 1, bottom = 0, right = 1, left = 0, \n",
    "            hspace = 0, wspace = 0)\n",
    "plt.margins(0,0)\n",
    "plt.gca().xaxis.set_major_locator(plt.NullLocator())\n",
    "plt.gca().yaxis.set_major_locator(plt.NullLocator())\n",
    "plt.savefig(\"i2_y_high_order.pdf\",bbox_inches='tight',   pad_inches = 0, dpi=600)\n",
    "tf.math.reduce_euclidean_norm(i2_x)"
   ]
  },
  {
   "cell_type": "code",
   "execution_count": 32,
   "metadata": {},
   "outputs": [
    {
     "data": {
      "text/plain": [
       "<tf.Tensor: shape=(), dtype=float32, numpy=160.12>"
      ]
     },
     "execution_count": 32,
     "metadata": {},
     "output_type": "execute_result"
    },
    {
     "data": {
      "image/png": "[encoded data removed]",
      "text/plain": [
       "<Figure size 330x250 with 2 Axes>"
      ]
     },
     "metadata": {},
     "output_type": "display_data"
    }
   ],
   "source": [
    "angle = np.pi/2\n",
    "\n",
    "w[:,:,0,0] = (np.cos(angle))*w1 + ( np.sin(angle))*w2\n",
    "w[:,:,0,0] = w[:,:,0,0] / (tf.math.reduce_euclidean_norm(w))\n",
    "\n",
    "\n",
    "\n",
    "\n",
    "i2_y = tf.nn.relu( tf.nn.conv2d(i1, w , strides=(1,1), \n",
    "\t\t\t\t\t\t\t padding='SAME') )\n",
    "\n",
    "\n",
    "fig, ax= plt.subplots(1,1)\n",
    "\n",
    "im =ax.imshow(i2_y[0,...,0])\n",
    "#ax.plot(45//2, 45, marker = '+', color='red');\n",
    "\n",
    "\n",
    "\n",
    "ax.set(xlim=(0, img.shape[0]), ylim=(0,  img.shape[1]));\n",
    "x_min, x_max = 30, 60\n",
    "y_min, y_max = 30, 60\n",
    "\n",
    "ax.set_xlim(x_min, x_max)\n",
    "ax.set_ylim(y_min, y_max)\n",
    "\n",
    "\n",
    "fig.colorbar(im, orientation='vertical');\n",
    "\n",
    "plt.gca().set_axis_off()\n",
    "plt.subplots_adjust(top = 1, bottom = 0, right = 1, left = 0, \n",
    "            hspace = 0, wspace = 0)\n",
    "plt.margins(0,0)\n",
    "plt.gca().xaxis.set_major_locator(plt.NullLocator())\n",
    "plt.gca().yaxis.set_major_locator(plt.NullLocator())\n",
    "#plt.savefig(\"i2_y_high_order.pdf\",bbox_inches='tight',   pad_inches = 0, dpi=600)\n",
    "tf.math.reduce_euclidean_norm(i2_y)"
   ]
  },
  {
   "cell_type": "code",
   "execution_count": 33,
   "metadata": {},
   "outputs": [
    {
     "data": {
      "text/plain": [
       "TensorShape([1, 520, 520, 1])"
      ]
     },
     "execution_count": 33,
     "metadata": {},
     "output_type": "execute_result"
    }
   ],
   "source": [
    "i0.shape"
   ]
  },
  {
   "cell_type": "code",
   "execution_count": 83,
   "metadata": {},
   "outputs": [
    {
     "data": {
      "image/png": "[encoded data removed]",
      "text/plain": [
       "<Figure size 800x700 with 8 Axes>"
      ]
     },
     "metadata": {},
     "output_type": "display_data"
    }
   ],
   "source": [
    "fig, axs = plt.subplots(2, 2, figsize=(8, 7))\n",
    "title_fontsize = 16  # Adjust as needed\n",
    "\n",
    "# Top-left\n",
    "im0 = axs[0, 0].imshow(i0[0, 30:60, 30:60, 0].numpy(), cmap='viridis')\n",
    "axs[0, 0].set_title(r'Input ($I_0 \\sim N(0, 1)$)', fontsize=title_fontsize)\n",
    "fig.colorbar(im0, ax=axs[0, 0], fraction=0.046, pad=0.04)\n",
    "#ax.set(xlim=(0, img.shape[0]), ylim=(0,  img.shape[1]));\n",
    "\n",
    "x_min, x_max = 30, 60\n",
    "y_min, y_max = 30, 60\n",
    "\n",
    "ax.set_xlim(x_min, x_max)\n",
    "ax.set_ylim(y_min, y_max)\n",
    "\n",
    "#fig.colorbar(im, orientation='vertical');\n",
    "\n",
    "\n",
    "# Top-right\n",
    "im1 = axs[0, 1].imshow(i1_x[0, 30:60, 30:60, 0].numpy(), cmap='viridis')\n",
    "axs[0, 1].set_title(r'$I_1 = \\mathrm{ReLU}(I_0 * \\nabla_y)$', fontsize=title_fontsize)\n",
    "fig.colorbar(im1, ax=axs[0, 1], fraction=0.046, pad=0.04)\n",
    "\n",
    "# Bottom-left\n",
    "im2 = axs[1, 0].imshow(i2_x[0, 30:60, 30:60, 0].numpy(), cmap='viridis')\n",
    "axs[1, 0].set_title(r'$I_2 = \\mathrm{ReLU}(I_1 * \\nabla_y)$', fontsize=title_fontsize)\n",
    "fig.colorbar(im2, ax=axs[1, 0], fraction=0.046, pad=0.04)\n",
    "\n",
    "# Bottom-right\n",
    "im3 = axs[1, 1].imshow(i2_y[0, 30:60, 30:60, 0].numpy(), cmap='viridis')\n",
    "axs[1, 1].set_title(r'$I_2 = \\mathrm{ReLU}(I_1 * \\nabla_x)$', fontsize=title_fontsize)\n",
    "fig.colorbar(im3, ax=axs[1, 1], fraction=0.046, pad=0.04)\n",
    "\n",
    "# Optional: tighten layout and remove axis ticks\n",
    "for ax in axs.flat:\n",
    "    ax.set_xticks([])\n",
    "    ax.set_yticks([])\n",
    "\n",
    "plt.tight_layout()\n",
    "plt.savefig(\"malus_gradient_random.pdf\", dpi=600)\n",
    "\n",
    "plt.show()\n",
    "\n",
    "\n"
   ]
  },
  {
   "cell_type": "code",
   "execution_count": 119,
   "metadata": {},
   "outputs": [
    {
     "data": {
      "image/png": "[encoded data removed]",
      "text/plain": [
       "<Figure size 300x300 with 1 Axes>"
      ]
     },
     "metadata": {},
     "output_type": "display_data"
    }
   ],
   "source": [
    "from matplotlib.offsetbox import OffsetImage, AnnotationBbox, TextArea, VPacker\n",
    "from matplotlib.backends.backend_agg import FigureCanvasAgg as FigureCanvas\n",
    "\n",
    "def render_patch_with_border(patch, border_color='black', border_width=1, zoom=1.0):\n",
    "\t\"\"\"\n",
    "\tRenders a patch using imshow-style with a border and returns it as an OffsetImage.\n",
    "\t\"\"\"\n",
    "\t# Create a tiny figure to render the patch using imshow\n",
    "\tfig, ax = plt.subplots(figsize=(1, 1), dpi=100)\n",
    "\tcanvas = FigureCanvas(fig)\n",
    "\n",
    "\tax.imshow(patch, cmap='gray', interpolation='none')\n",
    "\tax.tick_params(left=False, bottom=False, labelleft=False, labelbottom=False)\n",
    "\n",
    "\n",
    "\tfor spine in ax.spines.values():\n",
    "\t\tspine.set_visible(True)\n",
    "\t\tspine.set_linewidth(1)\n",
    "\t\tspine.set_color('black')\n",
    "\n",
    "\t# Make sure spines are drawn on top of the image\n",
    "\tax.set_frame_on(True)\n",
    "\t# Add rectangle border\n",
    "\t'''h, w = patch.shape\n",
    "\tax.add_patch(plt.Rectangle(\n",
    "\t\t(-0.5, -0.5), w, h,\n",
    "\t\tedgecolor=border_color,\n",
    "\t\tfacecolor='none',\n",
    "\t\tlinewidth=border_width\n",
    "\t))'''\n",
    "\n",
    "\t# Render to array\n",
    "\tcanvas.draw()\n",
    "\timg = np.frombuffer(canvas.tostring_rgb(), dtype='uint8')\n",
    "\timg = img.reshape(canvas.get_width_height()[::-1] + (3,))\n",
    "\n",
    "\tplt.close(fig)\n",
    "\treturn OffsetImage(img, zoom=zoom)\n",
    "\n",
    "# Function to place image on the curve\n",
    "\n",
    "def add_patch_with_label(ax, x, y, patch, label):\n",
    "\t# Create rendered image with border\n",
    "\timagebox = render_patch_with_border(patch, border_color='black', border_width=2, zoom=0.2)\n",
    "\n",
    "\t# Create label\n",
    "\ttextbox = TextArea(label, textprops={\n",
    "\t\t'fontsize': 7,\n",
    "\t\t'ha': 'center',\n",
    "\t\t'va': 'center',\n",
    "\t\t'bbox': dict(facecolor='white', edgecolor='none', boxstyle='round,pad=0.1')\n",
    "\t})\n",
    "\n",
    "\t# Stack vertically\n",
    "\tvpack = VPacker(children=[textbox, imagebox], align=\"center\", pad=0, sep=3)\n",
    "\tab = AnnotationBbox(vpack, (x, y), frameon=False, box_alignment=(0.5, 0.5))\n",
    "\n",
    "\tax.add_artist(ab)\n",
    "\n",
    "\n",
    "fig, ax= plt.subplots(1,1, figsize=(3,3))\n",
    "\n",
    "ax.plot(angles,response_mag)\n",
    "\n",
    "ticks = np.arange(-np.pi, 1.5*np.pi, np.pi/2)\n",
    "labels = [r\"$-\\pi$\", r\"$-\\pi/2$\", r\"$0$\", r\"$\\pi/2$\", r\"$\\pi$\"]\n",
    "# Set ticks and labels on the x-axis\n",
    "ax.set_xticks(ticks=ticks, labels=labels);\n",
    "ax.set_yticks(ticks=np.arange(0,1.1, 0.1));\n",
    "\n",
    "ax.set_ylabel(r\"Percent of Energy Transmitted $\\left( \\frac{||I_{2}||}{||I_{1}||} \\right)$\", fontsize=10)\n",
    "ax.set_xlabel(r\"Difference in kernel orrientation $(\\theta_2 - \\theta_1)$\", fontsize=10)\n",
    "\n",
    "# Locations along curve\n",
    "x1, y1 = -np.pi/2, response_mag[len(response_mag)//4]  # for dy\n",
    "x2, y2 = np.pi, response_mag[-1]     # for dx\n",
    "w[:,:,0,0] = (np.cos(np.pi))*w1 + ( np.sin(np.pi))*w2\n",
    "dx_kernel = w[:,:,0,0]\n",
    "dy_kernel = dx_kernel.T\n",
    "\n",
    "add_patch_with_label(ax, x1, y1, dy_kernel, r'$I_2 = \\mathrm{ReLU}(I_1 * \\nabla_x)$')\n",
    "add_patch_with_label(ax, x2, y2, dx_kernel, r'$I_2 = \\mathrm{ReLU}(I_1 * \\nabla_y)$')\n",
    "\n",
    "\n",
    "plt.savefig('malus_curve_random.pdf', dpi=600)\n",
    "plt.show()\n"
   ]
  },
  {
   "cell_type": "code",
   "execution_count": 81,
   "metadata": {},
   "outputs": [
    {
     "data": {
      "text/plain": [
       "<matplotlib.image.AxesImage at 0x23b3172adc8>"
      ]
     },
     "execution_count": 81,
     "metadata": {},
     "output_type": "execute_result"
    },
    {
     "data": {
      "image/png": "[encoded data removed]",
      "text/plain": [
       "<Figure size 330x250 with 1 Axes>"
      ]
     },
     "metadata": {},
     "output_type": "display_data"
    }
   ],
   "source": [
    "w[:,:,0,0] = (np.cos(np.pi/2))*w1 + ( np.sin(np.pi/2))*w2\n",
    "\n",
    "\n",
    "\n",
    "\n",
    "\n",
    "p = plt.imshow(w[:,:,0,0], cmap='gray')\n",
    "plt.axis('off')\n",
    "p\n"
   ]
  },
  {
   "cell_type": "code",
   "execution_count": 36,
   "metadata": {},
   "outputs": [
    {
     "data": {
      "text/plain": [
       "array([[[[ 1.36082763e-01]],\n",
       "\n",
       "        [[-1.85037171e-17]],\n",
       "\n",
       "        [[-1.36082763e-01]]],\n",
       "\n",
       "\n",
       "       [[[ 1.36082763e-01]],\n",
       "\n",
       "        [[-1.85037171e-17]],\n",
       "\n",
       "        [[-1.36082763e-01]]],\n",
       "\n",
       "\n",
       "       [[[ 1.36082763e-01]],\n",
       "\n",
       "        [[-1.85037171e-17]],\n",
       "\n",
       "        [[-1.36082763e-01]]]])"
      ]
     },
     "execution_count": 36,
     "metadata": {},
     "output_type": "execute_result"
    },
    {
     "data": {
      "image/png": "[encoded data removed]",
      "text/plain": [
       "<Figure size 330x250 with 1 Axes>"
      ]
     },
     "metadata": {},
     "output_type": "display_data"
    }
   ],
   "source": [
    "a = np.zeros((3,3))\n",
    "a[0, 1] =1\n",
    "a = np.reshape(fft.idctn(a, norm='ortho'), (3,3,1,1))\n",
    "\n",
    "b = np.zeros((3,3))\n",
    "b[0, 0] =1\n",
    "b = np.reshape(fft.idctn(b, norm='ortho'), (3,3,1,1))\n",
    "\n",
    "dct_basis = a*b\n",
    "\n",
    "plt.imshow(dct_basis[..., 0,0])\n",
    "dct_basis"
   ]
  }
 ],
 "metadata": {
  "kernelspec": {
   "display_name": "masters",
   "language": "python",
   "name": "python3"
  },
  "language_info": {
   "codemirror_mode": {
    "name": "ipython",
    "version": 3
   },
   "file_extension": ".py",
   "mimetype": "text/x-python",
   "name": "python",
   "nbconvert_exporter": "python",
   "pygments_lexer": "ipython3",
   "version": "3.7.16"
  }
 },
 "nbformat": 4,
 "nbformat_minor": 2
}
