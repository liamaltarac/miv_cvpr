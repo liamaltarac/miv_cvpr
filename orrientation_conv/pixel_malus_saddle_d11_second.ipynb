{
 "cells": [
  {
   "cell_type": "code",
   "execution_count": 1,
   "metadata": {},
   "outputs": [
    {
     "name": "stderr",
     "output_type": "stream",
     "text": [
      "/tmp/ipykernel_8152/632148889.py:5: UserWarning: A NumPy version >=1.23.5 and <2.5.0 is required for this version of SciPy (detected version 1.23.0)\n",
      "  from scipy import ndimage\n",
      "2025-10-28 11:55:23.362803: I tensorflow/core/util/port.cc:113] oneDNN custom operations are on. You may see slightly different numerical results due to floating-point round-off errors from different computation orders. To turn them off, set the environment variable `TF_ENABLE_ONEDNN_OPTS=0`.\n",
      "2025-10-28 11:55:23.384335: E external/local_xla/xla/stream_executor/cuda/cuda_dnn.cc:9261] Unable to register cuDNN factory: Attempting to register factory for plugin cuDNN when one has already been registered\n",
      "2025-10-28 11:55:23.384346: E external/local_xla/xla/stream_executor/cuda/cuda_fft.cc:607] Unable to register cuFFT factory: Attempting to register factory for plugin cuFFT when one has already been registered\n",
      "2025-10-28 11:55:23.385047: E external/local_xla/xla/stream_executor/cuda/cuda_blas.cc:1515] Unable to register cuBLAS factory: Attempting to register factory for plugin cuBLAS when one has already been registered\n",
      "2025-10-28 11:55:23.388943: I tensorflow/core/platform/cpu_feature_guard.cc:182] This TensorFlow binary is optimized to use available CPU instructions in performance-critical operations.\n",
      "To enable the following instructions: AVX2 AVX512F AVX512_VNNI AVX512_BF16 FMA, in other operations, rebuild TensorFlow with the appropriate compiler flags.\n",
      "2025-10-28 11:55:23.748407: W tensorflow/compiler/tf2tensorrt/utils/py_utils.cc:38] TF-TRT Warning: Could not find TensorRT\n"
     ]
    }
   ],
   "source": [
    "import sys\n",
    "sys.path.append('../')\n",
    "\n",
    "import numpy as np\n",
    "from scipy import ndimage\n",
    "\n",
    "from skimage.filters import sobel_h\n",
    "from skimage.filters import sobel_v\n",
    "from scipy import stats\n",
    "\n",
    "\n",
    "import os\n",
    "import matplotlib\n",
    "import matplotlib.pyplot as plt\n",
    "from matplotlib import cm\n",
    "from mpl_toolkits.mplot3d import Axes3D\n",
    "from mpl_toolkits.mplot3d.proj3d import proj_transform\n",
    "from matplotlib.patches import FancyArrowPatch\n",
    "from mpl_toolkits.mplot3d import proj3d\n",
    "\n",
    "\n",
    "import scienceplots\n",
    "from tensorflow.python.client import device_lib\n",
    "\n",
    "#plt.rcParams['figure.figsize'] = [10,10]\n",
    "\n",
    "import tensorflow as tf\n",
    "from tensorflow.keras.preprocessing import image\n",
    "from tensorflow.keras.applications.vgg16 import decode_predictions\n",
    "from tensorflow.keras.applications import VGG16\n",
    "\n",
    "from tensorflow.nn import depthwise_conv2d\n",
    "from tensorflow.math import multiply, reduce_sum, reduce_mean,reduce_euclidean_norm, sin, cos, abs\n",
    "from tensorflow import stack, concat, expand_dims\n",
    "\n",
    "import tensorflow_probability as tfp\n",
    "\n",
    "from utils.utils import *\n",
    "import cv2\n",
    "\n",
    "\n",
    "from PIL import Image\n",
    "\n",
    "from scipy import ndimage, fft\n",
    "\n",
    "plt.style.use(['science', 'ieee'])\n",
    "plt.rcParams.update({'figure.dpi': '100'})"
   ]
  },
  {
   "cell_type": "markdown",
   "metadata": {},
   "source": [
    "#### Experiment #1 : Symmetric Convolution\n"
   ]
  },
  {
   "cell_type": "code",
   "execution_count": 2,
   "metadata": {},
   "outputs": [
    {
     "name": "stderr",
     "output_type": "stream",
     "text": [
      "2025-10-28 11:55:24.257488: I external/local_xla/xla/stream_executor/cuda/cuda_executor.cc:901] successful NUMA node read from SysFS had negative value (-1), but there must be at least one NUMA node, so returning NUMA node zero. See more at https://github.com/torvalds/linux/blob/v6.0/Documentation/ABI/testing/sysfs-bus-pci#L344-L355\n",
      "2025-10-28 11:55:24.294930: I external/local_xla/xla/stream_executor/cuda/cuda_executor.cc:901] successful NUMA node read from SysFS had negative value (-1), but there must be at least one NUMA node, so returning NUMA node zero. See more at https://github.com/torvalds/linux/blob/v6.0/Documentation/ABI/testing/sysfs-bus-pci#L344-L355\n",
      "2025-10-28 11:55:24.296344: I external/local_xla/xla/stream_executor/cuda/cuda_executor.cc:901] successful NUMA node read from SysFS had negative value (-1), but there must be at least one NUMA node, so returning NUMA node zero. See more at https://github.com/torvalds/linux/blob/v6.0/Documentation/ABI/testing/sysfs-bus-pci#L344-L355\n",
      "2025-10-28 11:55:24.297306: W tensorflow/core/common_runtime/gpu/gpu_device.cc:2348] TensorFlow was not built with CUDA kernel binaries compatible with compute capability 12.0. CUDA kernels will be jit-compiled from PTX, which could take 30 minutes or longer.\n",
      "2025-10-28 11:55:24.298139: I external/local_xla/xla/stream_executor/cuda/cuda_executor.cc:901] successful NUMA node read from SysFS had negative value (-1), but there must be at least one NUMA node, so returning NUMA node zero. See more at https://github.com/torvalds/linux/blob/v6.0/Documentation/ABI/testing/sysfs-bus-pci#L344-L355\n",
      "2025-10-28 11:55:24.299159: I external/local_xla/xla/stream_executor/cuda/cuda_executor.cc:901] successful NUMA node read from SysFS had negative value (-1), but there must be at least one NUMA node, so returning NUMA node zero. See more at https://github.com/torvalds/linux/blob/v6.0/Documentation/ABI/testing/sysfs-bus-pci#L344-L355\n",
      "2025-10-28 11:55:24.300158: I external/local_xla/xla/stream_executor/cuda/cuda_executor.cc:901] successful NUMA node read from SysFS had negative value (-1), but there must be at least one NUMA node, so returning NUMA node zero. See more at https://github.com/torvalds/linux/blob/v6.0/Documentation/ABI/testing/sysfs-bus-pci#L344-L355\n",
      "2025-10-28 11:55:24.301278: W tensorflow/core/common_runtime/gpu/gpu_device.cc:2348] TensorFlow was not built with CUDA kernel binaries compatible with compute capability 12.0. CUDA kernels will be jit-compiled from PTX, which could take 30 minutes or longer.\n",
      "2025-10-28 11:55:24.393812: I external/local_xla/xla/stream_executor/cuda/cuda_executor.cc:901] successful NUMA node read from SysFS had negative value (-1), but there must be at least one NUMA node, so returning NUMA node zero. See more at https://github.com/torvalds/linux/blob/v6.0/Documentation/ABI/testing/sysfs-bus-pci#L344-L355\n",
      "2025-10-28 11:55:24.394784: I external/local_xla/xla/stream_executor/cuda/cuda_executor.cc:901] successful NUMA node read from SysFS had negative value (-1), but there must be at least one NUMA node, so returning NUMA node zero. See more at https://github.com/torvalds/linux/blob/v6.0/Documentation/ABI/testing/sysfs-bus-pci#L344-L355\n",
      "2025-10-28 11:55:24.395584: I external/local_xla/xla/stream_executor/cuda/cuda_executor.cc:901] successful NUMA node read from SysFS had negative value (-1), but there must be at least one NUMA node, so returning NUMA node zero. See more at https://github.com/torvalds/linux/blob/v6.0/Documentation/ABI/testing/sysfs-bus-pci#L344-L355\n",
      "2025-10-28 11:55:24.396360: I tensorflow/core/common_runtime/gpu/gpu_device.cc:1929] Created device /job:localhost/replica:0/task:0/device:GPU:0 with 1366 MB memory:  -> device: 0, name: NVIDIA GeForce RTX 5070, pci bus id: 0000:01:00.0, compute capability: 12.0\n"
     ]
    },
    {
     "data": {
      "text/plain": [
       "TensorShape([50, 50])"
      ]
     },
     "execution_count": 2,
     "metadata": {},
     "output_type": "execute_result"
    },
    {
     "data": {
      "image/png": "[encoded data removed]",
      "text/plain": [
       "<Figure size 330x250 with 1 Axes>"
      ]
     },
     "metadata": {},
     "output_type": "display_data"
    }
   ],
   "source": [
    "'''img = np.zeros((45, 45))\n",
    "center_coordinates = (img.shape[0]//2, img.shape[1]//2) \n",
    "img = cv2.circle(img, center_coordinates, 20, (255,255,255), -1) \n",
    "plt.imshow(img)'''\n",
    "\n",
    "\n",
    "N = 50\n",
    "#img =  tf.image.rot90(tf.random.uniform(shape=(50,50,1), minval=0., maxval=1.), k=1) #\n",
    "#img = tf.image.pad_to_bounding_box(img, 25//2,25//2,N+25, N+25)[...,0]\n",
    "\n",
    "img =  tf.expand_dims(cv2.imread('input4.png', 0)/255. , axis=-1)\n",
    "H, W, C = img.shape  # Get image dimensions\n",
    "offset_height = (H - N) // 2\n",
    "offset_width = (W - N) // 2\n",
    "img = tf.image.crop_to_bounding_box(img, offset_height, offset_width, N, N)[...,0]\n",
    "plt.imshow(img)\n",
    "img.shape\n"
   ]
  },
  {
   "cell_type": "code",
   "execution_count": 3,
   "metadata": {},
   "outputs": [
    {
     "name": "stdout",
     "output_type": "stream",
     "text": [
      "(50, 50)\n"
     ]
    },
    {
     "data": {
      "image/png": "[encoded data removed]",
      "text/plain": [
       "<Figure size 330x250 with 1 Axes>"
      ]
     },
     "metadata": {},
     "output_type": "display_data"
    }
   ],
   "source": [
    "#var = 2/(128*9)\n",
    "\n",
    "fig,ax = plt.subplots(1)\n",
    "\n",
    "ax.imshow(img, cmap='gray')\n",
    "\n",
    "#img = (img-np.mean(img))/np.std(img)\n",
    "#img = tf.repeat(tf.expand_dims([img], axis=-1) , repeats = 512, axis=-1)  #get_double_slit(shape) , axis=0)\n",
    "print(img.shape)\n",
    "plt.gca().set_axis_off()\n",
    "plt.subplots_adjust(top = 1, bottom = 0, right = 1, left = 0, \n",
    "            hspace = 0, wspace = 0)\n",
    "plt.margins(0,0)\n",
    "plt.gca().xaxis.set_major_locator(plt.NullLocator())\n",
    "plt.gca().yaxis.set_major_locator(plt.NullLocator())\n",
    "plt.savefig(\"input.png\",bbox_inches='tight',   pad_inches = 0)\n"
   ]
  },
  {
   "cell_type": "code",
   "execution_count": 4,
   "metadata": {},
   "outputs": [
    {
     "data": {
      "text/plain": [
       "'img = np.random.normal(loc=0.0, scale=1.0, size=(500, 500))\\nprint(\"Original shape:\", img.shape)\\n\\n# Pad with 10 pixels of zeros on all sides\\nimg = np.pad(img, pad_width=((10, 10), (10, 10)), mode=\\'constant\\', constant_values=0)\\n\\nfig, ax = plt.subplots()\\nax.imshow(img)\\nx_min, x_max = 30, 60\\ny_min, y_max = 30, 60\\n\\nax.set_xlim(x_min, x_max)\\nax.set_ylim(y_min, y_max)\\n\\nplt.show()'"
      ]
     },
     "execution_count": 4,
     "metadata": {},
     "output_type": "execute_result"
    }
   ],
   "source": [
    "'''img = np.random.normal(loc=0.0, scale=1.0, size=(500, 500))\n",
    "print(\"Original shape:\", img.shape)\n",
    "\n",
    "# Pad with 10 pixels of zeros on all sides\n",
    "img = np.pad(img, pad_width=((10, 10), (10, 10)), mode='constant', constant_values=0)\n",
    "\n",
    "fig, ax = plt.subplots()\n",
    "ax.imshow(img)\n",
    "x_min, x_max = 30, 60\n",
    "y_min, y_max = 30, 60\n",
    "\n",
    "ax.set_xlim(x_min, x_max)\n",
    "ax.set_ylim(y_min, y_max)\n",
    "\n",
    "plt.show()'''"
   ]
  },
  {
   "cell_type": "code",
   "execution_count": 5,
   "metadata": {},
   "outputs": [
    {
     "data": {
      "text/plain": [
       "<matplotlib.image.AxesImage at 0x7f71047efbb0>"
      ]
     },
     "execution_count": 5,
     "metadata": {},
     "output_type": "execute_result"
    },
    {
     "data": {
      "image/png": "[encoded data removed]",
      "text/plain": [
       "<Figure size 330x250 with 1 Axes>"
      ]
     },
     "metadata": {},
     "output_type": "display_data"
    }
   ],
   "source": [
    "img  = np.zeros((7, 7)) # np.random.uniform(low=0, high=1, size=(50,50,10))\n",
    "img[3, 3 ]=1.\n",
    "\n",
    "plt.imshow(img)"
   ]
  },
  {
   "cell_type": "code",
   "execution_count": 6,
   "metadata": {},
   "outputs": [
    {
     "name": "stdout",
     "output_type": "stream",
     "text": [
      "tf.Tensor(1.414213562373095, shape=(), dtype=float64)\n",
      "tf.Tensor(1.4085362440129743, shape=(), dtype=float64)\n",
      "tf.Tensor(1.391734417385333, shape=(), dtype=float64)\n",
      "tf.Tensor(1.364502480412745, shape=(), dtype=float64)\n",
      "tf.Tensor(1.3280108184067063, shape=(), dtype=float64)\n",
      "tf.Tensor(1.2839237468261644, shape=(), dtype=float64)\n",
      "tf.Tensor(1.2344192796257967, shape=(), dtype=float64)\n",
      "tf.Tensor(1.1821999263946026, shape=(), dtype=float64)\n",
      "tf.Tensor(1.1304718898305754, shape=(), dtype=float64)\n",
      "tf.Tensor(1.0828525444525479, shape=(), dtype=float64)\n",
      "tf.Tensor(1.0431498978023648, shape=(), dtype=float64)\n",
      "tf.Tensor(1.0149648711197081, shape=(), dtype=float64)\n",
      "tf.Tensor(1.0011313793471155, shape=(), dtype=float64)\n",
      "tf.Tensor(1.0031353625816422, shape=(), dtype=float64)\n",
      "tf.Tensor(1.0207574497812717, shape=(), dtype=float64)\n",
      "tf.Tensor(1.0521280590444333, shape=(), dtype=float64)\n",
      "tf.Tensor(1.094164135964603, shape=(), dtype=float64)\n",
      "tf.Tensor(1.1431655335748343, shape=(), dtype=float64)\n",
      "tf.Tensor(1.1953420350942894, shape=(), dtype=float64)\n",
      "tf.Tensor(1.2471644237832098, shape=(), dtype=float64)\n",
      "tf.Tensor(1.2955474174247485, shape=(), dtype=float64)\n",
      "tf.Tensor(1.337919450036361, shape=(), dtype=float64)\n",
      "tf.Tensor(1.3722325683205048, shape=(), dtype=float64)\n",
      "tf.Tensor(1.3969478405235145, shape=(), dtype=float64)\n",
      "tf.Tensor(1.4110153608771778, shape=(), dtype=float64)\n",
      "tf.Tensor(1.413857608897, shape=(), dtype=float64)\n",
      "tf.Tensor(1.4053595834769377, shape=(), dtype=float64)\n",
      "tf.Tensor(1.3858667924499781, shape=(), dtype=float64)\n",
      "tf.Tensor(1.3561912497057944, shape=(), dtype=float64)\n",
      "tf.Tensor(1.3176249608239594, shape=(), dtype=float64)\n",
      "tf.Tensor(1.2719589096172537, shape=(), dtype=float64)\n",
      "tf.Tensor(1.2215019517309809, shape=(), dtype=float64)\n",
      "tf.Tensor(1.169086435279694, shape=(), dtype=float64)\n",
      "tf.Tensor(1.1180339887498945, shape=(), dtype=float64)\n",
      "tf.Tensor(1.0720366393677219, shape=(), dtype=float64)\n",
      "tf.Tensor(1.03489530551767, shape=(), dtype=float64)\n",
      "tf.Tensor(1.0100759937711377, shape=(), dtype=float64)\n",
      "tf.Tensor(1.0001258564842765, shape=(), dtype=float64)\n",
      "tf.Tensor(1.006123802798292, shape=(), dtype=float64)\n",
      "tf.Tensor(1.0274153374719197, shape=(), dtype=float64)\n",
      "tf.Tensor(1.061775765009789, shape=(), dtype=float64)\n",
      "tf.Tensor(1.1059113744179254, shape=(), dtype=float64)\n",
      "tf.Tensor(1.1560562349389796, shape=(), dtype=float64)\n",
      "tf.Tensor(1.2084597724258785, shape=(), dtype=float64)\n",
      "tf.Tensor(1.2596920611139315, shape=(), dtype=float64)\n",
      "tf.Tensor(1.3067928322809792, shape=(), dtype=float64)\n",
      "tf.Tensor(1.347321911624041, shape=(), dtype=float64)\n",
      "tf.Tensor(1.3793604056828401, shape=(), dtype=float64)\n",
      "tf.Tensor(1.4014934771550083, shape=(), dtype=float64)\n",
      "tf.Tensor(1.4127906449348382, shape=(), dtype=float64)\n",
      "tf.Tensor(1.4127906449348384, shape=(), dtype=float64)\n",
      "tf.Tensor(1.4014934771550085, shape=(), dtype=float64)\n",
      "tf.Tensor(1.37936040568284, shape=(), dtype=float64)\n",
      "tf.Tensor(1.347321911624041, shape=(), dtype=float64)\n",
      "tf.Tensor(1.3067928322809785, shape=(), dtype=float64)\n",
      "tf.Tensor(1.2596920611139315, shape=(), dtype=float64)\n",
      "tf.Tensor(1.208459772425878, shape=(), dtype=float64)\n",
      "tf.Tensor(1.1560562349389796, shape=(), dtype=float64)\n",
      "tf.Tensor(1.105911374417925, shape=(), dtype=float64)\n",
      "tf.Tensor(1.061775765009789, shape=(), dtype=float64)\n",
      "tf.Tensor(1.0274153374719195, shape=(), dtype=float64)\n",
      "tf.Tensor(1.006123802798292, shape=(), dtype=float64)\n",
      "tf.Tensor(1.0001258564842765, shape=(), dtype=float64)\n",
      "tf.Tensor(1.0100759937711374, shape=(), dtype=float64)\n",
      "tf.Tensor(1.0348953055176702, shape=(), dtype=float64)\n",
      "tf.Tensor(1.0720366393677219, shape=(), dtype=float64)\n",
      "tf.Tensor(1.1180339887498951, shape=(), dtype=float64)\n",
      "tf.Tensor(1.1690864352796944, shape=(), dtype=float64)\n",
      "tf.Tensor(1.221501951730981, shape=(), dtype=float64)\n",
      "tf.Tensor(1.2719589096172537, shape=(), dtype=float64)\n",
      "tf.Tensor(1.3176249608239599, shape=(), dtype=float64)\n",
      "tf.Tensor(1.3561912497057949, shape=(), dtype=float64)\n",
      "tf.Tensor(1.3858667924499781, shape=(), dtype=float64)\n",
      "tf.Tensor(1.4053595834769377, shape=(), dtype=float64)\n",
      "tf.Tensor(1.413857608897, shape=(), dtype=float64)\n",
      "tf.Tensor(1.4110153608771776, shape=(), dtype=float64)\n",
      "tf.Tensor(1.3969478405235145, shape=(), dtype=float64)\n",
      "tf.Tensor(1.372232568320505, shape=(), dtype=float64)\n",
      "tf.Tensor(1.3379194500363607, shape=(), dtype=float64)\n",
      "tf.Tensor(1.2955474174247485, shape=(), dtype=float64)\n",
      "tf.Tensor(1.2471644237832098, shape=(), dtype=float64)\n",
      "tf.Tensor(1.195342035094289, shape=(), dtype=float64)\n",
      "tf.Tensor(1.143165533574834, shape=(), dtype=float64)\n",
      "tf.Tensor(1.0941641359646028, shape=(), dtype=float64)\n",
      "tf.Tensor(1.0521280590444333, shape=(), dtype=float64)\n",
      "tf.Tensor(1.0207574497812715, shape=(), dtype=float64)\n",
      "tf.Tensor(1.0031353625816422, shape=(), dtype=float64)\n",
      "tf.Tensor(1.0011313793471155, shape=(), dtype=float64)\n",
      "tf.Tensor(1.0149648711197081, shape=(), dtype=float64)\n",
      "tf.Tensor(1.043149897802365, shape=(), dtype=float64)\n",
      "tf.Tensor(1.082852544452548, shape=(), dtype=float64)\n",
      "tf.Tensor(1.1304718898305752, shape=(), dtype=float64)\n",
      "tf.Tensor(1.1821999263946026, shape=(), dtype=float64)\n",
      "tf.Tensor(1.234419279625797, shape=(), dtype=float64)\n",
      "tf.Tensor(1.2839237468261648, shape=(), dtype=float64)\n",
      "tf.Tensor(1.3280108184067063, shape=(), dtype=float64)\n",
      "tf.Tensor(1.3645024804127457, shape=(), dtype=float64)\n",
      "tf.Tensor(1.3917344173853332, shape=(), dtype=float64)\n",
      "tf.Tensor(1.4085362440129743, shape=(), dtype=float64)\n",
      "tf.Tensor(1.414213562373095, shape=(), dtype=float64)\n"
     ]
    },
    {
     "data": {
      "image/gif": "[encoded data removed]",
      "text/plain": [
       "<IPython.core.display.Image object>"
      ]
     },
     "execution_count": 6,
     "metadata": {},
     "output_type": "execute_result"
    }
   ],
   "source": [
    "\n",
    "k = 3\n",
    "w = np.zeros((k,k,1,1))\n",
    "\n",
    "\n",
    "t1 = np.zeros((k,k))\n",
    "t2 = np.zeros((k,k))\n",
    "t3 = np.zeros((k,k))\n",
    "\n",
    "'''t1[1, 2] = 1.\n",
    "t2[2, 1] = 1.'''\n",
    "t1[1,1] = 1.\n",
    "t2[2, 0] = 1.\n",
    "t3[0, 2] = 1.\n",
    "\n",
    "\n",
    "w1 = fft.idctn(t1, norm='ortho')\n",
    "#w1 /= np.sum(np.abs(w1))\n",
    "\n",
    "w2 = fft.idctn(t2, norm='ortho') -  fft.idctn(t3, norm='ortho')\n",
    "#w2 /= np.sum(np.abs(w2))\n",
    "\n",
    "frames = []\n",
    "angles = np.linspace(-np.pi, np.pi, 100)\n",
    "\n",
    "angle0 = np.pi/8\n",
    "\n",
    "\n",
    "for angle in angles :    \n",
    "    \n",
    "    fig, ax = plt.subplots()\n",
    "\n",
    "\n",
    "    w[:,:,0,0] = (np.cos(2*angle))*w2 + ( np.sin(2*angle))*w1\n",
    "    print(tf.math.reduce_euclidean_norm(w))\n",
    "    w[:,:,0,0] = w[:,:,0,0] / (tf.math.reduce_euclidean_norm(w))\n",
    "\n",
    "\n",
    "    im = ax.imshow(w[:,:,0,0], cmap=cm.viridis, animated=True)\n",
    "    ax.axis(\"off\")\n",
    "\n",
    "    fig.canvas.draw()\n",
    "    frame = np.array(fig.canvas.renderer.buffer_rgba())\n",
    "    frames.append(Image.fromarray(frame))\n",
    "\n",
    "    plt.close(fig)  # close to avoid showing each frame in notebook\n",
    "\n",
    "frames[0].save(\"animation.gif\", save_all=True, append_images=frames[1:], duration=100, loop=0)\n",
    "from IPython.display import Image as IPyImage\n",
    "IPyImage(filename=\"animation.gif\")\n"
   ]
  },
  {
   "cell_type": "code",
   "execution_count": 7,
   "metadata": {},
   "outputs": [
    {
     "name": "stdout",
     "output_type": "stream",
     "text": [
      "tf.Tensor(1.414213562373095, shape=(), dtype=float64)\n",
      "tf.Tensor(0.9999999999999999, shape=(), dtype=float64)\n",
      "IMG tf.Tensor(1.0, shape=(), dtype=float64)\n",
      "I0, tf.Tensor(1.0, shape=(), dtype=float32)\n"
     ]
    },
    {
     "name": "stderr",
     "output_type": "stream",
     "text": [
      "2025-10-28 11:55:25.659364: I external/local_xla/xla/stream_executor/cuda/cuda_dnn.cc:454] Loaded cuDNN version 8907\n",
      "2025-10-28 11:55:25.704512: E external/local_xla/xla/stream_executor/gpu/asm_compiler.cc:115] *** WARNING *** You are using ptxas 10.1.243, which is older than 11.1. ptxas before 11.1 is known to miscompile XLA code, leading to incorrect results or invalid-address errors.\n",
      "\n",
      "2025-10-28 11:55:25.706080: W external/local_xla/xla/stream_executor/gpu/asm_compiler.cc:225] Falling back to the CUDA driver for PTX compilation; ptxas does not support CC 12.0\n",
      "2025-10-28 11:55:25.706088: W external/local_xla/xla/stream_executor/gpu/asm_compiler.cc:228] Used ptxas at ptxas\n",
      "2025-10-28 11:55:25.706123: W external/local_xla/xla/stream_executor/gpu/redzone_allocator.cc:322] UNIMPLEMENTED: ptxas ptxas too old. Falling back to the driver to compile.\n",
      "Relying on driver to perform ptx compilation. \n",
      "Modify $PATH to customize ptxas location.\n",
      "This message will be only logged once.\n",
      "2025-10-28 11:55:25.824632: E external/local_xla/xla/stream_executor/gpu/asm_compiler.cc:115] *** WARNING *** You are using ptxas 10.1.243, which is older than 11.1. ptxas before 11.1 is known to miscompile XLA code, leading to incorrect results or invalid-address errors.\n",
      "\n",
      "2025-10-28 11:55:25.826300: W tensorflow/compiler/mlir/tools/kernel_gen/transforms/gpu_kernel_to_blob_pass.cc:191] Failed to compile generated PTX with ptxas. Falling back to compilation by driver.\n"
     ]
    },
    {
     "name": "stdout",
     "output_type": "stream",
     "text": [
      "I1, tf.Tensor(0.70710677, shape=(), dtype=float32)\n",
      "tf.Tensor(1.414213562373095, shape=(), dtype=float64)\n",
      "tf.Tensor(1.4085362440129743, shape=(), dtype=float64)\n",
      "tf.Tensor(1.391734417385333, shape=(), dtype=float64)\n",
      "tf.Tensor(1.364502480412745, shape=(), dtype=float64)\n",
      "tf.Tensor(1.3280108184067063, shape=(), dtype=float64)\n",
      "tf.Tensor(1.2839237468261644, shape=(), dtype=float64)\n",
      "tf.Tensor(1.2344192796257967, shape=(), dtype=float64)\n",
      "tf.Tensor(1.1821999263946026, shape=(), dtype=float64)\n",
      "tf.Tensor(1.1304718898305754, shape=(), dtype=float64)\n",
      "tf.Tensor(1.0828525444525479, shape=(), dtype=float64)\n",
      "tf.Tensor(1.0431498978023648, shape=(), dtype=float64)\n",
      "tf.Tensor(1.0149648711197081, shape=(), dtype=float64)\n",
      "tf.Tensor(1.0011313793471155, shape=(), dtype=float64)\n",
      "tf.Tensor(1.0031353625816422, shape=(), dtype=float64)\n",
      "tf.Tensor(1.0207574497812717, shape=(), dtype=float64)\n",
      "tf.Tensor(1.0521280590444333, shape=(), dtype=float64)\n",
      "tf.Tensor(1.094164135964603, shape=(), dtype=float64)\n",
      "tf.Tensor(1.1431655335748343, shape=(), dtype=float64)\n",
      "tf.Tensor(1.1953420350942894, shape=(), dtype=float64)\n",
      "tf.Tensor(1.2471644237832098, shape=(), dtype=float64)\n",
      "tf.Tensor(1.2955474174247485, shape=(), dtype=float64)\n",
      "tf.Tensor(1.337919450036361, shape=(), dtype=float64)\n",
      "tf.Tensor(1.3722325683205048, shape=(), dtype=float64)\n",
      "tf.Tensor(1.3969478405235145, shape=(), dtype=float64)\n",
      "tf.Tensor(1.4110153608771778, shape=(), dtype=float64)\n",
      "tf.Tensor(1.413857608897, shape=(), dtype=float64)\n",
      "tf.Tensor(1.4053595834769377, shape=(), dtype=float64)\n",
      "tf.Tensor(1.3858667924499781, shape=(), dtype=float64)\n",
      "tf.Tensor(1.3561912497057944, shape=(), dtype=float64)\n",
      "tf.Tensor(1.3176249608239594, shape=(), dtype=float64)\n",
      "tf.Tensor(1.2719589096172537, shape=(), dtype=float64)\n",
      "tf.Tensor(1.2215019517309809, shape=(), dtype=float64)\n",
      "tf.Tensor(1.169086435279694, shape=(), dtype=float64)\n",
      "tf.Tensor(1.1180339887498945, shape=(), dtype=float64)\n",
      "tf.Tensor(1.0720366393677219, shape=(), dtype=float64)\n",
      "tf.Tensor(1.03489530551767, shape=(), dtype=float64)\n",
      "tf.Tensor(1.0100759937711377, shape=(), dtype=float64)\n",
      "tf.Tensor(1.0001258564842765, shape=(), dtype=float64)\n",
      "tf.Tensor(1.006123802798292, shape=(), dtype=float64)\n",
      "tf.Tensor(1.0274153374719197, shape=(), dtype=float64)\n",
      "tf.Tensor(1.061775765009789, shape=(), dtype=float64)\n",
      "tf.Tensor(1.1059113744179254, shape=(), dtype=float64)\n",
      "tf.Tensor(1.1560562349389796, shape=(), dtype=float64)\n",
      "tf.Tensor(1.2084597724258785, shape=(), dtype=float64)\n",
      "tf.Tensor(1.2596920611139315, shape=(), dtype=float64)\n",
      "tf.Tensor(1.3067928322809792, shape=(), dtype=float64)\n",
      "tf.Tensor(1.347321911624041, shape=(), dtype=float64)\n",
      "tf.Tensor(1.3793604056828401, shape=(), dtype=float64)\n",
      "tf.Tensor(1.4014934771550083, shape=(), dtype=float64)\n",
      "tf.Tensor(1.4127906449348382, shape=(), dtype=float64)\n",
      "tf.Tensor(1.4127906449348384, shape=(), dtype=float64)\n",
      "tf.Tensor(1.4014934771550085, shape=(), dtype=float64)\n",
      "tf.Tensor(1.37936040568284, shape=(), dtype=float64)\n",
      "tf.Tensor(1.347321911624041, shape=(), dtype=float64)\n",
      "tf.Tensor(1.3067928322809785, shape=(), dtype=float64)\n",
      "tf.Tensor(1.2596920611139315, shape=(), dtype=float64)\n",
      "tf.Tensor(1.208459772425878, shape=(), dtype=float64)\n",
      "tf.Tensor(1.1560562349389796, shape=(), dtype=float64)\n",
      "tf.Tensor(1.105911374417925, shape=(), dtype=float64)\n",
      "tf.Tensor(1.061775765009789, shape=(), dtype=float64)\n",
      "tf.Tensor(1.0274153374719195, shape=(), dtype=float64)\n",
      "tf.Tensor(1.006123802798292, shape=(), dtype=float64)\n",
      "tf.Tensor(1.0001258564842765, shape=(), dtype=float64)\n",
      "tf.Tensor(1.0100759937711374, shape=(), dtype=float64)\n",
      "tf.Tensor(1.0348953055176702, shape=(), dtype=float64)\n",
      "tf.Tensor(1.0720366393677219, shape=(), dtype=float64)\n",
      "tf.Tensor(1.1180339887498951, shape=(), dtype=float64)\n",
      "tf.Tensor(1.1690864352796944, shape=(), dtype=float64)\n",
      "tf.Tensor(1.221501951730981, shape=(), dtype=float64)\n",
      "tf.Tensor(1.2719589096172537, shape=(), dtype=float64)\n",
      "tf.Tensor(1.3176249608239599, shape=(), dtype=float64)\n",
      "tf.Tensor(1.3561912497057949, shape=(), dtype=float64)\n",
      "tf.Tensor(1.3858667924499781, shape=(), dtype=float64)\n",
      "tf.Tensor(1.4053595834769377, shape=(), dtype=float64)\n",
      "tf.Tensor(1.413857608897, shape=(), dtype=float64)\n",
      "tf.Tensor(1.4110153608771776, shape=(), dtype=float64)\n",
      "tf.Tensor(1.3969478405235145, shape=(), dtype=float64)\n",
      "tf.Tensor(1.372232568320505, shape=(), dtype=float64)\n",
      "tf.Tensor(1.3379194500363607, shape=(), dtype=float64)\n",
      "tf.Tensor(1.2955474174247485, shape=(), dtype=float64)\n",
      "tf.Tensor(1.2471644237832098, shape=(), dtype=float64)\n",
      "tf.Tensor(1.195342035094289, shape=(), dtype=float64)\n",
      "tf.Tensor(1.143165533574834, shape=(), dtype=float64)\n",
      "tf.Tensor(1.0941641359646028, shape=(), dtype=float64)\n",
      "tf.Tensor(1.0521280590444333, shape=(), dtype=float64)\n",
      "tf.Tensor(1.0207574497812715, shape=(), dtype=float64)\n",
      "tf.Tensor(1.0031353625816422, shape=(), dtype=float64)\n",
      "tf.Tensor(1.0011313793471155, shape=(), dtype=float64)\n",
      "tf.Tensor(1.0149648711197081, shape=(), dtype=float64)\n",
      "tf.Tensor(1.043149897802365, shape=(), dtype=float64)\n",
      "tf.Tensor(1.082852544452548, shape=(), dtype=float64)\n",
      "tf.Tensor(1.1304718898305752, shape=(), dtype=float64)\n",
      "tf.Tensor(1.1821999263946026, shape=(), dtype=float64)\n",
      "tf.Tensor(1.234419279625797, shape=(), dtype=float64)\n",
      "tf.Tensor(1.2839237468261648, shape=(), dtype=float64)\n",
      "tf.Tensor(1.3280108184067063, shape=(), dtype=float64)\n",
      "tf.Tensor(1.3645024804127457, shape=(), dtype=float64)\n",
      "tf.Tensor(1.3917344173853332, shape=(), dtype=float64)\n",
      "tf.Tensor(1.4085362440129743, shape=(), dtype=float64)\n",
      "tf.Tensor(1.414213562373095, shape=(), dtype=float64)\n"
     ]
    },
    {
     "data": {
      "image/png": "[encoded data removed]",
      "text/plain": [
       "<Figure size 330x250 with 1 Axes>"
      ]
     },
     "metadata": {},
     "output_type": "display_data"
    }
   ],
   "source": [
    "w = np.zeros((3,3,1,1))\n",
    "\n",
    "\n",
    "t1 = np.zeros((3,3))\n",
    "t2 = np.zeros((3,3))\n",
    "t3 = np.zeros((3,3))\n",
    "\n",
    "'''t1[1, 2] = 1.\n",
    "t2[2, 1] = 1.'''\n",
    "t1[1,1] = 1.\n",
    "t2[2, 0] = 1.\n",
    "t3[0, 2] = 1.\n",
    "\n",
    "\n",
    "\n",
    "w1 = fft.idctn(t1, norm='ortho')\n",
    "#w1 /= np.sum(np.abs(w1))\n",
    "\n",
    "w2 = fft.idctn(t2, norm='ortho') -  fft.idctn(t3, norm='ortho')\n",
    "#w2 /= np.sum(np.abs(w2))\n",
    "\n",
    "\n",
    "\n",
    "angle0 = 0\n",
    "\n",
    "w[:,:,0,0] = (np.cos(2*angle0))*w2 + ( np.sin(2*angle0))*w1\n",
    "\n",
    "plt.imshow(w[:,:,0,0], cmap='gray')\n",
    "\n",
    "\n",
    "print(tf.math.reduce_euclidean_norm(w))\n",
    "w[:,:,0,0] = w[:,:,0,0] / (tf.math.reduce_euclidean_norm(w))\n",
    "\n",
    "\n",
    "print(tf.math.reduce_euclidean_norm(w))\n",
    "x = img\n",
    "\n",
    "print(\"IMG\", (tf.math.reduce_euclidean_norm(img)))\n",
    "\n",
    "\n",
    "\n",
    "\n",
    "\n",
    "response_mag = []\n",
    "init_mag = tf.math.reduce_euclidean_norm(x).numpy()\n",
    "\n",
    "\n",
    "\n",
    "i0 = tf.cast(tf.repeat(tf.expand_dims([img], axis=-1) , repeats = w.shape[-2], axis=-1), dtype=tf.float32) \n",
    "\n",
    "print(\"I0,\", tf.math.reduce_euclidean_norm(i0))\n",
    "\n",
    "\n",
    "i1 = tf.nn.relu(tf.nn.conv2d(i0, w , strides=(1,1), padding='SAME') )\n",
    "\n",
    "print(\"I1,\", tf.math.reduce_euclidean_norm(i1))\n",
    "\n",
    "\n",
    "\n",
    "init_mag = tf.math.reduce_euclidean_norm(i1).numpy()\n",
    "\n",
    "angles = np.linspace(-np.pi, np.pi, 100)\n",
    "for i in range(100):\n",
    "\t#fig, ax = plt.subplots()\n",
    "\t\n",
    "\t\n",
    "\tw[:,:,0,0] = (np.cos(2*angles[i]))*w2 + ( np.sin(2*angles[i]))*w1\n",
    "\t#plt.figure()\n",
    "\t#plt.imshow(w[:,:,0,0])\n",
    "\tprint(tf.math.reduce_euclidean_norm(w))\n",
    "\n",
    "\tw[:,:,0,0] = w[:,:,0,0] / (tf.math.reduce_euclidean_norm(w))\n",
    "\t\t\n",
    "\tx_out = tf.nn.relu( tf.nn.conv2d(i1, w , strides=(1,1), \n",
    "\t\t\t\t\t\t\t\tpadding='SAME') )\n",
    "\n",
    "\tresponse_mag.append(tf.math.reduce_euclidean_norm(x_out).numpy()/init_mag)\n",
    "\n",
    "\t#print(angles[i], tf.math.reduce_euclidean_norm(x_out).numpy(), response_mag[-1])"
   ]
  },
  {
   "cell_type": "code",
   "execution_count": null,
   "metadata": {},
   "outputs": [],
   "source": []
  },
  {
   "cell_type": "code",
   "execution_count": 8,
   "metadata": {},
   "outputs": [
    {
     "data": {
      "image/png": "[encoded data removed]",
      "text/plain": [
       "<Figure size 300x300 with 1 Axes>"
      ]
     },
     "metadata": {},
     "output_type": "display_data"
    }
   ],
   "source": [
    "fig, ax= plt.subplots(1,1, figsize=(3,3))\n",
    "\n",
    "ax.plot(angles,response_mag)\n",
    "\n",
    "ticks = np.arange(-np.pi, 1.5*np.pi, np.pi/2)\n",
    "labels = [r\"$-\\pi$\", r\"$-\\pi/2$\", r\"$0$\", r\"$\\pi/2$\", r\"$\\pi$\"]\n",
    "# Set ticks and labels on the x-axis\n",
    "ax.set_xticks(ticks=ticks, labels=labels);\n",
    "ax.set_yticks(ticks=np.arange(0,1.1, 0.1));\n",
    "\n",
    "ax.set_ylabel(r\"Percent of Energy Transmitted $\\left( \\frac{||I_{2}||}{||I_{1}||} \\right)$\", fontsize=7)\n",
    "ax.set_xlabel(r\"Difference in kernel orrientation $(\\theta_2 - \\theta_1)$\", fontsize=7)\n",
    "\n",
    "plt.savefig('malus2_saddle.pdf', dpi=600)\n",
    "plt.show()\n"
   ]
  },
  {
   "cell_type": "code",
   "execution_count": 9,
   "metadata": {},
   "outputs": [
    {
     "data": {
      "image/png": "[encoded data removed]",
      "text/plain": [
       "<Figure size 330x250 with 2 Axes>"
      ]
     },
     "metadata": {},
     "output_type": "display_data"
    }
   ],
   "source": [
    "i0 = tf.cast(tf.repeat(tf.expand_dims([img], axis=-1) , repeats = w.shape[-2], axis=-1), dtype=tf.float32) \n",
    "\n",
    "fig, ax= plt.subplots(1,1)\n",
    "\n",
    "\n",
    "im =ax.imshow(i0[0,...,0])\n",
    "#ax.plot(45//2, 45, marker = '+', color='red');\n",
    "\n",
    "\n",
    "\n",
    "ax.set(xlim=(0, img.shape[0]), ylim=(0,  img.shape[1]));\n",
    "\n",
    "x_min, x_max = 30, 60\n",
    "y_min, y_max = 30, 60\n",
    "\n",
    "ax.set_xlim(x_min, x_max)\n",
    "ax.set_ylim(y_min, y_max)\n",
    "\n",
    "fig.colorbar(im, orientation='vertical');\n",
    "\n",
    "plt.gca().set_axis_off()\n",
    "plt.subplots_adjust(top = 1, bottom = 0, right = 1, left = 0, \n",
    "            hspace = 0, wspace = 0)\n",
    "plt.margins(0,0)\n",
    "plt.gca().xaxis.set_major_locator(plt.NullLocator())\n",
    "plt.gca().yaxis.set_major_locator(plt.NullLocator())\n",
    "plt.savefig(\"i0_high_order.pdf\",bbox_inches='tight',   pad_inches = 0, dpi=600)\n"
   ]
  },
  {
   "cell_type": "code",
   "execution_count": null,
   "metadata": {},
   "outputs": [],
   "source": []
  },
  {
   "cell_type": "code",
   "execution_count": 10,
   "metadata": {},
   "outputs": [
    {
     "data": {
      "text/plain": [
       "<matplotlib.image.AxesImage at 0x7f6fdf72ccd0>"
      ]
     },
     "execution_count": 10,
     "metadata": {},
     "output_type": "execute_result"
    },
    {
     "data": {
      "image/png": "[encoded data removed]",
      "text/plain": [
       "<Figure size 330x250 with 1 Axes>"
      ]
     },
     "metadata": {},
     "output_type": "display_data"
    }
   ],
   "source": [
    "\n",
    "w[:,:,0,0] = (np.cos(2*angle))*w1 + ( np.sin(2*angle))*w2\n",
    "w[:,:,0,0] = w[:,:,0,0] / (tf.math.reduce_euclidean_norm(w))\n",
    "plt.imshow(w[:,:,0,0])"
   ]
  },
  {
   "cell_type": "code",
   "execution_count": 11,
   "metadata": {},
   "outputs": [
    {
     "name": "stdout",
     "output_type": "stream",
     "text": [
      "[[ 1.22464680e-16  7.07106781e-01 -3.91979531e-17]\n",
      " [-7.07106781e-01 -5.55111512e-17 -7.07106781e-01]\n",
      " [-1.50220256e-16  7.07106781e-01  1.77975831e-16]]\n",
      "tf.Tensor(1.0, shape=(), dtype=float32)\n"
     ]
    },
    {
     "data": {
      "text/plain": [
       "<tf.Tensor: shape=(), dtype=float32, numpy=0.70710677>"
      ]
     },
     "execution_count": 11,
     "metadata": {},
     "output_type": "execute_result"
    },
    {
     "data": {
      "image/png": "[encoded data removed]",
      "text/plain": [
       "<Figure size 330x250 with 2 Axes>"
      ]
     },
     "metadata": {},
     "output_type": "display_data"
    }
   ],
   "source": [
    "angle = -np.pi\n",
    "\n",
    "w = np.zeros((3,3,1,1))\n",
    "\n",
    "w[:,:,0,0] = (np.cos(2*angle))*w2 + ( np.sin(2*angle))*w1\n",
    "print(w[:,:,0,0])\n",
    "w[:,:,0,0] = w[:,:,0,0] / (tf.math.reduce_euclidean_norm(w))\n",
    "\n",
    "\n",
    "i0 = tf.cast(tf.repeat(tf.expand_dims([img], axis=-1) , repeats = w.shape[-2], axis=-1), dtype=tf.float32) \n",
    "\n",
    "print((tf.math.reduce_euclidean_norm(i0)))\n",
    "\n",
    "i1_x = tf.nn.relu( tf.nn.conv2d(i0, w , strides=(1,1), \n",
    "\t\t\t\t\t\t\t padding='SAME') )\n",
    "\n",
    "\n",
    "fig, ax= plt.subplots(1,1)\n",
    "\n",
    "im =ax.imshow(i1[0,...,0])\n",
    "#ax.plot(45//2, 45, marker = '+', color='red');\n",
    "\n",
    "\n",
    "\n",
    "\n",
    "ax.set(xlim=(0, img.shape[0]), ylim=(0,  img.shape[1]));\n",
    "x_min, x_max = 30, 60\n",
    "y_min, y_max = 30, 60\n",
    "\n",
    "ax.set_xlim(x_min, x_max)\n",
    "ax.set_ylim(y_min, y_max)\n",
    "\n",
    "fig.colorbar(im, orientation='vertical');\n",
    "\n",
    "plt.gca().set_axis_off()\n",
    "plt.subplots_adjust(top = 1, bottom = 0, right = 1, left = 0, \n",
    "            hspace = 0, wspace = 0)\n",
    "plt.margins(0,0)\n",
    "plt.gca().xaxis.set_major_locator(plt.NullLocator())\n",
    "plt.gca().yaxis.set_major_locator(plt.NullLocator())\n",
    "plt.savefig(\"i1_high_order.pdf\",bbox_inches='tight',   pad_inches = 0, dpi=600)\n",
    "tf.math.reduce_euclidean_norm(i1)\n",
    "\n"
   ]
  },
  {
   "cell_type": "code",
   "execution_count": 12,
   "metadata": {},
   "outputs": [
    {
     "data": {
      "text/plain": [
       "<tf.Tensor: shape=(), dtype=float32, numpy=0.6123724>"
      ]
     },
     "execution_count": 12,
     "metadata": {},
     "output_type": "execute_result"
    },
    {
     "data": {
      "image/png": "[encoded data removed]",
      "text/plain": [
       "<Figure size 330x250 with 2 Axes>"
      ]
     },
     "metadata": {},
     "output_type": "display_data"
    }
   ],
   "source": [
    "angle = -np.pi\n",
    "\n",
    "w[:,:,0,0] = (np.cos(2*angle))*w2 + ( np.sin(2*angle))*w1\n",
    "w[:,:,0,0] = w[:,:,0,0] / (tf.math.reduce_euclidean_norm(w))\n",
    "\n",
    "\n",
    "\n",
    "\n",
    "i2_x = tf.nn.relu( tf.nn.conv2d(i1, w , strides=(1,1), \n",
    "\t\t\t\t\t\t\t padding='SAME') )\n",
    "\n",
    "\n",
    "fig, ax= plt.subplots(1,1)\n",
    "\n",
    "im =ax.imshow(i2_x[0,...,0])\n",
    "#ax.plot(45//2, 45, marker = '+', color='red');\n",
    "\n",
    "\n",
    "\n",
    "ax.set(xlim=(0, img.shape[0]), ylim=(0,  img.shape[1]));\n",
    "x_min, x_max = 30, 60\n",
    "y_min, y_max = 30, 60\n",
    "\n",
    "ax.set_xlim(x_min, x_max)\n",
    "ax.set_ylim(y_min, y_max)\n",
    "\n",
    "\n",
    "fig.colorbar(im, orientation='vertical');\n",
    "\n",
    "plt.gca().set_axis_off()\n",
    "plt.subplots_adjust(top = 1, bottom = 0, right = 1, left = 0, \n",
    "            hspace = 0, wspace = 0)\n",
    "plt.margins(0,0)\n",
    "plt.gca().xaxis.set_major_locator(plt.NullLocator())\n",
    "plt.gca().yaxis.set_major_locator(plt.NullLocator())\n",
    "plt.savefig(\"i2_y_high_order.pdf\",bbox_inches='tight',   pad_inches = 0, dpi=600)\n",
    "tf.math.reduce_euclidean_norm(i2_x)"
   ]
  },
  {
   "cell_type": "code",
   "execution_count": 13,
   "metadata": {},
   "outputs": [
    {
     "data": {
      "text/plain": [
       "<tf.Tensor: shape=(), dtype=float32, numpy=0.35355338>"
      ]
     },
     "execution_count": 13,
     "metadata": {},
     "output_type": "execute_result"
    },
    {
     "data": {
      "image/png": "[encoded data removed]",
      "text/plain": [
       "<Figure size 330x250 with 2 Axes>"
      ]
     },
     "metadata": {},
     "output_type": "display_data"
    }
   ],
   "source": [
    "angle = np.pi/4\n",
    "\n",
    "w[:,:,0,0] = (np.cos(2*angle))*w2 + ( np.sin(2*angle))*w1\n",
    "w[:,:,0,0] = w[:,:,0,0] / (tf.math.reduce_euclidean_norm(w))\n",
    "\n",
    "\n",
    "\n",
    "\n",
    "i2_y = tf.nn.relu( tf.nn.conv2d(i1, w , strides=(1,1), \n",
    "\t\t\t\t\t\t\t padding='SAME') )\n",
    "\n",
    "\n",
    "fig, ax= plt.subplots(1,1)\n",
    "\n",
    "im =ax.imshow(i2_y[0,...,0])\n",
    "#ax.plot(45//2, 45, marker = '+', color='red');\n",
    "\n",
    "\n",
    "\n",
    "ax.set(xlim=(0, img.shape[0]), ylim=(0,  img.shape[1]));\n",
    "x_min, x_max = 30, 60\n",
    "y_min, y_max = 30, 60\n",
    "\n",
    "ax.set_xlim(x_min, x_max)\n",
    "ax.set_ylim(y_min, y_max)\n",
    "\n",
    "\n",
    "fig.colorbar(im, orientation='vertical');\n",
    "\n",
    "plt.gca().set_axis_off()\n",
    "plt.subplots_adjust(top = 1, bottom = 0, right = 1, left = 0, \n",
    "            hspace = 0, wspace = 0)\n",
    "plt.margins(0,0)\n",
    "plt.gca().xaxis.set_major_locator(plt.NullLocator())\n",
    "plt.gca().yaxis.set_major_locator(plt.NullLocator())\n",
    "#plt.savefig(\"i2_y_high_order.pdf\",bbox_inches='tight',   pad_inches = 0, dpi=600)\n",
    "tf.math.reduce_euclidean_norm(i2_y)"
   ]
  },
  {
   "cell_type": "code",
   "execution_count": 14,
   "metadata": {},
   "outputs": [
    {
     "data": {
      "text/plain": [
       "TensorShape([1, 7, 7, 1])"
      ]
     },
     "execution_count": 14,
     "metadata": {},
     "output_type": "execute_result"
    }
   ],
   "source": [
    "i0.shape"
   ]
  },
  {
   "cell_type": "code",
   "execution_count": 15,
   "metadata": {},
   "outputs": [
    {
     "name": "stdout",
     "output_type": "stream",
     "text": [
      "I1, tf.Tensor(0.70710677, shape=(), dtype=float32)\n",
      "I2y, tf.Tensor(0.35355338, shape=(), dtype=float32)\n"
     ]
    }
   ],
   "source": [
    "print(\"I1,\", tf.math.reduce_euclidean_norm(i1))\n",
    "print(\"I2y,\", tf.math.reduce_euclidean_norm(i2_y))"
   ]
  },
  {
   "cell_type": "code",
   "execution_count": 16,
   "metadata": {},
   "outputs": [
    {
     "data": {
      "image/png": "[encoded data removed]",
      "text/plain": [
       "<Figure size 800x700 with 8 Axes>"
      ]
     },
     "metadata": {},
     "output_type": "display_data"
    }
   ],
   "source": [
    "fig, axs = plt.subplots(2, 2, figsize=(8, 7))\n",
    "title_fontsize = 16  # Adjust as needed\n",
    "\n",
    "# Top-left\n",
    "im0 = axs[0, 0].imshow(i0[0,...,0].numpy(), cmap='viridis')\n",
    "axs[0, 0].set_title(r'Input', fontsize=title_fontsize)\n",
    "fig.colorbar(im0, ax=axs[0, 0], fraction=0.046, pad=0.04)\n",
    "#ax.set(xlim=(0, img.shape[0]), ylim=(0,  img.shape[1]));\n",
    "\n",
    "\n",
    "\n",
    "#fig.colorbar(im, orientation='vertical');\n",
    "\n",
    "\n",
    "# Top-right\n",
    "im1 = axs[0, 1].imshow(i1_x[0,...,0].numpy(), cmap='viridis')\n",
    "axs[0, 1].set_title(r'$I_1 = \\mathrm{ReLU}(I_0 * (D_{2,0}-D_{0,2}))$', fontsize=title_fontsize)\n",
    "fig.colorbar(im1, ax=axs[0, 1], fraction=0.046, pad=0.04)\n",
    "\n",
    "# Bottom-left\n",
    "im2 = axs[1, 0].imshow(i2_x[0,...,0].numpy(), cmap='viridis')\n",
    "axs[1, 0].set_title(r'$I_2 = \\mathrm{ReLU}(I_1 *  (D_{2,0}-D_{0,2}))$', fontsize=title_fontsize)\n",
    "fig.colorbar(im2, ax=axs[1, 0], fraction=0.046, pad=0.04)\n",
    "\n",
    "vmin = i2_x[0,...,0].numpy().min()\n",
    "vmax = i2_x[0,...,0].numpy().max()\n",
    "\n",
    "\n",
    "# Bottom-right\n",
    "im3 = axs[1, 1].imshow(\n",
    "    i2_y[0,...,0].numpy(), \n",
    "    cmap='viridis', \n",
    "    vmin=vmin, \n",
    "    vmax=vmax\n",
    ")\n",
    "axs[1, 1].set_title(r'$I_2 = \\mathrm{ReLU}(I_1 * D_{1,1})$', fontsize=title_fontsize)\n",
    "fig.colorbar(im2, ax=axs[1, 1], fraction=0.046, pad=0.04)\n",
    "\n",
    "# Optional: tighten layout and remove axis ticks\n",
    "for ax in axs.flat:\n",
    "    ax.set_xticks([])\n",
    "    ax.set_yticks([])\n",
    "\n",
    "fig.tight_layout()\n",
    "fig.savefig(\"malus_saddle_pixel_d11_second.pdf\", dpi=600)\n",
    "\n",
    "plt.show()\n",
    "\n",
    "\n"
   ]
  },
  {
   "cell_type": "code",
   "execution_count": 17,
   "metadata": {},
   "outputs": [
    {
     "data": {
      "text/plain": [
       "(0.5, 0.5)"
      ]
     },
     "execution_count": 17,
     "metadata": {},
     "output_type": "execute_result"
    }
   ],
   "source": [
    "np.max(i1_x), np.max(i2_x)"
   ]
  },
  {
   "cell_type": "code",
   "execution_count": 18,
   "metadata": {},
   "outputs": [
    {
     "data": {
      "text/plain": [
       "0.0"
      ]
     },
     "execution_count": 18,
     "metadata": {},
     "output_type": "execute_result"
    }
   ],
   "source": [
    "np.sum(w)"
   ]
  },
  {
   "cell_type": "code",
   "execution_count": 19,
   "metadata": {},
   "outputs": [
    {
     "data": {
      "text/plain": [
       "0.5"
      ]
     },
     "execution_count": 19,
     "metadata": {},
     "output_type": "execute_result"
    }
   ],
   "source": [
    "np.max(tf.nn.conv2d(i0, w , strides=(1,1), padding='SAME'))"
   ]
  },
  {
   "cell_type": "code",
   "execution_count": 20,
   "metadata": {},
   "outputs": [
    {
     "data": {
      "text/plain": [
       "0.25"
      ]
     },
     "execution_count": 20,
     "metadata": {},
     "output_type": "execute_result"
    }
   ],
   "source": [
    "np.max(tf.nn.conv2d(i1, w , strides=(1,1), padding='SAME'))"
   ]
  },
  {
   "cell_type": "code",
   "execution_count": 21,
   "metadata": {},
   "outputs": [
    {
     "name": "stderr",
     "output_type": "stream",
     "text": [
      "/tmp/ipykernel_8152/3794864717.py:34: MatplotlibDeprecationWarning: The tostring_rgb function was deprecated in Matplotlib 3.8 and will be removed in 3.10. Use buffer_rgba instead.\n",
      "  img = np.frombuffer(canvas.tostring_rgb(), dtype='uint8')\n"
     ]
    },
    {
     "data": {
      "image/png": "[encoded data removed]",
      "text/plain": [
       "<Figure size 300x300 with 1 Axes>"
      ]
     },
     "metadata": {},
     "output_type": "display_data"
    }
   ],
   "source": [
    "from matplotlib.offsetbox import OffsetImage, AnnotationBbox, TextArea, VPacker\n",
    "from matplotlib.backends.backend_agg import FigureCanvasAgg as FigureCanvas\n",
    "\n",
    "def render_patch_with_border(patch, border_color='black', border_width=1, zoom=1.0):\n",
    "\t\"\"\"\n",
    "\tRenders a patch using imshow-style with a border and returns it as an OffsetImage.\n",
    "\t\"\"\"\n",
    "\t# Create a tiny figure to render the patch using imshow\n",
    "\tfig, ax = plt.subplots(figsize=(1, 1), dpi=100)\n",
    "\tcanvas = FigureCanvas(fig)\n",
    "\n",
    "\tax.imshow(patch, cmap='gray', interpolation='none')\n",
    "\tax.tick_params(left=False, bottom=False, labelleft=False, labelbottom=False)\n",
    "\n",
    "\n",
    "\tfor spine in ax.spines.values():\n",
    "\t\tspine.set_visible(True)\n",
    "\t\tspine.set_linewidth(1)\n",
    "\t\tspine.set_color('black')\n",
    "\n",
    "\t# Make sure spines are drawn on top of the image\n",
    "\tax.set_frame_on(True)\n",
    "\t# Add rectangle border\n",
    "\t'''h, w = patch.shape\n",
    "\tax.add_patch(plt.Rectangle(\n",
    "\t\t(-0.5, -0.5), w, h,\n",
    "\t\tedgecolor=border_color,\n",
    "\t\tfacecolor='none',\n",
    "\t\tlinewidth=border_width\n",
    "\t))'''\n",
    "\n",
    "\t# Render to array\n",
    "\tcanvas.draw()\n",
    "\timg = np.frombuffer(canvas.tostring_rgb(), dtype='uint8')\n",
    "\timg = img.reshape(canvas.get_width_height()[::-1] + (3,))\n",
    "\n",
    "\tplt.close(fig)\n",
    "\treturn OffsetImage(img, zoom=zoom)\n",
    "\n",
    "# Function to place image on the curve\n",
    "\n",
    "def add_patch_with_label(ax, x, y, patch, label):\n",
    "\t# Create rendered image with border\n",
    "\timagebox = render_patch_with_border(patch, border_color='black', border_width=2, zoom=0.2)\n",
    "\n",
    "\t# Create label\n",
    "\ttextbox = TextArea(label, textprops={\n",
    "\t\t'fontsize': 7,\n",
    "\t\t'ha': 'center',\n",
    "\t\t'va': 'center',\n",
    "\t\t'bbox': dict(facecolor='white', edgecolor='none', boxstyle='round,pad=0.1')\n",
    "\t})\n",
    "\n",
    "\t# Stack vertically\n",
    "\tvpack = VPacker(children=[textbox, imagebox], align=\"center\", pad=0, sep=3)\n",
    "\tab = AnnotationBbox(vpack, (x, y), frameon=False, box_alignment=(0.5, 0.5))\n",
    "\n",
    "\tax.add_artist(ab)\n",
    "\n",
    "\n",
    "fig, ax= plt.subplots(1,1, figsize=(3,3))\n",
    "\n",
    "ax.plot(angles,response_mag)\n",
    "\n",
    "ticks = np.arange(-np.pi, 1.5*np.pi, np.pi/2)\n",
    "labels = [r\"$-\\pi$\", r\"$-\\pi/2$\", r\"$0$\", r\"$\\pi/2$\", r\"$\\pi$\"]\n",
    "# Set ticks and labels on the x-axis\n",
    "ax.set_xticks(ticks=ticks, labels=labels);\n",
    "ax.set_yticks(ticks=np.arange(0,1.1, 0.1));\n",
    "\n",
    "ax.set_ylabel(r\"Percent of Energy Transmitted $\\left( \\frac{||I_{2}||}{||I_{1}||} \\right)$\", fontsize=10)\n",
    "ax.set_xlabel(r\"Difference in kernel orrientation $(\\theta_2 - \\theta_1)$\", fontsize=10)\n",
    "\n",
    "# Locations along curve\n",
    "x1, y1 = -np.pi/4, response_mag[len(response_mag)//8]  # for dy\n",
    "x2, y2 = np.pi, response_mag[-1]     # for dx\n",
    "w[:,:,0,0] = (np.cos(2*np.pi))*w2 + ( np.sin(2*np.pi))*w1\n",
    "dx_kernel = w[:,:,0,0]\n",
    "add_patch_with_label(ax, x2+0.05, y2+0.1, dx_kernel, r'$I_2 = \\mathrm{ReLU}(I_1 * D_{1,1})$')\n",
    "\n",
    "\n",
    "\n",
    "w[:,:,0,0] = (np.cos(2*np.pi/4))*w2 + ( np.sin(2*np.pi/4))*w1\n",
    "\n",
    "dy_kernel = w[:,:,0,0]\n",
    "\n",
    "add_patch_with_label(ax, x1,  y1-0.09, dy_kernel, r'$I_2 = \\mathrm{ReLU}(I_1 * (D_{0,2} - D_{2,0}))$')\n",
    "\n",
    "\n",
    "w[:,:,0,0] = (np.cos(2*np.pi/2))*w2 + ( np.sin(2*np.pi/2))*w1\n",
    "\n",
    "dy_kernel = w[:,:,0,0]\n",
    "x3, y3 = -np.pi/2, response_mag[-1]     # for dx\n",
    "\n",
    "add_patch_with_label(ax, x3,  y3-0.05, dy_kernel, r'$I_2 = \\mathrm{ReLU}(I_1 * -D_{1,1})$')\n",
    "\n",
    "\n",
    "\n",
    "plt.savefig('malus_curve_pixel_saddle_d11_second.pdf', dpi=600)\n",
    "plt.show()\n"
   ]
  },
  {
   "cell_type": "code",
   "execution_count": 22,
   "metadata": {},
   "outputs": [
    {
     "data": {
      "text/plain": [
       "<matplotlib.image.AxesImage at 0x7f6fdf2d1000>"
      ]
     },
     "execution_count": 22,
     "metadata": {},
     "output_type": "execute_result"
    },
    {
     "data": {
      "image/png": "[encoded data removed]",
      "text/plain": [
       "<Figure size 330x250 with 1 Axes>"
      ]
     },
     "metadata": {},
     "output_type": "display_data"
    }
   ],
   "source": [
    "plt.imshow((np.cos(2*np.pi))*w1 + ( np.sin(2*np.pi))*w2) \n"
   ]
  },
  {
   "cell_type": "code",
   "execution_count": null,
   "metadata": {},
   "outputs": [],
   "source": []
  },
  {
   "cell_type": "code",
   "execution_count": 23,
   "metadata": {},
   "outputs": [
    {
     "data": {
      "text/plain": [
       "<matplotlib.image.AxesImage at 0x7f6fdf295cc0>"
      ]
     },
     "execution_count": 23,
     "metadata": {},
     "output_type": "execute_result"
    },
    {
     "data": {
      "image/png": "[encoded data removed]",
      "text/plain": [
       "<Figure size 330x250 with 1 Axes>"
      ]
     },
     "metadata": {},
     "output_type": "display_data"
    }
   ],
   "source": [
    "plt.imshow((np.cos(2*np.pi/2))*w1 + ( np.sin(2*np.pi/2))*w2) \n"
   ]
  },
  {
   "cell_type": "code",
   "execution_count": 24,
   "metadata": {},
   "outputs": [
    {
     "data": {
      "text/plain": [
       "<matplotlib.image.AxesImage at 0x7f70846eb3a0>"
      ]
     },
     "execution_count": 24,
     "metadata": {},
     "output_type": "execute_result"
    },
    {
     "data": {
      "image/png": "[encoded data removed]",
      "text/plain": [
       "<Figure size 330x250 with 1 Axes>"
      ]
     },
     "metadata": {},
     "output_type": "display_data"
    }
   ],
   "source": [
    "plt.imshow((np.cos(2*np.pi/4))*w2 + ( np.sin(2*np.pi/4))*w1)"
   ]
  },
  {
   "cell_type": "code",
   "execution_count": 25,
   "metadata": {},
   "outputs": [
    {
     "name": "stdout",
     "output_type": "stream",
     "text": [
      "tf.Tensor(1.0, shape=(), dtype=float64)\n",
      "tf.Tensor(1.0, shape=(), dtype=float64)\n"
     ]
    }
   ],
   "source": [
    "a = np.pi\n",
    "w[:,:,0,0] = (np.cos(a))*w1 + ( np.sin(a))*w2\n",
    "\n",
    "print((tf.math.reduce_euclidean_norm(w)))\n",
    "\n",
    "w[:,:,0,0] = w[:,:,0,0] / (tf.math.reduce_euclidean_norm(w))\n",
    "print((tf.math.reduce_euclidean_norm(w)))\n",
    "\n"
   ]
  },
  {
   "cell_type": "code",
   "execution_count": 26,
   "metadata": {},
   "outputs": [
    {
     "data": {
      "text/plain": [
       "<matplotlib.image.AxesImage at 0x7f708473fdf0>"
      ]
     },
     "execution_count": 26,
     "metadata": {},
     "output_type": "execute_result"
    },
    {
     "data": {
      "image/png": "[encoded data removed]",
      "text/plain": [
       "<Figure size 330x250 with 1 Axes>"
      ]
     },
     "metadata": {},
     "output_type": "display_data"
    }
   ],
   "source": [
    "w[:,:,0,0] = (np.cos(np.pi/2))*w1 + ( np.sin(np.pi/2))*w2\n",
    "\n",
    "\n",
    "\n",
    "\n",
    "\n",
    "p = plt.imshow(w[:,:,0,0], cmap='gray')\n",
    "plt.axis('off')\n",
    "p\n"
   ]
  },
  {
   "cell_type": "code",
   "execution_count": 27,
   "metadata": {},
   "outputs": [
    {
     "data": {
      "text/plain": [
       "array([[[[ 0.13608276]],\n",
       "\n",
       "        [[ 0.        ]],\n",
       "\n",
       "        [[-0.13608276]]],\n",
       "\n",
       "\n",
       "       [[[ 0.13608276]],\n",
       "\n",
       "        [[ 0.        ]],\n",
       "\n",
       "        [[-0.13608276]]],\n",
       "\n",
       "\n",
       "       [[[ 0.13608276]],\n",
       "\n",
       "        [[ 0.        ]],\n",
       "\n",
       "        [[-0.13608276]]]])"
      ]
     },
     "execution_count": 27,
     "metadata": {},
     "output_type": "execute_result"
    },
    {
     "data": {
      "image/png": "[encoded data removed]",
      "text/plain": [
       "<Figure size 330x250 with 1 Axes>"
      ]
     },
     "metadata": {},
     "output_type": "display_data"
    }
   ],
   "source": [
    "a = np.zeros((3,3))\n",
    "a[0, 1] =1\n",
    "a = np.reshape(fft.idctn(a, norm='ortho'), (3,3,1,1))\n",
    "\n",
    "b = np.zeros((3,3))\n",
    "b[0, 0] =1\n",
    "b = np.reshape(fft.idctn(b, norm='ortho'), (3,3,1,1))\n",
    "\n",
    "dct_basis = a*b\n",
    "\n",
    "plt.imshow(dct_basis[..., 0,0])\n",
    "dct_basis"
   ]
  }
 ],
 "metadata": {
  "kernelspec": {
   "display_name": "lam",
   "language": "python",
   "name": "python3"
  },
  "language_info": {
   "codemirror_mode": {
    "name": "ipython",
    "version": 3
   },
   "file_extension": ".py",
   "mimetype": "text/x-python",
   "name": "python",
   "nbconvert_exporter": "python",
   "pygments_lexer": "ipython3",
   "version": "3.10.16"
  }
 },
 "nbformat": 4,
 "nbformat_minor": 2
}
