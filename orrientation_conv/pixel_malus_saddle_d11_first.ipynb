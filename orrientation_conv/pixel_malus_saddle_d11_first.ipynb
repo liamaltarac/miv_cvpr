{
 "cells": [
  {
   "cell_type": "code",
   "execution_count": 28,
   "metadata": {},
   "outputs": [],
   "source": [
    "import sys\n",
    "sys.path.append('../')\n",
    "\n",
    "import numpy as np\n",
    "from scipy import ndimage\n",
    "\n",
    "from skimage.filters import sobel_h\n",
    "from skimage.filters import sobel_v\n",
    "from scipy import stats\n",
    "\n",
    "\n",
    "import os\n",
    "import matplotlib\n",
    "import matplotlib.pyplot as plt\n",
    "from matplotlib import cm\n",
    "from mpl_toolkits.mplot3d import Axes3D\n",
    "from mpl_toolkits.mplot3d.proj3d import proj_transform\n",
    "from matplotlib.patches import FancyArrowPatch\n",
    "from mpl_toolkits.mplot3d import proj3d\n",
    "\n",
    "\n",
    "import scienceplots\n",
    "from tensorflow.python.client import device_lib\n",
    "\n",
    "#plt.rcParams['figure.figsize'] = [10,10]\n",
    "\n",
    "import tensorflow as tf\n",
    "from tensorflow.keras.preprocessing import image\n",
    "from tensorflow.keras.applications.vgg16 import decode_predictions\n",
    "from tensorflow.keras.applications import VGG16\n",
    "\n",
    "from tensorflow.nn import depthwise_conv2d\n",
    "from tensorflow.math import multiply, reduce_sum, reduce_mean,reduce_euclidean_norm, sin, cos, abs\n",
    "from tensorflow import stack, concat, expand_dims\n",
    "\n",
    "import tensorflow_probability as tfp\n",
    "\n",
    "from utils.utils import *\n",
    "import cv2\n",
    "\n",
    "\n",
    "from PIL import Image\n",
    "\n",
    "from scipy import ndimage, fft\n",
    "\n",
    "plt.style.use(['science', 'ieee'])\n",
    "plt.rcParams.update({'figure.dpi': '100'})"
   ]
  },
  {
   "cell_type": "markdown",
   "metadata": {},
   "source": [
    "#### Experiment #1 : Symmetric Convolution\n"
   ]
  },
  {
   "cell_type": "code",
   "execution_count": 29,
   "metadata": {},
   "outputs": [
    {
     "data": {
      "text/plain": [
       "TensorShape([50, 50])"
      ]
     },
     "execution_count": 29,
     "metadata": {},
     "output_type": "execute_result"
    },
    {
     "data": {
      "image/png": "[encoded data removed]",
      "text/plain": [
       "<Figure size 330x250 with 1 Axes>"
      ]
     },
     "metadata": {},
     "output_type": "display_data"
    }
   ],
   "source": [
    "'''img = np.zeros((45, 45))\n",
    "center_coordinates = (img.shape[0]//2, img.shape[1]//2) \n",
    "img = cv2.circle(img, center_coordinates, 20, (255,255,255), -1) \n",
    "plt.imshow(img)'''\n",
    "\n",
    "\n",
    "N = 50\n",
    "#img =  tf.image.rot90(tf.random.uniform(shape=(50,50,1), minval=0., maxval=1.), k=1) #\n",
    "#img = tf.image.pad_to_bounding_box(img, 25//2,25//2,N+25, N+25)[...,0]\n",
    "\n",
    "img =  tf.expand_dims(cv2.imread('input4.png', 0)/255. , axis=-1)\n",
    "H, W, C = img.shape  # Get image dimensions\n",
    "offset_height = (H - N) // 2\n",
    "offset_width = (W - N) // 2\n",
    "img = tf.image.crop_to_bounding_box(img, offset_height, offset_width, N, N)[...,0]\n",
    "plt.imshow(img)\n",
    "img.shape\n"
   ]
  },
  {
   "cell_type": "code",
   "execution_count": 30,
   "metadata": {},
   "outputs": [
    {
     "name": "stdout",
     "output_type": "stream",
     "text": [
      "(50, 50)\n"
     ]
    },
    {
     "data": {
      "image/png": "[encoded data removed]",
      "text/plain": [
       "<Figure size 330x250 with 1 Axes>"
      ]
     },
     "metadata": {},
     "output_type": "display_data"
    }
   ],
   "source": [
    "#var = 2/(128*9)\n",
    "\n",
    "fig,ax = plt.subplots(1)\n",
    "\n",
    "ax.imshow(img, cmap='gray')\n",
    "\n",
    "#img = (img-np.mean(img))/np.std(img)\n",
    "#img = tf.repeat(tf.expand_dims([img], axis=-1) , repeats = 512, axis=-1)  #get_double_slit(shape) , axis=0)\n",
    "print(img.shape)\n",
    "plt.gca().set_axis_off()\n",
    "plt.subplots_adjust(top = 1, bottom = 0, right = 1, left = 0, \n",
    "            hspace = 0, wspace = 0)\n",
    "plt.margins(0,0)\n",
    "plt.gca().xaxis.set_major_locator(plt.NullLocator())\n",
    "plt.gca().yaxis.set_major_locator(plt.NullLocator())\n",
    "plt.savefig(\"input.png\",bbox_inches='tight',   pad_inches = 0)\n"
   ]
  },
  {
   "cell_type": "code",
   "execution_count": 31,
   "metadata": {},
   "outputs": [
    {
     "data": {
      "text/plain": [
       "'img = np.random.normal(loc=0.0, scale=1.0, size=(500, 500))\\nprint(\"Original shape:\", img.shape)\\n\\n# Pad with 10 pixels of zeros on all sides\\nimg = np.pad(img, pad_width=((10, 10), (10, 10)), mode=\\'constant\\', constant_values=0)\\n\\nfig, ax = plt.subplots()\\nax.imshow(img)\\nx_min, x_max = 30, 60\\ny_min, y_max = 30, 60\\n\\nax.set_xlim(x_min, x_max)\\nax.set_ylim(y_min, y_max)\\n\\nplt.show()'"
      ]
     },
     "execution_count": 31,
     "metadata": {},
     "output_type": "execute_result"
    }
   ],
   "source": [
    "'''img = np.random.normal(loc=0.0, scale=1.0, size=(500, 500))\n",
    "print(\"Original shape:\", img.shape)\n",
    "\n",
    "# Pad with 10 pixels of zeros on all sides\n",
    "img = np.pad(img, pad_width=((10, 10), (10, 10)), mode='constant', constant_values=0)\n",
    "\n",
    "fig, ax = plt.subplots()\n",
    "ax.imshow(img)\n",
    "x_min, x_max = 30, 60\n",
    "y_min, y_max = 30, 60\n",
    "\n",
    "ax.set_xlim(x_min, x_max)\n",
    "ax.set_ylim(y_min, y_max)\n",
    "\n",
    "plt.show()'''"
   ]
  },
  {
   "cell_type": "code",
   "execution_count": 32,
   "metadata": {},
   "outputs": [
    {
     "data": {
      "text/plain": [
       "<matplotlib.image.AxesImage at 0x7f98045cbbe0>"
      ]
     },
     "execution_count": 32,
     "metadata": {},
     "output_type": "execute_result"
    },
    {
     "data": {
      "image/png": "[encoded data removed]",
      "text/plain": [
       "<Figure size 330x250 with 1 Axes>"
      ]
     },
     "metadata": {},
     "output_type": "display_data"
    }
   ],
   "source": [
    "img  = np.zeros((7, 7)) # np.random.uniform(low=0, high=1, size=(50,50,10))\n",
    "img[3, 3 ]=1.\n",
    "\n",
    "plt.imshow(img)"
   ]
  },
  {
   "cell_type": "code",
   "execution_count": 33,
   "metadata": {},
   "outputs": [
    {
     "name": "stdout",
     "output_type": "stream",
     "text": [
      "tf.Tensor(1.0, shape=(), dtype=float64)\n",
      "tf.Tensor(1.0079809766567134, shape=(), dtype=float64)\n",
      "tf.Tensor(1.031055435689618, shape=(), dtype=float64)\n",
      "tf.Tensor(1.066833155159449, shape=(), dtype=float64)\n",
      "tf.Tensor(1.111929523933396, shape=(), dtype=float64)\n",
      "tf.Tensor(1.1625574447466511, shape=(), dtype=float64)\n",
      "tf.Tensor(1.2149934329403302, shape=(), dtype=float64)\n",
      "tf.Tensor(1.2658607087798388, shape=(), dtype=float64)\n",
      "tf.Tensor(1.3122626666574364, shape=(), dtype=float64)\n",
      "tf.Tensor(1.3518248285087244, shape=(), dtype=float64)\n",
      "tf.Tensor(1.3826924063995274, shape=(), dtype=float64)\n",
      "tf.Tensor(1.4035121340383752, shape=(), dtype=float64)\n",
      "tf.Tensor(1.4134128771475596, shape=(), dtype=float64)\n",
      "tf.Tensor(1.4119913046255619, shape=(), dtype=float64)\n",
      "tf.Tensor(1.399304909130256, shape=(), dtype=float64)\n",
      "tf.Tensor(1.3758730128072842, shape=(), dtype=float64)\n",
      "tf.Tensor(1.3426856830877556, shape=(), dtype=float64)\n",
      "tf.Tensor(1.3012196443516229, shape=(), dtype=float64)\n",
      "tf.Tensor(1.2534581840399155, shape=(), dtype=float64)\n",
      "tf.Tensor(1.2019071927771687, shape=(), dtype=float64)\n",
      "tf.Tensor(1.1495898786976437, shape=(), dtype=float64)\n",
      "tf.Tensor(1.0999870659305047, shape=(), dtype=float64)\n",
      "tf.Tensor(1.0568716944078458, shape=(), dtype=float64)\n",
      "tf.Tensor(1.0239808254340945, shape=(), dtype=float64)\n",
      "tf.Tensor(1.0045076661572307, shape=(), dtype=float64)\n",
      "tf.Tensor(1.0005032042747581, shape=(), dtype=float64)\n",
      "tf.Tensor(1.0124052751391248, shape=(), dtype=float64)\n",
      "tf.Tensor(1.0389288876455451, shape=(), dtype=float64)\n",
      "tf.Tensor(1.077378900026093, shape=(), dtype=float64)\n",
      "tf.Tensor(1.1242172666409542, shape=(), dtype=float64)\n",
      "tf.Tensor(1.1756362244526521, shape=(), dtype=float64)\n",
      "tf.Tensor(1.2279792269893672, shape=(), dtype=float64)\n",
      "tf.Tensor(1.2779815753151598, shape=(), dtype=float64)\n",
      "tf.Tensor(1.3228756555322954, shape=(), dtype=float64)\n",
      "tf.Tensor(1.3604181136155016, shape=(), dtype=float64)\n",
      "tf.Tensor(1.388881458806866, shape=(), dtype=float64)\n",
      "tf.Tensor(1.4070346430728875, shape=(), dtype=float64)\n",
      "tf.Tensor(1.4141245599987269, shape=(), dtype=float64)\n",
      "tf.Tensor(1.4098634307771454, shape=(), dtype=float64)\n",
      "tf.Tensor(1.3944237965293986, shape=(), dtype=float64)\n",
      "tf.Tensor(1.3684415313917788, shape=(), dtype=float64)\n",
      "tf.Tensor(1.3330266433695368, shape=(), dtype=float64)\n",
      "tf.Tensor(1.2897805943875535, shape=(), dtype=float64)\n",
      "tf.Tensor(1.2408162549017456, shape=(), dtype=float64)\n",
      "tf.Tensor(1.1887707563557133, shape=(), dtype=float64)\n",
      "tf.Tensor(1.136790435172225, shape=(), dtype=float64)\n",
      "tf.Tensor(1.08845012125395, shape=(), dtype=float64)\n",
      "tf.Tensor(1.0475518465615297, shape=(), dtype=float64)\n",
      "tf.Tensor(1.01775047702861, shape=(), dtype=float64)\n",
      "tf.Tensor(1.0020092781928729, shape=(), dtype=float64)\n",
      "tf.Tensor(1.0020092781928729, shape=(), dtype=float64)\n",
      "tf.Tensor(1.0177504770286103, shape=(), dtype=float64)\n",
      "tf.Tensor(1.0475518465615299, shape=(), dtype=float64)\n",
      "tf.Tensor(1.08845012125395, shape=(), dtype=float64)\n",
      "tf.Tensor(1.1367904351722251, shape=(), dtype=float64)\n",
      "tf.Tensor(1.1887707563557135, shape=(), dtype=float64)\n",
      "tf.Tensor(1.240816254901746, shape=(), dtype=float64)\n",
      "tf.Tensor(1.2897805943875535, shape=(), dtype=float64)\n",
      "tf.Tensor(1.3330266433695368, shape=(), dtype=float64)\n",
      "tf.Tensor(1.3684415313917788, shape=(), dtype=float64)\n",
      "tf.Tensor(1.3944237965293989, shape=(), dtype=float64)\n",
      "tf.Tensor(1.4098634307771454, shape=(), dtype=float64)\n",
      "tf.Tensor(1.4141245599987269, shape=(), dtype=float64)\n",
      "tf.Tensor(1.4070346430728875, shape=(), dtype=float64)\n",
      "tf.Tensor(1.388881458806866, shape=(), dtype=float64)\n",
      "tf.Tensor(1.3604181136155018, shape=(), dtype=float64)\n",
      "tf.Tensor(1.3228756555322947, shape=(), dtype=float64)\n",
      "tf.Tensor(1.2779815753151595, shape=(), dtype=float64)\n",
      "tf.Tensor(1.2279792269893672, shape=(), dtype=float64)\n",
      "tf.Tensor(1.1756362244526521, shape=(), dtype=float64)\n",
      "tf.Tensor(1.1242172666409538, shape=(), dtype=float64)\n",
      "tf.Tensor(1.0773789000260927, shape=(), dtype=float64)\n",
      "tf.Tensor(1.0389288876455451, shape=(), dtype=float64)\n",
      "tf.Tensor(1.012405275139125, shape=(), dtype=float64)\n",
      "tf.Tensor(1.0005032042747581, shape=(), dtype=float64)\n",
      "tf.Tensor(1.0045076661572305, shape=(), dtype=float64)\n",
      "tf.Tensor(1.0239808254340945, shape=(), dtype=float64)\n",
      "tf.Tensor(1.0568716944078456, shape=(), dtype=float64)\n",
      "tf.Tensor(1.0999870659305049, shape=(), dtype=float64)\n",
      "tf.Tensor(1.1495898786976442, shape=(), dtype=float64)\n",
      "tf.Tensor(1.2019071927771687, shape=(), dtype=float64)\n",
      "tf.Tensor(1.253458184039916, shape=(), dtype=float64)\n",
      "tf.Tensor(1.301219644351623, shape=(), dtype=float64)\n",
      "tf.Tensor(1.3426856830877554, shape=(), dtype=float64)\n",
      "tf.Tensor(1.3758730128072842, shape=(), dtype=float64)\n",
      "tf.Tensor(1.3993049091302563, shape=(), dtype=float64)\n",
      "tf.Tensor(1.4119913046255619, shape=(), dtype=float64)\n",
      "tf.Tensor(1.4134128771475596, shape=(), dtype=float64)\n",
      "tf.Tensor(1.4035121340383752, shape=(), dtype=float64)\n",
      "tf.Tensor(1.3826924063995276, shape=(), dtype=float64)\n",
      "tf.Tensor(1.351824828508724, shape=(), dtype=float64)\n",
      "tf.Tensor(1.3122626666574364, shape=(), dtype=float64)\n",
      "tf.Tensor(1.2658607087798388, shape=(), dtype=float64)\n",
      "tf.Tensor(1.2149934329403298, shape=(), dtype=float64)\n",
      "tf.Tensor(1.1625574447466507, shape=(), dtype=float64)\n",
      "tf.Tensor(1.111929523933396, shape=(), dtype=float64)\n",
      "tf.Tensor(1.0668331551594485, shape=(), dtype=float64)\n",
      "tf.Tensor(1.0310554356896178, shape=(), dtype=float64)\n",
      "tf.Tensor(1.0079809766567134, shape=(), dtype=float64)\n",
      "tf.Tensor(1.0, shape=(), dtype=float64)\n"
     ]
    },
    {
     "data": {
      "image/gif": "[encoded data removed]",
      "text/plain": [
       "<IPython.core.display.Image object>"
      ]
     },
     "execution_count": 33,
     "metadata": {},
     "output_type": "execute_result"
    }
   ],
   "source": [
    "\n",
    "k = 3\n",
    "w = np.zeros((k,k,1,1))\n",
    "\n",
    "\n",
    "t1 = np.zeros((k,k))\n",
    "t2 = np.zeros((k,k))\n",
    "t3 = np.zeros((k,k))\n",
    "\n",
    "'''t1[1, 2] = 1.\n",
    "t2[2, 1] = 1.'''\n",
    "t1[1,1] = 1.\n",
    "t2[2, 0] = 1.\n",
    "t3[0, 2] = 1.\n",
    "\n",
    "\n",
    "w1 = fft.idctn(t1, norm='ortho')\n",
    "#w1 /= np.sum(np.abs(w1))\n",
    "\n",
    "w2 = fft.idctn(t2, norm='ortho') -  fft.idctn(t3, norm='ortho')\n",
    "#w2 /= np.sum(np.abs(w2))\n",
    "\n",
    "frames = []\n",
    "angles = np.linspace(-np.pi, np.pi, 100)\n",
    "\n",
    "angle0 = np.pi/8\n",
    "\n",
    "\n",
    "for angle in angles :    \n",
    "    \n",
    "    fig, ax = plt.subplots()\n",
    "\n",
    "\n",
    "    w[:,:,0,0] = (np.cos(2*angle))*w1 + ( np.sin(2*angle))*w2\n",
    "    print(tf.math.reduce_euclidean_norm(w))\n",
    "    w[:,:,0,0] = w[:,:,0,0] / (tf.math.reduce_euclidean_norm(w))\n",
    "\n",
    "\n",
    "    im = ax.imshow(w[:,:,0,0], cmap=cm.viridis, animated=True)\n",
    "    ax.axis(\"off\")\n",
    "\n",
    "    fig.canvas.draw()\n",
    "    frame = np.array(fig.canvas.renderer.buffer_rgba())\n",
    "    frames.append(Image.fromarray(frame))\n",
    "\n",
    "    plt.close(fig)  # close to avoid showing each frame in notebook\n",
    "\n",
    "frames[0].save(\"animation.gif\", save_all=True, append_images=frames[1:], duration=100, loop=0)\n",
    "from IPython.display import Image as IPyImage\n",
    "IPyImage(filename=\"animation.gif\")\n"
   ]
  },
  {
   "cell_type": "code",
   "execution_count": 34,
   "metadata": {},
   "outputs": [
    {
     "name": "stdout",
     "output_type": "stream",
     "text": [
      "tf.Tensor(1.0, shape=(), dtype=float64)\n",
      "tf.Tensor(1.0, shape=(), dtype=float64)\n",
      "IMG tf.Tensor(1.0, shape=(), dtype=float64)\n",
      "I0, tf.Tensor(1.0, shape=(), dtype=float32)\n",
      "I1, tf.Tensor(0.70710677, shape=(), dtype=float32)\n",
      "tf.Tensor(1.0, shape=(), dtype=float64)\n",
      "tf.Tensor(1.0079809766567134, shape=(), dtype=float64)\n",
      "tf.Tensor(1.031055435689618, shape=(), dtype=float64)\n",
      "tf.Tensor(1.066833155159449, shape=(), dtype=float64)\n",
      "tf.Tensor(1.111929523933396, shape=(), dtype=float64)\n",
      "tf.Tensor(1.1625574447466511, shape=(), dtype=float64)\n",
      "tf.Tensor(1.2149934329403302, shape=(), dtype=float64)\n",
      "tf.Tensor(1.2658607087798388, shape=(), dtype=float64)\n",
      "tf.Tensor(1.3122626666574364, shape=(), dtype=float64)\n",
      "tf.Tensor(1.3518248285087244, shape=(), dtype=float64)\n",
      "tf.Tensor(1.3826924063995274, shape=(), dtype=float64)\n",
      "tf.Tensor(1.4035121340383752, shape=(), dtype=float64)\n",
      "tf.Tensor(1.4134128771475596, shape=(), dtype=float64)\n",
      "tf.Tensor(1.4119913046255619, shape=(), dtype=float64)\n",
      "tf.Tensor(1.399304909130256, shape=(), dtype=float64)\n",
      "tf.Tensor(1.3758730128072842, shape=(), dtype=float64)\n",
      "tf.Tensor(1.3426856830877556, shape=(), dtype=float64)\n",
      "tf.Tensor(1.3012196443516229, shape=(), dtype=float64)\n",
      "tf.Tensor(1.2534581840399155, shape=(), dtype=float64)\n",
      "tf.Tensor(1.2019071927771687, shape=(), dtype=float64)\n",
      "tf.Tensor(1.1495898786976437, shape=(), dtype=float64)\n",
      "tf.Tensor(1.0999870659305047, shape=(), dtype=float64)\n",
      "tf.Tensor(1.0568716944078458, shape=(), dtype=float64)\n",
      "tf.Tensor(1.0239808254340945, shape=(), dtype=float64)\n",
      "tf.Tensor(1.0045076661572307, shape=(), dtype=float64)\n",
      "tf.Tensor(1.0005032042747581, shape=(), dtype=float64)\n",
      "tf.Tensor(1.0124052751391248, shape=(), dtype=float64)\n",
      "tf.Tensor(1.0389288876455451, shape=(), dtype=float64)\n",
      "tf.Tensor(1.077378900026093, shape=(), dtype=float64)\n",
      "tf.Tensor(1.1242172666409542, shape=(), dtype=float64)\n",
      "tf.Tensor(1.1756362244526521, shape=(), dtype=float64)\n",
      "tf.Tensor(1.2279792269893672, shape=(), dtype=float64)\n",
      "tf.Tensor(1.2779815753151598, shape=(), dtype=float64)\n",
      "tf.Tensor(1.3228756555322954, shape=(), dtype=float64)\n",
      "tf.Tensor(1.3604181136155016, shape=(), dtype=float64)\n",
      "tf.Tensor(1.388881458806866, shape=(), dtype=float64)\n",
      "tf.Tensor(1.4070346430728875, shape=(), dtype=float64)\n",
      "tf.Tensor(1.4141245599987269, shape=(), dtype=float64)\n",
      "tf.Tensor(1.4098634307771454, shape=(), dtype=float64)\n",
      "tf.Tensor(1.3944237965293986, shape=(), dtype=float64)\n",
      "tf.Tensor(1.3684415313917788, shape=(), dtype=float64)\n",
      "tf.Tensor(1.3330266433695368, shape=(), dtype=float64)\n",
      "tf.Tensor(1.2897805943875535, shape=(), dtype=float64)\n",
      "tf.Tensor(1.2408162549017456, shape=(), dtype=float64)\n",
      "tf.Tensor(1.1887707563557133, shape=(), dtype=float64)\n",
      "tf.Tensor(1.136790435172225, shape=(), dtype=float64)\n",
      "tf.Tensor(1.08845012125395, shape=(), dtype=float64)\n",
      "tf.Tensor(1.0475518465615297, shape=(), dtype=float64)\n",
      "tf.Tensor(1.01775047702861, shape=(), dtype=float64)\n",
      "tf.Tensor(1.0020092781928729, shape=(), dtype=float64)\n",
      "tf.Tensor(1.0020092781928729, shape=(), dtype=float64)\n",
      "tf.Tensor(1.0177504770286103, shape=(), dtype=float64)\n",
      "tf.Tensor(1.0475518465615299, shape=(), dtype=float64)\n",
      "tf.Tensor(1.08845012125395, shape=(), dtype=float64)\n",
      "tf.Tensor(1.1367904351722251, shape=(), dtype=float64)\n",
      "tf.Tensor(1.1887707563557135, shape=(), dtype=float64)\n",
      "tf.Tensor(1.240816254901746, shape=(), dtype=float64)\n",
      "tf.Tensor(1.2897805943875535, shape=(), dtype=float64)\n",
      "tf.Tensor(1.3330266433695368, shape=(), dtype=float64)\n",
      "tf.Tensor(1.3684415313917788, shape=(), dtype=float64)\n",
      "tf.Tensor(1.3944237965293989, shape=(), dtype=float64)\n",
      "tf.Tensor(1.4098634307771454, shape=(), dtype=float64)\n",
      "tf.Tensor(1.4141245599987269, shape=(), dtype=float64)\n",
      "tf.Tensor(1.4070346430728875, shape=(), dtype=float64)\n",
      "tf.Tensor(1.388881458806866, shape=(), dtype=float64)\n",
      "tf.Tensor(1.3604181136155018, shape=(), dtype=float64)\n",
      "tf.Tensor(1.3228756555322947, shape=(), dtype=float64)\n",
      "tf.Tensor(1.2779815753151595, shape=(), dtype=float64)\n",
      "tf.Tensor(1.2279792269893672, shape=(), dtype=float64)\n",
      "tf.Tensor(1.1756362244526521, shape=(), dtype=float64)\n",
      "tf.Tensor(1.1242172666409538, shape=(), dtype=float64)\n",
      "tf.Tensor(1.0773789000260927, shape=(), dtype=float64)\n",
      "tf.Tensor(1.0389288876455451, shape=(), dtype=float64)\n",
      "tf.Tensor(1.012405275139125, shape=(), dtype=float64)\n",
      "tf.Tensor(1.0005032042747581, shape=(), dtype=float64)\n",
      "tf.Tensor(1.0045076661572305, shape=(), dtype=float64)\n",
      "tf.Tensor(1.0239808254340945, shape=(), dtype=float64)\n",
      "tf.Tensor(1.0568716944078456, shape=(), dtype=float64)\n",
      "tf.Tensor(1.0999870659305049, shape=(), dtype=float64)\n",
      "tf.Tensor(1.1495898786976442, shape=(), dtype=float64)\n",
      "tf.Tensor(1.2019071927771687, shape=(), dtype=float64)\n",
      "tf.Tensor(1.253458184039916, shape=(), dtype=float64)\n",
      "tf.Tensor(1.301219644351623, shape=(), dtype=float64)\n",
      "tf.Tensor(1.3426856830877554, shape=(), dtype=float64)\n",
      "tf.Tensor(1.3758730128072842, shape=(), dtype=float64)\n",
      "tf.Tensor(1.3993049091302563, shape=(), dtype=float64)\n",
      "tf.Tensor(1.4119913046255619, shape=(), dtype=float64)\n",
      "tf.Tensor(1.4134128771475596, shape=(), dtype=float64)\n",
      "tf.Tensor(1.4035121340383752, shape=(), dtype=float64)\n",
      "tf.Tensor(1.3826924063995276, shape=(), dtype=float64)\n",
      "tf.Tensor(1.351824828508724, shape=(), dtype=float64)\n",
      "tf.Tensor(1.3122626666574364, shape=(), dtype=float64)\n",
      "tf.Tensor(1.2658607087798388, shape=(), dtype=float64)\n",
      "tf.Tensor(1.2149934329403298, shape=(), dtype=float64)\n",
      "tf.Tensor(1.1625574447466507, shape=(), dtype=float64)\n",
      "tf.Tensor(1.111929523933396, shape=(), dtype=float64)\n",
      "tf.Tensor(1.0668331551594485, shape=(), dtype=float64)\n",
      "tf.Tensor(1.0310554356896178, shape=(), dtype=float64)\n",
      "tf.Tensor(1.0079809766567134, shape=(), dtype=float64)\n",
      "tf.Tensor(1.0, shape=(), dtype=float64)\n"
     ]
    },
    {
     "data": {
      "image/png": "[encoded data removed]",
      "text/plain": [
       "<Figure size 330x250 with 1 Axes>"
      ]
     },
     "metadata": {},
     "output_type": "display_data"
    }
   ],
   "source": [
    "w = np.zeros((3,3,1,1))\n",
    "\n",
    "\n",
    "t1 = np.zeros((3,3))\n",
    "t2 = np.zeros((3,3))\n",
    "t3 = np.zeros((3,3))\n",
    "\n",
    "'''t1[1, 2] = 1.\n",
    "t2[2, 1] = 1.'''\n",
    "t1[1,1] = 1.\n",
    "t2[2, 0] = 1.\n",
    "t3[0, 2] = 1.\n",
    "\n",
    "\n",
    "\n",
    "w1 = fft.idctn(t1, norm='ortho')\n",
    "#w1 /= np.sum(np.abs(w1))\n",
    "\n",
    "w2 = fft.idctn(t2, norm='ortho') -  fft.idctn(t3, norm='ortho')\n",
    "#w2 /= np.sum(np.abs(w2))\n",
    "\n",
    "\n",
    "\n",
    "angle0 = 0\n",
    "\n",
    "w[:,:,0,0] = (np.cos(2*angle0))*w1 + ( np.sin(2*angle0))*w2\n",
    "\n",
    "plt.imshow(w[:,:,0,0], cmap='gray')\n",
    "\n",
    "\n",
    "print(tf.math.reduce_euclidean_norm(w))\n",
    "w[:,:,0,0] = w[:,:,0,0] / (tf.math.reduce_euclidean_norm(w))\n",
    "\n",
    "\n",
    "print(tf.math.reduce_euclidean_norm(w))\n",
    "x = img\n",
    "\n",
    "print(\"IMG\", (tf.math.reduce_euclidean_norm(img)))\n",
    "\n",
    "\n",
    "\n",
    "\n",
    "\n",
    "response_mag = []\n",
    "init_mag = tf.math.reduce_euclidean_norm(x).numpy()\n",
    "\n",
    "\n",
    "\n",
    "i0 = tf.cast(tf.repeat(tf.expand_dims([img], axis=-1) , repeats = w.shape[-2], axis=-1), dtype=tf.float32) \n",
    "\n",
    "print(\"I0,\", tf.math.reduce_euclidean_norm(i0))\n",
    "\n",
    "\n",
    "i1 = tf.nn.relu(tf.nn.conv2d(i0, w , strides=(1,1), padding='SAME') )\n",
    "\n",
    "print(\"I1,\", tf.math.reduce_euclidean_norm(i1))\n",
    "\n",
    "\n",
    "\n",
    "init_mag = tf.math.reduce_euclidean_norm(i1).numpy()\n",
    "\n",
    "angles = np.linspace(-np.pi, np.pi, 100)\n",
    "for i in range(100):\n",
    "\t#fig, ax = plt.subplots()\n",
    "\t\n",
    "\t\n",
    "\tw[:,:,0,0] = (np.cos(2*angles[i]))*w1 + ( np.sin(2*angles[i]))*w2\n",
    "\t#plt.figure()\n",
    "\t#plt.imshow(w[:,:,0,0])\n",
    "\tprint(tf.math.reduce_euclidean_norm(w))\n",
    "\n",
    "\tw[:,:,0,0] = w[:,:,0,0] / (tf.math.reduce_euclidean_norm(w))\n",
    "\t\t\n",
    "\tx_out = tf.nn.relu( tf.nn.conv2d(i1, w , strides=(1,1), \n",
    "\t\t\t\t\t\t\t\tpadding='SAME') )\n",
    "\n",
    "\tresponse_mag.append(tf.math.reduce_euclidean_norm(x_out).numpy()/init_mag)\n",
    "\n",
    "\t#print(angles[i], tf.math.reduce_euclidean_norm(x_out).numpy(), response_mag[-1])"
   ]
  },
  {
   "cell_type": "code",
   "execution_count": null,
   "metadata": {},
   "outputs": [],
   "source": []
  },
  {
   "cell_type": "code",
   "execution_count": 35,
   "metadata": {},
   "outputs": [
    {
     "data": {
      "image/png": "[encoded data removed]",
      "text/plain": [
       "<Figure size 300x300 with 1 Axes>"
      ]
     },
     "metadata": {},
     "output_type": "display_data"
    }
   ],
   "source": [
    "fig, ax= plt.subplots(1,1, figsize=(3,3))\n",
    "\n",
    "ax.plot(angles,response_mag)\n",
    "\n",
    "ticks = np.arange(-np.pi, 1.5*np.pi, np.pi/2)\n",
    "labels = [r\"$-\\pi$\", r\"$-\\pi/2$\", r\"$0$\", r\"$\\pi/2$\", r\"$\\pi$\"]\n",
    "# Set ticks and labels on the x-axis\n",
    "ax.set_xticks(ticks=ticks, labels=labels);\n",
    "ax.set_yticks(ticks=np.arange(0,1.1, 0.1));\n",
    "\n",
    "ax.set_ylabel(r\"Percent of Energy Transmitted $\\left( \\frac{||I_{2}||}{||I_{1}||} \\right)$\", fontsize=7)\n",
    "ax.set_xlabel(r\"Difference in kernel orrientation $(\\theta_2 - \\theta_1)$\", fontsize=7)\n",
    "\n",
    "plt.savefig('malus2_saddle.pdf', dpi=600)\n",
    "plt.show()\n"
   ]
  },
  {
   "cell_type": "code",
   "execution_count": 36,
   "metadata": {},
   "outputs": [
    {
     "data": {
      "image/png": "[encoded data removed]",
      "text/plain": [
       "<Figure size 330x250 with 2 Axes>"
      ]
     },
     "metadata": {},
     "output_type": "display_data"
    }
   ],
   "source": [
    "i0 = tf.cast(tf.repeat(tf.expand_dims([img], axis=-1) , repeats = w.shape[-2], axis=-1), dtype=tf.float32) \n",
    "\n",
    "fig, ax= plt.subplots(1,1)\n",
    "\n",
    "\n",
    "im =ax.imshow(i0[0,...,0])\n",
    "#ax.plot(45//2, 45, marker = '+', color='red');\n",
    "\n",
    "\n",
    "\n",
    "ax.set(xlim=(0, img.shape[0]), ylim=(0,  img.shape[1]));\n",
    "\n",
    "x_min, x_max = 30, 60\n",
    "y_min, y_max = 30, 60\n",
    "\n",
    "ax.set_xlim(x_min, x_max)\n",
    "ax.set_ylim(y_min, y_max)\n",
    "\n",
    "fig.colorbar(im, orientation='vertical');\n",
    "\n",
    "plt.gca().set_axis_off()\n",
    "plt.subplots_adjust(top = 1, bottom = 0, right = 1, left = 0, \n",
    "            hspace = 0, wspace = 0)\n",
    "plt.margins(0,0)\n",
    "plt.gca().xaxis.set_major_locator(plt.NullLocator())\n",
    "plt.gca().yaxis.set_major_locator(plt.NullLocator())\n",
    "plt.savefig(\"i0_high_order.pdf\",bbox_inches='tight',   pad_inches = 0, dpi=600)\n"
   ]
  },
  {
   "cell_type": "code",
   "execution_count": null,
   "metadata": {},
   "outputs": [],
   "source": []
  },
  {
   "cell_type": "code",
   "execution_count": 37,
   "metadata": {},
   "outputs": [
    {
     "data": {
      "text/plain": [
       "<matplotlib.image.AxesImage at 0x7f982c293c10>"
      ]
     },
     "execution_count": 37,
     "metadata": {},
     "output_type": "execute_result"
    },
    {
     "data": {
      "image/png": "[encoded data removed]",
      "text/plain": [
       "<Figure size 330x250 with 1 Axes>"
      ]
     },
     "metadata": {},
     "output_type": "display_data"
    }
   ],
   "source": [
    "\n",
    "w[:,:,0,0] = (np.cos(2*angle))*w1 + ( np.sin(2*angle))*w2\n",
    "w[:,:,0,0] = w[:,:,0,0] / (tf.math.reduce_euclidean_norm(w))\n",
    "plt.imshow(w[:,:,0,0])"
   ]
  },
  {
   "cell_type": "code",
   "execution_count": 38,
   "metadata": {},
   "outputs": [
    {
     "name": "stdout",
     "output_type": "stream",
     "text": [
      "[[ 5.00000000e-01  1.45435636e-16 -5.00000000e-01]\n",
      " [-1.73191211e-16 -1.35963107e-32 -1.73191211e-16]\n",
      " [-5.00000000e-01  2.00946787e-16  5.00000000e-01]]\n",
      "tf.Tensor(1.0, shape=(), dtype=float32)\n"
     ]
    },
    {
     "data": {
      "text/plain": [
       "<tf.Tensor: shape=(), dtype=float32, numpy=0.70710677>"
      ]
     },
     "execution_count": 38,
     "metadata": {},
     "output_type": "execute_result"
    },
    {
     "data": {
      "image/png": "[encoded data removed]",
      "text/plain": [
       "<Figure size 330x250 with 2 Axes>"
      ]
     },
     "metadata": {},
     "output_type": "display_data"
    }
   ],
   "source": [
    "angle = -np.pi\n",
    "\n",
    "w = np.zeros((3,3,1,1))\n",
    "\n",
    "w[:,:,0,0] = (np.cos(2*angle))*w1 + ( np.sin(2*angle))*w2\n",
    "print(w[:,:,0,0])\n",
    "w[:,:,0,0] = w[:,:,0,0] / (tf.math.reduce_euclidean_norm(w))\n",
    "\n",
    "\n",
    "i0 = tf.cast(tf.repeat(tf.expand_dims([img], axis=-1) , repeats = w.shape[-2], axis=-1), dtype=tf.float32) \n",
    "\n",
    "print((tf.math.reduce_euclidean_norm(i0)))\n",
    "\n",
    "i1_x = tf.nn.relu( tf.nn.conv2d(i0, w , strides=(1,1), \n",
    "\t\t\t\t\t\t\t padding='SAME') )\n",
    "\n",
    "\n",
    "fig, ax= plt.subplots(1,1)\n",
    "\n",
    "im =ax.imshow(i1[0,...,0])\n",
    "#ax.plot(45//2, 45, marker = '+', color='red');\n",
    "\n",
    "\n",
    "\n",
    "\n",
    "ax.set(xlim=(0, img.shape[0]), ylim=(0,  img.shape[1]));\n",
    "x_min, x_max = 30, 60\n",
    "y_min, y_max = 30, 60\n",
    "\n",
    "ax.set_xlim(x_min, x_max)\n",
    "ax.set_ylim(y_min, y_max)\n",
    "\n",
    "fig.colorbar(im, orientation='vertical');\n",
    "\n",
    "plt.gca().set_axis_off()\n",
    "plt.subplots_adjust(top = 1, bottom = 0, right = 1, left = 0, \n",
    "            hspace = 0, wspace = 0)\n",
    "plt.margins(0,0)\n",
    "plt.gca().xaxis.set_major_locator(plt.NullLocator())\n",
    "plt.gca().yaxis.set_major_locator(plt.NullLocator())\n",
    "plt.savefig(\"i1_high_order.pdf\",bbox_inches='tight',   pad_inches = 0, dpi=600)\n",
    "tf.math.reduce_euclidean_norm(i1)\n",
    "\n"
   ]
  },
  {
   "cell_type": "code",
   "execution_count": 39,
   "metadata": {},
   "outputs": [
    {
     "data": {
      "text/plain": [
       "<tf.Tensor: shape=(), dtype=float32, numpy=0.6123724>"
      ]
     },
     "execution_count": 39,
     "metadata": {},
     "output_type": "execute_result"
    },
    {
     "data": {
      "image/png": "[encoded data removed]",
      "text/plain": [
       "<Figure size 330x250 with 2 Axes>"
      ]
     },
     "metadata": {},
     "output_type": "display_data"
    }
   ],
   "source": [
    "angle = -np.pi\n",
    "\n",
    "w[:,:,0,0] = (np.cos(2*angle))*w1 + ( np.sin(2*angle))*w2\n",
    "w[:,:,0,0] = w[:,:,0,0] / (tf.math.reduce_euclidean_norm(w))\n",
    "\n",
    "\n",
    "\n",
    "\n",
    "i2_x = tf.nn.relu( tf.nn.conv2d(i1, w , strides=(1,1), \n",
    "\t\t\t\t\t\t\t padding='SAME') )\n",
    "\n",
    "\n",
    "fig, ax= plt.subplots(1,1)\n",
    "\n",
    "im =ax.imshow(i2_x[0,...,0])\n",
    "#ax.plot(45//2, 45, marker = '+', color='red');\n",
    "\n",
    "\n",
    "\n",
    "ax.set(xlim=(0, img.shape[0]), ylim=(0,  img.shape[1]));\n",
    "x_min, x_max = 30, 60\n",
    "y_min, y_max = 30, 60\n",
    "\n",
    "ax.set_xlim(x_min, x_max)\n",
    "ax.set_ylim(y_min, y_max)\n",
    "\n",
    "\n",
    "fig.colorbar(im, orientation='vertical');\n",
    "\n",
    "plt.gca().set_axis_off()\n",
    "plt.subplots_adjust(top = 1, bottom = 0, right = 1, left = 0, \n",
    "            hspace = 0, wspace = 0)\n",
    "plt.margins(0,0)\n",
    "plt.gca().xaxis.set_major_locator(plt.NullLocator())\n",
    "plt.gca().yaxis.set_major_locator(plt.NullLocator())\n",
    "plt.savefig(\"i2_y_high_order.pdf\",bbox_inches='tight',   pad_inches = 0, dpi=600)\n",
    "tf.math.reduce_euclidean_norm(i2_x)"
   ]
  },
  {
   "cell_type": "code",
   "execution_count": 40,
   "metadata": {},
   "outputs": [
    {
     "data": {
      "text/plain": [
       "<tf.Tensor: shape=(), dtype=float32, numpy=0.5>"
      ]
     },
     "execution_count": 40,
     "metadata": {},
     "output_type": "execute_result"
    },
    {
     "data": {
      "image/png": "[encoded data removed]",
      "text/plain": [
       "<Figure size 330x250 with 2 Axes>"
      ]
     },
     "metadata": {},
     "output_type": "display_data"
    }
   ],
   "source": [
    "angle = np.pi/4\n",
    "\n",
    "w[:,:,0,0] = (np.cos(2*angle))*w1 + ( np.sin(2*angle))*w2\n",
    "w[:,:,0,0] = w[:,:,0,0] / (tf.math.reduce_euclidean_norm(w))\n",
    "\n",
    "\n",
    "\n",
    "\n",
    "i2_y = tf.nn.relu( tf.nn.conv2d(i1, w , strides=(1,1), \n",
    "\t\t\t\t\t\t\t padding='SAME') )\n",
    "\n",
    "\n",
    "fig, ax= plt.subplots(1,1)\n",
    "\n",
    "im =ax.imshow(i2_y[0,...,0])\n",
    "#ax.plot(45//2, 45, marker = '+', color='red');\n",
    "\n",
    "\n",
    "\n",
    "ax.set(xlim=(0, img.shape[0]), ylim=(0,  img.shape[1]));\n",
    "x_min, x_max = 30, 60\n",
    "y_min, y_max = 30, 60\n",
    "\n",
    "ax.set_xlim(x_min, x_max)\n",
    "ax.set_ylim(y_min, y_max)\n",
    "\n",
    "\n",
    "fig.colorbar(im, orientation='vertical');\n",
    "\n",
    "plt.gca().set_axis_off()\n",
    "plt.subplots_adjust(top = 1, bottom = 0, right = 1, left = 0, \n",
    "            hspace = 0, wspace = 0)\n",
    "plt.margins(0,0)\n",
    "plt.gca().xaxis.set_major_locator(plt.NullLocator())\n",
    "plt.gca().yaxis.set_major_locator(plt.NullLocator())\n",
    "#plt.savefig(\"i2_y_high_order.pdf\",bbox_inches='tight',   pad_inches = 0, dpi=600)\n",
    "tf.math.reduce_euclidean_norm(i2_y)"
   ]
  },
  {
   "cell_type": "code",
   "execution_count": 41,
   "metadata": {},
   "outputs": [
    {
     "data": {
      "text/plain": [
       "TensorShape([1, 7, 7, 1])"
      ]
     },
     "execution_count": 41,
     "metadata": {},
     "output_type": "execute_result"
    }
   ],
   "source": [
    "i0.shape"
   ]
  },
  {
   "cell_type": "code",
   "execution_count": 42,
   "metadata": {},
   "outputs": [
    {
     "name": "stdout",
     "output_type": "stream",
     "text": [
      "I1, tf.Tensor(0.70710677, shape=(), dtype=float32)\n",
      "I2y, tf.Tensor(0.5, shape=(), dtype=float32)\n"
     ]
    }
   ],
   "source": [
    "print(\"I1,\", tf.math.reduce_euclidean_norm(i1))\n",
    "print(\"I2y,\", tf.math.reduce_euclidean_norm(i2_y))"
   ]
  },
  {
   "cell_type": "code",
   "execution_count": 43,
   "metadata": {},
   "outputs": [
    {
     "data": {
      "image/png": "[encoded data removed]",
      "text/plain": [
       "<Figure size 800x700 with 8 Axes>"
      ]
     },
     "metadata": {},
     "output_type": "display_data"
    }
   ],
   "source": [
    "fig, axs = plt.subplots(2, 2, figsize=(8, 7))\n",
    "title_fontsize = 16  # Adjust as needed\n",
    "\n",
    "# Top-left\n",
    "im0 = axs[0, 0].imshow(i0[0,...,0].numpy(), cmap='viridis')\n",
    "axs[0, 0].set_title(r'Input', fontsize=title_fontsize)\n",
    "fig.colorbar(im0, ax=axs[0, 0], fraction=0.046, pad=0.04)\n",
    "#ax.set(xlim=(0, img.shape[0]), ylim=(0,  img.shape[1]));\n",
    "\n",
    "\n",
    "\n",
    "#fig.colorbar(im, orientation='vertical');\n",
    "\n",
    "\n",
    "# Top-right\n",
    "im1 = axs[0, 1].imshow(i1_x[0,...,0].numpy(), cmap='viridis')\n",
    "axs[0, 1].set_title(r'$I_1 = \\mathrm{ReLU}(I_0 * D_{1,1})$', fontsize=title_fontsize)\n",
    "fig.colorbar(im1, ax=axs[0, 1], fraction=0.046, pad=0.04)\n",
    "\n",
    "# Bottom-left\n",
    "im2 = axs[1, 0].imshow(i2_x[0,...,0].numpy(), cmap='viridis')\n",
    "axs[1, 0].set_title(r'$I_2 = \\mathrm{ReLU}(I_1 *  D_{1,1})$', fontsize=title_fontsize)\n",
    "fig.colorbar(im2, ax=axs[1, 0], fraction=0.046, pad=0.04)\n",
    "\n",
    "vmin = i2_x[0,...,0].numpy().min()\n",
    "vmax = i2_x[0,...,0].numpy().max()\n",
    "\n",
    "\n",
    "# Bottom-right\n",
    "im3 = axs[1, 1].imshow(\n",
    "    i2_y[0,...,0].numpy(), \n",
    "    cmap='viridis', \n",
    "    vmin=vmin, \n",
    "    vmax=vmax\n",
    ")\n",
    "axs[1, 1].set_title(r'$I_2 = \\mathrm{ReLU}(I_1 * (D_{2,0}-D_{0,2}))$', fontsize=title_fontsize)\n",
    "fig.colorbar(im2, ax=axs[1, 1], fraction=0.046, pad=0.04)\n",
    "\n",
    "# Optional: tighten layout and remove axis ticks\n",
    "for ax in axs.flat:\n",
    "    ax.set_xticks([])\n",
    "    ax.set_yticks([])\n",
    "\n",
    "fig.tight_layout()\n",
    "fig.savefig(\"malus_saddle_pixel_d11_first.pdf\", dpi=600)\n",
    "\n",
    "plt.show()\n",
    "\n",
    "\n"
   ]
  },
  {
   "cell_type": "code",
   "execution_count": 44,
   "metadata": {},
   "outputs": [
    {
     "data": {
      "text/plain": [
       "(0.5, 0.5)"
      ]
     },
     "execution_count": 44,
     "metadata": {},
     "output_type": "execute_result"
    }
   ],
   "source": [
    "np.max(i1_x), np.max(i2_x)"
   ]
  },
  {
   "cell_type": "code",
   "execution_count": 45,
   "metadata": {},
   "outputs": [
    {
     "data": {
      "text/plain": [
       "5.390061641723897e-18"
      ]
     },
     "execution_count": 45,
     "metadata": {},
     "output_type": "execute_result"
    }
   ],
   "source": [
    "np.sum(w)"
   ]
  },
  {
   "cell_type": "code",
   "execution_count": 46,
   "metadata": {},
   "outputs": [
    {
     "data": {
      "text/plain": [
       "0.5"
      ]
     },
     "execution_count": 46,
     "metadata": {},
     "output_type": "execute_result"
    }
   ],
   "source": [
    "np.max(tf.nn.conv2d(i0, w , strides=(1,1), padding='SAME'))"
   ]
  },
  {
   "cell_type": "code",
   "execution_count": 47,
   "metadata": {},
   "outputs": [
    {
     "data": {
      "text/plain": [
       "0.25"
      ]
     },
     "execution_count": 47,
     "metadata": {},
     "output_type": "execute_result"
    }
   ],
   "source": [
    "np.max(tf.nn.conv2d(i1, w , strides=(1,1), padding='SAME'))"
   ]
  },
  {
   "cell_type": "code",
   "execution_count": 48,
   "metadata": {},
   "outputs": [
    {
     "name": "stderr",
     "output_type": "stream",
     "text": [
      "/tmp/ipykernel_7980/1527287738.py:34: MatplotlibDeprecationWarning: The tostring_rgb function was deprecated in Matplotlib 3.8 and will be removed in 3.10. Use buffer_rgba instead.\n",
      "  img = np.frombuffer(canvas.tostring_rgb(), dtype='uint8')\n"
     ]
    },
    {
     "data": {
      "image/png": "[encoded data removed]",
      "text/plain": [
       "<Figure size 300x300 with 1 Axes>"
      ]
     },
     "metadata": {},
     "output_type": "display_data"
    }
   ],
   "source": [
    "from matplotlib.offsetbox import OffsetImage, AnnotationBbox, TextArea, VPacker\n",
    "from matplotlib.backends.backend_agg import FigureCanvasAgg as FigureCanvas\n",
    "\n",
    "def render_patch_with_border(patch, border_color='black', border_width=1, zoom=1.0):\n",
    "\t\"\"\"\n",
    "\tRenders a patch using imshow-style with a border and returns it as an OffsetImage.\n",
    "\t\"\"\"\n",
    "\t# Create a tiny figure to render the patch using imshow\n",
    "\tfig, ax = plt.subplots(figsize=(1, 1), dpi=100)\n",
    "\tcanvas = FigureCanvas(fig)\n",
    "\n",
    "\tax.imshow(patch, cmap='gray', interpolation='none')\n",
    "\tax.tick_params(left=False, bottom=False, labelleft=False, labelbottom=False)\n",
    "\n",
    "\n",
    "\tfor spine in ax.spines.values():\n",
    "\t\tspine.set_visible(True)\n",
    "\t\tspine.set_linewidth(1)\n",
    "\t\tspine.set_color('black')\n",
    "\n",
    "\t# Make sure spines are drawn on top of the image\n",
    "\tax.set_frame_on(True)\n",
    "\t# Add rectangle border\n",
    "\t'''h, w = patch.shape\n",
    "\tax.add_patch(plt.Rectangle(\n",
    "\t\t(-0.5, -0.5), w, h,\n",
    "\t\tedgecolor=border_color,\n",
    "\t\tfacecolor='none',\n",
    "\t\tlinewidth=border_width\n",
    "\t))'''\n",
    "\n",
    "\t# Render to array\n",
    "\tcanvas.draw()\n",
    "\timg = np.frombuffer(canvas.tostring_rgb(), dtype='uint8')\n",
    "\timg = img.reshape(canvas.get_width_height()[::-1] + (3,))\n",
    "\n",
    "\tplt.close(fig)\n",
    "\treturn OffsetImage(img, zoom=zoom)\n",
    "\n",
    "# Function to place image on the curve\n",
    "\n",
    "def add_patch_with_label(ax, x, y, patch, label):\n",
    "\t# Create rendered image with border\n",
    "\timagebox = render_patch_with_border(patch, border_color='black', border_width=2, zoom=0.2)\n",
    "\n",
    "\t# Create label\n",
    "\ttextbox = TextArea(label, textprops={\n",
    "\t\t'fontsize': 7,\n",
    "\t\t'ha': 'center',\n",
    "\t\t'va': 'center',\n",
    "\t\t'bbox': dict(facecolor='white', edgecolor='none', boxstyle='round,pad=0.1')\n",
    "\t})\n",
    "\n",
    "\t# Stack vertically\n",
    "\tvpack = VPacker(children=[textbox, imagebox], align=\"center\", pad=0, sep=3)\n",
    "\tab = AnnotationBbox(vpack, (x, y), frameon=False, box_alignment=(0.5, 0.5))\n",
    "\n",
    "\tax.add_artist(ab)\n",
    "\n",
    "\n",
    "fig, ax= plt.subplots(1,1, figsize=(3,3))\n",
    "\n",
    "ax.plot(angles,response_mag)\n",
    "\n",
    "ticks = np.arange(-np.pi, 1.5*np.pi, np.pi/2)\n",
    "labels = [r\"$-\\pi$\", r\"$-\\pi/2$\", r\"$0$\", r\"$\\pi/2$\", r\"$\\pi$\"]\n",
    "# Set ticks and labels on the x-axis\n",
    "ax.set_xticks(ticks=ticks, labels=labels);\n",
    "ax.set_yticks(ticks=np.arange(0,1.1, 0.1));\n",
    "\n",
    "ax.set_ylabel(r\"Percent of Energy Transmitted $\\left( \\frac{||I_{2}||}{||I_{1}||} \\right)$\", fontsize=10)\n",
    "ax.set_xlabel(r\"Difference in kernel orrientation $(\\theta_2 - \\theta_1)$\", fontsize=10)\n",
    "\n",
    "# Locations along curve\n",
    "x1, y1 = -np.pi/4, response_mag[len(response_mag)//8]  # for dy\n",
    "x2, y2 = np.pi, response_mag[-1]     # for dx\n",
    "w[:,:,0,0] = (np.cos(2*np.pi))*w1 + ( np.sin(2*np.pi))*w2\n",
    "dx_kernel = w[:,:,0,0]\n",
    "add_patch_with_label(ax, x2+0.05, y2+0.1, dx_kernel, r'$I_2 = \\mathrm{ReLU}(I_1 * D_{1,1})$')\n",
    "\n",
    "\n",
    "\n",
    "w[:,:,0,0] = (np.cos(2*np.pi/4))*w1 + ( np.sin(2*np.pi/4))*w2\n",
    "\n",
    "dy_kernel = w[:,:,0,0]\n",
    "\n",
    "add_patch_with_label(ax, x1,  y1-0.09, dy_kernel, r'$I_2 = \\mathrm{ReLU}(I_1 * (D_{0,2} - D_{2,0}))$')\n",
    "\n",
    "\n",
    "w[:,:,0,0] = (np.cos(2*np.pi/2))*w1 + ( np.sin(2*np.pi/2))*w2\n",
    "\n",
    "dy_kernel = w[:,:,0,0]\n",
    "x3, y3 = -np.pi/2, response_mag[-1]     # for dx\n",
    "\n",
    "add_patch_with_label(ax, x3,  y3-0.05, dy_kernel, r'$I_2 = \\mathrm{ReLU}(I_1 * -D_{1,1})$')\n",
    "\n",
    "\n",
    "\n",
    "plt.savefig('malus_curve_pixel_saddle_d11_first.pdf', dpi=600)\n",
    "plt.show()\n"
   ]
  },
  {
   "cell_type": "code",
   "execution_count": 49,
   "metadata": {},
   "outputs": [
    {
     "data": {
      "text/plain": [
       "<matplotlib.image.AxesImage at 0x7f97d85cd8d0>"
      ]
     },
     "execution_count": 49,
     "metadata": {},
     "output_type": "execute_result"
    },
    {
     "data": {
      "image/png": "[encoded data removed]",
      "text/plain": [
       "<Figure size 330x250 with 1 Axes>"
      ]
     },
     "metadata": {},
     "output_type": "display_data"
    }
   ],
   "source": [
    "plt.imshow((np.cos(2*np.pi))*w1 + ( np.sin(2*np.pi))*w2) \n"
   ]
  },
  {
   "cell_type": "code",
   "execution_count": null,
   "metadata": {},
   "outputs": [],
   "source": []
  },
  {
   "cell_type": "code",
   "execution_count": 50,
   "metadata": {},
   "outputs": [
    {
     "data": {
      "text/plain": [
       "<matplotlib.image.AxesImage at 0x7f984c32a290>"
      ]
     },
     "execution_count": 50,
     "metadata": {},
     "output_type": "execute_result"
    },
    {
     "data": {
      "image/png": "[encoded data removed]",
      "text/plain": [
       "<Figure size 330x250 with 1 Axes>"
      ]
     },
     "metadata": {},
     "output_type": "display_data"
    }
   ],
   "source": [
    "plt.imshow((np.cos(2*np.pi/2))*w1 + ( np.sin(2*np.pi/2))*w2) \n"
   ]
  },
  {
   "cell_type": "code",
   "execution_count": 51,
   "metadata": {},
   "outputs": [
    {
     "data": {
      "text/plain": [
       "<matplotlib.image.AxesImage at 0x7f9ad8066950>"
      ]
     },
     "execution_count": 51,
     "metadata": {},
     "output_type": "execute_result"
    },
    {
     "data": {
      "image/png": "[encoded data removed]",
      "text/plain": [
       "<Figure size 330x250 with 1 Axes>"
      ]
     },
     "metadata": {},
     "output_type": "display_data"
    }
   ],
   "source": [
    "plt.imshow((np.cos(2*np.pi/4))*w2 + ( np.sin(2*np.pi/4))*w1)"
   ]
  },
  {
   "cell_type": "code",
   "execution_count": 52,
   "metadata": {},
   "outputs": [
    {
     "name": "stdout",
     "output_type": "stream",
     "text": [
      "tf.Tensor(1.0, shape=(), dtype=float64)\n",
      "tf.Tensor(1.0, shape=(), dtype=float64)\n"
     ]
    }
   ],
   "source": [
    "a = np.pi\n",
    "w[:,:,0,0] = (np.cos(a))*w1 + ( np.sin(a))*w2\n",
    "\n",
    "print((tf.math.reduce_euclidean_norm(w)))\n",
    "\n",
    "w[:,:,0,0] = w[:,:,0,0] / (tf.math.reduce_euclidean_norm(w))\n",
    "print((tf.math.reduce_euclidean_norm(w)))\n",
    "\n"
   ]
  },
  {
   "cell_type": "code",
   "execution_count": 53,
   "metadata": {},
   "outputs": [
    {
     "data": {
      "text/plain": [
       "<matplotlib.image.AxesImage at 0x7f981421b730>"
      ]
     },
     "execution_count": 53,
     "metadata": {},
     "output_type": "execute_result"
    },
    {
     "data": {
      "image/png": "[encoded data removed]",
      "text/plain": [
       "<Figure size 330x250 with 1 Axes>"
      ]
     },
     "metadata": {},
     "output_type": "display_data"
    }
   ],
   "source": [
    "w[:,:,0,0] = (np.cos(np.pi/2))*w1 + ( np.sin(np.pi/2))*w2\n",
    "\n",
    "\n",
    "\n",
    "\n",
    "\n",
    "p = plt.imshow(w[:,:,0,0], cmap='gray')\n",
    "plt.axis('off')\n",
    "p\n"
   ]
  },
  {
   "cell_type": "code",
   "execution_count": 54,
   "metadata": {},
   "outputs": [
    {
     "data": {
      "text/plain": [
       "array([[[[ 0.13608276]],\n",
       "\n",
       "        [[ 0.        ]],\n",
       "\n",
       "        [[-0.13608276]]],\n",
       "\n",
       "\n",
       "       [[[ 0.13608276]],\n",
       "\n",
       "        [[ 0.        ]],\n",
       "\n",
       "        [[-0.13608276]]],\n",
       "\n",
       "\n",
       "       [[[ 0.13608276]],\n",
       "\n",
       "        [[ 0.        ]],\n",
       "\n",
       "        [[-0.13608276]]]])"
      ]
     },
     "execution_count": 54,
     "metadata": {},
     "output_type": "execute_result"
    },
    {
     "data": {
      "image/png": "[encoded data removed]",
      "text/plain": [
       "<Figure size 330x250 with 1 Axes>"
      ]
     },
     "metadata": {},
     "output_type": "display_data"
    }
   ],
   "source": [
    "a = np.zeros((3,3))\n",
    "a[0, 1] =1\n",
    "a = np.reshape(fft.idctn(a, norm='ortho'), (3,3,1,1))\n",
    "\n",
    "b = np.zeros((3,3))\n",
    "b[0, 0] =1\n",
    "b = np.reshape(fft.idctn(b, norm='ortho'), (3,3,1,1))\n",
    "\n",
    "dct_basis = a*b\n",
    "\n",
    "plt.imshow(dct_basis[..., 0,0])\n",
    "dct_basis"
   ]
  }
 ],
 "metadata": {
  "kernelspec": {
   "display_name": "lam",
   "language": "python",
   "name": "python3"
  },
  "language_info": {
   "codemirror_mode": {
    "name": "ipython",
    "version": 3
   },
   "file_extension": ".py",
   "mimetype": "text/x-python",
   "name": "python",
   "nbconvert_exporter": "python",
   "pygments_lexer": "ipython3",
   "version": "3.10.16"
  }
 },
 "nbformat": 4,
 "nbformat_minor": 2
}
